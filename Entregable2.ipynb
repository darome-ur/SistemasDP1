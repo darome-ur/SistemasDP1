{
  "nbformat": 4,
  "nbformat_minor": 0,
  "metadata": {
    "colab": {
      "name": "Untitled4.ipynb",
      "provenance": [],
      "authorship_tag": "ABX9TyPJlnTK/PKMan1PdZYLLvW1",
      "include_colab_link": true
    },
    "kernelspec": {
      "name": "python3",
      "display_name": "Python 3"
    }
  },
  "cells": [
    {
      "cell_type": "markdown",
      "metadata": {
        "id": "view-in-github",
        "colab_type": "text"
      },
      "source": [
        "<a href=\"https://colab.research.google.com/github/darome-ur/SistemasDP1/blob/master/Entregable2.ipynb\" target=\"_parent\"><img src=\"https://colab.research.google.com/assets/colab-badge.svg\" alt=\"Open In Colab\"/></a>"
      ]
    },
    {
      "cell_type": "markdown",
      "metadata": {
        "id": "T-cQE_X-HtOB",
        "colab_type": "text"
      },
      "source": [
        "# ENTREGABLE 2"
      ]
    },
    {
      "cell_type": "markdown",
      "metadata": {
        "id": "6BVu3n44HzJv",
        "colab_type": "text"
      },
      "source": [
        "En este entregable abordaremos el problema de diferenciar entre los protagonistas de la serie 'Ed, Edd y Eddy'"
      ]
    },
    {
      "cell_type": "code",
      "metadata": {
        "id": "Tgl5NftLHrZM",
        "colab_type": "code",
        "colab": {}
      },
      "source": [
        "E"
      ],
      "execution_count": 0,
      "outputs": []
    }
  ]
}