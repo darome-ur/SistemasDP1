{
  "nbformat": 4,
  "nbformat_minor": 0,
  "metadata": {
    "colab": {
      "name": "Untitled2.ipynb",
      "provenance": [],
      "authorship_tag": "ABX9TyMSxlbw8ebH1KYS8piDg+hZ",
      "include_colab_link": true
    },
    "kernelspec": {
      "name": "python3",
      "display_name": "Python 3"
    }
  },
  "cells": [
    {
      "cell_type": "markdown",
      "metadata": {
        "id": "view-in-github",
        "colab_type": "text"
      },
      "source": [
        "<a href=\"https://colab.research.google.com/github/darome-ur/SistemasDP1/blob/master/NoteBook3.ipynb\" target=\"_parent\"><img src=\"https://colab.research.google.com/assets/colab-badge.svg\" alt=\"Open In Colab\"/></a>"
      ]
    },
    {
      "cell_type": "markdown",
      "metadata": {
        "id": "Gs6AurHDZqco",
        "colab_type": "text"
      },
      "source": [
        "# NoteBook 3"
      ]
    },
    {
      "cell_type": "markdown",
      "metadata": {
        "id": "cvae0wWwcrSO",
        "colab_type": "text"
      },
      "source": [
        "A continuación vamos a realizar una comparativa de distintos algoritmos de clasificación para el dataset proporcionado. Cargamos los datos y las librerias."
      ]
    },
    {
      "cell_type": "code",
      "metadata": {
        "id": "PuuoUgYtYFim",
        "colab_type": "code",
        "colab": {}
      },
      "source": [
        "import pandas as pd\n",
        "from sklearn.model_selection import train_test_split\n",
        "df = pd.read_csv('train.csv')\n",
        "X =  df.values[:,:-1]\n",
        "Y =  df.values[:,-1]"
      ],
      "execution_count": 0,
      "outputs": []
    },
    {
      "cell_type": "code",
      "metadata": {
        "id": "cGwvy4tihbcj",
        "colab_type": "code",
        "colab": {}
      },
      "source": [
        "(trainData, testData, trainLabels, testLabels) = train_test_split(X,Y,test_size=0.25, random_state=42)"
      ],
      "execution_count": 0,
      "outputs": []
    },
    {
      "cell_type": "code",
      "metadata": {
        "id": "u2GLXnp7igim",
        "colab_type": "code",
        "colab": {}
      },
      "source": [
        "from sklearn.neighbors import KNeighborsClassifier\n",
        "from sklearn.tree import DecisionTreeClassifier\n",
        "from sklearn.svm import SVC\n",
        "from sklearn.neural_network import MLPClassifier\n",
        "from sklearn.linear_model import LogisticRegression\n",
        "'''para evitar los warnings'''\n",
        "import warnings; warnings.simplefilter('ignore')"
      ],
      "execution_count": 0,
      "outputs": []
    },
    {
      "cell_type": "markdown",
      "metadata": {
        "id": "-i2NAmyDjtIA",
        "colab_type": "text"
      },
      "source": [
        "Vamos a empezar por el primer algoritmo el KNN."
      ]
    },
    {
      "cell_type": "code",
      "metadata": {
        "id": "sBG3HwC3iz_L",
        "colab_type": "code",
        "outputId": "dff4d21c-c6a6-4067-aaf4-869637385973",
        "colab": {
          "base_uri": "https://localhost:8080/",
          "height": 67
        }
      },
      "source": [
        "modelKNN = KNeighborsClassifier(n_neighbors=5)\n",
        "modelKNN.fit(trainData, trainLabels)"
      ],
      "execution_count": 5,
      "outputs": [
        {
          "output_type": "execute_result",
          "data": {
            "text/plain": [
              "KNeighborsClassifier(algorithm='auto', leaf_size=30, metric='minkowski',\n",
              "                     metric_params=None, n_jobs=None, n_neighbors=5, p=2,\n",
              "                     weights='uniform')"
            ]
          },
          "metadata": {
            "tags": []
          },
          "execution_count": 5
        }
      ]
    },
    {
      "cell_type": "code",
      "metadata": {
        "id": "E02gdN_akHkR",
        "colab_type": "code",
        "outputId": "6855f1fa-ef95-4cae-d078-3bcfebeec5f9",
        "colab": {
          "base_uri": "https://localhost:8080/",
          "height": 34
        }
      },
      "source": [
        "Clases=modelKNN.predict(testData)\n",
        "modelKNN.predict(testData)"
      ],
      "execution_count": 6,
      "outputs": [
        {
          "output_type": "execute_result",
          "data": {
            "text/plain": [
              "array([3., 3., 3., ..., 3., 3., 4.])"
            ]
          },
          "metadata": {
            "tags": []
          },
          "execution_count": 6
        }
      ]
    },
    {
      "cell_type": "markdown",
      "metadata": {
        "id": "z0RXAPorseU2",
        "colab_type": "text"
      },
      "source": [
        "Vamos a seguir con el algoritmo del Arbol de decisión."
      ]
    },
    {
      "cell_type": "code",
      "metadata": {
        "id": "Gu1CT-FjriNk",
        "colab_type": "code",
        "outputId": "576da70c-ce5f-49a9-8d73-e0babeb192c6",
        "colab": {
          "base_uri": "https://localhost:8080/",
          "height": 118
        }
      },
      "source": [
        "modelArbol = DecisionTreeClassifier(random_state=84)\n",
        "modelArbol.fit(trainData, trainLabels)"
      ],
      "execution_count": 7,
      "outputs": [
        {
          "output_type": "execute_result",
          "data": {
            "text/plain": [
              "DecisionTreeClassifier(ccp_alpha=0.0, class_weight=None, criterion='gini',\n",
              "                       max_depth=None, max_features=None, max_leaf_nodes=None,\n",
              "                       min_impurity_decrease=0.0, min_impurity_split=None,\n",
              "                       min_samples_leaf=1, min_samples_split=2,\n",
              "                       min_weight_fraction_leaf=0.0, presort='deprecated',\n",
              "                       random_state=84, splitter='best')"
            ]
          },
          "metadata": {
            "tags": []
          },
          "execution_count": 7
        }
      ]
    },
    {
      "cell_type": "code",
      "metadata": {
        "id": "rRRCeSmztu32",
        "colab_type": "code",
        "outputId": "71f78b6c-d061-4428-e771-4ef2d41b5afd",
        "colab": {
          "base_uri": "https://localhost:8080/",
          "height": 34
        }
      },
      "source": [
        "modelArbol.predict(testData)"
      ],
      "execution_count": 8,
      "outputs": [
        {
          "output_type": "execute_result",
          "data": {
            "text/plain": [
              "array([3., 3., 2., ..., 3., 3., 4.])"
            ]
          },
          "metadata": {
            "tags": []
          },
          "execution_count": 8
        }
      ]
    },
    {
      "cell_type": "markdown",
      "metadata": {
        "id": "au26aJCBxpN4",
        "colab_type": "text"
      },
      "source": [
        "Vamos a seguir con el algoritmo del Regresion Logistica."
      ]
    },
    {
      "cell_type": "code",
      "metadata": {
        "id": "W3ZQBDHMxhmG",
        "colab_type": "code",
        "colab": {}
      },
      "source": [
        "modelLR = LogisticRegression(random_state=84)"
      ],
      "execution_count": 0,
      "outputs": []
    },
    {
      "cell_type": "markdown",
      "metadata": {
        "id": "QAfFXQSn34eB",
        "colab_type": "text"
      },
      "source": [
        "Vamos a seguir con el algoritmo SVM."
      ]
    },
    {
      "cell_type": "code",
      "metadata": {
        "id": "r6yOe8tg348K",
        "colab_type": "code",
        "outputId": "4b07f449-ed34-4271-ecc5-46f14b114ce0",
        "colab": {
          "base_uri": "https://localhost:8080/",
          "height": 34
        }
      },
      "source": [
        "'''modelSVMLineal = SVC(kernel=\"linear\")\n",
        "modelSVMLineal.fit(trainData, trainLabels)\n",
        "modelSVMLineal.predict(testData)'''\n"
      ],
      "execution_count": 10,
      "outputs": [
        {
          "output_type": "execute_result",
          "data": {
            "text/plain": [
              "'modelSVMLineal = SVC(kernel=\"linear\")\\nmodelSVMLineal.fit(trainData, trainLabels)\\nmodelSVMLineal.predict(testData)'"
            ]
          },
          "metadata": {
            "tags": []
          },
          "execution_count": 10
        }
      ]
    },
    {
      "cell_type": "markdown",
      "metadata": {
        "id": "gIyk6AJX9wNx",
        "colab_type": "text"
      },
      "source": [
        "Es una burrada lo que cuesta el entrenamiento, lo he cancelado y decidido prescindir de él."
      ]
    },
    {
      "cell_type": "markdown",
      "metadata": {
        "id": "iv7e_0r1ypcB",
        "colab_type": "text"
      },
      "source": [
        "Vamos a ver el algoritmo de Redes neuronales"
      ]
    },
    {
      "cell_type": "code",
      "metadata": {
        "id": "vP24rjqVzCXW",
        "colab_type": "code",
        "colab": {
          "base_uri": "https://localhost:8080/",
          "height": 151
        },
        "outputId": "cb00e6ad-3d62-4174-efad-01c5a5d5a6fe"
      },
      "source": [
        "modelPerceptron=MLPClassifier(momentum= 0.95, learning_rate_init= 0.1, hidden_layer_sizes= (5, 3, 2), activation= 'identity')\n",
        "modelPerceptron.fit(trainData, trainLabels)"
      ],
      "execution_count": 11,
      "outputs": [
        {
          "output_type": "execute_result",
          "data": {
            "text/plain": [
              "MLPClassifier(activation='identity', alpha=0.0001, batch_size='auto',\n",
              "              beta_1=0.9, beta_2=0.999, early_stopping=False, epsilon=1e-08,\n",
              "              hidden_layer_sizes=(5, 3, 2), learning_rate='constant',\n",
              "              learning_rate_init=0.1, max_fun=15000, max_iter=200,\n",
              "              momentum=0.95, n_iter_no_change=10, nesterovs_momentum=True,\n",
              "              power_t=0.5, random_state=None, shuffle=True, solver='adam',\n",
              "              tol=0.0001, validation_fraction=0.1, verbose=False,\n",
              "              warm_start=False)"
            ]
          },
          "metadata": {
            "tags": []
          },
          "execution_count": 11
        }
      ]
    },
    {
      "cell_type": "markdown",
      "metadata": {
        "id": "4MNtEQxZxTVd",
        "colab_type": "text"
      },
      "source": [
        "Este sera la funcion que utilizaremos para evaluar. Es el metodo Gridseach."
      ]
    },
    {
      "cell_type": "code",
      "metadata": {
        "id": "cEA71J-ZxSY3",
        "colab_type": "code",
        "colab": {}
      },
      "source": [
        "from sklearn.model_selection import GridSearchCV\n",
        "scores = ['precision', 'recall']"
      ],
      "execution_count": 0,
      "outputs": []
    },
    {
      "cell_type": "code",
      "metadata": {
        "id": "bL3SlJgMio43",
        "colab_type": "code",
        "colab": {}
      },
      "source": [
        "def gridsearch(model,parameters,scores,k):\n",
        "    for score in scores:\n",
        "        print(\"# Tuning hyper-parameters for %s\" % score)\n",
        "        print()\n",
        "\n",
        "        clf = GridSearchCV(model, parameters, cv=k,\n",
        "                           scoring='%s_macro' % score)\n",
        "        clf.fit(trainData, trainLabels)\n",
        "\n",
        "        print(\"Best parameters set found on development set:\")\n",
        "        print()\n",
        "        print(clf.best_params_)\n",
        "        print()\n",
        "        print(\"Grid scores on development set:\")\n",
        "        print()\n",
        "        means = clf.cv_results_['mean_test_score']\n",
        "        stds = clf.cv_results_['std_test_score']\n",
        "        for mean, std, params in zip(means, stds, clf.cv_results_['params']):\n",
        "            print(\"%0.3f (+/-%0.03f) for %r\"\n",
        "                  % (mean, std * 2, params))\n",
        "        print()"
      ],
      "execution_count": 0,
      "outputs": []
    },
    {
      "cell_type": "code",
      "metadata": {
        "id": "AbSDr3h7obqi",
        "colab_type": "code",
        "colab": {
          "base_uri": "https://localhost:8080/",
          "height": 1000
        },
        "outputId": "50475e51-090a-4946-dd49-d5165b6a18b6"
      },
      "source": [
        "\n",
        "KNN_parameters =  [{'n_neighbors': range(1,51),\n",
        "                     'metric': [\"euclidean\",\"manhattan\",\"chebyshev\",\"minkowski\"]}]\n",
        "%time\n",
        "gridsearch(modelKNN,KNN_parameters,scores,5)"
      ],
      "execution_count": 14,
      "outputs": [
        {
          "output_type": "stream",
          "text": [
            "CPU times: user 3 µs, sys: 1 µs, total: 4 µs\n",
            "Wall time: 6.91 µs\n",
            "# Tuning hyper-parameters for precision\n",
            "\n",
            "Best parameters set found on development set:\n",
            "\n",
            "{'metric': 'manhattan', 'n_neighbors': 7}\n",
            "\n",
            "Grid scores on development set:\n",
            "\n",
            "0.579 (+/-0.017) for {'metric': 'euclidean', 'n_neighbors': 1}\n",
            "0.589 (+/-0.012) for {'metric': 'euclidean', 'n_neighbors': 2}\n",
            "0.586 (+/-0.020) for {'metric': 'euclidean', 'n_neighbors': 3}\n",
            "0.588 (+/-0.017) for {'metric': 'euclidean', 'n_neighbors': 4}\n",
            "0.595 (+/-0.021) for {'metric': 'euclidean', 'n_neighbors': 5}\n",
            "0.585 (+/-0.021) for {'metric': 'euclidean', 'n_neighbors': 6}\n",
            "0.593 (+/-0.027) for {'metric': 'euclidean', 'n_neighbors': 7}\n",
            "0.591 (+/-0.032) for {'metric': 'euclidean', 'n_neighbors': 8}\n",
            "0.587 (+/-0.030) for {'metric': 'euclidean', 'n_neighbors': 9}\n",
            "0.583 (+/-0.025) for {'metric': 'euclidean', 'n_neighbors': 10}\n",
            "0.588 (+/-0.019) for {'metric': 'euclidean', 'n_neighbors': 11}\n",
            "0.587 (+/-0.026) for {'metric': 'euclidean', 'n_neighbors': 12}\n",
            "0.586 (+/-0.027) for {'metric': 'euclidean', 'n_neighbors': 13}\n",
            "0.588 (+/-0.018) for {'metric': 'euclidean', 'n_neighbors': 14}\n",
            "0.582 (+/-0.026) for {'metric': 'euclidean', 'n_neighbors': 15}\n",
            "0.580 (+/-0.023) for {'metric': 'euclidean', 'n_neighbors': 16}\n",
            "0.579 (+/-0.024) for {'metric': 'euclidean', 'n_neighbors': 17}\n",
            "0.579 (+/-0.027) for {'metric': 'euclidean', 'n_neighbors': 18}\n",
            "0.577 (+/-0.033) for {'metric': 'euclidean', 'n_neighbors': 19}\n",
            "0.578 (+/-0.032) for {'metric': 'euclidean', 'n_neighbors': 20}\n",
            "0.577 (+/-0.032) for {'metric': 'euclidean', 'n_neighbors': 21}\n",
            "0.574 (+/-0.032) for {'metric': 'euclidean', 'n_neighbors': 22}\n",
            "0.572 (+/-0.029) for {'metric': 'euclidean', 'n_neighbors': 23}\n",
            "0.570 (+/-0.027) for {'metric': 'euclidean', 'n_neighbors': 24}\n",
            "0.569 (+/-0.027) for {'metric': 'euclidean', 'n_neighbors': 25}\n",
            "0.568 (+/-0.027) for {'metric': 'euclidean', 'n_neighbors': 26}\n",
            "0.564 (+/-0.027) for {'metric': 'euclidean', 'n_neighbors': 27}\n",
            "0.563 (+/-0.030) for {'metric': 'euclidean', 'n_neighbors': 28}\n",
            "0.563 (+/-0.030) for {'metric': 'euclidean', 'n_neighbors': 29}\n",
            "0.560 (+/-0.029) for {'metric': 'euclidean', 'n_neighbors': 30}\n",
            "0.561 (+/-0.030) for {'metric': 'euclidean', 'n_neighbors': 31}\n",
            "0.559 (+/-0.028) for {'metric': 'euclidean', 'n_neighbors': 32}\n",
            "0.557 (+/-0.024) for {'metric': 'euclidean', 'n_neighbors': 33}\n",
            "0.553 (+/-0.025) for {'metric': 'euclidean', 'n_neighbors': 34}\n",
            "0.553 (+/-0.022) for {'metric': 'euclidean', 'n_neighbors': 35}\n",
            "0.549 (+/-0.018) for {'metric': 'euclidean', 'n_neighbors': 36}\n",
            "0.550 (+/-0.019) for {'metric': 'euclidean', 'n_neighbors': 37}\n",
            "0.546 (+/-0.019) for {'metric': 'euclidean', 'n_neighbors': 38}\n",
            "0.545 (+/-0.017) for {'metric': 'euclidean', 'n_neighbors': 39}\n",
            "0.544 (+/-0.017) for {'metric': 'euclidean', 'n_neighbors': 40}\n",
            "0.543 (+/-0.019) for {'metric': 'euclidean', 'n_neighbors': 41}\n",
            "0.543 (+/-0.018) for {'metric': 'euclidean', 'n_neighbors': 42}\n",
            "0.541 (+/-0.015) for {'metric': 'euclidean', 'n_neighbors': 43}\n",
            "0.540 (+/-0.016) for {'metric': 'euclidean', 'n_neighbors': 44}\n",
            "0.539 (+/-0.019) for {'metric': 'euclidean', 'n_neighbors': 45}\n",
            "0.537 (+/-0.019) for {'metric': 'euclidean', 'n_neighbors': 46}\n",
            "0.536 (+/-0.021) for {'metric': 'euclidean', 'n_neighbors': 47}\n",
            "0.534 (+/-0.023) for {'metric': 'euclidean', 'n_neighbors': 48}\n",
            "0.532 (+/-0.028) for {'metric': 'euclidean', 'n_neighbors': 49}\n",
            "0.530 (+/-0.027) for {'metric': 'euclidean', 'n_neighbors': 50}\n",
            "0.601 (+/-0.031) for {'metric': 'manhattan', 'n_neighbors': 1}\n",
            "0.608 (+/-0.022) for {'metric': 'manhattan', 'n_neighbors': 2}\n",
            "0.605 (+/-0.016) for {'metric': 'manhattan', 'n_neighbors': 3}\n",
            "0.609 (+/-0.015) for {'metric': 'manhattan', 'n_neighbors': 4}\n",
            "0.611 (+/-0.026) for {'metric': 'manhattan', 'n_neighbors': 5}\n",
            "0.610 (+/-0.024) for {'metric': 'manhattan', 'n_neighbors': 6}\n",
            "0.613 (+/-0.015) for {'metric': 'manhattan', 'n_neighbors': 7}\n",
            "0.606 (+/-0.026) for {'metric': 'manhattan', 'n_neighbors': 8}\n",
            "0.608 (+/-0.021) for {'metric': 'manhattan', 'n_neighbors': 9}\n",
            "0.608 (+/-0.023) for {'metric': 'manhattan', 'n_neighbors': 10}\n",
            "0.606 (+/-0.027) for {'metric': 'manhattan', 'n_neighbors': 11}\n",
            "0.604 (+/-0.025) for {'metric': 'manhattan', 'n_neighbors': 12}\n",
            "0.604 (+/-0.025) for {'metric': 'manhattan', 'n_neighbors': 13}\n",
            "0.601 (+/-0.019) for {'metric': 'manhattan', 'n_neighbors': 14}\n",
            "0.602 (+/-0.018) for {'metric': 'manhattan', 'n_neighbors': 15}\n",
            "0.599 (+/-0.018) for {'metric': 'manhattan', 'n_neighbors': 16}\n",
            "0.598 (+/-0.022) for {'metric': 'manhattan', 'n_neighbors': 17}\n",
            "0.596 (+/-0.017) for {'metric': 'manhattan', 'n_neighbors': 18}\n",
            "0.591 (+/-0.022) for {'metric': 'manhattan', 'n_neighbors': 19}\n",
            "0.592 (+/-0.018) for {'metric': 'manhattan', 'n_neighbors': 20}\n",
            "0.591 (+/-0.015) for {'metric': 'manhattan', 'n_neighbors': 21}\n",
            "0.587 (+/-0.020) for {'metric': 'manhattan', 'n_neighbors': 22}\n",
            "0.589 (+/-0.021) for {'metric': 'manhattan', 'n_neighbors': 23}\n",
            "0.586 (+/-0.024) for {'metric': 'manhattan', 'n_neighbors': 24}\n",
            "0.581 (+/-0.029) for {'metric': 'manhattan', 'n_neighbors': 25}\n",
            "0.582 (+/-0.023) for {'metric': 'manhattan', 'n_neighbors': 26}\n",
            "0.580 (+/-0.023) for {'metric': 'manhattan', 'n_neighbors': 27}\n",
            "0.581 (+/-0.023) for {'metric': 'manhattan', 'n_neighbors': 28}\n",
            "0.577 (+/-0.028) for {'metric': 'manhattan', 'n_neighbors': 29}\n",
            "0.575 (+/-0.026) for {'metric': 'manhattan', 'n_neighbors': 30}\n",
            "0.573 (+/-0.027) for {'metric': 'manhattan', 'n_neighbors': 31}\n",
            "0.570 (+/-0.026) for {'metric': 'manhattan', 'n_neighbors': 32}\n",
            "0.568 (+/-0.021) for {'metric': 'manhattan', 'n_neighbors': 33}\n",
            "0.565 (+/-0.021) for {'metric': 'manhattan', 'n_neighbors': 34}\n",
            "0.565 (+/-0.018) for {'metric': 'manhattan', 'n_neighbors': 35}\n",
            "0.563 (+/-0.021) for {'metric': 'manhattan', 'n_neighbors': 36}\n",
            "0.560 (+/-0.021) for {'metric': 'manhattan', 'n_neighbors': 37}\n",
            "0.559 (+/-0.023) for {'metric': 'manhattan', 'n_neighbors': 38}\n",
            "0.555 (+/-0.021) for {'metric': 'manhattan', 'n_neighbors': 39}\n",
            "0.556 (+/-0.020) for {'metric': 'manhattan', 'n_neighbors': 40}\n",
            "0.553 (+/-0.017) for {'metric': 'manhattan', 'n_neighbors': 41}\n",
            "0.551 (+/-0.018) for {'metric': 'manhattan', 'n_neighbors': 42}\n",
            "0.549 (+/-0.023) for {'metric': 'manhattan', 'n_neighbors': 43}\n",
            "0.547 (+/-0.021) for {'metric': 'manhattan', 'n_neighbors': 44}\n",
            "0.546 (+/-0.021) for {'metric': 'manhattan', 'n_neighbors': 45}\n",
            "0.546 (+/-0.023) for {'metric': 'manhattan', 'n_neighbors': 46}\n",
            "0.545 (+/-0.017) for {'metric': 'manhattan', 'n_neighbors': 47}\n",
            "0.543 (+/-0.022) for {'metric': 'manhattan', 'n_neighbors': 48}\n",
            "0.540 (+/-0.021) for {'metric': 'manhattan', 'n_neighbors': 49}\n",
            "0.539 (+/-0.021) for {'metric': 'manhattan', 'n_neighbors': 50}\n",
            "0.569 (+/-0.013) for {'metric': 'chebyshev', 'n_neighbors': 1}\n",
            "0.573 (+/-0.011) for {'metric': 'chebyshev', 'n_neighbors': 2}\n",
            "0.572 (+/-0.016) for {'metric': 'chebyshev', 'n_neighbors': 3}\n",
            "0.576 (+/-0.017) for {'metric': 'chebyshev', 'n_neighbors': 4}\n",
            "0.580 (+/-0.020) for {'metric': 'chebyshev', 'n_neighbors': 5}\n",
            "0.578 (+/-0.025) for {'metric': 'chebyshev', 'n_neighbors': 6}\n",
            "0.579 (+/-0.021) for {'metric': 'chebyshev', 'n_neighbors': 7}\n",
            "0.580 (+/-0.020) for {'metric': 'chebyshev', 'n_neighbors': 8}\n",
            "0.580 (+/-0.022) for {'metric': 'chebyshev', 'n_neighbors': 9}\n",
            "0.575 (+/-0.017) for {'metric': 'chebyshev', 'n_neighbors': 10}\n",
            "0.576 (+/-0.022) for {'metric': 'chebyshev', 'n_neighbors': 11}\n",
            "0.577 (+/-0.020) for {'metric': 'chebyshev', 'n_neighbors': 12}\n",
            "0.578 (+/-0.022) for {'metric': 'chebyshev', 'n_neighbors': 13}\n",
            "0.576 (+/-0.026) for {'metric': 'chebyshev', 'n_neighbors': 14}\n",
            "0.580 (+/-0.025) for {'metric': 'chebyshev', 'n_neighbors': 15}\n",
            "0.578 (+/-0.032) for {'metric': 'chebyshev', 'n_neighbors': 16}\n",
            "0.574 (+/-0.028) for {'metric': 'chebyshev', 'n_neighbors': 17}\n",
            "0.574 (+/-0.026) for {'metric': 'chebyshev', 'n_neighbors': 18}\n",
            "0.572 (+/-0.024) for {'metric': 'chebyshev', 'n_neighbors': 19}\n",
            "0.569 (+/-0.025) for {'metric': 'chebyshev', 'n_neighbors': 20}\n",
            "0.568 (+/-0.029) for {'metric': 'chebyshev', 'n_neighbors': 21}\n",
            "0.565 (+/-0.030) for {'metric': 'chebyshev', 'n_neighbors': 22}\n",
            "0.562 (+/-0.031) for {'metric': 'chebyshev', 'n_neighbors': 23}\n",
            "0.560 (+/-0.029) for {'metric': 'chebyshev', 'n_neighbors': 24}\n",
            "0.562 (+/-0.033) for {'metric': 'chebyshev', 'n_neighbors': 25}\n",
            "0.562 (+/-0.030) for {'metric': 'chebyshev', 'n_neighbors': 26}\n",
            "0.560 (+/-0.028) for {'metric': 'chebyshev', 'n_neighbors': 27}\n",
            "0.558 (+/-0.030) for {'metric': 'chebyshev', 'n_neighbors': 28}\n",
            "0.556 (+/-0.029) for {'metric': 'chebyshev', 'n_neighbors': 29}\n",
            "0.553 (+/-0.027) for {'metric': 'chebyshev', 'n_neighbors': 30}\n",
            "0.550 (+/-0.027) for {'metric': 'chebyshev', 'n_neighbors': 31}\n",
            "0.547 (+/-0.022) for {'metric': 'chebyshev', 'n_neighbors': 32}\n",
            "0.546 (+/-0.019) for {'metric': 'chebyshev', 'n_neighbors': 33}\n",
            "0.544 (+/-0.023) for {'metric': 'chebyshev', 'n_neighbors': 34}\n",
            "0.542 (+/-0.019) for {'metric': 'chebyshev', 'n_neighbors': 35}\n",
            "0.541 (+/-0.022) for {'metric': 'chebyshev', 'n_neighbors': 36}\n",
            "0.540 (+/-0.024) for {'metric': 'chebyshev', 'n_neighbors': 37}\n",
            "0.539 (+/-0.023) for {'metric': 'chebyshev', 'n_neighbors': 38}\n",
            "0.538 (+/-0.022) for {'metric': 'chebyshev', 'n_neighbors': 39}\n",
            "0.537 (+/-0.020) for {'metric': 'chebyshev', 'n_neighbors': 40}\n",
            "0.535 (+/-0.022) for {'metric': 'chebyshev', 'n_neighbors': 41}\n",
            "0.534 (+/-0.018) for {'metric': 'chebyshev', 'n_neighbors': 42}\n",
            "0.533 (+/-0.021) for {'metric': 'chebyshev', 'n_neighbors': 43}\n",
            "0.532 (+/-0.021) for {'metric': 'chebyshev', 'n_neighbors': 44}\n",
            "0.531 (+/-0.020) for {'metric': 'chebyshev', 'n_neighbors': 45}\n",
            "0.529 (+/-0.020) for {'metric': 'chebyshev', 'n_neighbors': 46}\n",
            "0.527 (+/-0.020) for {'metric': 'chebyshev', 'n_neighbors': 47}\n",
            "0.525 (+/-0.019) for {'metric': 'chebyshev', 'n_neighbors': 48}\n",
            "0.525 (+/-0.019) for {'metric': 'chebyshev', 'n_neighbors': 49}\n",
            "0.522 (+/-0.021) for {'metric': 'chebyshev', 'n_neighbors': 50}\n",
            "0.579 (+/-0.017) for {'metric': 'minkowski', 'n_neighbors': 1}\n",
            "0.589 (+/-0.012) for {'metric': 'minkowski', 'n_neighbors': 2}\n",
            "0.586 (+/-0.020) for {'metric': 'minkowski', 'n_neighbors': 3}\n",
            "0.588 (+/-0.017) for {'metric': 'minkowski', 'n_neighbors': 4}\n",
            "0.595 (+/-0.021) for {'metric': 'minkowski', 'n_neighbors': 5}\n",
            "0.585 (+/-0.021) for {'metric': 'minkowski', 'n_neighbors': 6}\n",
            "0.593 (+/-0.027) for {'metric': 'minkowski', 'n_neighbors': 7}\n",
            "0.591 (+/-0.032) for {'metric': 'minkowski', 'n_neighbors': 8}\n",
            "0.587 (+/-0.030) for {'metric': 'minkowski', 'n_neighbors': 9}\n",
            "0.583 (+/-0.025) for {'metric': 'minkowski', 'n_neighbors': 10}\n",
            "0.588 (+/-0.019) for {'metric': 'minkowski', 'n_neighbors': 11}\n",
            "0.587 (+/-0.026) for {'metric': 'minkowski', 'n_neighbors': 12}\n",
            "0.586 (+/-0.027) for {'metric': 'minkowski', 'n_neighbors': 13}\n",
            "0.588 (+/-0.018) for {'metric': 'minkowski', 'n_neighbors': 14}\n",
            "0.582 (+/-0.026) for {'metric': 'minkowski', 'n_neighbors': 15}\n",
            "0.580 (+/-0.023) for {'metric': 'minkowski', 'n_neighbors': 16}\n",
            "0.579 (+/-0.024) for {'metric': 'minkowski', 'n_neighbors': 17}\n",
            "0.579 (+/-0.027) for {'metric': 'minkowski', 'n_neighbors': 18}\n",
            "0.577 (+/-0.033) for {'metric': 'minkowski', 'n_neighbors': 19}\n",
            "0.578 (+/-0.032) for {'metric': 'minkowski', 'n_neighbors': 20}\n",
            "0.577 (+/-0.032) for {'metric': 'minkowski', 'n_neighbors': 21}\n",
            "0.574 (+/-0.032) for {'metric': 'minkowski', 'n_neighbors': 22}\n",
            "0.572 (+/-0.029) for {'metric': 'minkowski', 'n_neighbors': 23}\n",
            "0.570 (+/-0.027) for {'metric': 'minkowski', 'n_neighbors': 24}\n",
            "0.569 (+/-0.027) for {'metric': 'minkowski', 'n_neighbors': 25}\n",
            "0.568 (+/-0.027) for {'metric': 'minkowski', 'n_neighbors': 26}\n",
            "0.564 (+/-0.027) for {'metric': 'minkowski', 'n_neighbors': 27}\n",
            "0.563 (+/-0.030) for {'metric': 'minkowski', 'n_neighbors': 28}\n",
            "0.563 (+/-0.030) for {'metric': 'minkowski', 'n_neighbors': 29}\n",
            "0.560 (+/-0.029) for {'metric': 'minkowski', 'n_neighbors': 30}\n",
            "0.561 (+/-0.030) for {'metric': 'minkowski', 'n_neighbors': 31}\n",
            "0.559 (+/-0.028) for {'metric': 'minkowski', 'n_neighbors': 32}\n",
            "0.557 (+/-0.024) for {'metric': 'minkowski', 'n_neighbors': 33}\n",
            "0.553 (+/-0.025) for {'metric': 'minkowski', 'n_neighbors': 34}\n",
            "0.553 (+/-0.022) for {'metric': 'minkowski', 'n_neighbors': 35}\n",
            "0.549 (+/-0.018) for {'metric': 'minkowski', 'n_neighbors': 36}\n",
            "0.550 (+/-0.019) for {'metric': 'minkowski', 'n_neighbors': 37}\n",
            "0.546 (+/-0.019) for {'metric': 'minkowski', 'n_neighbors': 38}\n",
            "0.545 (+/-0.017) for {'metric': 'minkowski', 'n_neighbors': 39}\n",
            "0.544 (+/-0.017) for {'metric': 'minkowski', 'n_neighbors': 40}\n",
            "0.543 (+/-0.019) for {'metric': 'minkowski', 'n_neighbors': 41}\n",
            "0.543 (+/-0.018) for {'metric': 'minkowski', 'n_neighbors': 42}\n",
            "0.541 (+/-0.015) for {'metric': 'minkowski', 'n_neighbors': 43}\n",
            "0.540 (+/-0.016) for {'metric': 'minkowski', 'n_neighbors': 44}\n",
            "0.539 (+/-0.019) for {'metric': 'minkowski', 'n_neighbors': 45}\n",
            "0.537 (+/-0.019) for {'metric': 'minkowski', 'n_neighbors': 46}\n",
            "0.536 (+/-0.021) for {'metric': 'minkowski', 'n_neighbors': 47}\n",
            "0.534 (+/-0.023) for {'metric': 'minkowski', 'n_neighbors': 48}\n",
            "0.532 (+/-0.028) for {'metric': 'minkowski', 'n_neighbors': 49}\n",
            "0.530 (+/-0.027) for {'metric': 'minkowski', 'n_neighbors': 50}\n",
            "\n",
            "# Tuning hyper-parameters for recall\n",
            "\n",
            "Best parameters set found on development set:\n",
            "\n",
            "{'metric': 'manhattan', 'n_neighbors': 4}\n",
            "\n",
            "Grid scores on development set:\n",
            "\n",
            "0.581 (+/-0.030) for {'metric': 'euclidean', 'n_neighbors': 1}\n",
            "0.585 (+/-0.021) for {'metric': 'euclidean', 'n_neighbors': 2}\n",
            "0.592 (+/-0.031) for {'metric': 'euclidean', 'n_neighbors': 3}\n",
            "0.598 (+/-0.029) for {'metric': 'euclidean', 'n_neighbors': 4}\n",
            "0.594 (+/-0.032) for {'metric': 'euclidean', 'n_neighbors': 5}\n",
            "0.588 (+/-0.034) for {'metric': 'euclidean', 'n_neighbors': 6}\n",
            "0.595 (+/-0.041) for {'metric': 'euclidean', 'n_neighbors': 7}\n",
            "0.590 (+/-0.044) for {'metric': 'euclidean', 'n_neighbors': 8}\n",
            "0.587 (+/-0.047) for {'metric': 'euclidean', 'n_neighbors': 9}\n",
            "0.585 (+/-0.038) for {'metric': 'euclidean', 'n_neighbors': 10}\n",
            "0.585 (+/-0.034) for {'metric': 'euclidean', 'n_neighbors': 11}\n",
            "0.584 (+/-0.038) for {'metric': 'euclidean', 'n_neighbors': 12}\n",
            "0.582 (+/-0.039) for {'metric': 'euclidean', 'n_neighbors': 13}\n",
            "0.582 (+/-0.029) for {'metric': 'euclidean', 'n_neighbors': 14}\n",
            "0.578 (+/-0.037) for {'metric': 'euclidean', 'n_neighbors': 15}\n",
            "0.578 (+/-0.033) for {'metric': 'euclidean', 'n_neighbors': 16}\n",
            "0.576 (+/-0.032) for {'metric': 'euclidean', 'n_neighbors': 17}\n",
            "0.576 (+/-0.035) for {'metric': 'euclidean', 'n_neighbors': 18}\n",
            "0.575 (+/-0.044) for {'metric': 'euclidean', 'n_neighbors': 19}\n",
            "0.575 (+/-0.041) for {'metric': 'euclidean', 'n_neighbors': 20}\n",
            "0.573 (+/-0.045) for {'metric': 'euclidean', 'n_neighbors': 21}\n",
            "0.568 (+/-0.045) for {'metric': 'euclidean', 'n_neighbors': 22}\n",
            "0.567 (+/-0.042) for {'metric': 'euclidean', 'n_neighbors': 23}\n",
            "0.565 (+/-0.041) for {'metric': 'euclidean', 'n_neighbors': 24}\n",
            "0.564 (+/-0.040) for {'metric': 'euclidean', 'n_neighbors': 25}\n",
            "0.562 (+/-0.039) for {'metric': 'euclidean', 'n_neighbors': 26}\n",
            "0.558 (+/-0.037) for {'metric': 'euclidean', 'n_neighbors': 27}\n",
            "0.557 (+/-0.044) for {'metric': 'euclidean', 'n_neighbors': 28}\n",
            "0.557 (+/-0.041) for {'metric': 'euclidean', 'n_neighbors': 29}\n",
            "0.553 (+/-0.037) for {'metric': 'euclidean', 'n_neighbors': 30}\n",
            "0.551 (+/-0.038) for {'metric': 'euclidean', 'n_neighbors': 31}\n",
            "0.551 (+/-0.036) for {'metric': 'euclidean', 'n_neighbors': 32}\n",
            "0.550 (+/-0.035) for {'metric': 'euclidean', 'n_neighbors': 33}\n",
            "0.547 (+/-0.039) for {'metric': 'euclidean', 'n_neighbors': 34}\n",
            "0.547 (+/-0.038) for {'metric': 'euclidean', 'n_neighbors': 35}\n",
            "0.544 (+/-0.036) for {'metric': 'euclidean', 'n_neighbors': 36}\n",
            "0.545 (+/-0.034) for {'metric': 'euclidean', 'n_neighbors': 37}\n",
            "0.542 (+/-0.036) for {'metric': 'euclidean', 'n_neighbors': 38}\n",
            "0.541 (+/-0.034) for {'metric': 'euclidean', 'n_neighbors': 39}\n",
            "0.541 (+/-0.033) for {'metric': 'euclidean', 'n_neighbors': 40}\n",
            "0.540 (+/-0.033) for {'metric': 'euclidean', 'n_neighbors': 41}\n",
            "0.540 (+/-0.031) for {'metric': 'euclidean', 'n_neighbors': 42}\n",
            "0.539 (+/-0.031) for {'metric': 'euclidean', 'n_neighbors': 43}\n",
            "0.539 (+/-0.033) for {'metric': 'euclidean', 'n_neighbors': 44}\n",
            "0.538 (+/-0.033) for {'metric': 'euclidean', 'n_neighbors': 45}\n",
            "0.536 (+/-0.035) for {'metric': 'euclidean', 'n_neighbors': 46}\n",
            "0.536 (+/-0.035) for {'metric': 'euclidean', 'n_neighbors': 47}\n",
            "0.535 (+/-0.034) for {'metric': 'euclidean', 'n_neighbors': 48}\n",
            "0.534 (+/-0.037) for {'metric': 'euclidean', 'n_neighbors': 49}\n",
            "0.532 (+/-0.038) for {'metric': 'euclidean', 'n_neighbors': 50}\n",
            "0.607 (+/-0.034) for {'metric': 'manhattan', 'n_neighbors': 1}\n",
            "0.610 (+/-0.011) for {'metric': 'manhattan', 'n_neighbors': 2}\n",
            "0.618 (+/-0.026) for {'metric': 'manhattan', 'n_neighbors': 3}\n",
            "0.622 (+/-0.020) for {'metric': 'manhattan', 'n_neighbors': 4}\n",
            "0.616 (+/-0.026) for {'metric': 'manhattan', 'n_neighbors': 5}\n",
            "0.616 (+/-0.028) for {'metric': 'manhattan', 'n_neighbors': 6}\n",
            "0.619 (+/-0.025) for {'metric': 'manhattan', 'n_neighbors': 7}\n",
            "0.612 (+/-0.037) for {'metric': 'manhattan', 'n_neighbors': 8}\n",
            "0.611 (+/-0.032) for {'metric': 'manhattan', 'n_neighbors': 9}\n",
            "0.611 (+/-0.027) for {'metric': 'manhattan', 'n_neighbors': 10}\n",
            "0.610 (+/-0.025) for {'metric': 'manhattan', 'n_neighbors': 11}\n",
            "0.607 (+/-0.027) for {'metric': 'manhattan', 'n_neighbors': 12}\n",
            "0.605 (+/-0.022) for {'metric': 'manhattan', 'n_neighbors': 13}\n",
            "0.604 (+/-0.016) for {'metric': 'manhattan', 'n_neighbors': 14}\n",
            "0.604 (+/-0.018) for {'metric': 'manhattan', 'n_neighbors': 15}\n",
            "0.602 (+/-0.014) for {'metric': 'manhattan', 'n_neighbors': 16}\n",
            "0.602 (+/-0.019) for {'metric': 'manhattan', 'n_neighbors': 17}\n",
            "0.600 (+/-0.018) for {'metric': 'manhattan', 'n_neighbors': 18}\n",
            "0.595 (+/-0.017) for {'metric': 'manhattan', 'n_neighbors': 19}\n",
            "0.593 (+/-0.024) for {'metric': 'manhattan', 'n_neighbors': 20}\n",
            "0.594 (+/-0.020) for {'metric': 'manhattan', 'n_neighbors': 21}\n",
            "0.589 (+/-0.030) for {'metric': 'manhattan', 'n_neighbors': 22}\n",
            "0.591 (+/-0.027) for {'metric': 'manhattan', 'n_neighbors': 23}\n",
            "0.587 (+/-0.031) for {'metric': 'manhattan', 'n_neighbors': 24}\n",
            "0.582 (+/-0.037) for {'metric': 'manhattan', 'n_neighbors': 25}\n",
            "0.583 (+/-0.031) for {'metric': 'manhattan', 'n_neighbors': 26}\n",
            "0.582 (+/-0.030) for {'metric': 'manhattan', 'n_neighbors': 27}\n",
            "0.581 (+/-0.028) for {'metric': 'manhattan', 'n_neighbors': 28}\n",
            "0.577 (+/-0.033) for {'metric': 'manhattan', 'n_neighbors': 29}\n",
            "0.576 (+/-0.034) for {'metric': 'manhattan', 'n_neighbors': 30}\n",
            "0.575 (+/-0.032) for {'metric': 'manhattan', 'n_neighbors': 31}\n",
            "0.571 (+/-0.033) for {'metric': 'manhattan', 'n_neighbors': 32}\n",
            "0.569 (+/-0.028) for {'metric': 'manhattan', 'n_neighbors': 33}\n",
            "0.566 (+/-0.028) for {'metric': 'manhattan', 'n_neighbors': 34}\n",
            "0.564 (+/-0.026) for {'metric': 'manhattan', 'n_neighbors': 35}\n",
            "0.565 (+/-0.032) for {'metric': 'manhattan', 'n_neighbors': 36}\n",
            "0.562 (+/-0.029) for {'metric': 'manhattan', 'n_neighbors': 37}\n",
            "0.561 (+/-0.032) for {'metric': 'manhattan', 'n_neighbors': 38}\n",
            "0.557 (+/-0.030) for {'metric': 'manhattan', 'n_neighbors': 39}\n",
            "0.558 (+/-0.028) for {'metric': 'manhattan', 'n_neighbors': 40}\n",
            "0.555 (+/-0.028) for {'metric': 'manhattan', 'n_neighbors': 41}\n",
            "0.553 (+/-0.029) for {'metric': 'manhattan', 'n_neighbors': 42}\n",
            "0.551 (+/-0.032) for {'metric': 'manhattan', 'n_neighbors': 43}\n",
            "0.549 (+/-0.030) for {'metric': 'manhattan', 'n_neighbors': 44}\n",
            "0.548 (+/-0.032) for {'metric': 'manhattan', 'n_neighbors': 45}\n",
            "0.547 (+/-0.033) for {'metric': 'manhattan', 'n_neighbors': 46}\n",
            "0.546 (+/-0.028) for {'metric': 'manhattan', 'n_neighbors': 47}\n",
            "0.544 (+/-0.031) for {'metric': 'manhattan', 'n_neighbors': 48}\n",
            "0.542 (+/-0.028) for {'metric': 'manhattan', 'n_neighbors': 49}\n",
            "0.542 (+/-0.026) for {'metric': 'manhattan', 'n_neighbors': 50}\n",
            "0.571 (+/-0.026) for {'metric': 'chebyshev', 'n_neighbors': 1}\n",
            "0.568 (+/-0.010) for {'metric': 'chebyshev', 'n_neighbors': 2}\n",
            "0.578 (+/-0.030) for {'metric': 'chebyshev', 'n_neighbors': 3}\n",
            "0.583 (+/-0.033) for {'metric': 'chebyshev', 'n_neighbors': 4}\n",
            "0.580 (+/-0.034) for {'metric': 'chebyshev', 'n_neighbors': 5}\n",
            "0.579 (+/-0.041) for {'metric': 'chebyshev', 'n_neighbors': 6}\n",
            "0.577 (+/-0.034) for {'metric': 'chebyshev', 'n_neighbors': 7}\n",
            "0.578 (+/-0.039) for {'metric': 'chebyshev', 'n_neighbors': 8}\n",
            "0.579 (+/-0.032) for {'metric': 'chebyshev', 'n_neighbors': 9}\n",
            "0.573 (+/-0.032) for {'metric': 'chebyshev', 'n_neighbors': 10}\n",
            "0.572 (+/-0.036) for {'metric': 'chebyshev', 'n_neighbors': 11}\n",
            "0.573 (+/-0.032) for {'metric': 'chebyshev', 'n_neighbors': 12}\n",
            "0.573 (+/-0.035) for {'metric': 'chebyshev', 'n_neighbors': 13}\n",
            "0.572 (+/-0.037) for {'metric': 'chebyshev', 'n_neighbors': 14}\n",
            "0.572 (+/-0.034) for {'metric': 'chebyshev', 'n_neighbors': 15}\n",
            "0.571 (+/-0.040) for {'metric': 'chebyshev', 'n_neighbors': 16}\n",
            "0.568 (+/-0.037) for {'metric': 'chebyshev', 'n_neighbors': 17}\n",
            "0.566 (+/-0.037) for {'metric': 'chebyshev', 'n_neighbors': 18}\n",
            "0.567 (+/-0.040) for {'metric': 'chebyshev', 'n_neighbors': 19}\n",
            "0.562 (+/-0.044) for {'metric': 'chebyshev', 'n_neighbors': 20}\n",
            "0.561 (+/-0.047) for {'metric': 'chebyshev', 'n_neighbors': 21}\n",
            "0.557 (+/-0.051) for {'metric': 'chebyshev', 'n_neighbors': 22}\n",
            "0.554 (+/-0.050) for {'metric': 'chebyshev', 'n_neighbors': 23}\n",
            "0.551 (+/-0.049) for {'metric': 'chebyshev', 'n_neighbors': 24}\n",
            "0.552 (+/-0.050) for {'metric': 'chebyshev', 'n_neighbors': 25}\n",
            "0.550 (+/-0.048) for {'metric': 'chebyshev', 'n_neighbors': 26}\n",
            "0.550 (+/-0.048) for {'metric': 'chebyshev', 'n_neighbors': 27}\n",
            "0.547 (+/-0.049) for {'metric': 'chebyshev', 'n_neighbors': 28}\n",
            "0.547 (+/-0.047) for {'metric': 'chebyshev', 'n_neighbors': 29}\n",
            "0.545 (+/-0.043) for {'metric': 'chebyshev', 'n_neighbors': 30}\n",
            "0.543 (+/-0.041) for {'metric': 'chebyshev', 'n_neighbors': 31}\n",
            "0.540 (+/-0.040) for {'metric': 'chebyshev', 'n_neighbors': 32}\n",
            "0.539 (+/-0.040) for {'metric': 'chebyshev', 'n_neighbors': 33}\n",
            "0.539 (+/-0.039) for {'metric': 'chebyshev', 'n_neighbors': 34}\n",
            "0.537 (+/-0.039) for {'metric': 'chebyshev', 'n_neighbors': 35}\n",
            "0.536 (+/-0.038) for {'metric': 'chebyshev', 'n_neighbors': 36}\n",
            "0.536 (+/-0.040) for {'metric': 'chebyshev', 'n_neighbors': 37}\n",
            "0.535 (+/-0.037) for {'metric': 'chebyshev', 'n_neighbors': 38}\n",
            "0.534 (+/-0.038) for {'metric': 'chebyshev', 'n_neighbors': 39}\n",
            "0.534 (+/-0.039) for {'metric': 'chebyshev', 'n_neighbors': 40}\n",
            "0.534 (+/-0.039) for {'metric': 'chebyshev', 'n_neighbors': 41}\n",
            "0.532 (+/-0.038) for {'metric': 'chebyshev', 'n_neighbors': 42}\n",
            "0.531 (+/-0.037) for {'metric': 'chebyshev', 'n_neighbors': 43}\n",
            "0.530 (+/-0.038) for {'metric': 'chebyshev', 'n_neighbors': 44}\n",
            "0.530 (+/-0.035) for {'metric': 'chebyshev', 'n_neighbors': 45}\n",
            "0.529 (+/-0.034) for {'metric': 'chebyshev', 'n_neighbors': 46}\n",
            "0.529 (+/-0.035) for {'metric': 'chebyshev', 'n_neighbors': 47}\n",
            "0.527 (+/-0.035) for {'metric': 'chebyshev', 'n_neighbors': 48}\n",
            "0.526 (+/-0.034) for {'metric': 'chebyshev', 'n_neighbors': 49}\n",
            "0.524 (+/-0.033) for {'metric': 'chebyshev', 'n_neighbors': 50}\n",
            "0.581 (+/-0.030) for {'metric': 'minkowski', 'n_neighbors': 1}\n",
            "0.585 (+/-0.021) for {'metric': 'minkowski', 'n_neighbors': 2}\n",
            "0.592 (+/-0.031) for {'metric': 'minkowski', 'n_neighbors': 3}\n",
            "0.598 (+/-0.029) for {'metric': 'minkowski', 'n_neighbors': 4}\n",
            "0.594 (+/-0.032) for {'metric': 'minkowski', 'n_neighbors': 5}\n",
            "0.588 (+/-0.034) for {'metric': 'minkowski', 'n_neighbors': 6}\n",
            "0.595 (+/-0.041) for {'metric': 'minkowski', 'n_neighbors': 7}\n",
            "0.590 (+/-0.044) for {'metric': 'minkowski', 'n_neighbors': 8}\n",
            "0.587 (+/-0.047) for {'metric': 'minkowski', 'n_neighbors': 9}\n",
            "0.585 (+/-0.038) for {'metric': 'minkowski', 'n_neighbors': 10}\n",
            "0.585 (+/-0.034) for {'metric': 'minkowski', 'n_neighbors': 11}\n",
            "0.584 (+/-0.038) for {'metric': 'minkowski', 'n_neighbors': 12}\n",
            "0.582 (+/-0.039) for {'metric': 'minkowski', 'n_neighbors': 13}\n",
            "0.582 (+/-0.029) for {'metric': 'minkowski', 'n_neighbors': 14}\n",
            "0.578 (+/-0.037) for {'metric': 'minkowski', 'n_neighbors': 15}\n",
            "0.578 (+/-0.033) for {'metric': 'minkowski', 'n_neighbors': 16}\n",
            "0.576 (+/-0.032) for {'metric': 'minkowski', 'n_neighbors': 17}\n",
            "0.576 (+/-0.035) for {'metric': 'minkowski', 'n_neighbors': 18}\n",
            "0.575 (+/-0.044) for {'metric': 'minkowski', 'n_neighbors': 19}\n",
            "0.575 (+/-0.041) for {'metric': 'minkowski', 'n_neighbors': 20}\n",
            "0.573 (+/-0.045) for {'metric': 'minkowski', 'n_neighbors': 21}\n",
            "0.568 (+/-0.045) for {'metric': 'minkowski', 'n_neighbors': 22}\n",
            "0.567 (+/-0.042) for {'metric': 'minkowski', 'n_neighbors': 23}\n",
            "0.565 (+/-0.041) for {'metric': 'minkowski', 'n_neighbors': 24}\n",
            "0.564 (+/-0.040) for {'metric': 'minkowski', 'n_neighbors': 25}\n",
            "0.562 (+/-0.039) for {'metric': 'minkowski', 'n_neighbors': 26}\n",
            "0.558 (+/-0.037) for {'metric': 'minkowski', 'n_neighbors': 27}\n",
            "0.557 (+/-0.044) for {'metric': 'minkowski', 'n_neighbors': 28}\n",
            "0.557 (+/-0.041) for {'metric': 'minkowski', 'n_neighbors': 29}\n",
            "0.553 (+/-0.037) for {'metric': 'minkowski', 'n_neighbors': 30}\n",
            "0.551 (+/-0.038) for {'metric': 'minkowski', 'n_neighbors': 31}\n",
            "0.551 (+/-0.036) for {'metric': 'minkowski', 'n_neighbors': 32}\n",
            "0.550 (+/-0.035) for {'metric': 'minkowski', 'n_neighbors': 33}\n",
            "0.547 (+/-0.039) for {'metric': 'minkowski', 'n_neighbors': 34}\n",
            "0.547 (+/-0.038) for {'metric': 'minkowski', 'n_neighbors': 35}\n",
            "0.544 (+/-0.036) for {'metric': 'minkowski', 'n_neighbors': 36}\n",
            "0.545 (+/-0.034) for {'metric': 'minkowski', 'n_neighbors': 37}\n",
            "0.542 (+/-0.036) for {'metric': 'minkowski', 'n_neighbors': 38}\n",
            "0.541 (+/-0.034) for {'metric': 'minkowski', 'n_neighbors': 39}\n",
            "0.541 (+/-0.033) for {'metric': 'minkowski', 'n_neighbors': 40}\n",
            "0.540 (+/-0.033) for {'metric': 'minkowski', 'n_neighbors': 41}\n",
            "0.540 (+/-0.031) for {'metric': 'minkowski', 'n_neighbors': 42}\n",
            "0.539 (+/-0.031) for {'metric': 'minkowski', 'n_neighbors': 43}\n",
            "0.539 (+/-0.033) for {'metric': 'minkowski', 'n_neighbors': 44}\n",
            "0.538 (+/-0.033) for {'metric': 'minkowski', 'n_neighbors': 45}\n",
            "0.536 (+/-0.035) for {'metric': 'minkowski', 'n_neighbors': 46}\n",
            "0.536 (+/-0.035) for {'metric': 'minkowski', 'n_neighbors': 47}\n",
            "0.535 (+/-0.034) for {'metric': 'minkowski', 'n_neighbors': 48}\n",
            "0.534 (+/-0.037) for {'metric': 'minkowski', 'n_neighbors': 49}\n",
            "0.532 (+/-0.038) for {'metric': 'minkowski', 'n_neighbors': 50}\n",
            "\n"
          ],
          "name": "stdout"
        }
      ]
    },
    {
      "cell_type": "code",
      "metadata": {
        "colab_type": "code",
        "id": "dXKC8_FPulTE",
        "colab": {
          "base_uri": "https://localhost:8080/",
          "height": 1000
        },
        "outputId": "f99bc5e5-b8b8-4e1d-d974-9a632387390d"
      },
      "source": [
        "\n",
        "arbol_parameters = [{'criterion': [\"gini\",\"entropy\"],\n",
        "                     'max_features': [5],\n",
        "                     'min_samples_split': range(2,21)}]\n",
        "%time\n",
        "gridsearch(modelArbol,arbol_parameters,scores,5)                    "
      ],
      "execution_count": 15,
      "outputs": [
        {
          "output_type": "stream",
          "text": [
            "CPU times: user 3 µs, sys: 0 ns, total: 3 µs\n",
            "Wall time: 7.15 µs\n",
            "# Tuning hyper-parameters for precision\n",
            "\n",
            "Best parameters set found on development set:\n",
            "\n",
            "{'criterion': 'gini', 'max_features': 5, 'min_samples_split': 20}\n",
            "\n",
            "Grid scores on development set:\n",
            "\n",
            "0.648 (+/-0.025) for {'criterion': 'gini', 'max_features': 5, 'min_samples_split': 2}\n",
            "0.651 (+/-0.025) for {'criterion': 'gini', 'max_features': 5, 'min_samples_split': 3}\n",
            "0.650 (+/-0.024) for {'criterion': 'gini', 'max_features': 5, 'min_samples_split': 4}\n",
            "0.657 (+/-0.020) for {'criterion': 'gini', 'max_features': 5, 'min_samples_split': 5}\n",
            "0.653 (+/-0.020) for {'criterion': 'gini', 'max_features': 5, 'min_samples_split': 6}\n",
            "0.661 (+/-0.024) for {'criterion': 'gini', 'max_features': 5, 'min_samples_split': 7}\n",
            "0.664 (+/-0.024) for {'criterion': 'gini', 'max_features': 5, 'min_samples_split': 8}\n",
            "0.664 (+/-0.024) for {'criterion': 'gini', 'max_features': 5, 'min_samples_split': 9}\n",
            "0.670 (+/-0.026) for {'criterion': 'gini', 'max_features': 5, 'min_samples_split': 10}\n",
            "0.668 (+/-0.028) for {'criterion': 'gini', 'max_features': 5, 'min_samples_split': 11}\n",
            "0.669 (+/-0.028) for {'criterion': 'gini', 'max_features': 5, 'min_samples_split': 12}\n",
            "0.668 (+/-0.026) for {'criterion': 'gini', 'max_features': 5, 'min_samples_split': 13}\n",
            "0.668 (+/-0.027) for {'criterion': 'gini', 'max_features': 5, 'min_samples_split': 14}\n",
            "0.669 (+/-0.030) for {'criterion': 'gini', 'max_features': 5, 'min_samples_split': 15}\n",
            "0.668 (+/-0.030) for {'criterion': 'gini', 'max_features': 5, 'min_samples_split': 16}\n",
            "0.674 (+/-0.026) for {'criterion': 'gini', 'max_features': 5, 'min_samples_split': 17}\n",
            "0.676 (+/-0.026) for {'criterion': 'gini', 'max_features': 5, 'min_samples_split': 18}\n",
            "0.672 (+/-0.025) for {'criterion': 'gini', 'max_features': 5, 'min_samples_split': 19}\n",
            "0.677 (+/-0.026) for {'criterion': 'gini', 'max_features': 5, 'min_samples_split': 20}\n",
            "0.656 (+/-0.028) for {'criterion': 'entropy', 'max_features': 5, 'min_samples_split': 2}\n",
            "0.659 (+/-0.024) for {'criterion': 'entropy', 'max_features': 5, 'min_samples_split': 3}\n",
            "0.659 (+/-0.029) for {'criterion': 'entropy', 'max_features': 5, 'min_samples_split': 4}\n",
            "0.657 (+/-0.022) for {'criterion': 'entropy', 'max_features': 5, 'min_samples_split': 5}\n",
            "0.659 (+/-0.023) for {'criterion': 'entropy', 'max_features': 5, 'min_samples_split': 6}\n",
            "0.661 (+/-0.026) for {'criterion': 'entropy', 'max_features': 5, 'min_samples_split': 7}\n",
            "0.659 (+/-0.030) for {'criterion': 'entropy', 'max_features': 5, 'min_samples_split': 8}\n",
            "0.660 (+/-0.028) for {'criterion': 'entropy', 'max_features': 5, 'min_samples_split': 9}\n",
            "0.662 (+/-0.028) for {'criterion': 'entropy', 'max_features': 5, 'min_samples_split': 10}\n",
            "0.663 (+/-0.027) for {'criterion': 'entropy', 'max_features': 5, 'min_samples_split': 11}\n",
            "0.660 (+/-0.030) for {'criterion': 'entropy', 'max_features': 5, 'min_samples_split': 12}\n",
            "0.656 (+/-0.032) for {'criterion': 'entropy', 'max_features': 5, 'min_samples_split': 13}\n",
            "0.661 (+/-0.031) for {'criterion': 'entropy', 'max_features': 5, 'min_samples_split': 14}\n",
            "0.661 (+/-0.028) for {'criterion': 'entropy', 'max_features': 5, 'min_samples_split': 15}\n",
            "0.659 (+/-0.024) for {'criterion': 'entropy', 'max_features': 5, 'min_samples_split': 16}\n",
            "0.659 (+/-0.025) for {'criterion': 'entropy', 'max_features': 5, 'min_samples_split': 17}\n",
            "0.660 (+/-0.028) for {'criterion': 'entropy', 'max_features': 5, 'min_samples_split': 18}\n",
            "0.663 (+/-0.025) for {'criterion': 'entropy', 'max_features': 5, 'min_samples_split': 19}\n",
            "0.662 (+/-0.032) for {'criterion': 'entropy', 'max_features': 5, 'min_samples_split': 20}\n",
            "\n",
            "# Tuning hyper-parameters for recall\n",
            "\n",
            "Best parameters set found on development set:\n",
            "\n",
            "{'criterion': 'entropy', 'max_features': 5, 'min_samples_split': 7}\n",
            "\n",
            "Grid scores on development set:\n",
            "\n",
            "0.657 (+/-0.024) for {'criterion': 'gini', 'max_features': 5, 'min_samples_split': 2}\n",
            "0.661 (+/-0.015) for {'criterion': 'gini', 'max_features': 5, 'min_samples_split': 3}\n",
            "0.661 (+/-0.011) for {'criterion': 'gini', 'max_features': 5, 'min_samples_split': 4}\n",
            "0.664 (+/-0.018) for {'criterion': 'gini', 'max_features': 5, 'min_samples_split': 5}\n",
            "0.662 (+/-0.017) for {'criterion': 'gini', 'max_features': 5, 'min_samples_split': 6}\n",
            "0.666 (+/-0.017) for {'criterion': 'gini', 'max_features': 5, 'min_samples_split': 7}\n",
            "0.667 (+/-0.022) for {'criterion': 'gini', 'max_features': 5, 'min_samples_split': 8}\n",
            "0.665 (+/-0.021) for {'criterion': 'gini', 'max_features': 5, 'min_samples_split': 9}\n",
            "0.668 (+/-0.017) for {'criterion': 'gini', 'max_features': 5, 'min_samples_split': 10}\n",
            "0.665 (+/-0.021) for {'criterion': 'gini', 'max_features': 5, 'min_samples_split': 11}\n",
            "0.663 (+/-0.021) for {'criterion': 'gini', 'max_features': 5, 'min_samples_split': 12}\n",
            "0.659 (+/-0.021) for {'criterion': 'gini', 'max_features': 5, 'min_samples_split': 13}\n",
            "0.658 (+/-0.017) for {'criterion': 'gini', 'max_features': 5, 'min_samples_split': 14}\n",
            "0.659 (+/-0.015) for {'criterion': 'gini', 'max_features': 5, 'min_samples_split': 15}\n",
            "0.658 (+/-0.020) for {'criterion': 'gini', 'max_features': 5, 'min_samples_split': 16}\n",
            "0.661 (+/-0.015) for {'criterion': 'gini', 'max_features': 5, 'min_samples_split': 17}\n",
            "0.662 (+/-0.015) for {'criterion': 'gini', 'max_features': 5, 'min_samples_split': 18}\n",
            "0.658 (+/-0.017) for {'criterion': 'gini', 'max_features': 5, 'min_samples_split': 19}\n",
            "0.660 (+/-0.018) for {'criterion': 'gini', 'max_features': 5, 'min_samples_split': 20}\n",
            "0.664 (+/-0.019) for {'criterion': 'entropy', 'max_features': 5, 'min_samples_split': 2}\n",
            "0.667 (+/-0.017) for {'criterion': 'entropy', 'max_features': 5, 'min_samples_split': 3}\n",
            "0.668 (+/-0.016) for {'criterion': 'entropy', 'max_features': 5, 'min_samples_split': 4}\n",
            "0.665 (+/-0.019) for {'criterion': 'entropy', 'max_features': 5, 'min_samples_split': 5}\n",
            "0.666 (+/-0.017) for {'criterion': 'entropy', 'max_features': 5, 'min_samples_split': 6}\n",
            "0.668 (+/-0.019) for {'criterion': 'entropy', 'max_features': 5, 'min_samples_split': 7}\n",
            "0.663 (+/-0.024) for {'criterion': 'entropy', 'max_features': 5, 'min_samples_split': 8}\n",
            "0.661 (+/-0.022) for {'criterion': 'entropy', 'max_features': 5, 'min_samples_split': 9}\n",
            "0.663 (+/-0.023) for {'criterion': 'entropy', 'max_features': 5, 'min_samples_split': 10}\n",
            "0.662 (+/-0.024) for {'criterion': 'entropy', 'max_features': 5, 'min_samples_split': 11}\n",
            "0.657 (+/-0.029) for {'criterion': 'entropy', 'max_features': 5, 'min_samples_split': 12}\n",
            "0.655 (+/-0.032) for {'criterion': 'entropy', 'max_features': 5, 'min_samples_split': 13}\n",
            "0.658 (+/-0.028) for {'criterion': 'entropy', 'max_features': 5, 'min_samples_split': 14}\n",
            "0.657 (+/-0.026) for {'criterion': 'entropy', 'max_features': 5, 'min_samples_split': 15}\n",
            "0.656 (+/-0.026) for {'criterion': 'entropy', 'max_features': 5, 'min_samples_split': 16}\n",
            "0.656 (+/-0.026) for {'criterion': 'entropy', 'max_features': 5, 'min_samples_split': 17}\n",
            "0.655 (+/-0.028) for {'criterion': 'entropy', 'max_features': 5, 'min_samples_split': 18}\n",
            "0.656 (+/-0.028) for {'criterion': 'entropy', 'max_features': 5, 'min_samples_split': 19}\n",
            "0.653 (+/-0.034) for {'criterion': 'entropy', 'max_features': 5, 'min_samples_split': 20}\n",
            "\n"
          ],
          "name": "stdout"
        }
      ]
    },
    {
      "cell_type": "code",
      "metadata": {
        "id": "6P5jZkiiarwl",
        "colab_type": "code",
        "colab": {
          "base_uri": "https://localhost:8080/",
          "height": 67
        },
        "outputId": "25fe25bf-0e01-43d0-ec98-a0e434500542"
      },
      "source": [
        "\n",
        "perceptron_parameters = [{'hidden_layer_sizes':[(5,2),(3,3,3),(5,3,2),(5,4,3,2)],\n",
        "                               'activation':['identity','logistic','tanh','relu'],\n",
        "                               'learning_rate_init':[0.001,0.01,0.1],\n",
        "                               'momentum':[0.9,0.95,0.99]\n",
        "                               }]\n",
        "%time\n",
        "'''gridsearch(modelPerceptron,perceptron_parameters,scores,5)'''                          "
      ],
      "execution_count": 16,
      "outputs": [
        {
          "output_type": "stream",
          "text": [
            "CPU times: user 4 µs, sys: 0 ns, total: 4 µs\n",
            "Wall time: 7.87 µs\n"
          ],
          "name": "stdout"
        },
        {
          "output_type": "execute_result",
          "data": {
            "text/plain": [
              "'gridsearch(modelPerceptron,perceptron_parameters,scores,5)'"
            ]
          },
          "metadata": {
            "tags": []
          },
          "execution_count": 16
        }
      ]
    },
    {
      "cell_type": "markdown",
      "metadata": {
        "id": "tGKjj1dd-6lz",
        "colab_type": "text"
      },
      "source": [
        "Es inviable lo que llega a tardar."
      ]
    },
    {
      "cell_type": "code",
      "metadata": {
        "id": "lPY9JgK8lHom",
        "colab_type": "code",
        "colab": {
          "base_uri": "https://localhost:8080/",
          "height": 554
        },
        "outputId": "8428a30f-1c10-4f6e-cfe9-32eee1611cf5"
      },
      "source": [
        "LR_parameters = [{'C': [0.1,0.5,1, 10, 100, 1000]}]\n",
        "%time\n",
        "gridsearch(modelLR,LR_parameters,scores,5)"
      ],
      "execution_count": 17,
      "outputs": [
        {
          "output_type": "stream",
          "text": [
            "CPU times: user 4 µs, sys: 0 ns, total: 4 µs\n",
            "Wall time: 7.39 µs\n",
            "# Tuning hyper-parameters for precision\n",
            "\n",
            "Best parameters set found on development set:\n",
            "\n",
            "{'C': 0.5}\n",
            "\n",
            "Grid scores on development set:\n",
            "\n",
            "0.191 (+/-0.054) for {'C': 0.1}\n",
            "0.192 (+/-0.054) for {'C': 0.5}\n",
            "0.191 (+/-0.053) for {'C': 1}\n",
            "0.188 (+/-0.054) for {'C': 10}\n",
            "0.189 (+/-0.054) for {'C': 100}\n",
            "0.190 (+/-0.054) for {'C': 1000}\n",
            "\n",
            "# Tuning hyper-parameters for recall\n",
            "\n",
            "Best parameters set found on development set:\n",
            "\n",
            "{'C': 1000}\n",
            "\n",
            "Grid scores on development set:\n",
            "\n",
            "0.205 (+/-0.025) for {'C': 0.1}\n",
            "0.204 (+/-0.026) for {'C': 0.5}\n",
            "0.203 (+/-0.024) for {'C': 1}\n",
            "0.203 (+/-0.030) for {'C': 10}\n",
            "0.204 (+/-0.026) for {'C': 100}\n",
            "0.207 (+/-0.024) for {'C': 1000}\n",
            "\n"
          ],
          "name": "stdout"
        }
      ]
    },
    {
      "cell_type": "markdown",
      "metadata": {
        "id": "KOWxS0wdCYpa",
        "colab_type": "text"
      },
      "source": [
        "Vemos que de todos los algoritmos, los que mejor precision sacan son: KNN, y árboles."
      ]
    },
    {
      "cell_type": "code",
      "metadata": {
        "id": "fYZw-_7dGiON",
        "colab_type": "code",
        "colab": {}
      },
      "source": [
        "from sklearn.metrics import classification_report"
      ],
      "execution_count": 0,
      "outputs": []
    },
    {
      "cell_type": "code",
      "metadata": {
        "id": "ifFGhgMrGQy6",
        "colab_type": "code",
        "colab": {
          "base_uri": "https://localhost:8080/",
          "height": 252
        },
        "outputId": "f26a0742-9685-4f46-f122-8a8d4da5c6d2"
      },
      "source": [
        "print(\"EVALUACIÓN EN CONJUNTO DE TEST USANDO KNN\")\n",
        "predictionsKNN = modelKNN.predict(testData)\n",
        "print(classification_report(testLabels, predictionsKNN))"
      ],
      "execution_count": 21,
      "outputs": [
        {
          "output_type": "stream",
          "text": [
            "EVALUACIÓN EN CONJUNTO DE TEST USANDO KNN\n",
            "              precision    recall  f1-score   support\n",
            "\n",
            "         0.0       0.77      0.70      0.74       875\n",
            "         1.0       0.55      0.68      0.61        95\n",
            "         2.0       0.55      0.63      0.59       433\n",
            "         3.0       0.51      0.61      0.56       624\n",
            "         4.0       0.60      0.53      0.56       662\n",
            "         5.0       0.50      0.42      0.45       311\n",
            "\n",
            "    accuracy                           0.60      3000\n",
            "   macro avg       0.58      0.60      0.58      3000\n",
            "weighted avg       0.61      0.60      0.61      3000\n",
            "\n"
          ],
          "name": "stdout"
        }
      ]
    },
    {
      "cell_type": "code",
      "metadata": {
        "id": "4wsBzkCgGb_-",
        "colab_type": "code",
        "colab": {
          "base_uri": "https://localhost:8080/",
          "height": 252
        },
        "outputId": "2a9bb17c-3d8c-404c-bb05-73f0a85c5754"
      },
      "source": [
        "print(\"EVALUACIÓN EN CONJUNTO DE TEST USANDO AEBOLES\")\n",
        "predictionsArboles = modelArbol.predict(testData)\n",
        "print(classification_report(testLabels, predictionsArboles))"
      ],
      "execution_count": 23,
      "outputs": [
        {
          "output_type": "stream",
          "text": [
            "EVALUACIÓN EN CONJUNTO DE TEST USANDO AEBOLES\n",
            "              precision    recall  f1-score   support\n",
            "\n",
            "         0.0       0.93      0.82      0.87       875\n",
            "         1.0       0.72      0.76      0.74        95\n",
            "         2.0       0.62      0.66      0.64       433\n",
            "         3.0       0.58      0.62      0.60       624\n",
            "         4.0       0.57      0.57      0.57       662\n",
            "         5.0       0.51      0.56      0.53       311\n",
            "\n",
            "    accuracy                           0.67      3000\n",
            "   macro avg       0.65      0.66      0.66      3000\n",
            "weighted avg       0.68      0.67      0.67      3000\n",
            "\n"
          ],
          "name": "stdout"
        }
      ]
    },
    {
      "cell_type": "markdown",
      "metadata": {
        "id": "gMt_VPGbHueg",
        "colab_type": "text"
      },
      "source": [
        "**Conclusión**: el algoritmo de arbol es el que mas precisión da. Arbol un 67% (+/-2.6%) y KNN 61.3% (+/-1.5%)"
      ]
    },
    {
      "cell_type": "markdown",
      "metadata": {
        "id": "y5lcoswfIhPl",
        "colab_type": "text"
      },
      "source": [
        "A continuación vamos a ver si con una estandarización o normalizacion mejoran: mejoran:"
      ]
    },
    {
      "cell_type": "code",
      "metadata": {
        "id": "6XZUdZUkKCQm",
        "colab_type": "code",
        "colab": {}
      },
      "source": [
        "from sklearn.preprocessing import StandardScaler\n",
        "stdsc = StandardScaler()\n",
        "X_train_std = stdsc.fit_transform(X_train)\n",
        "X_test_std = stdsc.transform(X_test)"
      ],
      "execution_count": 0,
      "outputs": []
    },
    {
      "cell_type": "code",
      "metadata": {
        "id": "U4KOrYyVJEyo",
        "colab_type": "code",
        "colab": {}
      },
      "source": [
        "from sklearn.preprocessing import MinMaxScaler\n",
        "mms = MinMaxScaler()\n",
        "X_train, X_test, Y_train, Y_test = train_test_split(X,Y,test_size=0.25, random_state=0)\n",
        "X_train_norm = mms.fit_transform(X_train)\n",
        "X_test_norm = mms.transform(X_test)"
      ],
      "execution_count": 0,
      "outputs": []
    },
    {
      "cell_type": "code",
      "metadata": {
        "id": "JFMigOQSJe78",
        "colab_type": "code",
        "colab": {}
      },
      "source": [
        "X_train_norm = mms.fit_transform(X_train)\n",
        "X_test_norm = mms.transform(X_test)"
      ],
      "execution_count": 0,
      "outputs": []
    },
    {
      "cell_type": "code",
      "metadata": {
        "id": "6TBtMasTJipZ",
        "colab_type": "code",
        "colab": {
          "base_uri": "https://localhost:8080/",
          "height": 50
        },
        "outputId": "a4511449-0957-4b20-c1ab-4e8331fdb621"
      },
      "source": [
        "modelKNN.fit(X_train_norm,Y_train)\n",
        "print('Training accuracy:', modelKNN.score(X_train_norm,Y_train))\n",
        "print('Test accuracy:', modelKNN.score(X_test_norm,Y_test))"
      ],
      "execution_count": 30,
      "outputs": [
        {
          "output_type": "stream",
          "text": [
            "Training accuracy: 0.7391932436937437\n",
            "Test accuracy: 0.6526666666666666\n"
          ],
          "name": "stdout"
        }
      ]
    },
    {
      "cell_type": "code",
      "metadata": {
        "id": "yq0WAEj0KUZb",
        "colab_type": "code",
        "colab": {
          "base_uri": "https://localhost:8080/",
          "height": 50
        },
        "outputId": "15906230-a1e8-4379-cd49-43aee959bd8d"
      },
      "source": [
        "modelKNN.fit(X_train_std,Y_train)\n",
        "print('Training accuracy:', modelKNN.score(X_train_std,Y_train))\n",
        "print('Test accuracy:', modelKNN.score(X_test_std,Y_test))"
      ],
      "execution_count": 32,
      "outputs": [
        {
          "output_type": "stream",
          "text": [
            "Training accuracy: 0.7356372930325592\n",
            "Test accuracy: 0.643\n"
          ],
          "name": "stdout"
        }
      ]
    },
    {
      "cell_type": "code",
      "metadata": {
        "id": "5Xjk5lZgL-Uk",
        "colab_type": "code",
        "colab": {
          "base_uri": "https://localhost:8080/",
          "height": 50
        },
        "outputId": "b4afc309-6f7b-4fd5-fbbb-1fc557daaf42"
      },
      "source": [
        "modelArbol.fit(X_train_norm,Y_train)\n",
        "print('Training accuracy:', modelArbol.score(X_train_norm,Y_train))\n",
        "print('Test accuracy:', modelArbol.score(X_test_norm,Y_test))"
      ],
      "execution_count": 33,
      "outputs": [
        {
          "output_type": "stream",
          "text": [
            "Training accuracy: 0.999888876541838\n",
            "Test accuracy: 0.68\n"
          ],
          "name": "stdout"
        }
      ]
    },
    {
      "cell_type": "code",
      "metadata": {
        "id": "GrYBp3wnL-vt",
        "colab_type": "code",
        "colab": {
          "base_uri": "https://localhost:8080/",
          "height": 50
        },
        "outputId": "58bda3ea-eb79-4e81-92ea-f1ad8e2345d4"
      },
      "source": [
        "modelArbol.fit(X_train_std,Y_train)\n",
        "print('Training accuracy:', modelArbol.score(X_train_std,Y_train))\n",
        "print('Test accuracy:', modelArbol.score(X_test_std,Y_test))"
      ],
      "execution_count": 34,
      "outputs": [
        {
          "output_type": "stream",
          "text": [
            "Training accuracy: 1.0\n",
            "Test accuracy: 0.681\n"
          ],
          "name": "stdout"
        }
      ]
    },
    {
      "cell_type": "markdown",
      "metadata": {
        "id": "Px3wGcIeMY_B",
        "colab_type": "text"
      },
      "source": [
        "**Conclusion:** vemos que el arbol sube la precisión al 68.1% frente al 67% +-2.6% y con KNN normalizando se mejora a 65.266% frente a un 61.3% (+/-1.5%)"
      ]
    }
  ]
}