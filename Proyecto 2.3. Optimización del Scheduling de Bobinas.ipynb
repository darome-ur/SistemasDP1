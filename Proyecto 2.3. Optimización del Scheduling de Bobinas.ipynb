{
  "nbformat": 4,
  "nbformat_minor": 0,
  "metadata": {
    "kernelspec": {
      "display_name": "Python 3",
      "language": "python",
      "name": "python3"
    },
    "language_info": {
      "codemirror_mode": {
        "name": "ipython",
        "version": 3
      },
      "file_extension": ".py",
      "mimetype": "text/x-python",
      "name": "python",
      "nbconvert_exporter": "python",
      "pygments_lexer": "ipython3",
      "version": "3.8.5"
    },
    "toc": {
      "base_numbering": 1,
      "nav_menu": {},
      "number_sections": true,
      "sideBar": true,
      "skip_h1_title": false,
      "title_cell": "Table of Contents",
      "title_sidebar": "Contents",
      "toc_cell": false,
      "toc_position": {},
      "toc_section_display": true,
      "toc_window_display": true
    },
    "colab": {
      "name": "Proyecto 2.3. Optimización del Scheduling de Bobinas.ipynb",
      "provenance": [],
      "toc_visible": true
    }
  },
  "cells": [
    {
      "cell_type": "markdown",
      "metadata": {
        "id": "5_KdNgxpsWXL"
      },
      "source": [
        "- *Asignatura*: Ingeniería del Conocimiento\n",
        "- *Curso*: 2020/2021\n",
        "- *Profesor*: Fco. Javier Martínez de Pisón\n",
        "- Universidad de La Rioja"
      ]
    },
    {
      "cell_type": "markdown",
      "metadata": {
        "id": "7t51Gi0tsWXY"
      },
      "source": [
        "# Proyecto 2. Diseño de DSS en Industria 4.0 (Parte 3/3)"
      ]
    },
    {
      "cell_type": "markdown",
      "metadata": {
        "id": "P5JqrH2xsWXZ"
      },
      "source": [
        "El objetivo inicial de este proyecto fue el desarrollo de modelos predictivos tanto de consignas del horno (THC1, THC3 y THC5) como de comportamiento de la bobina de acero (TMPP2).\n",
        "\n",
        "¿Cómo podemos usar estos modelos en la toma de decisiones?\n",
        "\n",
        "Imaginemos, que queremos procesar nuevas bobinas y sabemos que un tratamiento de temperatura homogéneo es crucial para reducir los problemas de adherencia de la capa de zinc. De este modo, el jefe de producción **nos pide que, para maximizar la producción, organicemos las bobinas que tenemos que procesar mañana considerando una velocidad constante de 180 metros por minuto. Pero además, para reducir problemas en el recubrimiento de zinc, el orden (*scheduling*) de las bobinas deberá ser hecho de la mejor forma posible, de modo que los cambios en las temperaturas de consigna de THC1 se minimicen para evitar problemas en el tratamiento térmico**. \n",
        "\n",
        "En esta tercera parte, vamos a aprender cómo utilizar los modelos de machine learning para simular el proceso industrial y optimizarlo en base a unas especificaciones previas.\n",
        "\n",
        "Las bobinas a procesar en el futuro próximo corresponden con las 81 bobinas de la base de datos de testeo por lo que, en un hipotético caso real, **solo dispondríamos de la información relativa a cada bobina (dimensiones, tipo de acero) y los datos objetivos (velocidad objetivo y temperatura objetivo que tiene que alcanzar la bobina a la salida del horno según la curva de recocido de cada tipo de acero)**."
      ]
    },
    {
      "cell_type": "code",
      "metadata": {
        "ExecuteTime": {
          "end_time": "2021-03-08T13:47:30.497935Z",
          "start_time": "2021-03-08T13:47:28.581095Z"
        },
        "id": "5bhg4w56sWXa"
      },
      "source": [
        "# Importamos paquetes basicos\n",
        "import pandas as pd \n",
        "import numpy as np\n",
        "import matplotlib.pyplot as plt\n",
        "import seaborn as sns\n",
        "from scipy.io import arff\n",
        "\n",
        "from sklearn.metrics import mean_absolute_error, mean_squared_error, r2_score\n",
        "from sklearn.model_selection import RepeatedKFold\n",
        "from sklearn.preprocessing import LabelEncoder, OneHotEncoder, StandardScaler\n",
        "from sklearn.linear_model import Ridge\n",
        "from sklearn.neighbors import KNeighborsClassifier\n",
        "from sklearn.neural_network import MLPRegressor\n",
        "from sklearn.svm import SVR\n",
        "from sklearn.tree import DecisionTreeRegressor"
      ],
      "execution_count": 1,
      "outputs": []
    },
    {
      "cell_type": "markdown",
      "metadata": {
        "id": "TtaJu8oSsWXa"
      },
      "source": [
        "## Funciones"
      ]
    },
    {
      "cell_type": "code",
      "metadata": {
        "ExecuteTime": {
          "end_time": "2021-03-08T13:48:51.512119Z",
          "start_time": "2021-03-08T13:48:51.490132Z"
        },
        "id": "-FtaULQysWXb"
      },
      "source": [
        "# Dibuja datos del proceso\n",
        "def dibuja_proceso(df, pos_ini = 0, num_bobs = None):\n",
        "    if num_bobs==None:\n",
        "        num_bobs = len(df)\n",
        "    # Dibuja Espesor y Ancho con dos ejes\n",
        "    # -----------------------------------\n",
        "    df_plot = df.iloc[pos_ini:pos_ini+num_bobs]\n",
        "\n",
        "    fig, ax = plt.subplots(constrained_layout=True, figsize=(10,4))\n",
        "    ax.plot(df_plot['ESPESOR'], label='ESPESOR')\n",
        "    ax.set_xlabel('Num. Bobina')\n",
        "    ax.set_ylabel('Espesor (mm.)')\n",
        "    # Segundo eje\n",
        "    ax.plot(df_plot['ANCHO']/1000.0, label='ANCHO')\n",
        "    def CtoF(x):\n",
        "        return x * 1000.0\n",
        "    def FtoC(x):\n",
        "        return x / 1000.0\n",
        "\n",
        "    secaxy = ax.secondary_yaxis('right', functions=(CtoF, FtoC))\n",
        "    secaxy.set_ylabel('Ancho (mm.)')\n",
        "    ax.legend()\n",
        "\n",
        "    # Dibuja Temperaturas y Velocidad con dos ejes\n",
        "    # -----------------------------------\n",
        "    fig, ax = plt.subplots(constrained_layout=True, figsize=(10,6))\n",
        "    for colname in df_plot.columns[7:]:\n",
        "        ax.plot(df_plot[colname], label=colname)\n",
        "\n",
        "    ax.set_xlabel('Num. Bobina')\n",
        "    ax.set_ylabel('Temperaturas (ºC)')\n",
        "\n",
        "    ax.plot(df_plot['VELMED']*3.0, label='VELMED')\n",
        "    def CtoF(x):\n",
        "        return x / 3.0\n",
        "    def FtoC(x):\n",
        "        return x * 3.0\n",
        "\n",
        "    secaxy = ax.secondary_yaxis('right', functions=(CtoF, FtoC))\n",
        "    secaxy.set_ylabel('Velocidad Media (m/min)')\n",
        "    ax.legend()\n",
        "\n",
        "# Dibuja predicciones de un modelo\n",
        "def dibuja_preds(y_true, y_pred, mae, rmse, r2tst, titulo='Real vs Prediccion'):\n",
        "    titulo = titulo+'MAE:{:.3f}, RMSE:{:,.3f}, R2:{:,.3f}'.format(mae, rmse, r2tst)\n",
        "    plt.figure(figsize=(8,8))\n",
        "    # Diagonal\n",
        "    min_x, max_x = y_true.min(), y_true.max()\n",
        "    min_y, max_y = y_pred.min(), y_pred.max()\n",
        "    # Preds vs Real\n",
        "    min_tot = min(min_x,min_y)\n",
        "    max_tot = max(max_x,max_y)\n",
        "    plt.scatter(y_true,y_pred,alpha=0.80)\n",
        "    plt.plot([min_tot, max_tot],[min_tot, max_tot], color='red')\n",
        "    plt.xlabel('Real')\n",
        "    plt.ylabel('Predicción')\n",
        "    plt.title(titulo)\n",
        "    plt.show()\n",
        "    \n",
        "# Dibuja cuatro graficas de preds vs real \n",
        "def saca_predicciones(y_true, y_pred):\n",
        "    errores = y_true-y_pred\n",
        "    fig, ax = plt.subplots(figsize=(10,10))\n",
        "    plt.subplot(2,2,1)\n",
        "    sns.distplot(errores, hist=False)\n",
        "    plt.title('MEDIA={:,.3f}, STD={:,.3f}'.format(np.mean(errores),np.std(errores)))\n",
        "    plt.xlabel('Error')\n",
        "    plt.ylabel('Prob')\n",
        "    \n",
        "    plt.subplot(2,2,2)\n",
        "    sns.distplot(errores, kde=False)\n",
        "    plt.title('MIN_ABS={:,.3f}, MAX_ABS={:,.3f}'.format(np.min(np.abs(errores)),np.max(np.abs(errores))))\n",
        "    plt.xlabel('Error')\n",
        "    plt.ylabel('Num')\n",
        "    \n",
        "    plt.subplot(2,2,3)\n",
        "    min_x, max_x = y_true.min(), y_true.max()\n",
        "    min_y, max_y = y_pred.min(), y_pred.max()\n",
        "    min_tot = min(min_x,min_y)\n",
        "    max_tot = max(max_x,max_y)\n",
        "    plt.scatter(y_true[np.argsort(y_true)],y_pred[np.argsort(y_true)],alpha=0.80)\n",
        "    plt.plot([min_tot, max_tot],[min_tot, max_tot], color='red')\n",
        "    plt.xlabel('Real')\n",
        "    plt.ylabel('Predicción')\n",
        "    \n",
        "    ax1 = plt.subplot(2,2,4)\n",
        "    df = pd.DataFrame({'Real':y_true,'Prediccion':y_pred})\n",
        "    sns.kdeplot(df.Real, df.Prediccion, ax=ax1)\n",
        "    sns.rugplot(df.Real, color=\"g\", ax=ax1)\n",
        "    sns.rugplot(df.Prediccion, vertical=True, ax=ax1)\n",
        "\n",
        "\n",
        "# Función que obtiene el MAE, RMSE y R2 de VC con repetición y para la base de datos de testeo\n",
        "def entrena_model(model, num_folds=5, num_bags=10):\n",
        "    np.random.seed(2020)\n",
        "    X_tot = df_train_esc.copy()\n",
        "    y_tot = df_train_limpia[target].values.reshape(-1)\n",
        "    X_test = df_test_esc.copy()\n",
        "    y_test = df_test[target].values.reshape(-1)\n",
        "    \n",
        "    # Creamos arrays para las predicciones\n",
        "    preds_val = np.empty((len(X_tot),num_bags))\n",
        "    preds_val[:] = np.nan\n",
        "    preds_test = np.empty((len(X_test),num_bags*num_folds))\n",
        "    preds_test[:] = np.nan\n",
        "    # Entrena y extrae la predicciones con validación cruzada repetida\n",
        "    \n",
        "    folds = RepeatedKFold(n_splits=num_folds, n_repeats=num_bags, random_state=2020)  \n",
        "    for niter, (train_index, val_index) in enumerate(folds.split(X_tot, y_tot)):\n",
        "        nbag = niter//num_folds #Extrae el número de repetición (bag)\n",
        "        X_train, X_val = X_tot[train_index], X_tot[val_index]\n",
        "        y_train, y_val = y_tot[train_index], y_tot[val_index]\n",
        "        model.fit(X_train, y_train)\n",
        "        preds_val[val_index,nbag] = model.predict(X_val)\n",
        "        preds_test[:,niter] = model.predict(X_test)\n",
        "        \n",
        "    # Promedia las predicciones\n",
        "    preds_val_mean = preds_val.mean(axis=1) \n",
        "    preds_test_mean = preds_test.mean(axis=1)\n",
        "    \n",
        "    # Extrae las métricas\n",
        "    mae_val = mean_absolute_error(y_tot, preds_val_mean) \n",
        "    rmse_val = np.sqrt(mean_squared_error(y_tot, preds_val_mean))\n",
        "    r2_val = r2_score(y_tot, preds_val_mean)\n",
        "    \n",
        "    mae_tst = mean_absolute_error(y_test, preds_test_mean) \n",
        "    rmse_tst = np.sqrt(mean_squared_error(y_test, preds_test_mean))\n",
        "    r2_tst = r2_score(y_test, preds_test_mean)\n",
        "    \n",
        "    return mae_val, rmse_val, r2_val, mae_tst, rmse_tst, r2_tst, y_tot, preds_val_mean, y_test, preds_test_mean, preds_val, preds_test"
      ],
      "execution_count": 2,
      "outputs": []
    },
    {
      "cell_type": "markdown",
      "metadata": {
        "id": "hexflThisWXc"
      },
      "source": [
        "## Leemos la Base de Datos y Preprocesamos"
      ]
    },
    {
      "cell_type": "code",
      "metadata": {
        "ExecuteTime": {
          "end_time": "2021-03-08T13:48:54.542902Z",
          "start_time": "2021-03-08T13:48:54.478886Z"
        },
        "id": "x1E1vNwysWXd",
        "colab": {
          "base_uri": "https://localhost:8080/"
        },
        "outputId": "0b32a99c-daea-4a3f-c197-b440028b86d9"
      },
      "source": [
        "!wget https://github.com/IC1920/Datasets/raw/master/DATOS_HORNO_ENTRENA.arff -O DATOS_HORNO_ENTRENA.arff\n",
        "!wget https://github.com/IC1920/Datasets/raw/master/DATOS_HORNO_TESTEO.arff -O DATOS_HORNO_TESTEO.arff"
      ],
      "execution_count": 3,
      "outputs": [
        {
          "output_type": "stream",
          "text": [
            "--2021-05-01 19:10:05--  https://github.com/IC1920/Datasets/raw/master/DATOS_HORNO_ENTRENA.arff\n",
            "Resolving github.com (github.com)... 140.82.113.3\n",
            "Connecting to github.com (github.com)|140.82.113.3|:443... connected.\n",
            "HTTP request sent, awaiting response... 302 Found\n",
            "Location: https://raw.githubusercontent.com/IC1920/Datasets/master/DATOS_HORNO_ENTRENA.arff [following]\n",
            "--2021-05-01 19:10:06--  https://raw.githubusercontent.com/IC1920/Datasets/master/DATOS_HORNO_ENTRENA.arff\n",
            "Resolving raw.githubusercontent.com (raw.githubusercontent.com)... 185.199.111.133, 185.199.109.133, 185.199.108.133, ...\n",
            "Connecting to raw.githubusercontent.com (raw.githubusercontent.com)|185.199.111.133|:443... connected.\n",
            "HTTP request sent, awaiting response... 200 OK\n",
            "Length: 125832 (123K) [text/plain]\n",
            "Saving to: ‘DATOS_HORNO_ENTRENA.arff’\n",
            "\n",
            "DATOS_HORNO_ENTRENA 100%[===================>] 122.88K  --.-KB/s    in 0.02s   \n",
            "\n",
            "2021-05-01 19:10:06 (5.64 MB/s) - ‘DATOS_HORNO_ENTRENA.arff’ saved [125832/125832]\n",
            "\n",
            "--2021-05-01 19:10:06--  https://github.com/IC1920/Datasets/raw/master/DATOS_HORNO_TESTEO.arff\n",
            "Resolving github.com (github.com)... 140.82.114.4\n",
            "Connecting to github.com (github.com)|140.82.114.4|:443... connected.\n",
            "HTTP request sent, awaiting response... 302 Found\n",
            "Location: https://raw.githubusercontent.com/IC1920/Datasets/master/DATOS_HORNO_TESTEO.arff [following]\n",
            "--2021-05-01 19:10:06--  https://raw.githubusercontent.com/IC1920/Datasets/master/DATOS_HORNO_TESTEO.arff\n",
            "Resolving raw.githubusercontent.com (raw.githubusercontent.com)... 185.199.111.133, 185.199.109.133, 185.199.108.133, ...\n",
            "Connecting to raw.githubusercontent.com (raw.githubusercontent.com)|185.199.111.133|:443... connected.\n",
            "HTTP request sent, awaiting response... 200 OK\n",
            "Length: 6028 (5.9K) [text/plain]\n",
            "Saving to: ‘DATOS_HORNO_TESTEO.arff’\n",
            "\n",
            "DATOS_HORNO_TESTEO. 100%[===================>]   5.89K  --.-KB/s    in 0s      \n",
            "\n",
            "2021-05-01 19:10:06 (23.8 MB/s) - ‘DATOS_HORNO_TESTEO.arff’ saved [6028/6028]\n",
            "\n"
          ],
          "name": "stdout"
        }
      ]
    },
    {
      "cell_type": "code",
      "metadata": {
        "ExecuteTime": {
          "end_time": "2021-03-08T13:48:55.375176Z",
          "start_time": "2021-03-08T13:48:55.299212Z"
        },
        "id": "M_V7LPfnsWXe",
        "colab": {
          "base_uri": "https://localhost:8080/",
          "height": 255
        },
        "outputId": "7e165924-c532-4162-f3d6-3325721851f9"
      },
      "source": [
        "# Leemos los archivos arff\n",
        "df_train = pd.DataFrame(arff.loadarff(\"DATOS_HORNO_ENTRENA.arff\")[0])\n",
        "df_test = pd.DataFrame(arff.loadarff(\"DATOS_HORNO_TESTEO.arff\")[0])\n",
        "\n",
        "df_train['CLASACERO'] = df_train['CLASACERO'].str.decode('utf-8')\n",
        "df_test['CLASACERO'] = df_test['CLASACERO'].str.decode('utf-8')\n",
        "\n",
        "df_train['CODBOB'] = df_train['CODBOB'].astype(int)\n",
        "df_test['CODBOB'] = df_test['CODBOB'].astype(int)\n",
        "\n",
        "df_train = df_train.loc[df_train['VELMED']<500] # Nos quedamos con los casos menores de 500\n",
        "display(df_train.head(3), df_test.head(3))"
      ],
      "execution_count": 4,
      "outputs": [
        {
          "output_type": "display_data",
          "data": {
            "text/html": [
              "<div>\n",
              "<style scoped>\n",
              "    .dataframe tbody tr th:only-of-type {\n",
              "        vertical-align: middle;\n",
              "    }\n",
              "\n",
              "    .dataframe tbody tr th {\n",
              "        vertical-align: top;\n",
              "    }\n",
              "\n",
              "    .dataframe thead th {\n",
              "        text-align: right;\n",
              "    }\n",
              "</style>\n",
              "<table border=\"1\" class=\"dataframe\">\n",
              "  <thead>\n",
              "    <tr style=\"text-align: right;\">\n",
              "      <th></th>\n",
              "      <th>CODBOB</th>\n",
              "      <th>CLASACERO</th>\n",
              "      <th>ANCHO</th>\n",
              "      <th>ESPESOR</th>\n",
              "      <th>LARGO</th>\n",
              "      <th>PESO</th>\n",
              "      <th>VELMED</th>\n",
              "      <th>TMPP1</th>\n",
              "      <th>TMPP2</th>\n",
              "      <th>TMPP2CNG</th>\n",
              "      <th>THC1</th>\n",
              "      <th>THC3</th>\n",
              "      <th>THC5</th>\n",
              "    </tr>\n",
              "  </thead>\n",
              "  <tbody>\n",
              "    <tr>\n",
              "      <th>0</th>\n",
              "      <td>23293006</td>\n",
              "      <td>B011F97</td>\n",
              "      <td>1250.0</td>\n",
              "      <td>0.6</td>\n",
              "      <td>3683.0</td>\n",
              "      <td>21770.0</td>\n",
              "      <td>145.0</td>\n",
              "      <td>212.0</td>\n",
              "      <td>754.0</td>\n",
              "      <td>750.0</td>\n",
              "      <td>770.0</td>\n",
              "      <td>800.0</td>\n",
              "      <td>821.0</td>\n",
              "    </tr>\n",
              "    <tr>\n",
              "      <th>1</th>\n",
              "      <td>23293007</td>\n",
              "      <td>B011F97</td>\n",
              "      <td>1250.0</td>\n",
              "      <td>0.6</td>\n",
              "      <td>3040.0</td>\n",
              "      <td>18070.0</td>\n",
              "      <td>145.0</td>\n",
              "      <td>210.0</td>\n",
              "      <td>749.0</td>\n",
              "      <td>750.0</td>\n",
              "      <td>772.0</td>\n",
              "      <td>801.0</td>\n",
              "      <td>822.0</td>\n",
              "    </tr>\n",
              "    <tr>\n",
              "      <th>2</th>\n",
              "      <td>23293008</td>\n",
              "      <td>B011F97</td>\n",
              "      <td>1250.0</td>\n",
              "      <td>0.6</td>\n",
              "      <td>3605.0</td>\n",
              "      <td>21420.0</td>\n",
              "      <td>138.0</td>\n",
              "      <td>211.0</td>\n",
              "      <td>761.0</td>\n",
              "      <td>770.0</td>\n",
              "      <td>778.0</td>\n",
              "      <td>808.0</td>\n",
              "      <td>833.0</td>\n",
              "    </tr>\n",
              "  </tbody>\n",
              "</table>\n",
              "</div>"
            ],
            "text/plain": [
              "     CODBOB CLASACERO   ANCHO  ESPESOR  ...  TMPP2CNG   THC1   THC3   THC5\n",
              "0  23293006   B011F97  1250.0      0.6  ...     750.0  770.0  800.0  821.0\n",
              "1  23293007   B011F97  1250.0      0.6  ...     750.0  772.0  801.0  822.0\n",
              "2  23293008   B011F97  1250.0      0.6  ...     770.0  778.0  808.0  833.0\n",
              "\n",
              "[3 rows x 13 columns]"
            ]
          },
          "metadata": {
            "tags": []
          }
        },
        {
          "output_type": "display_data",
          "data": {
            "text/html": [
              "<div>\n",
              "<style scoped>\n",
              "    .dataframe tbody tr th:only-of-type {\n",
              "        vertical-align: middle;\n",
              "    }\n",
              "\n",
              "    .dataframe tbody tr th {\n",
              "        vertical-align: top;\n",
              "    }\n",
              "\n",
              "    .dataframe thead th {\n",
              "        text-align: right;\n",
              "    }\n",
              "</style>\n",
              "<table border=\"1\" class=\"dataframe\">\n",
              "  <thead>\n",
              "    <tr style=\"text-align: right;\">\n",
              "      <th></th>\n",
              "      <th>CODBOB</th>\n",
              "      <th>CLASACERO</th>\n",
              "      <th>ANCHO</th>\n",
              "      <th>ESPESOR</th>\n",
              "      <th>LARGO</th>\n",
              "      <th>PESO</th>\n",
              "      <th>VELMED</th>\n",
              "      <th>TMPP1</th>\n",
              "      <th>TMPP2</th>\n",
              "      <th>TMPP2CNG</th>\n",
              "      <th>THC1</th>\n",
              "      <th>THC3</th>\n",
              "      <th>THC5</th>\n",
              "    </tr>\n",
              "  </thead>\n",
              "  <tbody>\n",
              "    <tr>\n",
              "      <th>0</th>\n",
              "      <td>23633053</td>\n",
              "      <td>B105F55</td>\n",
              "      <td>1040.0</td>\n",
              "      <td>0.7</td>\n",
              "      <td>3491.0</td>\n",
              "      <td>19780.0</td>\n",
              "      <td>136.0</td>\n",
              "      <td>256.0</td>\n",
              "      <td>851.0</td>\n",
              "      <td>850.0</td>\n",
              "      <td>858.0</td>\n",
              "      <td>888.0</td>\n",
              "      <td>914.0</td>\n",
              "    </tr>\n",
              "    <tr>\n",
              "      <th>1</th>\n",
              "      <td>23633054</td>\n",
              "      <td>B105F55</td>\n",
              "      <td>1040.0</td>\n",
              "      <td>0.7</td>\n",
              "      <td>3240.0</td>\n",
              "      <td>18370.0</td>\n",
              "      <td>140.0</td>\n",
              "      <td>258.0</td>\n",
              "      <td>850.0</td>\n",
              "      <td>850.0</td>\n",
              "      <td>860.0</td>\n",
              "      <td>890.0</td>\n",
              "      <td>914.0</td>\n",
              "    </tr>\n",
              "    <tr>\n",
              "      <th>2</th>\n",
              "      <td>23633055</td>\n",
              "      <td>B105F55</td>\n",
              "      <td>1040.0</td>\n",
              "      <td>0.7</td>\n",
              "      <td>3047.0</td>\n",
              "      <td>17160.0</td>\n",
              "      <td>140.0</td>\n",
              "      <td>260.0</td>\n",
              "      <td>850.0</td>\n",
              "      <td>850.0</td>\n",
              "      <td>860.0</td>\n",
              "      <td>890.0</td>\n",
              "      <td>914.0</td>\n",
              "    </tr>\n",
              "  </tbody>\n",
              "</table>\n",
              "</div>"
            ],
            "text/plain": [
              "     CODBOB CLASACERO   ANCHO  ESPESOR  ...  TMPP2CNG   THC1   THC3   THC5\n",
              "0  23633053   B105F55  1040.0      0.7  ...     850.0  858.0  888.0  914.0\n",
              "1  23633054   B105F55  1040.0      0.7  ...     850.0  860.0  890.0  914.0\n",
              "2  23633055   B105F55  1040.0      0.7  ...     850.0  860.0  890.0  914.0\n",
              "\n",
              "[3 rows x 13 columns]"
            ]
          },
          "metadata": {
            "tags": []
          }
        }
      ]
    },
    {
      "cell_type": "markdown",
      "metadata": {
        "id": "NDHh5YIYsWXe"
      },
      "source": [
        "## Definición del Problema"
      ]
    },
    {
      "cell_type": "markdown",
      "metadata": {
        "id": "rN-QUAoesWXe"
      },
      "source": [
        "Las bobinas a procesar son las que tenemos en la base de datos de testeo.\n",
        "\n",
        "El jefe de producción no indica que necesitamos mejorar el proceso de producción **aumentando la velocidad de producción a 180 metros por minuto**. Para ello, tenemos que determinar las cosignas de THC1, THC3, THC5 que permitan poder procesar las bobinas de forma óptima.\n",
        "\n",
        "Así mismo, nos pide que **reorganicemos el scheduling de las mismas para que los cambios en THC1 sean lo menos bruscos posibles**.\n",
        "\n",
        "Imaginemos, que las bobinas no han sido tratadas aún y que **solo disponemos de las variables correspondientes a la bobina (CLASACERO, ANCHO, ESPESOR, LARGO, PESO), la temperatura a la que tiene que salir la bobina del horno (TMPP2CNG), que proviene de la curva de recocido del tipo de acero, y la velocidad objetivo que es VELMED=180.** \n",
        "\n",
        "Es decir, de la base de datos de testeo tenemos que cambiar o eliminar la siguiente información.\n"
      ]
    },
    {
      "cell_type": "code",
      "metadata": {
        "ExecuteTime": {
          "end_time": "2021-03-08T13:49:01.903531Z",
          "start_time": "2021-03-08T13:49:01.015267Z"
        },
        "id": "jtsIHqBFsWXf",
        "colab": {
          "base_uri": "https://localhost:8080/",
          "height": 770
        },
        "outputId": "eed1df1b-de8a-4110-d9e5-b168ccf11369"
      },
      "source": [
        "# Recogemos los datos de la base de datos de testeo y eliminamos aquellos que no podríamos saber.\n",
        "df_test_sin_procesar = df_test.copy()\n",
        "df_test_sin_procesar['VELMED'] = 180.0 #El objetivo es producir a 180m/min\n",
        "df_test_sin_procesar['THC1'] = np.nan #Deberíamos calcularla\n",
        "df_test_sin_procesar['THC3'] = np.nan #Deberíamos calcularla\n",
        "df_test_sin_procesar['THC5'] = np.nan #Deberíamos calcularla\n",
        "df_test_sin_procesar['TMPP1'] = np.nan #No disponemos de ella previamente\n",
        "df_test_sin_procesar['TMPP2'] = np.nan #No disponemos de ella previamente\n",
        "print(df_test_sin_procesar.shape)\n",
        "dibuja_proceso(df_test_sin_procesar)"
      ],
      "execution_count": 5,
      "outputs": [
        {
          "output_type": "stream",
          "text": [
            "(81, 13)\n"
          ],
          "name": "stdout"
        },
        {
          "output_type": "display_data",
          "data": {
            "image/png": "[encoded data removed]",
            "text/plain": [
              "<Figure size 720x288 with 1 Axes>"
            ]
          },
          "metadata": {
            "tags": [],
            "needs_background": "light"
          }
        },
        {
          "output_type": "display_data",
          "data": {
            "image/png": "[encoded data removed]",
            "text/plain": [
              "<Figure size 720x432 with 1 Axes>"
            ]
          },
          "metadata": {
            "tags": [],
            "needs_background": "light"
          }
        }
      ]
    },
    {
      "cell_type": "markdown",
      "metadata": {
        "id": "WvEu3q4UsWXg"
      },
      "source": [
        "**El objetivo es conseguir un tratamiento de temperatura de THC1 lo más homogéneo posible para reducir los problemas debidos a cambios bruscos de temperatura en el tratamiento de las bobinas**\n",
        "\n",
        "Como THC3 y THC5 están muy correladas con THC1, es posible que al reducir los saltos en THC1 se reduzcan los saltos en THC3 y THC5.\n",
        "\n",
        "Después de la reunión con los tecnólogos de la empresa se decide realizar los siguientes pasos:\n",
        "\n",
        "1. Crear los mejores modelos A posibles para THC1, THC3 y THC5, usando la metodología utilizada en la parte 2 (Proyecto 2.2).\n",
        "2. Crear un modelo B, que permita predecir la temperatura de salida de la bobina (TMPP2) a partir de las características de la bobina (CLASACERO, ANCHO, ESPESOR), THC1, THC3, THC5 y VELMED.\n",
        "3. Determinar los valores de THC1, THC3, THC5 para cada bobina si queremos tratarlas a VELMED=180.\n",
        "4. Una vez tenemos THC1, THC3, THC5, usar el modelo B para calcular TMPP2.\n",
        "5. Mediante simulación, usar diferentes estrategias para reorganizar el orden (*scheduling*) de las bobinas con el objetivo de minimizar los saltos de temperatura de TMPP2 entre bobinas. "
      ]
    },
    {
      "cell_type": "markdown",
      "metadata": {
        "id": "2KQTclbVsWXg"
      },
      "source": [
        "## Creación de los Modelos para predecir la temperatura en las zonas 1, 3, y 5 del horno (THC1, THC3, THC5)"
      ]
    },
    {
      "cell_type": "markdown",
      "metadata": {
        "id": "-ybAaJSAsWXg"
      },
      "source": [
        "Creamos la base de datos poniendo VELMED=180 en la de testeo. Así, las predicciones de THC1, THC3 y THC5 de los modelos serán con la velocidad objetivo de 180 metros por minuto."
      ]
    },
    {
      "cell_type": "code",
      "metadata": {
        "ExecuteTime": {
          "end_time": "2021-03-08T16:49:12.259093Z",
          "start_time": "2021-03-08T16:49:12.229097Z"
        },
        "id": "cU2kPO2SsWXg",
        "colab": {
          "base_uri": "https://localhost:8080/"
        },
        "outputId": "46e85c4c-1918-4ee7-9b5c-13b1c0af340a"
      },
      "source": [
        "df_train_limpia = df_train.loc[np.abs(df_train['TMPP2CNG']-df_train['TMPP2'])<=25].copy()\n",
        "df_dummies = pd.get_dummies(df_train_limpia['CLASACERO'].append(df_test['CLASACERO']))\n",
        "df_train_limpia_cat = df_train_limpia.join(df_dummies.iloc[:len(df_train_limpia)])\n",
        "df_test_cat = df_test.join(df_dummies.iloc[len(df_train_limpia):])\n",
        "df_test_cat['VELMED'] = 180.0 #Ponemos a 180 la base de datos de testeo para obtener las THC1, THC3, THC5\n",
        "\n",
        "selec_features = ['ANCHO', 'ESPESOR', 'VELMED', 'TMPP2CNG'] + list(df_dummies.columns)\n",
        "\n",
        "# Estandarizamos las bases de datos de entrenamiento y testeo\n",
        "scaler = StandardScaler()\n",
        "scaler.fit(df_train_limpia_cat[selec_features].values)\n",
        "df_train_esc = scaler.transform(df_train_limpia_cat[selec_features].values)\n",
        "df_test_esc = scaler.transform(df_test_cat[selec_features].values)\n",
        "print(df_train_esc.shape, df_test_esc.shape)"
      ],
      "execution_count": 6,
      "outputs": [
        {
          "output_type": "stream",
          "text": [
            "(1851, 50) (81, 50)\n"
          ],
          "name": "stdout"
        }
      ]
    },
    {
      "cell_type": "markdown",
      "metadata": {
        "id": "CliZsWRvsWXh"
      },
      "source": [
        "**EJERCICIO: Usando la metodología del Proyecto 2.2., desarrollar modelos precisos para THC1, THC3, THC5. Para crear los modelos de THC3 y THC5, se seleccionarán las variables y mejor algoritmo elegido para THC1 en el paso previo. Usar todas las celdas necesarias. Los modelos tienen que llamarse: modelo_thc1, modelo_thc3, modelo_thc5**"
      ]
    },
    {
      "cell_type": "markdown",
      "metadata": {
        "id": "qH2FaDwOsWXh"
      },
      "source": [
        "Como ejemplo se muestra el uso de un modelo lineal básico, *Ridge*. **El alumno deberá usar el mejor algoritmo, seleccionando los parámetros más adecuados para cada modelo**. El proceso de selección se realizará según la metodología usada en el paso anterior (Proyecto 3.2)."
      ]
    },
    {
      "cell_type": "code",
      "metadata": {
        "ExecuteTime": {
          "end_time": "2021-03-08T14:17:55.813947Z",
          "start_time": "2021-03-08T14:17:55.208324Z"
        },
        "id": "1bsTR1uOsWXh"
      },
      "source": [
        "# Ejemplo Modelo THC1 con Ridge\n",
        "target = ['THC1']\n",
        "modelo_thc1 = Ridge()\n",
        "_, _, _, _, _, _, _, _, y_test1, preds_test1, val_mat, tst_mat = entrena_model(modelo_thc1, num_folds=15)\n",
        "# Ejemplo Modelo THC3 con Ridge\n",
        "target = ['THC3']\n",
        "modelo_thc3 = Ridge()\n",
        "_, _, _, _, _, _, _, _, y_test3, preds_test3, val_mat, tst_mat = entrena_model(modelo_thc3, num_folds=15)\n",
        "# Ejemplo Modelo THC5 con Ridge\n",
        "target = ['THC5']\n",
        "modelo_thc5 = Ridge()\n",
        "_, _, _, _, _, _, _, _, y_test5, preds_test5, val_mat, tst_mat = entrena_model(modelo_thc5, num_folds=15)"
      ],
      "execution_count": 7,
      "outputs": []
    },
    {
      "cell_type": "markdown",
      "metadata": {
        "id": "ZhOiDKJHmoEo"
      },
      "source": [
        "A la hora de hacer la spruebas vemos que los mas optimos son: ANN, SVT y RegressorTree. Probamos Con cada uno:"
      ]
    },
    {
      "cell_type": "markdown",
      "metadata": {
        "id": "H0vSQM0YuKMV"
      },
      "source": [
        "Probamos con ANN: cambiaremos el numero de neuronas y el parámetro alpha como en el notebook 2.2\n"
      ]
    },
    {
      "cell_type": "code",
      "metadata": {
        "id": "xu3vfb-FwfVZ"
      },
      "source": [
        "import warnings\n",
        "warnings.filterwarnings('ignore')\n",
        "\n",
        "from sklearn.neural_network import MLPRegressor"
      ],
      "execution_count": 8,
      "outputs": []
    },
    {
      "cell_type": "markdown",
      "metadata": {
        "id": "2CCEIMeD0D_l"
      },
      "source": [
        "Comprobamos las neuronas a ve rque resultados da:"
      ]
    },
    {
      "cell_type": "code",
      "metadata": {
        "colab": {
          "base_uri": "https://localhost:8080/",
          "height": 421
        },
        "id": "gkvRxuKgznXD",
        "outputId": "832582e8-ff9f-44c0-8d02-65a90e0cde3c"
      },
      "source": [
        "target = ['THC1']\n",
        "for num_neuronas in np.arange(1,51,5):\n",
        "    model = MLPRegressor(hidden_layer_sizes=(num_neuronas,), solver='lbfgs')\n",
        "    mae_val, rmse_val, r2_val, mae_tst, rmse_tst, r2_tst, _, _, _, _, _, _ = entrena_model(model, num_folds=10)\n",
        "    print('ANN con num_neuronas={} -> \\\n",
        "    Val:[MAE={:.3f},RMSE={:,.3f},R2={:,.3f}] \\\n",
        "    Test:[MAE={:.3f},RMSE={:,.3f},R2={:,.3f}]'.format(num_neuronas,\n",
        "                                                      mae_val, rmse_val, r2_val, \n",
        "                                                      mae_tst, rmse_tst, r2_tst))"
      ],
      "execution_count": 9,
      "outputs": [
        {
          "output_type": "stream",
          "text": [
            "ANN con num_neuronas=1 ->     Val:[MAE=18.997,RMSE=49.305,R2=-0.718]     Test:[MAE=70.280,RMSE=89.370,R2=-34.877]\n",
            "ANN con num_neuronas=6 ->     Val:[MAE=8.584,RMSE=26.141,R2=0.517]     Test:[MAE=40.284,RMSE=41.331,R2=-6.674]\n"
          ],
          "name": "stdout"
        },
        {
          "output_type": "error",
          "ename": "KeyboardInterrupt",
          "evalue": "ignored",
          "traceback": [
            "\u001b[0;31m---------------------------------------------------------------------------\u001b[0m",
            "\u001b[0;31mKeyboardInterrupt\u001b[0m                         Traceback (most recent call last)",
            "\u001b[0;32m<ipython-input-9-e4df1d913f45>\u001b[0m in \u001b[0;36m<module>\u001b[0;34m()\u001b[0m\n\u001b[1;32m      2\u001b[0m \u001b[0;32mfor\u001b[0m \u001b[0mnum_neuronas\u001b[0m \u001b[0;32min\u001b[0m \u001b[0mnp\u001b[0m\u001b[0;34m.\u001b[0m\u001b[0marange\u001b[0m\u001b[0;34m(\u001b[0m\u001b[0;36m1\u001b[0m\u001b[0;34m,\u001b[0m\u001b[0;36m51\u001b[0m\u001b[0;34m,\u001b[0m\u001b[0;36m5\u001b[0m\u001b[0;34m)\u001b[0m\u001b[0;34m:\u001b[0m\u001b[0;34m\u001b[0m\u001b[0;34m\u001b[0m\u001b[0m\n\u001b[1;32m      3\u001b[0m     \u001b[0mmodel\u001b[0m \u001b[0;34m=\u001b[0m \u001b[0mMLPRegressor\u001b[0m\u001b[0;34m(\u001b[0m\u001b[0mhidden_layer_sizes\u001b[0m\u001b[0;34m=\u001b[0m\u001b[0;34m(\u001b[0m\u001b[0mnum_neuronas\u001b[0m\u001b[0;34m,\u001b[0m\u001b[0;34m)\u001b[0m\u001b[0;34m,\u001b[0m \u001b[0msolver\u001b[0m\u001b[0;34m=\u001b[0m\u001b[0;34m'lbfgs'\u001b[0m\u001b[0;34m)\u001b[0m\u001b[0;34m\u001b[0m\u001b[0;34m\u001b[0m\u001b[0m\n\u001b[0;32m----> 4\u001b[0;31m     \u001b[0mmae_val\u001b[0m\u001b[0;34m,\u001b[0m \u001b[0mrmse_val\u001b[0m\u001b[0;34m,\u001b[0m \u001b[0mr2_val\u001b[0m\u001b[0;34m,\u001b[0m \u001b[0mmae_tst\u001b[0m\u001b[0;34m,\u001b[0m \u001b[0mrmse_tst\u001b[0m\u001b[0;34m,\u001b[0m \u001b[0mr2_tst\u001b[0m\u001b[0;34m,\u001b[0m \u001b[0m_\u001b[0m\u001b[0;34m,\u001b[0m \u001b[0m_\u001b[0m\u001b[0;34m,\u001b[0m \u001b[0m_\u001b[0m\u001b[0;34m,\u001b[0m \u001b[0m_\u001b[0m\u001b[0;34m,\u001b[0m \u001b[0m_\u001b[0m\u001b[0;34m,\u001b[0m \u001b[0m_\u001b[0m \u001b[0;34m=\u001b[0m \u001b[0mentrena_model\u001b[0m\u001b[0;34m(\u001b[0m\u001b[0mmodel\u001b[0m\u001b[0;34m,\u001b[0m \u001b[0mnum_folds\u001b[0m\u001b[0;34m=\u001b[0m\u001b[0;36m10\u001b[0m\u001b[0;34m)\u001b[0m\u001b[0;34m\u001b[0m\u001b[0;34m\u001b[0m\u001b[0m\n\u001b[0m\u001b[1;32m      5\u001b[0m     print('ANN con num_neuronas={} ->     Val:[MAE={:.3f},RMSE={:,.3f},R2={:,.3f}]     Test:[MAE={:.3f},RMSE={:,.3f},R2={:,.3f}]'.format(num_neuronas,\n\u001b[1;32m      6\u001b[0m                                                       \u001b[0mmae_val\u001b[0m\u001b[0;34m,\u001b[0m \u001b[0mrmse_val\u001b[0m\u001b[0;34m,\u001b[0m \u001b[0mr2_val\u001b[0m\u001b[0;34m,\u001b[0m\u001b[0;34m\u001b[0m\u001b[0;34m\u001b[0m\u001b[0m\n",
            "\u001b[0;32m<ipython-input-2-4d9ef2d5f54b>\u001b[0m in \u001b[0;36mentrena_model\u001b[0;34m(model, num_folds, num_bags)\u001b[0m\n\u001b[1;32m    111\u001b[0m         \u001b[0mX_train\u001b[0m\u001b[0;34m,\u001b[0m \u001b[0mX_val\u001b[0m \u001b[0;34m=\u001b[0m \u001b[0mX_tot\u001b[0m\u001b[0;34m[\u001b[0m\u001b[0mtrain_index\u001b[0m\u001b[0;34m]\u001b[0m\u001b[0;34m,\u001b[0m \u001b[0mX_tot\u001b[0m\u001b[0;34m[\u001b[0m\u001b[0mval_index\u001b[0m\u001b[0;34m]\u001b[0m\u001b[0;34m\u001b[0m\u001b[0;34m\u001b[0m\u001b[0m\n\u001b[1;32m    112\u001b[0m         \u001b[0my_train\u001b[0m\u001b[0;34m,\u001b[0m \u001b[0my_val\u001b[0m \u001b[0;34m=\u001b[0m \u001b[0my_tot\u001b[0m\u001b[0;34m[\u001b[0m\u001b[0mtrain_index\u001b[0m\u001b[0;34m]\u001b[0m\u001b[0;34m,\u001b[0m \u001b[0my_tot\u001b[0m\u001b[0;34m[\u001b[0m\u001b[0mval_index\u001b[0m\u001b[0;34m]\u001b[0m\u001b[0;34m\u001b[0m\u001b[0;34m\u001b[0m\u001b[0m\n\u001b[0;32m--> 113\u001b[0;31m         \u001b[0mmodel\u001b[0m\u001b[0;34m.\u001b[0m\u001b[0mfit\u001b[0m\u001b[0;34m(\u001b[0m\u001b[0mX_train\u001b[0m\u001b[0;34m,\u001b[0m \u001b[0my_train\u001b[0m\u001b[0;34m)\u001b[0m\u001b[0;34m\u001b[0m\u001b[0;34m\u001b[0m\u001b[0m\n\u001b[0m\u001b[1;32m    114\u001b[0m         \u001b[0mpreds_val\u001b[0m\u001b[0;34m[\u001b[0m\u001b[0mval_index\u001b[0m\u001b[0;34m,\u001b[0m\u001b[0mnbag\u001b[0m\u001b[0;34m]\u001b[0m \u001b[0;34m=\u001b[0m \u001b[0mmodel\u001b[0m\u001b[0;34m.\u001b[0m\u001b[0mpredict\u001b[0m\u001b[0;34m(\u001b[0m\u001b[0mX_val\u001b[0m\u001b[0;34m)\u001b[0m\u001b[0;34m\u001b[0m\u001b[0;34m\u001b[0m\u001b[0m\n\u001b[1;32m    115\u001b[0m         \u001b[0mpreds_test\u001b[0m\u001b[0;34m[\u001b[0m\u001b[0;34m:\u001b[0m\u001b[0;34m,\u001b[0m\u001b[0mniter\u001b[0m\u001b[0;34m]\u001b[0m \u001b[0;34m=\u001b[0m \u001b[0mmodel\u001b[0m\u001b[0;34m.\u001b[0m\u001b[0mpredict\u001b[0m\u001b[0;34m(\u001b[0m\u001b[0mX_test\u001b[0m\u001b[0;34m)\u001b[0m\u001b[0;34m\u001b[0m\u001b[0;34m\u001b[0m\u001b[0m\n",
            "\u001b[0;32m/usr/local/lib/python3.7/dist-packages/sklearn/neural_network/_multilayer_perceptron.py\u001b[0m in \u001b[0;36mfit\u001b[0;34m(self, X, y)\u001b[0m\n\u001b[1;32m    625\u001b[0m         \u001b[0mself\u001b[0m \u001b[0;34m:\u001b[0m \u001b[0mreturns\u001b[0m \u001b[0ma\u001b[0m \u001b[0mtrained\u001b[0m \u001b[0mMLP\u001b[0m \u001b[0mmodel\u001b[0m\u001b[0;34m.\u001b[0m\u001b[0;34m\u001b[0m\u001b[0;34m\u001b[0m\u001b[0m\n\u001b[1;32m    626\u001b[0m         \"\"\"\n\u001b[0;32m--> 627\u001b[0;31m         \u001b[0;32mreturn\u001b[0m \u001b[0mself\u001b[0m\u001b[0;34m.\u001b[0m\u001b[0m_fit\u001b[0m\u001b[0;34m(\u001b[0m\u001b[0mX\u001b[0m\u001b[0;34m,\u001b[0m \u001b[0my\u001b[0m\u001b[0;34m,\u001b[0m \u001b[0mincremental\u001b[0m\u001b[0;34m=\u001b[0m\u001b[0;32mFalse\u001b[0m\u001b[0;34m)\u001b[0m\u001b[0;34m\u001b[0m\u001b[0;34m\u001b[0m\u001b[0m\n\u001b[0m\u001b[1;32m    628\u001b[0m \u001b[0;34m\u001b[0m\u001b[0m\n\u001b[1;32m    629\u001b[0m     \u001b[0;34m@\u001b[0m\u001b[0mproperty\u001b[0m\u001b[0;34m\u001b[0m\u001b[0;34m\u001b[0m\u001b[0m\n",
            "\u001b[0;32m/usr/local/lib/python3.7/dist-packages/sklearn/neural_network/_multilayer_perceptron.py\u001b[0m in \u001b[0;36m_fit\u001b[0;34m(self, X, y, incremental)\u001b[0m\n\u001b[1;32m    373\u001b[0m         \u001b[0;32melif\u001b[0m \u001b[0mself\u001b[0m\u001b[0;34m.\u001b[0m\u001b[0msolver\u001b[0m \u001b[0;34m==\u001b[0m \u001b[0;34m'lbfgs'\u001b[0m\u001b[0;34m:\u001b[0m\u001b[0;34m\u001b[0m\u001b[0;34m\u001b[0m\u001b[0m\n\u001b[1;32m    374\u001b[0m             self._fit_lbfgs(X, y, activations, deltas, coef_grads,\n\u001b[0;32m--> 375\u001b[0;31m                             intercept_grads, layer_units)\n\u001b[0m\u001b[1;32m    376\u001b[0m         \u001b[0;32mreturn\u001b[0m \u001b[0mself\u001b[0m\u001b[0;34m\u001b[0m\u001b[0;34m\u001b[0m\u001b[0m\n\u001b[1;32m    377\u001b[0m \u001b[0;34m\u001b[0m\u001b[0m\n",
            "\u001b[0;32m/usr/local/lib/python3.7/dist-packages/sklearn/neural_network/_multilayer_perceptron.py\u001b[0m in \u001b[0;36m_fit_lbfgs\u001b[0;34m(self, X, y, activations, deltas, coef_grads, intercept_grads, layer_units)\u001b[0m\n\u001b[1;32m    467\u001b[0m                     \u001b[0;34m\"gtol\"\u001b[0m\u001b[0;34m:\u001b[0m \u001b[0mself\u001b[0m\u001b[0;34m.\u001b[0m\u001b[0mtol\u001b[0m\u001b[0;34m\u001b[0m\u001b[0;34m\u001b[0m\u001b[0m\n\u001b[1;32m    468\u001b[0m                 },\n\u001b[0;32m--> 469\u001b[0;31m                 args=(X, y, activations, deltas, coef_grads, intercept_grads))\n\u001b[0m\u001b[1;32m    470\u001b[0m         \u001b[0mself\u001b[0m\u001b[0;34m.\u001b[0m\u001b[0mn_iter_\u001b[0m \u001b[0;34m=\u001b[0m \u001b[0m_check_optimize_result\u001b[0m\u001b[0;34m(\u001b[0m\u001b[0;34m\"lbfgs\"\u001b[0m\u001b[0;34m,\u001b[0m \u001b[0mopt_res\u001b[0m\u001b[0;34m,\u001b[0m \u001b[0mself\u001b[0m\u001b[0;34m.\u001b[0m\u001b[0mmax_iter\u001b[0m\u001b[0;34m)\u001b[0m\u001b[0;34m\u001b[0m\u001b[0;34m\u001b[0m\u001b[0m\n\u001b[1;32m    471\u001b[0m         \u001b[0mself\u001b[0m\u001b[0;34m.\u001b[0m\u001b[0mloss_\u001b[0m \u001b[0;34m=\u001b[0m \u001b[0mopt_res\u001b[0m\u001b[0;34m.\u001b[0m\u001b[0mfun\u001b[0m\u001b[0;34m\u001b[0m\u001b[0;34m\u001b[0m\u001b[0m\n",
            "\u001b[0;32m/usr/local/lib/python3.7/dist-packages/scipy/optimize/_minimize.py\u001b[0m in \u001b[0;36mminimize\u001b[0;34m(fun, x0, args, method, jac, hess, hessp, bounds, constraints, tol, callback, options)\u001b[0m\n\u001b[1;32m    608\u001b[0m     \u001b[0;32melif\u001b[0m \u001b[0mmeth\u001b[0m \u001b[0;34m==\u001b[0m \u001b[0;34m'l-bfgs-b'\u001b[0m\u001b[0;34m:\u001b[0m\u001b[0;34m\u001b[0m\u001b[0;34m\u001b[0m\u001b[0m\n\u001b[1;32m    609\u001b[0m         return _minimize_lbfgsb(fun, x0, args, jac, bounds,\n\u001b[0;32m--> 610\u001b[0;31m                                 callback=callback, **options)\n\u001b[0m\u001b[1;32m    611\u001b[0m     \u001b[0;32melif\u001b[0m \u001b[0mmeth\u001b[0m \u001b[0;34m==\u001b[0m \u001b[0;34m'tnc'\u001b[0m\u001b[0;34m:\u001b[0m\u001b[0;34m\u001b[0m\u001b[0;34m\u001b[0m\u001b[0m\n\u001b[1;32m    612\u001b[0m         return _minimize_tnc(fun, x0, args, jac, bounds, callback=callback,\n",
            "\u001b[0;32m/usr/local/lib/python3.7/dist-packages/scipy/optimize/lbfgsb.py\u001b[0m in \u001b[0;36m_minimize_lbfgsb\u001b[0;34m(fun, x0, args, jac, bounds, disp, maxcor, ftol, gtol, eps, maxfun, maxiter, iprint, callback, maxls, **unknown_options)\u001b[0m\n\u001b[1;32m    343\u001b[0m             \u001b[0;31m# until the completion of the current minimization iteration.\u001b[0m\u001b[0;34m\u001b[0m\u001b[0;34m\u001b[0m\u001b[0;34m\u001b[0m\u001b[0m\n\u001b[1;32m    344\u001b[0m             \u001b[0;31m# Overwrite f and g:\u001b[0m\u001b[0;34m\u001b[0m\u001b[0;34m\u001b[0m\u001b[0;34m\u001b[0m\u001b[0m\n\u001b[0;32m--> 345\u001b[0;31m             \u001b[0mf\u001b[0m\u001b[0;34m,\u001b[0m \u001b[0mg\u001b[0m \u001b[0;34m=\u001b[0m \u001b[0mfunc_and_grad\u001b[0m\u001b[0;34m(\u001b[0m\u001b[0mx\u001b[0m\u001b[0;34m)\u001b[0m\u001b[0;34m\u001b[0m\u001b[0;34m\u001b[0m\u001b[0m\n\u001b[0m\u001b[1;32m    346\u001b[0m         \u001b[0;32melif\u001b[0m \u001b[0mtask_str\u001b[0m\u001b[0;34m.\u001b[0m\u001b[0mstartswith\u001b[0m\u001b[0;34m(\u001b[0m\u001b[0;34mb'NEW_X'\u001b[0m\u001b[0;34m)\u001b[0m\u001b[0;34m:\u001b[0m\u001b[0;34m\u001b[0m\u001b[0;34m\u001b[0m\u001b[0m\n\u001b[1;32m    347\u001b[0m             \u001b[0;31m# new iteration\u001b[0m\u001b[0;34m\u001b[0m\u001b[0;34m\u001b[0m\u001b[0;34m\u001b[0m\u001b[0m\n",
            "\u001b[0;32m/usr/local/lib/python3.7/dist-packages/scipy/optimize/lbfgsb.py\u001b[0m in \u001b[0;36mfunc_and_grad\u001b[0;34m(x)\u001b[0m\n\u001b[1;32m    293\u001b[0m     \u001b[0;32melse\u001b[0m\u001b[0;34m:\u001b[0m\u001b[0;34m\u001b[0m\u001b[0;34m\u001b[0m\u001b[0m\n\u001b[1;32m    294\u001b[0m         \u001b[0;32mdef\u001b[0m \u001b[0mfunc_and_grad\u001b[0m\u001b[0;34m(\u001b[0m\u001b[0mx\u001b[0m\u001b[0;34m)\u001b[0m\u001b[0;34m:\u001b[0m\u001b[0;34m\u001b[0m\u001b[0;34m\u001b[0m\u001b[0m\n\u001b[0;32m--> 295\u001b[0;31m             \u001b[0mf\u001b[0m \u001b[0;34m=\u001b[0m \u001b[0mfun\u001b[0m\u001b[0;34m(\u001b[0m\u001b[0mx\u001b[0m\u001b[0;34m,\u001b[0m \u001b[0;34m*\u001b[0m\u001b[0margs\u001b[0m\u001b[0;34m)\u001b[0m\u001b[0;34m\u001b[0m\u001b[0;34m\u001b[0m\u001b[0m\n\u001b[0m\u001b[1;32m    296\u001b[0m             \u001b[0mg\u001b[0m \u001b[0;34m=\u001b[0m \u001b[0mjac\u001b[0m\u001b[0;34m(\u001b[0m\u001b[0mx\u001b[0m\u001b[0;34m,\u001b[0m \u001b[0;34m*\u001b[0m\u001b[0margs\u001b[0m\u001b[0;34m)\u001b[0m\u001b[0;34m\u001b[0m\u001b[0;34m\u001b[0m\u001b[0m\n\u001b[1;32m    297\u001b[0m             \u001b[0;32mreturn\u001b[0m \u001b[0mf\u001b[0m\u001b[0;34m,\u001b[0m \u001b[0mg\u001b[0m\u001b[0;34m\u001b[0m\u001b[0;34m\u001b[0m\u001b[0m\n",
            "\u001b[0;32m/usr/local/lib/python3.7/dist-packages/scipy/optimize/optimize.py\u001b[0m in \u001b[0;36mfunction_wrapper\u001b[0;34m(*wrapper_args)\u001b[0m\n\u001b[1;32m    325\u001b[0m     \u001b[0;32mdef\u001b[0m \u001b[0mfunction_wrapper\u001b[0m\u001b[0;34m(\u001b[0m\u001b[0;34m*\u001b[0m\u001b[0mwrapper_args\u001b[0m\u001b[0;34m)\u001b[0m\u001b[0;34m:\u001b[0m\u001b[0;34m\u001b[0m\u001b[0;34m\u001b[0m\u001b[0m\n\u001b[1;32m    326\u001b[0m         \u001b[0mncalls\u001b[0m\u001b[0;34m[\u001b[0m\u001b[0;36m0\u001b[0m\u001b[0;34m]\u001b[0m \u001b[0;34m+=\u001b[0m \u001b[0;36m1\u001b[0m\u001b[0;34m\u001b[0m\u001b[0;34m\u001b[0m\u001b[0m\n\u001b[0;32m--> 327\u001b[0;31m         \u001b[0;32mreturn\u001b[0m \u001b[0mfunction\u001b[0m\u001b[0;34m(\u001b[0m\u001b[0;34m*\u001b[0m\u001b[0;34m(\u001b[0m\u001b[0mwrapper_args\u001b[0m \u001b[0;34m+\u001b[0m \u001b[0margs\u001b[0m\u001b[0;34m)\u001b[0m\u001b[0;34m)\u001b[0m\u001b[0;34m\u001b[0m\u001b[0;34m\u001b[0m\u001b[0m\n\u001b[0m\u001b[1;32m    328\u001b[0m \u001b[0;34m\u001b[0m\u001b[0m\n\u001b[1;32m    329\u001b[0m     \u001b[0;32mreturn\u001b[0m \u001b[0mncalls\u001b[0m\u001b[0;34m,\u001b[0m \u001b[0mfunction_wrapper\u001b[0m\u001b[0;34m\u001b[0m\u001b[0;34m\u001b[0m\u001b[0m\n",
            "\u001b[0;32m/usr/local/lib/python3.7/dist-packages/scipy/optimize/optimize.py\u001b[0m in \u001b[0;36m__call__\u001b[0;34m(self, x, *args)\u001b[0m\n\u001b[1;32m     63\u001b[0m     \u001b[0;32mdef\u001b[0m \u001b[0m__call__\u001b[0m\u001b[0;34m(\u001b[0m\u001b[0mself\u001b[0m\u001b[0;34m,\u001b[0m \u001b[0mx\u001b[0m\u001b[0;34m,\u001b[0m \u001b[0;34m*\u001b[0m\u001b[0margs\u001b[0m\u001b[0;34m)\u001b[0m\u001b[0;34m:\u001b[0m\u001b[0;34m\u001b[0m\u001b[0;34m\u001b[0m\u001b[0m\n\u001b[1;32m     64\u001b[0m         \u001b[0mself\u001b[0m\u001b[0;34m.\u001b[0m\u001b[0mx\u001b[0m \u001b[0;34m=\u001b[0m \u001b[0mnumpy\u001b[0m\u001b[0;34m.\u001b[0m\u001b[0masarray\u001b[0m\u001b[0;34m(\u001b[0m\u001b[0mx\u001b[0m\u001b[0;34m)\u001b[0m\u001b[0;34m.\u001b[0m\u001b[0mcopy\u001b[0m\u001b[0;34m(\u001b[0m\u001b[0;34m)\u001b[0m\u001b[0;34m\u001b[0m\u001b[0;34m\u001b[0m\u001b[0m\n\u001b[0;32m---> 65\u001b[0;31m         \u001b[0mfg\u001b[0m \u001b[0;34m=\u001b[0m \u001b[0mself\u001b[0m\u001b[0;34m.\u001b[0m\u001b[0mfun\u001b[0m\u001b[0;34m(\u001b[0m\u001b[0mx\u001b[0m\u001b[0;34m,\u001b[0m \u001b[0;34m*\u001b[0m\u001b[0margs\u001b[0m\u001b[0;34m)\u001b[0m\u001b[0;34m\u001b[0m\u001b[0;34m\u001b[0m\u001b[0m\n\u001b[0m\u001b[1;32m     66\u001b[0m         \u001b[0mself\u001b[0m\u001b[0;34m.\u001b[0m\u001b[0mjac\u001b[0m \u001b[0;34m=\u001b[0m \u001b[0mfg\u001b[0m\u001b[0;34m[\u001b[0m\u001b[0;36m1\u001b[0m\u001b[0;34m]\u001b[0m\u001b[0;34m\u001b[0m\u001b[0;34m\u001b[0m\u001b[0m\n\u001b[1;32m     67\u001b[0m         \u001b[0;32mreturn\u001b[0m \u001b[0mfg\u001b[0m\u001b[0;34m[\u001b[0m\u001b[0;36m0\u001b[0m\u001b[0;34m]\u001b[0m\u001b[0;34m\u001b[0m\u001b[0;34m\u001b[0m\u001b[0m\n",
            "\u001b[0;32m/usr/local/lib/python3.7/dist-packages/sklearn/neural_network/_multilayer_perceptron.py\u001b[0m in \u001b[0;36m_loss_grad_lbfgs\u001b[0;34m(self, packed_coef_inter, X, y, activations, deltas, coef_grads, intercept_grads)\u001b[0m\n\u001b[1;32m    175\u001b[0m         \u001b[0mself\u001b[0m\u001b[0;34m.\u001b[0m\u001b[0m_unpack\u001b[0m\u001b[0;34m(\u001b[0m\u001b[0mpacked_coef_inter\u001b[0m\u001b[0;34m)\u001b[0m\u001b[0;34m\u001b[0m\u001b[0;34m\u001b[0m\u001b[0m\n\u001b[1;32m    176\u001b[0m         loss, coef_grads, intercept_grads = self._backprop(\n\u001b[0;32m--> 177\u001b[0;31m             X, y, activations, deltas, coef_grads, intercept_grads)\n\u001b[0m\u001b[1;32m    178\u001b[0m         \u001b[0mgrad\u001b[0m \u001b[0;34m=\u001b[0m \u001b[0m_pack\u001b[0m\u001b[0;34m(\u001b[0m\u001b[0mcoef_grads\u001b[0m\u001b[0;34m,\u001b[0m \u001b[0mintercept_grads\u001b[0m\u001b[0;34m)\u001b[0m\u001b[0;34m\u001b[0m\u001b[0;34m\u001b[0m\u001b[0m\n\u001b[1;32m    179\u001b[0m         \u001b[0;32mreturn\u001b[0m \u001b[0mloss\u001b[0m\u001b[0;34m,\u001b[0m \u001b[0mgrad\u001b[0m\u001b[0;34m\u001b[0m\u001b[0;34m\u001b[0m\u001b[0m\n",
            "\u001b[0;32m/usr/local/lib/python3.7/dist-packages/sklearn/neural_network/_multilayer_perceptron.py\u001b[0m in \u001b[0;36m_backprop\u001b[0;34m(self, X, y, activations, deltas, coef_grads, intercept_grads)\u001b[0m\n\u001b[1;32m    219\u001b[0m \u001b[0;34m\u001b[0m\u001b[0m\n\u001b[1;32m    220\u001b[0m         \u001b[0;31m# Forward propagate\u001b[0m\u001b[0;34m\u001b[0m\u001b[0;34m\u001b[0m\u001b[0;34m\u001b[0m\u001b[0m\n\u001b[0;32m--> 221\u001b[0;31m         \u001b[0mactivations\u001b[0m \u001b[0;34m=\u001b[0m \u001b[0mself\u001b[0m\u001b[0;34m.\u001b[0m\u001b[0m_forward_pass\u001b[0m\u001b[0;34m(\u001b[0m\u001b[0mactivations\u001b[0m\u001b[0;34m)\u001b[0m\u001b[0;34m\u001b[0m\u001b[0;34m\u001b[0m\u001b[0m\n\u001b[0m\u001b[1;32m    222\u001b[0m \u001b[0;34m\u001b[0m\u001b[0m\n\u001b[1;32m    223\u001b[0m         \u001b[0;31m# Get loss\u001b[0m\u001b[0;34m\u001b[0m\u001b[0;34m\u001b[0m\u001b[0;34m\u001b[0m\u001b[0m\n",
            "\u001b[0;32m/usr/local/lib/python3.7/dist-packages/sklearn/neural_network/_multilayer_perceptron.py\u001b[0m in \u001b[0;36m_forward_pass\u001b[0;34m(self, activations)\u001b[0m\n\u001b[1;32m    102\u001b[0m         \u001b[0;32mfor\u001b[0m \u001b[0mi\u001b[0m \u001b[0;32min\u001b[0m \u001b[0mrange\u001b[0m\u001b[0;34m(\u001b[0m\u001b[0mself\u001b[0m\u001b[0;34m.\u001b[0m\u001b[0mn_layers_\u001b[0m \u001b[0;34m-\u001b[0m \u001b[0;36m1\u001b[0m\u001b[0;34m)\u001b[0m\u001b[0;34m:\u001b[0m\u001b[0;34m\u001b[0m\u001b[0;34m\u001b[0m\u001b[0m\n\u001b[1;32m    103\u001b[0m             activations[i + 1] = safe_sparse_dot(activations[i],\n\u001b[0;32m--> 104\u001b[0;31m                                                  self.coefs_[i])\n\u001b[0m\u001b[1;32m    105\u001b[0m             \u001b[0mactivations\u001b[0m\u001b[0;34m[\u001b[0m\u001b[0mi\u001b[0m \u001b[0;34m+\u001b[0m \u001b[0;36m1\u001b[0m\u001b[0;34m]\u001b[0m \u001b[0;34m+=\u001b[0m \u001b[0mself\u001b[0m\u001b[0;34m.\u001b[0m\u001b[0mintercepts_\u001b[0m\u001b[0;34m[\u001b[0m\u001b[0mi\u001b[0m\u001b[0;34m]\u001b[0m\u001b[0;34m\u001b[0m\u001b[0;34m\u001b[0m\u001b[0m\n\u001b[1;32m    106\u001b[0m \u001b[0;34m\u001b[0m\u001b[0m\n",
            "\u001b[0;32m/usr/local/lib/python3.7/dist-packages/sklearn/utils/extmath.py\u001b[0m in \u001b[0;36msafe_sparse_dot\u001b[0;34m(a, b, dense_output)\u001b[0m\n\u001b[1;32m    149\u001b[0m             \u001b[0mret\u001b[0m \u001b[0;34m=\u001b[0m \u001b[0mnp\u001b[0m\u001b[0;34m.\u001b[0m\u001b[0mdot\u001b[0m\u001b[0;34m(\u001b[0m\u001b[0ma\u001b[0m\u001b[0;34m,\u001b[0m \u001b[0mb\u001b[0m\u001b[0;34m)\u001b[0m\u001b[0;34m\u001b[0m\u001b[0;34m\u001b[0m\u001b[0m\n\u001b[1;32m    150\u001b[0m     \u001b[0;32melse\u001b[0m\u001b[0;34m:\u001b[0m\u001b[0;34m\u001b[0m\u001b[0;34m\u001b[0m\u001b[0m\n\u001b[0;32m--> 151\u001b[0;31m         \u001b[0mret\u001b[0m \u001b[0;34m=\u001b[0m \u001b[0ma\u001b[0m \u001b[0;34m@\u001b[0m \u001b[0mb\u001b[0m\u001b[0;34m\u001b[0m\u001b[0;34m\u001b[0m\u001b[0m\n\u001b[0m\u001b[1;32m    152\u001b[0m \u001b[0;34m\u001b[0m\u001b[0m\n\u001b[1;32m    153\u001b[0m     if (sparse.issparse(a) and sparse.issparse(b)\n",
            "\u001b[0;31mKeyboardInterrupt\u001b[0m: "
          ]
        }
      ]
    },
    {
      "cell_type": "markdown",
      "metadata": {
        "id": "8jR_713uhfDp"
      },
      "source": [
        "Tomamos 21 que n ha dado el mejor resultado.\n"
      ]
    },
    {
      "cell_type": "code",
      "metadata": {
        "id": "jy6w2xRSu9b6"
      },
      "source": [
        "target = ['THC1']\n",
        "for num_neuronas in [21]:\n",
        "    for alpha in np.power(10.0,np.arange(-7,3,1)):\n",
        "        model = MLPRegressor(hidden_layer_sizes=(num_neuronas,), alpha=alpha, solver='lbfgs', activation='logistic')\n",
        "        mae_val, rmse_val, r2_val, mae_tst, rmse_tst, r2_tst, _, _, _, _, _, _ = entrena_model(model, num_folds=10)\n",
        "        print('ANN neuronas={} alpha={:,.1e} -> \\\n",
        "        Val:[MAE={:.3f},RMSE={:,.3f},R2={:,.3f}] \\\n",
        "        Test:[MAE={:.3f},RMSE={:,.3f},R2={:,.3f}]'.format(num_neuronas, alpha,\n",
        "                                                          mae_val, rmse_val, r2_val, \n",
        "                                                          mae_tst, rmse_tst, r2_tst))"
      ],
      "execution_count": null,
      "outputs": []
    },
    {
      "cell_type": "markdown",
      "metadata": {
        "id": "ooM1674lmT2J"
      },
      "source": [
        "Con alpha=1.0e-06 da los mejores reultados"
      ]
    },
    {
      "cell_type": "code",
      "metadata": {
        "colab": {
          "base_uri": "https://localhost:8080/"
        },
        "id": "dTaykbY4zdHn",
        "outputId": "72bd4d97-2bcc-46fa-eff2-b20c9ae80500"
      },
      "source": [
        "target = ['THC1']\n",
        "num_neuronas=21\n",
        "from sklearn.neural_network import MLPRegressor\n",
        "import warnings\n",
        "warnings.filterwarnings('ignore')\n",
        "alpha = 1.0e-06\n",
        "model = MLPRegressor(hidden_layer_sizes=(16,), alpha=alpha, solver='lbfgs', activation='logistic')\n",
        "mae_val, rmse_val, r2_val, mae_tst, rmse_tst, r2_tst, y_val, pred_val, y_test_ann, preds_test_ann, val_mat, tst_mat = entrena_model(model, num_folds=10)\n",
        "print('ANN neuronas={} alpha={:,.1e} -> \\\n",
        "    Val:[MAE={:.3f},RMSE={:,.3f},R2={:,.3f}] \\\n",
        "    Test:[MAE={:.3f},RMSE={:,.3f},R2={:,.3f}]'.format(num_neuronas, alpha,\n",
        "                                                      mae_val, rmse_val, r2_val, \n",
        "                                                      mae_tst, rmse_tst, r2_tst))"
      ],
      "execution_count": 10,
      "outputs": [
        {
          "output_type": "stream",
          "text": [
            "ANN neuronas=21 alpha=1.0e-06 ->     Val:[MAE=5.298,RMSE=9.464,R2=0.937]     Test:[MAE=31.081,RMSE=33.814,R2=-4.136]\n"
          ],
          "name": "stdout"
        }
      ]
    },
    {
      "cell_type": "markdown",
      "metadata": {
        "id": "84MQrMzq0LYD"
      },
      "source": [
        "Ahora comenzamos con SVR (Spioler, no saca muy buenos resultados y tarda mucho en su cálculo):"
      ]
    },
    {
      "cell_type": "code",
      "metadata": {
        "id": "QbwSym2U0KgX"
      },
      "source": [
        "from sklearn.svm import SVR\n",
        "num_bags = 10\n",
        "num_folds=10"
      ],
      "execution_count": 11,
      "outputs": []
    },
    {
      "cell_type": "code",
      "metadata": {
        "colab": {
          "base_uri": "https://localhost:8080/",
          "height": 1000
        },
        "id": "Gl2lVIQP1eGQ",
        "outputId": "ba568da1-db88-4c78-c032-daf9a00a3948"
      },
      "source": [
        "svr=SVR(kernel='rbf')\n",
        "for folds in np.arange(5,15,1):\n",
        "  for bags in np.arange(1,15,1):\n",
        "    mae_val, rmse_val, r2_val, mae_tst, rmse_tst, r2_tst, y_val, pred_val, y_test_svr, preds_test_svr, val_mat, tst_mat = entrena_model(svr, folds)\n",
        "    y_true_rep = np.array(list(y_val)*bags) # Repite el target 'num_bags' veces\n",
        "    y_pred_val_flatten = val_mat.flatten(order='F') # sacar un vector con todas las preds\n",
        "    print('folds={} bags={} -> \\\n",
        "        Val:[MAE={:.3f},RMSE={:,.3f},R2={:,.3f}] \\\n",
        "        Test:[MAE={:.3f},RMSE={:,.3f},R2={:,.3f}]'.format(folds,bags,\n",
        "                                                          mae_val, rmse_val, r2_val, \n",
        "                                                          mae_tst, rmse_tst, r2_tst))"
      ],
      "execution_count": 12,
      "outputs": [
        {
          "output_type": "stream",
          "text": [
            "folds=5 bags=1 ->         Val:[MAE=14.900,RMSE=20.523,R2=0.702]         Test:[MAE=14.933,RMSE=16.446,R2=-0.215]\n",
            "folds=5 bags=2 ->         Val:[MAE=14.900,RMSE=20.523,R2=0.702]         Test:[MAE=14.933,RMSE=16.446,R2=-0.215]\n",
            "folds=5 bags=3 ->         Val:[MAE=14.900,RMSE=20.523,R2=0.702]         Test:[MAE=14.933,RMSE=16.446,R2=-0.215]\n",
            "folds=5 bags=4 ->         Val:[MAE=14.900,RMSE=20.523,R2=0.702]         Test:[MAE=14.933,RMSE=16.446,R2=-0.215]\n",
            "folds=5 bags=5 ->         Val:[MAE=14.900,RMSE=20.523,R2=0.702]         Test:[MAE=14.933,RMSE=16.446,R2=-0.215]\n",
            "folds=5 bags=6 ->         Val:[MAE=14.900,RMSE=20.523,R2=0.702]         Test:[MAE=14.933,RMSE=16.446,R2=-0.215]\n",
            "folds=5 bags=7 ->         Val:[MAE=14.900,RMSE=20.523,R2=0.702]         Test:[MAE=14.933,RMSE=16.446,R2=-0.215]\n",
            "folds=5 bags=8 ->         Val:[MAE=14.900,RMSE=20.523,R2=0.702]         Test:[MAE=14.933,RMSE=16.446,R2=-0.215]\n",
            "folds=5 bags=9 ->         Val:[MAE=14.900,RMSE=20.523,R2=0.702]         Test:[MAE=14.933,RMSE=16.446,R2=-0.215]\n",
            "folds=5 bags=10 ->         Val:[MAE=14.900,RMSE=20.523,R2=0.702]         Test:[MAE=14.933,RMSE=16.446,R2=-0.215]\n",
            "folds=5 bags=11 ->         Val:[MAE=14.900,RMSE=20.523,R2=0.702]         Test:[MAE=14.933,RMSE=16.446,R2=-0.215]\n",
            "folds=5 bags=12 ->         Val:[MAE=14.900,RMSE=20.523,R2=0.702]         Test:[MAE=14.933,RMSE=16.446,R2=-0.215]\n",
            "folds=5 bags=13 ->         Val:[MAE=14.900,RMSE=20.523,R2=0.702]         Test:[MAE=14.933,RMSE=16.446,R2=-0.215]\n",
            "folds=5 bags=14 ->         Val:[MAE=14.900,RMSE=20.523,R2=0.702]         Test:[MAE=14.933,RMSE=16.446,R2=-0.215]\n",
            "folds=6 bags=1 ->         Val:[MAE=14.704,RMSE=20.286,R2=0.709]         Test:[MAE=14.759,RMSE=16.285,R2=-0.191]\n",
            "folds=6 bags=2 ->         Val:[MAE=14.704,RMSE=20.286,R2=0.709]         Test:[MAE=14.759,RMSE=16.285,R2=-0.191]\n",
            "folds=6 bags=3 ->         Val:[MAE=14.704,RMSE=20.286,R2=0.709]         Test:[MAE=14.759,RMSE=16.285,R2=-0.191]\n",
            "folds=6 bags=4 ->         Val:[MAE=14.704,RMSE=20.286,R2=0.709]         Test:[MAE=14.759,RMSE=16.285,R2=-0.191]\n",
            "folds=6 bags=5 ->         Val:[MAE=14.704,RMSE=20.286,R2=0.709]         Test:[MAE=14.759,RMSE=16.285,R2=-0.191]\n",
            "folds=6 bags=6 ->         Val:[MAE=14.704,RMSE=20.286,R2=0.709]         Test:[MAE=14.759,RMSE=16.285,R2=-0.191]\n",
            "folds=6 bags=7 ->         Val:[MAE=14.704,RMSE=20.286,R2=0.709]         Test:[MAE=14.759,RMSE=16.285,R2=-0.191]\n",
            "folds=6 bags=8 ->         Val:[MAE=14.704,RMSE=20.286,R2=0.709]         Test:[MAE=14.759,RMSE=16.285,R2=-0.191]\n",
            "folds=6 bags=9 ->         Val:[MAE=14.704,RMSE=20.286,R2=0.709]         Test:[MAE=14.759,RMSE=16.285,R2=-0.191]\n",
            "folds=6 bags=10 ->         Val:[MAE=14.704,RMSE=20.286,R2=0.709]         Test:[MAE=14.759,RMSE=16.285,R2=-0.191]\n",
            "folds=6 bags=11 ->         Val:[MAE=14.704,RMSE=20.286,R2=0.709]         Test:[MAE=14.759,RMSE=16.285,R2=-0.191]\n",
            "folds=6 bags=12 ->         Val:[MAE=14.704,RMSE=20.286,R2=0.709]         Test:[MAE=14.759,RMSE=16.285,R2=-0.191]\n",
            "folds=6 bags=13 ->         Val:[MAE=14.704,RMSE=20.286,R2=0.709]         Test:[MAE=14.759,RMSE=16.285,R2=-0.191]\n",
            "folds=6 bags=14 ->         Val:[MAE=14.704,RMSE=20.286,R2=0.709]         Test:[MAE=14.759,RMSE=16.285,R2=-0.191]\n",
            "folds=7 bags=1 ->         Val:[MAE=14.572,RMSE=20.133,R2=0.714]         Test:[MAE=14.625,RMSE=16.163,R2=-0.174]\n",
            "folds=7 bags=2 ->         Val:[MAE=14.572,RMSE=20.133,R2=0.714]         Test:[MAE=14.625,RMSE=16.163,R2=-0.174]\n",
            "folds=7 bags=3 ->         Val:[MAE=14.572,RMSE=20.133,R2=0.714]         Test:[MAE=14.625,RMSE=16.163,R2=-0.174]\n",
            "folds=7 bags=4 ->         Val:[MAE=14.572,RMSE=20.133,R2=0.714]         Test:[MAE=14.625,RMSE=16.163,R2=-0.174]\n",
            "folds=7 bags=5 ->         Val:[MAE=14.572,RMSE=20.133,R2=0.714]         Test:[MAE=14.625,RMSE=16.163,R2=-0.174]\n",
            "folds=7 bags=6 ->         Val:[MAE=14.572,RMSE=20.133,R2=0.714]         Test:[MAE=14.625,RMSE=16.163,R2=-0.174]\n",
            "folds=7 bags=7 ->         Val:[MAE=14.572,RMSE=20.133,R2=0.714]         Test:[MAE=14.625,RMSE=16.163,R2=-0.174]\n",
            "folds=7 bags=8 ->         Val:[MAE=14.572,RMSE=20.133,R2=0.714]         Test:[MAE=14.625,RMSE=16.163,R2=-0.174]\n",
            "folds=7 bags=9 ->         Val:[MAE=14.572,RMSE=20.133,R2=0.714]         Test:[MAE=14.625,RMSE=16.163,R2=-0.174]\n",
            "folds=7 bags=10 ->         Val:[MAE=14.572,RMSE=20.133,R2=0.714]         Test:[MAE=14.625,RMSE=16.163,R2=-0.174]\n",
            "folds=7 bags=11 ->         Val:[MAE=14.572,RMSE=20.133,R2=0.714]         Test:[MAE=14.625,RMSE=16.163,R2=-0.174]\n"
          ],
          "name": "stdout"
        },
        {
          "output_type": "error",
          "ename": "KeyboardInterrupt",
          "evalue": "ignored",
          "traceback": [
            "\u001b[0;31m---------------------------------------------------------------------------\u001b[0m",
            "\u001b[0;31mKeyboardInterrupt\u001b[0m                         Traceback (most recent call last)",
            "\u001b[0;32m<ipython-input-12-0935097bf00a>\u001b[0m in \u001b[0;36m<module>\u001b[0;34m()\u001b[0m\n\u001b[1;32m      2\u001b[0m \u001b[0;32mfor\u001b[0m \u001b[0mfolds\u001b[0m \u001b[0;32min\u001b[0m \u001b[0mnp\u001b[0m\u001b[0;34m.\u001b[0m\u001b[0marange\u001b[0m\u001b[0;34m(\u001b[0m\u001b[0;36m5\u001b[0m\u001b[0;34m,\u001b[0m\u001b[0;36m15\u001b[0m\u001b[0;34m,\u001b[0m\u001b[0;36m1\u001b[0m\u001b[0;34m)\u001b[0m\u001b[0;34m:\u001b[0m\u001b[0;34m\u001b[0m\u001b[0;34m\u001b[0m\u001b[0m\n\u001b[1;32m      3\u001b[0m   \u001b[0;32mfor\u001b[0m \u001b[0mbags\u001b[0m \u001b[0;32min\u001b[0m \u001b[0mnp\u001b[0m\u001b[0;34m.\u001b[0m\u001b[0marange\u001b[0m\u001b[0;34m(\u001b[0m\u001b[0;36m1\u001b[0m\u001b[0;34m,\u001b[0m\u001b[0;36m15\u001b[0m\u001b[0;34m,\u001b[0m\u001b[0;36m1\u001b[0m\u001b[0;34m)\u001b[0m\u001b[0;34m:\u001b[0m\u001b[0;34m\u001b[0m\u001b[0;34m\u001b[0m\u001b[0m\n\u001b[0;32m----> 4\u001b[0;31m     \u001b[0mmae_val\u001b[0m\u001b[0;34m,\u001b[0m \u001b[0mrmse_val\u001b[0m\u001b[0;34m,\u001b[0m \u001b[0mr2_val\u001b[0m\u001b[0;34m,\u001b[0m \u001b[0mmae_tst\u001b[0m\u001b[0;34m,\u001b[0m \u001b[0mrmse_tst\u001b[0m\u001b[0;34m,\u001b[0m \u001b[0mr2_tst\u001b[0m\u001b[0;34m,\u001b[0m \u001b[0my_val\u001b[0m\u001b[0;34m,\u001b[0m \u001b[0mpred_val\u001b[0m\u001b[0;34m,\u001b[0m \u001b[0my_test_svr\u001b[0m\u001b[0;34m,\u001b[0m \u001b[0mpreds_test_svr\u001b[0m\u001b[0;34m,\u001b[0m \u001b[0mval_mat\u001b[0m\u001b[0;34m,\u001b[0m \u001b[0mtst_mat\u001b[0m \u001b[0;34m=\u001b[0m \u001b[0mentrena_model\u001b[0m\u001b[0;34m(\u001b[0m\u001b[0msvr\u001b[0m\u001b[0;34m,\u001b[0m \u001b[0mfolds\u001b[0m\u001b[0;34m)\u001b[0m\u001b[0;34m\u001b[0m\u001b[0;34m\u001b[0m\u001b[0m\n\u001b[0m\u001b[1;32m      5\u001b[0m     \u001b[0my_true_rep\u001b[0m \u001b[0;34m=\u001b[0m \u001b[0mnp\u001b[0m\u001b[0;34m.\u001b[0m\u001b[0marray\u001b[0m\u001b[0;34m(\u001b[0m\u001b[0mlist\u001b[0m\u001b[0;34m(\u001b[0m\u001b[0my_val\u001b[0m\u001b[0;34m)\u001b[0m\u001b[0;34m*\u001b[0m\u001b[0mbags\u001b[0m\u001b[0;34m)\u001b[0m \u001b[0;31m# Repite el target 'num_bags' veces\u001b[0m\u001b[0;34m\u001b[0m\u001b[0;34m\u001b[0m\u001b[0m\n\u001b[1;32m      6\u001b[0m     \u001b[0my_pred_val_flatten\u001b[0m \u001b[0;34m=\u001b[0m \u001b[0mval_mat\u001b[0m\u001b[0;34m.\u001b[0m\u001b[0mflatten\u001b[0m\u001b[0;34m(\u001b[0m\u001b[0morder\u001b[0m\u001b[0;34m=\u001b[0m\u001b[0;34m'F'\u001b[0m\u001b[0;34m)\u001b[0m \u001b[0;31m# sacar un vector con todas las preds\u001b[0m\u001b[0;34m\u001b[0m\u001b[0;34m\u001b[0m\u001b[0m\n",
            "\u001b[0;32m<ipython-input-2-4d9ef2d5f54b>\u001b[0m in \u001b[0;36mentrena_model\u001b[0;34m(model, num_folds, num_bags)\u001b[0m\n\u001b[1;32m    111\u001b[0m         \u001b[0mX_train\u001b[0m\u001b[0;34m,\u001b[0m \u001b[0mX_val\u001b[0m \u001b[0;34m=\u001b[0m \u001b[0mX_tot\u001b[0m\u001b[0;34m[\u001b[0m\u001b[0mtrain_index\u001b[0m\u001b[0;34m]\u001b[0m\u001b[0;34m,\u001b[0m \u001b[0mX_tot\u001b[0m\u001b[0;34m[\u001b[0m\u001b[0mval_index\u001b[0m\u001b[0;34m]\u001b[0m\u001b[0;34m\u001b[0m\u001b[0;34m\u001b[0m\u001b[0m\n\u001b[1;32m    112\u001b[0m         \u001b[0my_train\u001b[0m\u001b[0;34m,\u001b[0m \u001b[0my_val\u001b[0m \u001b[0;34m=\u001b[0m \u001b[0my_tot\u001b[0m\u001b[0;34m[\u001b[0m\u001b[0mtrain_index\u001b[0m\u001b[0;34m]\u001b[0m\u001b[0;34m,\u001b[0m \u001b[0my_tot\u001b[0m\u001b[0;34m[\u001b[0m\u001b[0mval_index\u001b[0m\u001b[0;34m]\u001b[0m\u001b[0;34m\u001b[0m\u001b[0;34m\u001b[0m\u001b[0m\n\u001b[0;32m--> 113\u001b[0;31m         \u001b[0mmodel\u001b[0m\u001b[0;34m.\u001b[0m\u001b[0mfit\u001b[0m\u001b[0;34m(\u001b[0m\u001b[0mX_train\u001b[0m\u001b[0;34m,\u001b[0m \u001b[0my_train\u001b[0m\u001b[0;34m)\u001b[0m\u001b[0;34m\u001b[0m\u001b[0;34m\u001b[0m\u001b[0m\n\u001b[0m\u001b[1;32m    114\u001b[0m         \u001b[0mpreds_val\u001b[0m\u001b[0;34m[\u001b[0m\u001b[0mval_index\u001b[0m\u001b[0;34m,\u001b[0m\u001b[0mnbag\u001b[0m\u001b[0;34m]\u001b[0m \u001b[0;34m=\u001b[0m \u001b[0mmodel\u001b[0m\u001b[0;34m.\u001b[0m\u001b[0mpredict\u001b[0m\u001b[0;34m(\u001b[0m\u001b[0mX_val\u001b[0m\u001b[0;34m)\u001b[0m\u001b[0;34m\u001b[0m\u001b[0;34m\u001b[0m\u001b[0m\n\u001b[1;32m    115\u001b[0m         \u001b[0mpreds_test\u001b[0m\u001b[0;34m[\u001b[0m\u001b[0;34m:\u001b[0m\u001b[0;34m,\u001b[0m\u001b[0mniter\u001b[0m\u001b[0;34m]\u001b[0m \u001b[0;34m=\u001b[0m \u001b[0mmodel\u001b[0m\u001b[0;34m.\u001b[0m\u001b[0mpredict\u001b[0m\u001b[0;34m(\u001b[0m\u001b[0mX_test\u001b[0m\u001b[0;34m)\u001b[0m\u001b[0;34m\u001b[0m\u001b[0;34m\u001b[0m\u001b[0m\n",
            "\u001b[0;32m/usr/local/lib/python3.7/dist-packages/sklearn/svm/_base.py\u001b[0m in \u001b[0;36mfit\u001b[0;34m(self, X, y, sample_weight)\u001b[0m\n\u001b[1;32m    197\u001b[0m \u001b[0;34m\u001b[0m\u001b[0m\n\u001b[1;32m    198\u001b[0m         \u001b[0mseed\u001b[0m \u001b[0;34m=\u001b[0m \u001b[0mrnd\u001b[0m\u001b[0;34m.\u001b[0m\u001b[0mrandint\u001b[0m\u001b[0;34m(\u001b[0m\u001b[0mnp\u001b[0m\u001b[0;34m.\u001b[0m\u001b[0miinfo\u001b[0m\u001b[0;34m(\u001b[0m\u001b[0;34m'i'\u001b[0m\u001b[0;34m)\u001b[0m\u001b[0;34m.\u001b[0m\u001b[0mmax\u001b[0m\u001b[0;34m)\u001b[0m\u001b[0;34m\u001b[0m\u001b[0;34m\u001b[0m\u001b[0m\n\u001b[0;32m--> 199\u001b[0;31m         \u001b[0mfit\u001b[0m\u001b[0;34m(\u001b[0m\u001b[0mX\u001b[0m\u001b[0;34m,\u001b[0m \u001b[0my\u001b[0m\u001b[0;34m,\u001b[0m \u001b[0msample_weight\u001b[0m\u001b[0;34m,\u001b[0m \u001b[0msolver_type\u001b[0m\u001b[0;34m,\u001b[0m \u001b[0mkernel\u001b[0m\u001b[0;34m,\u001b[0m \u001b[0mrandom_seed\u001b[0m\u001b[0;34m=\u001b[0m\u001b[0mseed\u001b[0m\u001b[0;34m)\u001b[0m\u001b[0;34m\u001b[0m\u001b[0;34m\u001b[0m\u001b[0m\n\u001b[0m\u001b[1;32m    200\u001b[0m         \u001b[0;31m# see comment on the other call to np.iinfo in this file\u001b[0m\u001b[0;34m\u001b[0m\u001b[0;34m\u001b[0m\u001b[0;34m\u001b[0m\u001b[0m\n\u001b[1;32m    201\u001b[0m \u001b[0;34m\u001b[0m\u001b[0m\n",
            "\u001b[0;32m/usr/local/lib/python3.7/dist-packages/sklearn/svm/_base.py\u001b[0m in \u001b[0;36m_dense_fit\u001b[0;34m(self, X, y, sample_weight, solver_type, kernel, random_seed)\u001b[0m\n\u001b[1;32m    256\u001b[0m                 \u001b[0mcache_size\u001b[0m\u001b[0;34m=\u001b[0m\u001b[0mself\u001b[0m\u001b[0;34m.\u001b[0m\u001b[0mcache_size\u001b[0m\u001b[0;34m,\u001b[0m \u001b[0mcoef0\u001b[0m\u001b[0;34m=\u001b[0m\u001b[0mself\u001b[0m\u001b[0;34m.\u001b[0m\u001b[0mcoef0\u001b[0m\u001b[0;34m,\u001b[0m\u001b[0;34m\u001b[0m\u001b[0;34m\u001b[0m\u001b[0m\n\u001b[1;32m    257\u001b[0m                 \u001b[0mgamma\u001b[0m\u001b[0;34m=\u001b[0m\u001b[0mself\u001b[0m\u001b[0;34m.\u001b[0m\u001b[0m_gamma\u001b[0m\u001b[0;34m,\u001b[0m \u001b[0mepsilon\u001b[0m\u001b[0;34m=\u001b[0m\u001b[0mself\u001b[0m\u001b[0;34m.\u001b[0m\u001b[0mepsilon\u001b[0m\u001b[0;34m,\u001b[0m\u001b[0;34m\u001b[0m\u001b[0;34m\u001b[0m\u001b[0m\n\u001b[0;32m--> 258\u001b[0;31m                 max_iter=self.max_iter, random_seed=random_seed)\n\u001b[0m\u001b[1;32m    259\u001b[0m \u001b[0;34m\u001b[0m\u001b[0m\n\u001b[1;32m    260\u001b[0m         \u001b[0mself\u001b[0m\u001b[0;34m.\u001b[0m\u001b[0m_warn_from_fit_status\u001b[0m\u001b[0;34m(\u001b[0m\u001b[0;34m)\u001b[0m\u001b[0;34m\u001b[0m\u001b[0;34m\u001b[0m\u001b[0m\n",
            "\u001b[0;31mKeyboardInterrupt\u001b[0m: "
          ]
        }
      ]
    },
    {
      "cell_type": "markdown",
      "metadata": {
        "id": "4QAb3P29tole"
      },
      "source": [
        "Probamos con el Regressor Tree, para el cual vamos a modificar el min_samples_leaf y el min_samples_split. Variaremos depués con el criterion y el splitter. Capo el mse a 4.45 ya que he una primera vuelta veo que es muy capaz de eso y asi limpio los resultados."
      ]
    },
    {
      "cell_type": "code",
      "metadata": {
        "colab": {
          "base_uri": "https://localhost:8080/"
        },
        "id": "7iEHO8E1WNNM",
        "outputId": "f6833727-9c56-4cd4-f4d0-e9c1ea6c6f41"
      },
      "source": [
        "target = ['THC1']\n",
        "from sklearn.tree import DecisionTreeRegressor\n",
        "for s in ['best', 'random']:\n",
        "  for c in ['mse', 'friedman_mse', 'mae']:\n",
        "    for i in np.arange(2,8,1):\n",
        "      for j in np.arange(1,8,1):\n",
        "        model=DecisionTreeRegressor(random_state=2020,min_samples_split=i,criterion=c,splitter=s,min_samples_leaf=j)\n",
        "        mae_val_THC1, rmse_val_THC1, r2_val_THC1, mae_tst_THC1, rmse_tst_THC1, r2_tst_THC1, y_val, pred_val, y_test1, preds_test1, val_mat, tst_mat = entrena_model(model, 10)\n",
        "        if mae_val_THC1<4.45:\n",
        "          print('DTR con splitter={}, criterion={}, hojas={} min_samples_split={}-> \\\n",
        "            Val:[MAE={:.3f},RMSE={:,.3f},R2={:,.3f}] \\\n",
        "            Test:[MAE={:.3f},RMSE={:,.3f},R2={:,.3f}]'.format(s,c,j,i,\n",
        "                                                        mae_val_THC1, rmse_val_THC1, r2_val_THC1, mae_tst_THC1 ,rmse_tst_THC1, r2_tst_THC1))"
      ],
      "execution_count": 25,
      "outputs": [
        {
          "output_type": "stream",
          "text": [
            "DTR con splitter=best, criterion=mae, hojas=2 min_samples_split=2->             Val:[MAE=4.404,RMSE=7.688,R2=0.958]             Test:[MAE=9.170,RMSE=12.198,R2=0.332]\n",
            "DTR con splitter=best, criterion=mae, hojas=2 min_samples_split=3->             Val:[MAE=4.404,RMSE=7.688,R2=0.958]             Test:[MAE=9.170,RMSE=12.198,R2=0.332]\n",
            "DTR con splitter=best, criterion=mae, hojas=2 min_samples_split=4->             Val:[MAE=4.404,RMSE=7.688,R2=0.958]             Test:[MAE=9.170,RMSE=12.198,R2=0.332]\n",
            "DTR con splitter=best, criterion=mae, hojas=2 min_samples_split=5->             Val:[MAE=4.420,RMSE=7.713,R2=0.958]             Test:[MAE=9.244,RMSE=12.256,R2=0.325]\n",
            "DTR con splitter=best, criterion=mae, hojas=1 min_samples_split=6->             Val:[MAE=4.446,RMSE=7.906,R2=0.956]             Test:[MAE=9.340,RMSE=12.434,R2=0.305]\n",
            "DTR con splitter=best, criterion=mae, hojas=2 min_samples_split=6->             Val:[MAE=4.407,RMSE=7.833,R2=0.957]             Test:[MAE=9.110,RMSE=12.190,R2=0.333]\n",
            "DTR con splitter=best, criterion=mae, hojas=2 min_samples_split=7->             Val:[MAE=4.425,RMSE=7.799,R2=0.957]             Test:[MAE=9.119,RMSE=12.225,R2=0.329]\n",
            "DTR con splitter=random, criterion=mse, hojas=1 min_samples_split=2->             Val:[MAE=4.368,RMSE=7.502,R2=0.960]             Test:[MAE=6.063,RMSE=9.229,R2=0.617]\n",
            "DTR con splitter=random, criterion=mse, hojas=1 min_samples_split=3->             Val:[MAE=4.284,RMSE=7.203,R2=0.963]             Test:[MAE=6.322,RMSE=9.609,R2=0.585]\n",
            "DTR con splitter=random, criterion=mse, hojas=1 min_samples_split=4->             Val:[MAE=4.322,RMSE=7.347,R2=0.962]             Test:[MAE=6.241,RMSE=9.383,R2=0.605]\n",
            "DTR con splitter=random, criterion=mse, hojas=1 min_samples_split=5->             Val:[MAE=4.328,RMSE=7.272,R2=0.963]             Test:[MAE=6.684,RMSE=9.763,R2=0.572]\n",
            "DTR con splitter=random, criterion=mse, hojas=1 min_samples_split=6->             Val:[MAE=4.381,RMSE=7.413,R2=0.961]             Test:[MAE=6.218,RMSE=9.338,R2=0.608]\n",
            "DTR con splitter=random, criterion=mse, hojas=1 min_samples_split=7->             Val:[MAE=4.351,RMSE=7.317,R2=0.962]             Test:[MAE=6.733,RMSE=9.689,R2=0.578]\n",
            "DTR con splitter=random, criterion=friedman_mse, hojas=1 min_samples_split=2->             Val:[MAE=4.316,RMSE=7.426,R2=0.961]             Test:[MAE=6.920,RMSE=9.940,R2=0.556]\n",
            "DTR con splitter=random, criterion=friedman_mse, hojas=2 min_samples_split=2->             Val:[MAE=4.401,RMSE=7.018,R2=0.965]             Test:[MAE=6.288,RMSE=9.522,R2=0.593]\n",
            "DTR con splitter=random, criterion=friedman_mse, hojas=1 min_samples_split=3->             Val:[MAE=4.274,RMSE=7.235,R2=0.963]             Test:[MAE=6.218,RMSE=9.429,R2=0.601]\n",
            "DTR con splitter=random, criterion=friedman_mse, hojas=2 min_samples_split=3->             Val:[MAE=4.401,RMSE=7.018,R2=0.965]             Test:[MAE=6.288,RMSE=9.522,R2=0.593]\n",
            "DTR con splitter=random, criterion=friedman_mse, hojas=1 min_samples_split=4->             Val:[MAE=4.309,RMSE=7.333,R2=0.962]             Test:[MAE=6.159,RMSE=9.360,R2=0.606]\n",
            "DTR con splitter=random, criterion=friedman_mse, hojas=2 min_samples_split=4->             Val:[MAE=4.401,RMSE=7.018,R2=0.965]             Test:[MAE=6.288,RMSE=9.522,R2=0.593]\n",
            "DTR con splitter=random, criterion=friedman_mse, hojas=1 min_samples_split=5->             Val:[MAE=4.302,RMSE=7.219,R2=0.963]             Test:[MAE=6.715,RMSE=9.787,R2=0.570]\n",
            "DTR con splitter=random, criterion=friedman_mse, hojas=1 min_samples_split=6->             Val:[MAE=4.380,RMSE=7.400,R2=0.961]             Test:[MAE=6.158,RMSE=9.268,R2=0.614]\n",
            "DTR con splitter=random, criterion=friedman_mse, hojas=1 min_samples_split=7->             Val:[MAE=4.345,RMSE=7.293,R2=0.962]             Test:[MAE=6.830,RMSE=9.744,R2=0.574]\n",
            "DTR con splitter=random, criterion=mae, hojas=1 min_samples_split=2->             Val:[MAE=4.380,RMSE=7.711,R2=0.958]             Test:[MAE=7.350,RMSE=10.278,R2=0.525]\n",
            "DTR con splitter=random, criterion=mae, hojas=2 min_samples_split=2->             Val:[MAE=4.388,RMSE=7.363,R2=0.962]             Test:[MAE=6.817,RMSE=9.749,R2=0.573]\n",
            "DTR con splitter=random, criterion=mae, hojas=1 min_samples_split=3->             Val:[MAE=4.222,RMSE=7.436,R2=0.961]             Test:[MAE=7.140,RMSE=10.160,R2=0.536]\n",
            "DTR con splitter=random, criterion=mae, hojas=2 min_samples_split=3->             Val:[MAE=4.388,RMSE=7.363,R2=0.962]             Test:[MAE=6.817,RMSE=9.749,R2=0.573]\n",
            "DTR con splitter=random, criterion=mae, hojas=1 min_samples_split=4->             Val:[MAE=4.245,RMSE=7.421,R2=0.961]             Test:[MAE=6.609,RMSE=9.887,R2=0.561]\n",
            "DTR con splitter=random, criterion=mae, hojas=2 min_samples_split=4->             Val:[MAE=4.388,RMSE=7.363,R2=0.962]             Test:[MAE=6.817,RMSE=9.749,R2=0.573]\n",
            "DTR con splitter=random, criterion=mae, hojas=1 min_samples_split=5->             Val:[MAE=4.333,RMSE=7.608,R2=0.959]             Test:[MAE=6.809,RMSE=9.750,R2=0.573]\n",
            "DTR con splitter=random, criterion=mae, hojas=2 min_samples_split=5->             Val:[MAE=4.433,RMSE=7.522,R2=0.960]             Test:[MAE=6.093,RMSE=9.216,R2=0.618]\n",
            "DTR con splitter=random, criterion=mae, hojas=1 min_samples_split=6->             Val:[MAE=4.293,RMSE=7.553,R2=0.960]             Test:[MAE=7.002,RMSE=10.015,R2=0.549]\n",
            "DTR con splitter=random, criterion=mae, hojas=2 min_samples_split=6->             Val:[MAE=4.351,RMSE=7.336,R2=0.962]             Test:[MAE=6.252,RMSE=9.462,R2=0.598]\n",
            "DTR con splitter=random, criterion=mae, hojas=1 min_samples_split=7->             Val:[MAE=4.320,RMSE=7.396,R2=0.961]             Test:[MAE=6.680,RMSE=9.800,R2=0.569]\n",
            "DTR con splitter=random, criterion=mae, hojas=2 min_samples_split=7->             Val:[MAE=4.407,RMSE=7.320,R2=0.962]             Test:[MAE=6.451,RMSE=9.524,R2=0.593]\n"
          ],
          "name": "stdout"
        }
      ]
    },
    {
      "cell_type": "code",
      "metadata": {
        "id": "Qo6-uXugn7Ua"
      },
      "source": [
        "target = ['THC1']\n",
        "from sklearn.tree import DecisionTreeRegressor\n",
        "for i in np.arange(1,15,1):\n",
        "  for j in np.arange(1,15,1):\n",
        "   print(\"--------------------------------\")\n",
        "   print(\"--------------------------------\")\n",
        "   print(\"split:\",i)\n",
        "   for j in (1,2,4,6,8,10):\n",
        "      modelo_thc1 = DecisionTreeRegressor(random_state=2020,min_samples_split=i,criterion=\"friedman_mse\",splitter=\"random\",min_samples_leaf=j)\n",
        "      mae_val_THC1, rmse_val_THC1, r2_val_THC1, mae_tst_THC1, rmse_tst_THC1, r2_tst_THC1, y_val, pred_val, y_test1, preds_test1, val_mat, tst_mat = entrena_model(modelo_thc1, num_folds=10)\n",
        "      print('hojas',j)\n",
        "      print('DTR con criterion={}, splitter={} hojas={} min_samples_split={}-> \\\n",
        "      Val:[MAE={:.3f},RMSE={:,.3f},R2={:,.3f}] \\\n",
        "      Test:[MAE={:.3f},RMSE={:,.3f},R2={:,.3f}]'.format('friedman_mse','random',i,j,\n",
        "                                                  mae_val_THC1, rmse_val_THC1, r2_val_THC1, mae_tst_THC1 ,rmse_tst_THC1, r2_tst_THC1))"
      ],
      "execution_count": null,
      "outputs": []
    },
    {
      "cell_type": "markdown",
      "metadata": {
        "id": "q4eWdjtUo9OC"
      },
      "source": [
        "Vemos que funciona mejor con 1 ó 2 hojas, no más. Y los mejores resultados con split 2 ó 4 y 2 hojas. Elijo min_samples_split=2,min_samples_leaf=2"
      ]
    },
    {
      "cell_type": "code",
      "metadata": {
        "id": "hbbt10musWXh"
      },
      "source": [
        "#Modelo THC1\n",
        "target = ['THC1']\n",
        "from sklearn.tree import DecisionTreeRegressor\n",
        "modelo_thc1 = DecisionTreeRegressor(random_state=2020,min_samples_split=2,min_samples_leaf=2,criterion='friedman_mse',splitter='random')\n",
        "mae_val_THC1, rmse_val_THC1, r2_val_THC1, mae_tst_THC1, rmse_tst_THC1, r2_tst_THC1, y_val, pred_val, y_test1, preds_test1, val_mat, tst_mat = entrena_model(modelo_thc1, num_folds=10)\n",
        "print('DTR con criterion={}, splitter={}-> \\\n",
        "Val:[MAE={:.3f},RMSE={:,.3f},R2={:,.3f}] \\\n",
        "Test:[MAE={:.3f},RMSE={:,.3f},R2={:,.3f}]'.format('friedman_mse','random',\n",
        "                                                  mae_val_THC1, rmse_val_THC1, r2_val_THC1, mae_tst_THC1 ,rmse_tst_THC1, r2_tst_THC1))\n"
      ],
      "execution_count": null,
      "outputs": []
    },
    {
      "cell_type": "markdown",
      "metadata": {
        "id": "R-dCydS-ekag"
      },
      "source": [
        "Pruebas para el resto"
      ]
    },
    {
      "cell_type": "code",
      "metadata": {
        "id": "kIyb0zEqncPv"
      },
      "source": [
        "target = ['THC3']\n",
        "from sklearn.tree import DecisionTreeRegressor\n",
        "modelo_thc3 = DecisionTreeRegressor(random_state=2020,min_samples_split=2,min_samples_leaf=2,criterion='friedman_mse',splitter='random')\n",
        "mae_val_THC3, rmse_val_THC3, r2_val_THC3, mae_tst_THC3, rmse_tst_THC3, r2_tst_THC3, y_val, pred_val, y_test3, preds_test3, val_mat, tst_mat = entrena_model(modelo_thc3, num_folds=10)\n",
        "print('DTR con criterion={}, splitter={}-> \\\n",
        "Val:[MAE={:.3f},RMSE={:,.3f},R2={:,.3f}] \\\n",
        "Test:[MAE={:.3f},RMSE={:,.3f},R2={:,.3f}]'.format('friedman_mse','random',\n",
        "                                                  mae_val_THC3, rmse_val_THC3, r2_val_THC3, mae_tst_THC3 ,rmse_tst_THC3, r2_tst_THC3))"
      ],
      "execution_count": null,
      "outputs": []
    },
    {
      "cell_type": "code",
      "metadata": {
        "id": "ziGnrpgKmPgU"
      },
      "source": [
        "target = ['THC5']\n",
        "from sklearn.tree import DecisionTreeRegressor\n",
        "modelo_thc5 = DecisionTreeRegressor(random_state=2020,min_samples_split=2,min_samples_leaf=2,criterion='friedman_mse',splitter='random')\n",
        "mae_val_THC5, rmse_val_THC5, r2_val_THC5, mae_tst_THC5, rmse_tst_THC5, r2_tst_THC5, y_val, pred_val, y_test5, preds_test5, val_mat, tst_mat = entrena_model(modelo_thc5, num_folds=10)\n",
        "print('DTR con criterion={}, splitter={}-> \\\n",
        "Val:[MAE={:.3f},RMSE={:,.3f},R2={:,.3f}] \\\n",
        "Test:[MAE={:.3f},RMSE={:,.3f},R2={:,.3f}]'.format('friedman_mse','random',\n",
        "                                                  mae_val_THC5, rmse_val_THC5, r2_val_THC5, mae_tst_THC5 ,rmse_tst_THC5, r2_tst_THC5))"
      ],
      "execution_count": null,
      "outputs": []
    },
    {
      "cell_type": "code",
      "metadata": {
        "id": "wESKCaEReIhT"
      },
      "source": [
        "#Modelo THC3\n",
        "target = ['THC3']\n",
        "from sklearn.tree import DecisionTreeRegressor\n",
        "modelo_thc3 = DecisionTreeRegressor(random_state=2020,min_samples_split=2,min_samples_leaf=1,criterion='mse',splitter='random')\n",
        "mae_val_THC3, rmse_val_THC3, r2_val_THC3, mae_tst_THC3, rmse_tst_THC3, r2_tst_THC3, y_val, pred_val, y_test3, preds_test3, val_mat, tst_mat = entrena_model(modelo_thc3, num_folds=15)\n",
        "print('DTR con criterion={}, splitter={}-> \\\n",
        "Val:[MAE={:.3f},RMSE={:,.3f},R2={:,.3f}] \\\n",
        "Test:[MAE={:.3f},RMSE={:,.3f},R2={:,.3f}]'.format('friedman_mse','random',\n",
        "                                                  mae_val_THC3, rmse_val_THC3, r2_val_THC3, mae_tst_THC3, rmse_tst_THC3, r2_tst_THC3))"
      ],
      "execution_count": null,
      "outputs": []
    },
    {
      "cell_type": "code",
      "metadata": {
        "id": "Z3wyl0AleJgG"
      },
      "source": [
        "#Modelo THC5\n",
        "target = ['THC5']\n",
        "from sklearn.tree import DecisionTreeRegressor\n",
        "modelo_thc5 = DecisionTreeRegressor(random_state=2020,min_samples_split=2,min_samples_leaf=3,criterion='mae',splitter='best')\n",
        "mae_val_THC5, rmse_val_THC5, r2_val_THC5, mae_tst_THC5, rmse_tst_THC5, r2_tst_THC5, y_val, pred_val, y_test5, preds_test5, val_mat, tst_mat= entrena_model(modelo_thc5, num_folds=15)\n",
        "print('DTR con criterion={}, splitter={}-> \\\n",
        "Val:[MAE={:.3f},RMSE={:,.3f},R2={:,.3f}] \\\n",
        "Test:[MAE={:.3f},RMSE={:,.3f},R2={:,.3f}]'.format('mae','best',\n",
        "                                                        mae_val_THC5, rmse_val_THC5, r2_val_THC5, mae_tst_THC5, rmse_tst_THC5, r2_tst_THC5))"
      ],
      "execution_count": null,
      "outputs": []
    },
    {
      "cell_type": "markdown",
      "metadata": {
        "id": "2YSGhG3bsWXi"
      },
      "source": [
        "## Creación del Modelo B para predecir la temperatura de salida de la banda de acero"
      ]
    },
    {
      "cell_type": "markdown",
      "metadata": {
        "id": "25WTAvMusWXi"
      },
      "source": [
        "Creamos la base de datos modificando THC1, THC3, THC5 que han sido obtenidos con los modelos anteriores. Así mismo, ponemos VELMED=180. En este caso, **no eliminamos los casos cuya diferencia sea mayor de 25ºC**, pues queremos aprender el comportamiento de la banda de acero antes los diversos puntos de operación del proceso."
      ]
    },
    {
      "cell_type": "code",
      "metadata": {
        "ExecuteTime": {
          "end_time": "2021-03-08T14:18:10.773917Z",
          "start_time": "2021-03-08T14:18:10.750929Z"
        },
        "id": "9Cs8DvJKsWXi"
      },
      "source": [
        "df_train_limpia = df_train.copy()\n",
        "df_dummies = pd.get_dummies(df_train_limpia['CLASACERO'].append(df_test['CLASACERO']))\n",
        "df_train_cat = df_train_limpia.join(df_dummies.iloc[:len(df_train_limpia)])\n",
        "df_test_cat = df_test.join(df_dummies.iloc[len(df_train_limpia):])\n",
        "df_test_cat['VELMED'] = 180.0 #Velocidad Prefijada\n",
        "df_test_cat['THC1'] = preds_test1 #Predicción del modelo_thc1\n",
        "df_test_cat['THC3'] = preds_test3 #Predicción del modelo_thc3\n",
        "df_test_cat['THC5'] = preds_test5 #Predicción del modelo_thc5\n",
        "\n",
        "selec_features = ['ANCHO', 'ESPESOR', 'VELMED', 'THC1', 'THC3', 'THC5'] + list(df_dummies.columns)\n",
        "\n",
        "# Estandarizamos las bases de datos de entrenamiento y testeo\n",
        "scaler = StandardScaler()\n",
        "scaler.fit(df_train_limpia_cat[selec_features].values)\n",
        "df_train_esc = scaler.transform(df_train_cat[selec_features].values)\n",
        "df_test_esc = scaler.transform(df_test_cat[selec_features].values)\n",
        "print(df_train_esc.shape)"
      ],
      "execution_count": null,
      "outputs": []
    },
    {
      "cell_type": "markdown",
      "metadata": {
        "id": "CvZfOmiRsWXi"
      },
      "source": [
        "**EJERCICIO: Usando la metodología del Proyecto 2.2., desarrollar un modelo preciso para TMPP2. El modelo se llamará: modelo_tmpp2**"
      ]
    },
    {
      "cell_type": "markdown",
      "metadata": {
        "id": "RL-WWHOcsWXi"
      },
      "source": [
        "Como ejemplo usamos uno básico, *Ridge*. \n",
        "\n",
        "El alumno deberá buscar el mejor modelo con cada uno de los algoritmos anteriores. El proceso de selección se realizará según la metodología usada en el paso anterior (Proyecto 2.2).\n",
        "\n",
        "Realizar una Tabla con los mejores resultados de validación cruzada obtenidos con cada algoritmo."
      ]
    },
    {
      "cell_type": "code",
      "metadata": {
        "ExecuteTime": {
          "end_time": "2021-03-08T14:18:26.288123Z",
          "start_time": "2021-03-08T14:18:26.057260Z"
        },
        "id": "L2QnJwM_sWXj"
      },
      "source": [
        "target = ['TMPP2']\n",
        "model_tmpp2 = Ridge()\n",
        "mae_val, rmse_val, r2_val, mae_tst, rmse_tst, r2_tst, y_val, pred_val, y_test_tmpp2, preds_test_tmpp2, val_mat, tst_mat = entrena_model(model_tmpp2, num_folds=15)\n",
        "print('MODELO B -> \\\n",
        "    Val:[MAE={:.3f},RMSE={:,.3f},R2={:,.3f}] \\\n",
        "    Test:[MAE={:.3f},RMSE={:,.3f},R2={:,.3f}]'.format(mae_val, rmse_val, r2_val, \n",
        "                                                      mae_tst, rmse_tst, r2_tst))"
      ],
      "execution_count": null,
      "outputs": []
    },
    {
      "cell_type": "code",
      "metadata": {
        "ExecuteTime": {
          "end_time": "2021-03-08T14:18:53.045941Z",
          "start_time": "2021-03-08T14:18:28.486364Z"
        },
        "id": "MhjMzsZhsWXj"
      },
      "source": [
        "# Visualiza los errores de validación cruzada \n",
        "num_bags = 10\n",
        "y_true_rep = np.array(list(y_val)*num_bags) # Repite el target 'num_bags' veces\n",
        "y_pred_val_flatten = val_mat.flatten(order='F') # sacar un vector con todas las preds\n",
        "saca_predicciones(y_true_rep, y_pred_val_flatten)"
      ],
      "execution_count": null,
      "outputs": []
    },
    {
      "cell_type": "code",
      "metadata": {
        "ExecuteTime": {
          "end_time": "2021-03-08T14:19:08.509754Z",
          "start_time": "2021-03-08T14:18:53.046923Z"
        },
        "id": "76XFvUXSsWXj"
      },
      "source": [
        "# Visualiza los errores de testeo\n",
        "num_bags = 10\n",
        "num_folds = 15\n",
        "y_true_rep = np.array(list(y_test_tmpp2)*num_bags*num_folds) # Repite el target 'num_bags'*'num_folds' veces\n",
        "y_pred_tst_flatten = tst_mat.flatten(order='F') # sacar un vector con todas las preds\n",
        "saca_predicciones(y_true_rep, y_pred_tst_flatten)"
      ],
      "execution_count": null,
      "outputs": []
    },
    {
      "cell_type": "code",
      "metadata": {
        "id": "53OmdQCjfdEu"
      },
      "source": [
        "#Modelo TMPP2\n",
        "target = ['TMPP2']\n",
        "model_tmpp2 = DecisionTreeRegressor(random_state=2020,min_samples_split=4,min_samples_leaf=8,criterion='mae',splitter='best')\n",
        "mae_val, rmse_val, r2_val, mae_tst, rmse_tst, r2_tst, y_val, pred_val, y_test_tmpp2, preds_test_tmpp2, val_mat, tst_mat= entrena_model(model_tmpp2, num_folds=15)\n",
        "print('DTR con criterion={}, splitter={}-> \\\n",
        "Val:[MAE={:.3f},RMSE={:,.3f},R2={:,.3f}] \\\n",
        "Test:[MAE={:.3f},RMSE={:,.3f},R2={:,.3f}]'.format('mae','best',\n",
        "                                                  mae_val, rmse_val, r2_val, mae_tst, rmse_tst, r2_tst))"
      ],
      "execution_count": null,
      "outputs": []
    },
    {
      "cell_type": "markdown",
      "metadata": {
        "id": "uABz11utsWXk"
      },
      "source": [
        "Dibujamos la simulación del proceso con las predicciones de THC1, THC3, THC5, TMPP2 si fijamos VELMED a 180m/min.\n",
        "\n",
        "Obtenemos la diferencia máxima entre TMPP2 y TMPP2CNG, y vemos que es menor de los 25ºC. De este modo, la simulación nos indica que todas las bobinas van a poder ser tratadas correctamente."
      ]
    },
    {
      "cell_type": "code",
      "metadata": {
        "ExecuteTime": {
          "end_time": "2021-03-08T14:19:09.505154Z",
          "start_time": "2021-03-08T14:19:08.511742Z"
        },
        "id": "FxCNLEvDsWXk"
      },
      "source": [
        "df_test_cat['TMPP2'] = preds_test_tmpp2 #Metemos la predicción de TMPP2\n",
        "df_test_cat['TMPP1'] = np.nan # no lo sabemos. Lo ponemos a un nan\n",
        "print('DIFERENCIA MAXIMA ENTRE TMPP2CNG y TMPP2=',np.max(np.abs(df_test_cat['TMPP2CNG']-df_test_cat['TMPP2'])))\n",
        "dibuja_proceso(df_test_cat[df_test.columns])"
      ],
      "execution_count": null,
      "outputs": []
    },
    {
      "cell_type": "code",
      "metadata": {
        "id": "jQ3Vrv-7uVJ0"
      },
      "source": [
        "#nuestro modelo\n",
        "target = ['TMPP2']\n",
        "from sklearn.tree import DecisionTreeRegressor\n",
        "modelo_tmpp2 = DecisionTreeRegressor(random_state=2020,min_samples_split=2,min_samples_leaf=2,criterion='friedman_mse',splitter='random')\n",
        "mae_val_TMPP2, rmse_val_TMPP2, r2_val_TMPP2, mae_tst_TMPP2, rmse_tst_TMPP2, r2_tst_TMPP2, y_val, pred_val, y_test1, preds_TMPP2, val_mat, tst_mat = entrena_model(modelo_tmpp2, num_folds=15)\n",
        "print('DTR con criterion={}, splitter={}-> \\\n",
        "Val:[MAE={:.3f},RMSE={:,.3f},R2={:,.3f}] \\\n",
        "Test:[MAE={:.3f},RMSE={:,.3f},R2={:,.3f}]'.format('friedman_mse','random',\n",
        "                                                  mae_val_TMPP2, rmse_val_TMPP2, r2_val_TMPP2, mae_tst_TMPP2 ,rmse_tst_TMPP2, r2_tst_TMPP2))\n"
      ],
      "execution_count": null,
      "outputs": []
    },
    {
      "cell_type": "code",
      "metadata": {
        "id": "AnoIAy50wzyl"
      },
      "source": [
        "for i in (2,4,6,8,10):\n",
        "   print(\"--------------------------------\")\n",
        "   print(\"--------------------------------\")\n",
        "   print(\"split:\",i)\n",
        "   for j in (1,2,4,6,8,10):\n",
        "      modelo_tmpp2 = DecisionTreeRegressor(random_state=2020,min_samples_split=i,min_samples_leaf=j,criterion='friedman_mse',splitter='random')\n",
        "      mae_val_TMPP2, rmse_val_TMPP2, r2_val_TMPP2, mae_tst_TMPP2, rmse_tst_TMPP2, r2_tst_TMPP2, y_val, pred_val, y_test1, preds_TMPP2, val_mat_TMPP2, tst_mat = entrena_model(modelo_tmpp2, num_folds=10)\n",
        "      print('hojas',j)\n",
        "      print('DTR con criterion={}, splitter={}-> \\\n",
        "      Val:[MAE={:.3f},RMSE={:,.3f},R2={:,.3f}] \\\n",
        "      Test:[MAE={:.3f},RMSE={:,.3f},R2={:,.3f}]'.format('friedman_mse','random',\n",
        "                                                  mae_val_TMPP2, rmse_val_TMPP2, r2_val_TMPP2, mae_tst_TMPP2 ,rmse_tst_TMPP2, r2_tst_TMPP2))"
      ],
      "execution_count": null,
      "outputs": []
    },
    {
      "cell_type": "markdown",
      "metadata": {
        "id": "PfD3K_lgJiwV"
      },
      "source": [
        "Vemos que los mejores resulados son: split 2, hojas 1 y con un mae de [MAE=4.098,RMSE=6.911,R2=0.954] y que sale mucho mejro con 10 folds"
      ]
    },
    {
      "cell_type": "code",
      "metadata": {
        "id": "hInpBhvPKPzk"
      },
      "source": [
        "#Solucion\n",
        "modelo_tmpp2 = DecisionTreeRegressor(random_state=2020,min_samples_split=2,min_samples_leaf=1,criterion='friedman_mse',splitter='random')\n",
        "mae_val_TMPP2, rmse_val_TMPP2, r2_val_TMPP2, mae_tst_TMPP2, rmse_tst_TMPP2, r2_tst_TMPP2, y_val, pred_val, y_test1, preds_TMPP2, val_mat_TMPP2, tst_mat = entrena_model(modelo_tmpp2, num_folds=10)\n",
        "print('hojas',j)\n",
        "print('DTR con criterion={}, splitter={}-> \\\n",
        "      Val:[MAE={:.3f},RMSE={:,.3f},R2={:,.3f}] \\\n",
        "      Test:[MAE={:.3f},RMSE={:,.3f},R2={:,.3f}]'.format('friedman_mse','random',\n",
        "                                                  mae_val_TMPP2, rmse_val_TMPP2, r2_val_TMPP2, mae_tst_TMPP2 ,rmse_tst_TMPP2, r2_tst_TMPP2))\n",
        "num_bags = 10\n",
        "y_true_rep = np.array(list(y_val)*num_bags) # Repite el target 'num_bags' veces\n",
        "y_pred_val_flatten = val_mat_TMPP2.flatten(order='F') # sacar un vector con todas las preds\n",
        "saca_predicciones(y_true_rep, y_pred_val_flatten)\n",
        "df_test_cat['TMPP2'] = preds_TMPP2 #Metemos la predicción de TMPP2\n",
        "df_test_cat['TMPP1'] = np.nan # no lo sabemos. Lo ponemos a un nan\n",
        "print('DIFERENCIA MAXIMA ENTRE TMPP2CNG y TMPP2=',np.max(np.abs(df_test_cat['TMPP2CNG']-df_test_cat['TMPP2'])))\n",
        "dibuja_proceso(df_test_cat[df_test.columns])"
      ],
      "execution_count": null,
      "outputs": []
    },
    {
      "cell_type": "markdown",
      "metadata": {
        "id": "b9FvxhogsWXk"
      },
      "source": [
        "## Optimización del Scheduling de Bobinas para Minimizar los Saltos Térmicos de THC1"
      ]
    },
    {
      "cell_type": "markdown",
      "metadata": {
        "id": "ZIjLwWnpsWXk"
      },
      "source": [
        "El segundo objetivo es minimizar los saltos de THC1. Como THC1, THC3 y THC5 están muy correladas entre sí, si minimizamos los saltos de THC1 se minimizarán los saltos térmicos de las otras dos variables. Podemos calcular la suma de la diferencias de temperaturas fácilmente:"
      ]
    },
    {
      "cell_type": "code",
      "metadata": {
        "ExecuteTime": {
          "end_time": "2021-03-08T14:19:09.520194Z",
          "start_time": "2021-03-08T14:19:09.507153Z"
        },
        "id": "gJgS1ShCsWXk"
      },
      "source": [
        "def calcula_diff(thc1, var):\n",
        "    suma_diff = thc1.diff().abs().sum()\n",
        "    print(f'Suma de differencias en valor absoluto de {var} entre bobinas consecutivas={suma_diff:,.2f}')\n",
        "\n",
        "calcula_diff(df_test_cat['THC1'],'THC1')\n",
        "calcula_diff(df_test_cat['THC3'],'THC3')\n",
        "calcula_diff(df_test_cat['THC5'],'THC5')"
      ],
      "execution_count": null,
      "outputs": []
    },
    {
      "cell_type": "markdown",
      "metadata": {
        "id": "TtPQQ90YsWXl"
      },
      "source": [
        "La máxima minimización de los saltos de THC1 la obtendríamos ordenando las bobinas según THC1, tal y como se puede observar en las siguientes celdas.\n",
        "\n",
        "Vemos que el mínimo valor de saltos en THC1 es una suma de 64ºC en total. Sin embargo, vemos que existe un enorme desorden de las bobinas con muchos saltos entre espesores y anchos de bobina."
      ]
    },
    {
      "cell_type": "code",
      "metadata": {
        "ExecuteTime": {
          "end_time": "2021-03-08T14:19:10.390709Z",
          "start_time": "2021-03-08T14:19:09.522197Z"
        },
        "id": "KpSzJ8_DsWXl"
      },
      "source": [
        "calcula_diff(df_test_cat.sort_values(['THC1'])['THC1'],'THC1')\n",
        "calcula_diff(df_test_cat.sort_values(['THC1'])['THC3'],'THC3')\n",
        "calcula_diff(df_test_cat.sort_values(['THC1'])['THC5'],'THC5')\n",
        "\n",
        "dibuja_proceso(df_test_cat[df_test.columns].sort_values(['THC1']).reset_index())"
      ],
      "execution_count": null,
      "outputs": []
    },
    {
      "cell_type": "code",
      "metadata": {
        "ExecuteTime": {
          "end_time": "2021-03-08T14:19:10.422646Z",
          "start_time": "2021-03-08T14:19:10.391678Z"
        },
        "id": "UNInhWT-sWXl"
      },
      "source": [
        "df_test_cat[df_test.columns].sort_values(['THC1']).head(10)"
      ],
      "execution_count": null,
      "outputs": []
    },
    {
      "cell_type": "markdown",
      "metadata": {
        "id": "pZ2heQRAsWXl"
      },
      "source": [
        "Sin embargo, a efecto prácticos, **es conveniente reorganizar las bobinas de modo que las dimensiones en ancho y espesor no difieran mucho unas de otras pues las bobinas se desenrollan y van soldadas una detrás de otra. Si se sueldan bobinas con dimensiones muy diferentes, las soldaduras pueden romperse y generar paradas en el proceso que son muy costoss**. Así mismo, el tipo de acero es importante que sea lo más constante posible."
      ]
    },
    {
      "cell_type": "markdown",
      "metadata": {
        "id": "K9BCip1usWXm"
      },
      "source": [
        "En el ejemplo siguiente, intentamos ordenar en base a THC1 redondeado, el ancho redondeado, el espesor redondeado y el tipo de acero. Según las variables elegidas podemos ordenar el *scheduling* de bobinas a procesar. El redondeo permite agrupar las bobinas con dimensiones parecidas o THC1 parecidas.\n",
        "\n",
        "Según la estrategia de ordenamiento y el tipo de redondeo que hagamos, podemos realizar un tipo de orden u otro."
      ]
    },
    {
      "cell_type": "code",
      "metadata": {
        "ExecuteTime": {
          "end_time": "2021-03-08T14:19:11.335609Z",
          "start_time": "2021-03-08T14:19:10.424647Z"
        },
        "id": "oQ-4IeoBsWXm"
      },
      "source": [
        "df_sort = df_test_cat[df_test.columns].copy()\n",
        "df_sort['THC1_DEC'] = df_sort['THC1']//20 #El divisor puede modificarse para agrupar menos o más \n",
        "df_sort['ESPESOR_DEC'] = df_sort['ESPESOR']*10//1 #El divisor puede modificarse para agrupar menos o más\n",
        "df_sort['ANCHO_DEC'] = df_sort['ANCHO']//50 #El divisor puede modificarse para agrupar menos o más\n",
        "# print(df_sort.head(3))\n",
        "df_sort = df_sort.sort_values(['THC1_DEC','ESPESOR_DEC','CLASACERO']).reset_index()\n",
        "calcula_diff(df_sort['THC1'],'THC1')\n",
        "calcula_diff(df_sort['THC3'],'THC3')\n",
        "calcula_diff(df_sort['THC5'],'THC5')\n",
        "calcula_diff(df_sort['ANCHO'],'ANCHO')\n",
        "calcula_diff(df_sort['ESPESOR'],'ESPESOR')\n",
        "dibuja_proceso(df_sort)"
      ],
      "execution_count": null,
      "outputs": []
    },
    {
      "cell_type": "markdown",
      "metadata": {
        "id": "P0IuyBIesWXm"
      },
      "source": [
        "Esta es la lista de las bobinas ordenadas"
      ]
    },
    {
      "cell_type": "code",
      "metadata": {
        "ExecuteTime": {
          "end_time": "2021-03-08T14:19:11.367590Z",
          "start_time": "2021-03-08T14:19:11.338594Z"
        },
        "id": "yW5yhoLHsWXm"
      },
      "source": [
        "df_sort.head(10)"
      ],
      "execution_count": null,
      "outputs": []
    },
    {
      "cell_type": "markdown",
      "metadata": {
        "id": "1lN6zjpFsWXm"
      },
      "source": [
        "**EJERCICIO: Buscar la forma de ordenar las bobinas para que**:\n",
        "\n",
        "- La suma de differencias en valor absoluto de THC1 entre bobinas consecutivas sea < 100\n",
        "- La suma de differencias en valor absoluto de THC3 entre bobinas consecutivas sea < 110\n",
        "- La suma de differencias en valor absoluto de THC5 entre bobinas consecutivas sea < 120\n",
        "- La suma de differencias en valor absoluto de ANCHO entre bobinas consecutivas sea < 2800\n",
        "- La suma de differencias en valor absoluto de ESPESOR entre bobinas consecutivas sea < 1.8\n",
        "\n",
        "**Saca la lista completa de bobinas ordenadas y dibuja la simulación del proceso final.**"
      ]
    },
    {
      "cell_type": "code",
      "metadata": {
        "id": "HYEWQW00VuJ6"
      },
      "source": [
        "def calcula_diff_numero(thc1, var):\n",
        "    suma_diff = thc1.diff().abs().sum()\n",
        "    return suma_diff"
      ],
      "execution_count": null,
      "outputs": []
    },
    {
      "cell_type": "code",
      "metadata": {
        "id": "VwLSg7crsWXn"
      },
      "source": [
        "df_sort = df_test_cat[df_test.columns].copy()\n",
        "for i in (2,4,5,6,8,10):\n",
        "  \n",
        "  print(\"i=\",i)\n",
        "  for j in (1,2,3,4,5,6,7,8):\n",
        "    df_sort = df_test_cat[df_test.columns].copy()\n",
        "    df_sort['THC1_DEC'] = df_sort['THC1']//i #El divisor puede modificarse para agrupar menos o más \n",
        "    df_sort['ESPESOR_DEC'] = df_sort['ESPESOR']*10+j//1 #El divisor puede modificarse para agrupar menos o más\n",
        "    df_sort['ANCHO_DEC'] = df_sort['ANCHO']//60 #El divisor puede modificarse para agrupar menos o más\n",
        "    df_sort = df_sort.sort_values(['THC1_DEC','ESPESOR_DEC','CLASACERO']).reset_index()\n",
        "    if(calcula_diff_numero(df_sort['THC1'],'THC1')<=100):\n",
        "      if(calcula_diff_numero(df_sort['THC1'],'THC1')<=100):\n",
        "        print(\"j=\",j)\n",
        "        calcula_diff(df_sort['THC1'],'THC1')\n",
        "        calcula_diff(df_sort['THC3'],'THC3')\n",
        "        calcula_diff(df_sort['THC5'],'THC5')\n",
        "        calcula_diff(df_sort['ANCHO'],'ANCHO')\n",
        "        calcula_diff(df_sort['ESPESOR'],'ESPESOR')    \n",
        "        print(\"-------------------------------------------\")\n",
        "  print(\"===========================================\")"
      ],
      "execution_count": null,
      "outputs": []
    },
    {
      "cell_type": "code",
      "metadata": {
        "id": "eTvpf7BPsWXn"
      },
      "source": [
        ""
      ],
      "execution_count": null,
      "outputs": []
    },
    {
      "cell_type": "markdown",
      "metadata": {
        "id": "xNfUcJFbsWXn"
      },
      "source": [
        "# ENTREGA"
      ]
    },
    {
      "cell_type": "markdown",
      "metadata": {
        "id": "e_klWOVOsWXn"
      },
      "source": [
        "Recuerda guardar tus cambios en tu repositorio utilizando la opción \"Save a copy in GitHub...\" del menú File."
      ]
    },
    {
      "cell_type": "code",
      "metadata": {
        "id": "ykeIyFMDsWXn"
      },
      "source": [
        ""
      ],
      "execution_count": null,
      "outputs": []
    }
  ]
}