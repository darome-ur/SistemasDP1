{
  "nbformat": 4,
  "nbformat_minor": 0,
  "metadata": {
    "kernelspec": {
      "display_name": "Python 3",
      "language": "python",
      "name": "python3"
    },
    "language_info": {
      "codemirror_mode": {
        "name": "ipython",
        "version": 3
      },
      "file_extension": ".py",
      "mimetype": "text/x-python",
      "name": "python",
      "nbconvert_exporter": "python",
      "pygments_lexer": "ipython3",
      "version": "3.8.5"
    },
    "toc": {
      "base_numbering": 1,
      "nav_menu": {},
      "number_sections": true,
      "sideBar": true,
      "skip_h1_title": false,
      "title_cell": "Table of Contents",
      "title_sidebar": "Contents",
      "toc_cell": false,
      "toc_position": {},
      "toc_section_display": true,
      "toc_window_display": false
    },
    "colab": {
      "name": "Proyecto_3_B_Parte_3_Diseño_Avanzado_Otto_STACKING.ipynb",
      "provenance": []
    },
    "accelerator": "GPU",
    "widgets": {
      "application/vnd.jupyter.widget-state+json": {
        "7f06a90917334a73b30b742eafea65c4": {
          "model_module": "@jupyter-widgets/controls",
          "model_name": "HBoxModel",
          "state": {
            "_view_name": "HBoxView",
            "_dom_classes": [],
            "_model_name": "HBoxModel",
            "_view_module": "@jupyter-widgets/controls",
            "_model_module_version": "1.5.0",
            "_view_count": null,
            "_view_module_version": "1.5.0",
            "box_style": "",
            "layout": "IPY_MODEL_705c3af5cb8641b8b44c2fac1a8aa2b1",
            "_model_module": "@jupyter-widgets/controls",
            "children": [
              "IPY_MODEL_bce7f1d6663c4ccbba3d8eb5d3250836",
              "IPY_MODEL_33e84f6d9f9743e4a75faa84143b6c60"
            ]
          }
        },
        "705c3af5cb8641b8b44c2fac1a8aa2b1": {
          "model_module": "@jupyter-widgets/base",
          "model_name": "LayoutModel",
          "state": {
            "_view_name": "LayoutView",
            "grid_template_rows": null,
            "right": null,
            "justify_content": null,
            "_view_module": "@jupyter-widgets/base",
            "overflow": null,
            "_model_module_version": "1.2.0",
            "_view_count": null,
            "flex_flow": null,
            "width": null,
            "min_width": null,
            "border": null,
            "align_items": null,
            "bottom": null,
            "_model_module": "@jupyter-widgets/base",
            "top": null,
            "grid_column": null,
            "overflow_y": null,
            "overflow_x": null,
            "grid_auto_flow": null,
            "grid_area": null,
            "grid_template_columns": null,
            "flex": null,
            "_model_name": "LayoutModel",
            "justify_items": null,
            "grid_row": null,
            "max_height": null,
            "align_content": null,
            "visibility": null,
            "align_self": null,
            "height": null,
            "min_height": null,
            "padding": null,
            "grid_auto_rows": null,
            "grid_gap": null,
            "max_width": null,
            "order": null,
            "_view_module_version": "1.2.0",
            "grid_template_areas": null,
            "object_position": null,
            "object_fit": null,
            "grid_auto_columns": null,
            "margin": null,
            "display": null,
            "left": null
          }
        },
        "bce7f1d6663c4ccbba3d8eb5d3250836": {
          "model_module": "@jupyter-widgets/controls",
          "model_name": "FloatProgressModel",
          "state": {
            "_view_name": "ProgressView",
            "style": "IPY_MODEL_6ef5ab85704445fea9e13f275b7efbf2",
            "_dom_classes": [],
            "description": "100%",
            "_model_name": "FloatProgressModel",
            "bar_style": "success",
            "max": 2,
            "_view_module": "@jupyter-widgets/controls",
            "_model_module_version": "1.5.0",
            "value": 2,
            "_view_count": null,
            "_view_module_version": "1.5.0",
            "orientation": "horizontal",
            "min": 0,
            "description_tooltip": null,
            "_model_module": "@jupyter-widgets/controls",
            "layout": "IPY_MODEL_bc023dd4ccdc4d4ca989f7f10fba74d7"
          }
        },
        "33e84f6d9f9743e4a75faa84143b6c60": {
          "model_module": "@jupyter-widgets/controls",
          "model_name": "HTMLModel",
          "state": {
            "_view_name": "HTMLView",
            "style": "IPY_MODEL_10864db966ce43b0be624d788d49b94e",
            "_dom_classes": [],
            "description": "",
            "_model_name": "HTMLModel",
            "placeholder": "​",
            "_view_module": "@jupyter-widgets/controls",
            "_model_module_version": "1.5.0",
            "value": " 2/2 [32:29&lt;00:00, 974.69s/it]",
            "_view_count": null,
            "_view_module_version": "1.5.0",
            "description_tooltip": null,
            "_model_module": "@jupyter-widgets/controls",
            "layout": "IPY_MODEL_eb50266e6fff49ecb59ca0bc893845ef"
          }
        },
        "6ef5ab85704445fea9e13f275b7efbf2": {
          "model_module": "@jupyter-widgets/controls",
          "model_name": "ProgressStyleModel",
          "state": {
            "_view_name": "StyleView",
            "_model_name": "ProgressStyleModel",
            "description_width": "initial",
            "_view_module": "@jupyter-widgets/base",
            "_model_module_version": "1.5.0",
            "_view_count": null,
            "_view_module_version": "1.2.0",
            "bar_color": null,
            "_model_module": "@jupyter-widgets/controls"
          }
        },
        "bc023dd4ccdc4d4ca989f7f10fba74d7": {
          "model_module": "@jupyter-widgets/base",
          "model_name": "LayoutModel",
          "state": {
            "_view_name": "LayoutView",
            "grid_template_rows": null,
            "right": null,
            "justify_content": null,
            "_view_module": "@jupyter-widgets/base",
            "overflow": null,
            "_model_module_version": "1.2.0",
            "_view_count": null,
            "flex_flow": null,
            "width": null,
            "min_width": null,
            "border": null,
            "align_items": null,
            "bottom": null,
            "_model_module": "@jupyter-widgets/base",
            "top": null,
            "grid_column": null,
            "overflow_y": null,
            "overflow_x": null,
            "grid_auto_flow": null,
            "grid_area": null,
            "grid_template_columns": null,
            "flex": null,
            "_model_name": "LayoutModel",
            "justify_items": null,
            "grid_row": null,
            "max_height": null,
            "align_content": null,
            "visibility": null,
            "align_self": null,
            "height": null,
            "min_height": null,
            "padding": null,
            "grid_auto_rows": null,
            "grid_gap": null,
            "max_width": null,
            "order": null,
            "_view_module_version": "1.2.0",
            "grid_template_areas": null,
            "object_position": null,
            "object_fit": null,
            "grid_auto_columns": null,
            "margin": null,
            "display": null,
            "left": null
          }
        },
        "10864db966ce43b0be624d788d49b94e": {
          "model_module": "@jupyter-widgets/controls",
          "model_name": "DescriptionStyleModel",
          "state": {
            "_view_name": "StyleView",
            "_model_name": "DescriptionStyleModel",
            "description_width": "",
            "_view_module": "@jupyter-widgets/base",
            "_model_module_version": "1.5.0",
            "_view_count": null,
            "_view_module_version": "1.2.0",
            "_model_module": "@jupyter-widgets/controls"
          }
        },
        "eb50266e6fff49ecb59ca0bc893845ef": {
          "model_module": "@jupyter-widgets/base",
          "model_name": "LayoutModel",
          "state": {
            "_view_name": "LayoutView",
            "grid_template_rows": null,
            "right": null,
            "justify_content": null,
            "_view_module": "@jupyter-widgets/base",
            "overflow": null,
            "_model_module_version": "1.2.0",
            "_view_count": null,
            "flex_flow": null,
            "width": null,
            "min_width": null,
            "border": null,
            "align_items": null,
            "bottom": null,
            "_model_module": "@jupyter-widgets/base",
            "top": null,
            "grid_column": null,
            "overflow_y": null,
            "overflow_x": null,
            "grid_auto_flow": null,
            "grid_area": null,
            "grid_template_columns": null,
            "flex": null,
            "_model_name": "LayoutModel",
            "justify_items": null,
            "grid_row": null,
            "max_height": null,
            "align_content": null,
            "visibility": null,
            "align_self": null,
            "height": null,
            "min_height": null,
            "padding": null,
            "grid_auto_rows": null,
            "grid_gap": null,
            "max_width": null,
            "order": null,
            "_view_module_version": "1.2.0",
            "grid_template_areas": null,
            "object_position": null,
            "object_fit": null,
            "grid_auto_columns": null,
            "margin": null,
            "display": null,
            "left": null
          }
        },
        "acdf945ff42b42509c87df215b7ee564": {
          "model_module": "@jupyter-widgets/controls",
          "model_name": "HBoxModel",
          "state": {
            "_view_name": "HBoxView",
            "_dom_classes": [],
            "_model_name": "HBoxModel",
            "_view_module": "@jupyter-widgets/controls",
            "_model_module_version": "1.5.0",
            "_view_count": null,
            "_view_module_version": "1.5.0",
            "box_style": "",
            "layout": "IPY_MODEL_16371881db7148448e7d3e21633b0908",
            "_model_module": "@jupyter-widgets/controls",
            "children": [
              "IPY_MODEL_816534b16e4d415fa4b7c8fdcacfd4da",
              "IPY_MODEL_18145c88f7104f9c91c9036e31622767"
            ]
          }
        },
        "16371881db7148448e7d3e21633b0908": {
          "model_module": "@jupyter-widgets/base",
          "model_name": "LayoutModel",
          "state": {
            "_view_name": "LayoutView",
            "grid_template_rows": null,
            "right": null,
            "justify_content": null,
            "_view_module": "@jupyter-widgets/base",
            "overflow": null,
            "_model_module_version": "1.2.0",
            "_view_count": null,
            "flex_flow": null,
            "width": null,
            "min_width": null,
            "border": null,
            "align_items": null,
            "bottom": null,
            "_model_module": "@jupyter-widgets/base",
            "top": null,
            "grid_column": null,
            "overflow_y": null,
            "overflow_x": null,
            "grid_auto_flow": null,
            "grid_area": null,
            "grid_template_columns": null,
            "flex": null,
            "_model_name": "LayoutModel",
            "justify_items": null,
            "grid_row": null,
            "max_height": null,
            "align_content": null,
            "visibility": null,
            "align_self": null,
            "height": null,
            "min_height": null,
            "padding": null,
            "grid_auto_rows": null,
            "grid_gap": null,
            "max_width": null,
            "order": null,
            "_view_module_version": "1.2.0",
            "grid_template_areas": null,
            "object_position": null,
            "object_fit": null,
            "grid_auto_columns": null,
            "margin": null,
            "display": null,
            "left": null
          }
        },
        "816534b16e4d415fa4b7c8fdcacfd4da": {
          "model_module": "@jupyter-widgets/controls",
          "model_name": "FloatProgressModel",
          "state": {
            "_view_name": "ProgressView",
            "style": "IPY_MODEL_a1e3eac4cd2c49a0a60ce0c8ffcb56a7",
            "_dom_classes": [],
            "description": "  0%",
            "_model_name": "FloatProgressModel",
            "bar_style": "",
            "max": 3,
            "_view_module": "@jupyter-widgets/controls",
            "_model_module_version": "1.5.0",
            "value": 0,
            "_view_count": null,
            "_view_module_version": "1.5.0",
            "orientation": "horizontal",
            "min": 0,
            "description_tooltip": null,
            "_model_module": "@jupyter-widgets/controls",
            "layout": "IPY_MODEL_335e3af9659b4ade834cbfe376f4f6b2"
          }
        },
        "18145c88f7104f9c91c9036e31622767": {
          "model_module": "@jupyter-widgets/controls",
          "model_name": "HTMLModel",
          "state": {
            "_view_name": "HTMLView",
            "style": "IPY_MODEL_813c2188b2cf41759c6094edb1b986db",
            "_dom_classes": [],
            "description": "",
            "_model_name": "HTMLModel",
            "placeholder": "​",
            "_view_module": "@jupyter-widgets/controls",
            "_model_module_version": "1.5.0",
            "value": " 0/3 [00:00&lt;?, ?it/s]",
            "_view_count": null,
            "_view_module_version": "1.5.0",
            "description_tooltip": null,
            "_model_module": "@jupyter-widgets/controls",
            "layout": "IPY_MODEL_17586931c3b942179e76d8aaae22d3b0"
          }
        },
        "a1e3eac4cd2c49a0a60ce0c8ffcb56a7": {
          "model_module": "@jupyter-widgets/controls",
          "model_name": "ProgressStyleModel",
          "state": {
            "_view_name": "StyleView",
            "_model_name": "ProgressStyleModel",
            "description_width": "initial",
            "_view_module": "@jupyter-widgets/base",
            "_model_module_version": "1.5.0",
            "_view_count": null,
            "_view_module_version": "1.2.0",
            "bar_color": null,
            "_model_module": "@jupyter-widgets/controls"
          }
        },
        "335e3af9659b4ade834cbfe376f4f6b2": {
          "model_module": "@jupyter-widgets/base",
          "model_name": "LayoutModel",
          "state": {
            "_view_name": "LayoutView",
            "grid_template_rows": null,
            "right": null,
            "justify_content": null,
            "_view_module": "@jupyter-widgets/base",
            "overflow": null,
            "_model_module_version": "1.2.0",
            "_view_count": null,
            "flex_flow": null,
            "width": null,
            "min_width": null,
            "border": null,
            "align_items": null,
            "bottom": null,
            "_model_module": "@jupyter-widgets/base",
            "top": null,
            "grid_column": null,
            "overflow_y": null,
            "overflow_x": null,
            "grid_auto_flow": null,
            "grid_area": null,
            "grid_template_columns": null,
            "flex": null,
            "_model_name": "LayoutModel",
            "justify_items": null,
            "grid_row": null,
            "max_height": null,
            "align_content": null,
            "visibility": null,
            "align_self": null,
            "height": null,
            "min_height": null,
            "padding": null,
            "grid_auto_rows": null,
            "grid_gap": null,
            "max_width": null,
            "order": null,
            "_view_module_version": "1.2.0",
            "grid_template_areas": null,
            "object_position": null,
            "object_fit": null,
            "grid_auto_columns": null,
            "margin": null,
            "display": null,
            "left": null
          }
        },
        "813c2188b2cf41759c6094edb1b986db": {
          "model_module": "@jupyter-widgets/controls",
          "model_name": "DescriptionStyleModel",
          "state": {
            "_view_name": "StyleView",
            "_model_name": "DescriptionStyleModel",
            "description_width": "",
            "_view_module": "@jupyter-widgets/base",
            "_model_module_version": "1.5.0",
            "_view_count": null,
            "_view_module_version": "1.2.0",
            "_model_module": "@jupyter-widgets/controls"
          }
        },
        "17586931c3b942179e76d8aaae22d3b0": {
          "model_module": "@jupyter-widgets/base",
          "model_name": "LayoutModel",
          "state": {
            "_view_name": "LayoutView",
            "grid_template_rows": null,
            "right": null,
            "justify_content": null,
            "_view_module": "@jupyter-widgets/base",
            "overflow": null,
            "_model_module_version": "1.2.0",
            "_view_count": null,
            "flex_flow": null,
            "width": null,
            "min_width": null,
            "border": null,
            "align_items": null,
            "bottom": null,
            "_model_module": "@jupyter-widgets/base",
            "top": null,
            "grid_column": null,
            "overflow_y": null,
            "overflow_x": null,
            "grid_auto_flow": null,
            "grid_area": null,
            "grid_template_columns": null,
            "flex": null,
            "_model_name": "LayoutModel",
            "justify_items": null,
            "grid_row": null,
            "max_height": null,
            "align_content": null,
            "visibility": null,
            "align_self": null,
            "height": null,
            "min_height": null,
            "padding": null,
            "grid_auto_rows": null,
            "grid_gap": null,
            "max_width": null,
            "order": null,
            "_view_module_version": "1.2.0",
            "grid_template_areas": null,
            "object_position": null,
            "object_fit": null,
            "grid_auto_columns": null,
            "margin": null,
            "display": null,
            "left": null
          }
        }
      }
    }
  },
  "cells": [
    {
      "cell_type": "markdown",
      "metadata": {
        "id": "YC9lLDp54L1Q"
      },
      "source": [
        "# Proyecto 3.B. Parte 3. Diseño de DSS en Empresa de Ventas en la Red: Stacking"
      ]
    },
    {
      "cell_type": "markdown",
      "metadata": {
        "id": "cMQDx6Ft4L1Z"
      },
      "source": [
        "Vamos a intentar crear un modelo más preciso mediante *stacking*."
      ]
    },
    {
      "cell_type": "code",
      "metadata": {
        "id": "9Pu9LzzL4L1a",
        "outputId": "18d712a7-45bd-4cd2-bb56-2f8b7c4b89c8",
        "colab": {
          "base_uri": "https://localhost:8080/"
        }
      },
      "source": [
        "!pip install bayesian-optimization\n",
        "!pip install lightgbm\n",
        "!pip install xgboost"
      ],
      "execution_count": 1,
      "outputs": [
        {
          "output_type": "stream",
          "text": [
            "Collecting bayesian-optimization\n",
            "  Downloading https://files.pythonhosted.org/packages/bb/7a/fd8059a3881d3ab37ac8f72f56b73937a14e8bb14a9733e68cc8b17dbe3c/bayesian-optimization-1.2.0.tar.gz\n",
            "Requirement already satisfied: numpy>=1.9.0 in /usr/local/lib/python3.7/dist-packages (from bayesian-optimization) (1.19.5)\n",
            "Requirement already satisfied: scipy>=0.14.0 in /usr/local/lib/python3.7/dist-packages (from bayesian-optimization) (1.4.1)\n",
            "Requirement already satisfied: scikit-learn>=0.18.0 in /usr/local/lib/python3.7/dist-packages (from bayesian-optimization) (0.22.2.post1)\n",
            "Requirement already satisfied: joblib>=0.11 in /usr/local/lib/python3.7/dist-packages (from scikit-learn>=0.18.0->bayesian-optimization) (1.0.1)\n",
            "Building wheels for collected packages: bayesian-optimization\n",
            "  Building wheel for bayesian-optimization (setup.py) ... \u001b[?25l\u001b[?25hdone\n",
            "  Created wheel for bayesian-optimization: filename=bayesian_optimization-1.2.0-cp37-none-any.whl size=11686 sha256=25b36c74f603947c7360cd69ca70c458e3fb665cb9b7d92712c08c8d8d1cf240\n",
            "  Stored in directory: /root/.cache/pip/wheels/5a/56/ae/e0e3c1fc1954dc3ec712e2df547235ed072b448094d8f94aec\n",
            "Successfully built bayesian-optimization\n",
            "Installing collected packages: bayesian-optimization\n",
            "Successfully installed bayesian-optimization-1.2.0\n",
            "Requirement already satisfied: lightgbm in /usr/local/lib/python3.7/dist-packages (2.2.3)\n",
            "Requirement already satisfied: numpy in /usr/local/lib/python3.7/dist-packages (from lightgbm) (1.19.5)\n",
            "Requirement already satisfied: scikit-learn in /usr/local/lib/python3.7/dist-packages (from lightgbm) (0.22.2.post1)\n",
            "Requirement already satisfied: scipy in /usr/local/lib/python3.7/dist-packages (from lightgbm) (1.4.1)\n",
            "Requirement already satisfied: joblib>=0.11 in /usr/local/lib/python3.7/dist-packages (from scikit-learn->lightgbm) (1.0.1)\n",
            "Requirement already satisfied: xgboost in /usr/local/lib/python3.7/dist-packages (0.90)\n",
            "Requirement already satisfied: scipy in /usr/local/lib/python3.7/dist-packages (from xgboost) (1.4.1)\n",
            "Requirement already satisfied: numpy in /usr/local/lib/python3.7/dist-packages (from xgboost) (1.19.5)\n"
          ],
          "name": "stdout"
        }
      ]
    },
    {
      "cell_type": "code",
      "metadata": {
        "id": "isbYFPn14L1e"
      },
      "source": [
        "# Importamos paquetes basicos\n",
        "import pandas as pd \n",
        "import numpy as np\n",
        "import matplotlib.pyplot as plt\n",
        "import seaborn as sns\n",
        "import io\n",
        "# from tqdm.notebook import tqdm\n",
        "from tqdm import tqdm_notebook as tqdm\n",
        "\n",
        "import sklearn\n",
        "from sklearn.preprocessing import LabelEncoder, StandardScaler\n",
        "from sklearn.ensemble import RandomForestClassifier, BaggingClassifier \n",
        "from sklearn.metrics import log_loss\n",
        "from sklearn.calibration import CalibratedClassifierCV\n",
        "from sklearn.model_selection import RepeatedStratifiedKFold, train_test_split\n",
        "from sklearn.linear_model import LogisticRegression\n",
        "from sklearn.neural_network import MLPClassifier\n",
        "from xgboost.sklearn import XGBClassifier\n",
        "from lightgbm.sklearn import LGBMClassifier\n",
        "\n",
        "import pickle\n",
        "\n",
        "# %matplotlib inline\n",
        "plt.style.use('ggplot')\n",
        "# Elimina la limitación en visualización del numero de columnas\n",
        "pd.set_option('display.max_columns', None) "
      ],
      "execution_count": 2,
      "outputs": []
    },
    {
      "cell_type": "markdown",
      "metadata": {
        "id": "H9Mpa0Gc4L1g"
      },
      "source": [
        "## Cargamos la Base de Datos"
      ]
    },
    {
      "cell_type": "code",
      "metadata": {
        "id": "BfD2Zl3o4L1h",
        "outputId": "b7d1e582-1d0f-41ca-9159-99f1c6fde6e2",
        "colab": {
          "base_uri": "https://localhost:8080/"
        }
      },
      "source": [
        "!wget https://github.com/IC1920/Datasets/raw/master/train.zip -O train.zip\n",
        "!wget https://github.com/IC1920/Datasets/raw/master/test.zip -O test.zip\n",
        "!unzip -o train.zip\n",
        "!unzip -o test.zip"
      ],
      "execution_count": 3,
      "outputs": [
        {
          "output_type": "stream",
          "text": [
            "--2021-06-12 15:40:30--  https://github.com/IC1920/Datasets/raw/master/train.zip\n",
            "Resolving github.com (github.com)... 140.82.121.4\n",
            "Connecting to github.com (github.com)|140.82.121.4|:443... connected.\n",
            "HTTP request sent, awaiting response... 302 Found\n",
            "Location: https://raw.githubusercontent.com/IC1920/Datasets/master/train.zip [following]\n",
            "--2021-06-12 15:40:30--  https://raw.githubusercontent.com/IC1920/Datasets/master/train.zip\n",
            "Resolving raw.githubusercontent.com (raw.githubusercontent.com)... 185.199.109.133, 185.199.108.133, 185.199.110.133, ...\n",
            "Connecting to raw.githubusercontent.com (raw.githubusercontent.com)|185.199.109.133|:443... connected.\n",
            "HTTP request sent, awaiting response... 200 OK\n",
            "Length: 1655239 (1.6M) [application/zip]\n",
            "Saving to: ‘train.zip’\n",
            "\n",
            "train.zip           100%[===================>]   1.58M  --.-KB/s    in 0.05s   \n",
            "\n",
            "2021-06-12 15:40:30 (29.8 MB/s) - ‘train.zip’ saved [1655239/1655239]\n",
            "\n",
            "--2021-06-12 15:40:31--  https://github.com/IC1920/Datasets/raw/master/test.zip\n",
            "Resolving github.com (github.com)... 140.82.121.3\n",
            "Connecting to github.com (github.com)|140.82.121.3|:443... connected.\n",
            "HTTP request sent, awaiting response... 302 Found\n",
            "Location: https://raw.githubusercontent.com/IC1920/Datasets/master/test.zip [following]\n",
            "--2021-06-12 15:40:31--  https://raw.githubusercontent.com/IC1920/Datasets/master/test.zip\n",
            "Resolving raw.githubusercontent.com (raw.githubusercontent.com)... 185.199.111.133, 185.199.109.133, 185.199.108.133, ...\n",
            "Connecting to raw.githubusercontent.com (raw.githubusercontent.com)|185.199.111.133|:443... connected.\n",
            "HTTP request sent, awaiting response... 200 OK\n",
            "Length: 3932571 (3.8M) [application/zip]\n",
            "Saving to: ‘test.zip’\n",
            "\n",
            "test.zip            100%[===================>]   3.75M  --.-KB/s    in 0.1s    \n",
            "\n",
            "2021-06-12 15:40:31 (28.8 MB/s) - ‘test.zip’ saved [3932571/3932571]\n",
            "\n",
            "Archive:  train.zip\n",
            "  inflating: train.csv               \n",
            "Archive:  test.zip\n",
            "  inflating: test.csv                \n"
          ],
          "name": "stdout"
        }
      ]
    },
    {
      "cell_type": "code",
      "metadata": {
        "id": "ixPkqaks4L1h",
        "outputId": "b7dad5ca-817a-4b4d-bc88-02746c735905",
        "colab": {
          "base_uri": "https://localhost:8080/"
        }
      },
      "source": [
        "# Leemos los archivos arff\n",
        "df_train = pd.read_csv('train.csv')\n",
        "df_test = pd.read_csv('test.csv')\n",
        "print(df_train.shape, df_test.shape)\n",
        "\n",
        "features = ['feat_'+str(i) for i in np.arange(1,94)]\n",
        "target = 'target'"
      ],
      "execution_count": 4,
      "outputs": [
        {
          "output_type": "stream",
          "text": [
            "(61878, 95) (144368, 94)\n"
          ],
          "name": "stdout"
        }
      ]
    },
    {
      "cell_type": "markdown",
      "metadata": {
        "id": "25ezqOic4L1j"
      },
      "source": [
        "## Preprocesado de la Base de Datos"
      ]
    },
    {
      "cell_type": "markdown",
      "metadata": {
        "id": "L9kaTzRv4L1k"
      },
      "source": [
        "Aunque a los árboles no les suele afectar en demasía que las variables tengan diferentes rangos, vamos a tipificar los datos con *Z-Score* para si vamos a usar otros algoritmos supervisados, como KNN, o no supervisados, como clústering."
      ]
    },
    {
      "cell_type": "code",
      "metadata": {
        "id": "NRcUzOsD4L1l"
      },
      "source": [
        "scaler = StandardScaler()\n",
        "scaler.fit(df_train[features].values)\n",
        "X_train_scaled = scaler.transform(df_train[features].values)\n",
        "X_test_scaled = scaler.transform(df_test[features].values)"
      ],
      "execution_count": 5,
      "outputs": []
    },
    {
      "cell_type": "markdown",
      "metadata": {
        "id": "x3XDzPGR4L1m"
      },
      "source": [
        "Preparamos las bases de datos. Para poder hacer una validación local, extraemos un 20% de forma aleatoria de forma estratificada."
      ]
    },
    {
      "cell_type": "code",
      "metadata": {
        "id": "opVeePpy4L1m",
        "outputId": "49ab5460-186d-4d5a-a02f-77d9f58f4811",
        "colab": {
          "base_uri": "https://localhost:8080/"
        }
      },
      "source": [
        "X_orig = X_train_scaled.copy()\n",
        "y_orig = df_train[target].values.reshape(-1)\n",
        "y_orig = LabelEncoder().fit_transform(y_orig)\n",
        "\n",
        "X_train, X_val, y_train, y_val = train_test_split(X_orig, y_orig, test_size=0.20,\n",
        "                                                  random_state=36, stratify=y_orig)\n",
        "\n",
        "print(\"Verificamos que la partición es estratificada\")\n",
        "print(np.round(np.bincount(y_train)/len(y_train),3))\n",
        "print(np.round(np.bincount(y_val)/len(y_val),3))"
      ],
      "execution_count": 6,
      "outputs": [
        {
          "output_type": "stream",
          "text": [
            "Verificamos que la partición es estratificada\n",
            "[0.031 0.261 0.129 0.043 0.044 0.228 0.046 0.137 0.08 ]\n",
            "[0.031 0.261 0.129 0.043 0.044 0.228 0.046 0.137 0.08 ]\n"
          ],
          "name": "stdout"
        }
      ]
    },
    {
      "cell_type": "markdown",
      "metadata": {
        "id": "qhEuzeYn4L1n"
      },
      "source": [
        "## Creación del Modelo de Stacking"
      ]
    },
    {
      "cell_type": "code",
      "metadata": {
        "id": "ietsyi4p4L1o"
      },
      "source": [
        "# Función que obtiene el LogLoss con repetición y para la base de datos de testeo\n",
        "def entrena_model_folds(model, num_folds=5, num_bags=1, calibra=True, random_seed=2020):\n",
        "    np.random.seed(random_seed)\n",
        "    X_tot = X_orig.copy()\n",
        "    y_tot = y_orig.copy()\n",
        "    X_test = X_test_scaled.copy()\n",
        "    \n",
        "    # Creamos arrays para las predicciones\n",
        "    preds_val = np.empty((len(X_tot), 9, num_bags))\n",
        "    preds_val[:] = np.nan\n",
        "    preds_test = np.empty((len(X_test), 9, num_bags*num_folds))\n",
        "    preds_test[:] = np.nan\n",
        "    \n",
        "    # Entrena y extrae la predicciones con validación cruzada repetida\n",
        "    folds = RepeatedStratifiedKFold(n_splits=num_folds, n_repeats=num_bags, random_state=random_seed)  \n",
        "    for niter, (train_index, val_index) in enumerate(folds.split(X_tot, y_tot)):\n",
        "        print('ITER=',niter)\n",
        "        nbag = niter//num_folds #Extrae el número de repetición (bag)\n",
        "        X_train, X_val = X_tot[train_index], X_tot[val_index]\n",
        "        y_train, y_val = y_tot[train_index], y_tot[val_index]\n",
        "        if calibra:\n",
        "            calibrated_clf = CalibratedClassifierCV(model, method='isotonic', cv=5)\n",
        "            calibrated_clf.fit(X_train, y_train)\n",
        "            preds_val[val_index,:,nbag] = calibrated_clf.predict_proba(X_val) \n",
        "            preds_test[:,:,niter] = calibrated_clf.predict_proba(X_test)\n",
        "        else:\n",
        "            model.fit(X_train, y_train)\n",
        "            preds_val[val_index,:,nbag] = model.predict_proba(X_val) \n",
        "            preds_test[:,:,niter] = model.predict_proba(X_test)\n",
        "        \n",
        "    # Promedia las predicciones\n",
        "    preds_val_mean = preds_val.mean(axis=2) \n",
        "    preds_test_mean = preds_test.mean(axis=2)\n",
        "\n",
        "    # Extrae las métricas\n",
        "    log_loss_val = log_loss(y_tot, preds_val_mean, eps=1e-15, normalize=True)\n",
        "    return log_loss_val, y_tot, preds_val_mean, preds_test_mean"
      ],
      "execution_count": 13,
      "outputs": []
    },
    {
      "cell_type": "markdown",
      "metadata": {
        "id": "1B0XbneY4L1q"
      },
      "source": [
        "## Creamos la Base de Datos de Nivel 0"
      ]
    },
    {
      "cell_type": "markdown",
      "metadata": {
        "ExecuteTime": {
          "end_time": "2021-04-20T11:09:43.504328Z",
          "start_time": "2021-04-20T11:09:43.487357Z"
        },
        "id": "cSP2Gkzs4L1r"
      },
      "source": [
        "**ATENCION: El coste computacional del calculo de la BD de nivel 0 es alto. NO EJECUTAR EL CALCULO SI NO SE DISPONE DE UN EQUIPO LOCAL DE ALTAS PRESTACIONES.**\n",
        "\n",
        "\n",
        "El profesor ya ha calculado y dejado en un repositorio la base de datos con las features calculadas (ver punto 1.5)."
      ]
    },
    {
      "cell_type": "code",
      "metadata": {
        "id": "I5Uynuav4L1s"
      },
      "source": [
        "CALCULA_BD0 = False"
      ],
      "execution_count": null,
      "outputs": []
    },
    {
      "cell_type": "code",
      "metadata": {
        "id": "1Q_v6uuC4L1s"
      },
      "source": [
        "if CALCULA_BD0:\n",
        "    # Inicializamos listas \n",
        "    loss_list = []\n",
        "    y_val_list = []\n",
        "    preds_val_list = []\n",
        "    preds_tst_list = []\n",
        "    names_col = []"
      ],
      "execution_count": null,
      "outputs": []
    },
    {
      "cell_type": "code",
      "metadata": {
        "id": "Sv8u-_wl4L1t"
      },
      "source": [
        "def saca_features(modelo, calibra=True):\n",
        "    loss, y_val, preds_val, preds_test  = entrena_model_folds(modelo, calibra=calibra)\n",
        "    print(f'Loss con 5CV={loss}')\n",
        "    return loss, y_val, preds_val, preds_test    "
      ],
      "execution_count": null,
      "outputs": []
    },
    {
      "cell_type": "markdown",
      "metadata": {
        "id": "IruuIve44L1t"
      },
      "source": [
        "### Modelo Random Forest (RF)"
      ]
    },
    {
      "cell_type": "code",
      "metadata": {
        "id": "HRzUH3jl4L1u",
        "outputId": "7f54ff1b-294b-4d41-c3e4-5eba991e9940"
      },
      "source": [
        "%%time\n",
        "if CALCULA_BD0:\n",
        "    # Modelo Random Forest\n",
        "    modelo = RandomForestClassifier(n_estimators=600,\n",
        "                                      max_features=9,\n",
        "                                      min_samples_split=2,\n",
        "                                      n_jobs=-1,class_weight='balanced')\n",
        "    loss, y_val, preds_val, preds_test = saca_features(modelo, calibra=True)\n",
        "\n",
        "    loss_list.append(loss)\n",
        "    y_val_list.append(y_val)\n",
        "    preds_val_list.append(preds_val)\n",
        "    preds_tst_list.append(preds_test)\n",
        "    names_col.append('RF')"
      ],
      "execution_count": null,
      "outputs": [
        {
          "output_type": "stream",
          "text": [
            "ITER= 0\n",
            "ITER= 1\n",
            "ITER= 2\n",
            "ITER= 3\n",
            "ITER= 4\n",
            "Loss con 5CV=0.4813305167410231\n",
            "CPU times: user 1h 22s, sys: 1min 27s, total: 1h 1min 49s\n",
            "Wall time: 3min 44s\n"
          ],
          "name": "stdout"
        }
      ]
    },
    {
      "cell_type": "markdown",
      "metadata": {
        "id": "vHnjKL0B4L1v"
      },
      "source": [
        "### Modelo Logistic Regression (LOGIT)"
      ]
    },
    {
      "cell_type": "code",
      "metadata": {
        "id": "Ik2H7rDI4L1v",
        "outputId": "4abcbdf2-51cb-4969-e857-1355410c7b3d"
      },
      "source": [
        "%%time\n",
        "if CALCULA_BD0:\n",
        "    # Modelo Logit\n",
        "    modelo = LogisticRegression(C=2.0,max_iter=450,n_jobs=-1,class_weight=None,random_state=42)\n",
        "    loss, y_val, preds_val, preds_test = saca_features(modelo, calibra=False)\n",
        "    loss_list.append(loss)\n",
        "    y_val_list.append(y_val)\n",
        "    preds_val_list.append(preds_val)\n",
        "    preds_tst_list.append(preds_test)\n",
        "    names_col.append('LOGIT')"
      ],
      "execution_count": null,
      "outputs": [
        {
          "output_type": "stream",
          "text": [
            "ITER= 0\n",
            "ITER= 1\n",
            "ITER= 2\n",
            "ITER= 3\n",
            "ITER= 4\n",
            "Loss con 5CV=0.640084912071749\n",
            "CPU times: user 21.8 s, sys: 4.92 s, total: 26.7 s\n",
            "Wall time: 2min 56s\n"
          ],
          "name": "stdout"
        }
      ]
    },
    {
      "cell_type": "markdown",
      "metadata": {
        "id": "CFPiMJQ24L1w"
      },
      "source": [
        "### Modelo MultiLayerPerceptron (MLP)"
      ]
    },
    {
      "cell_type": "markdown",
      "metadata": {
        "id": "LAal_rCv4L1w"
      },
      "source": [
        "Buscamos con Bayesian Optimizacion (BO) la mejor ANN."
      ]
    },
    {
      "cell_type": "code",
      "metadata": {
        "id": "Ov6nVeQW4L1x"
      },
      "source": [
        "# Para la optimización hay que esperar bastante\n",
        "OPTIMIZA = False \n",
        "\n",
        "if OPTIMIZA:\n",
        "    from bayes_opt import BayesianOptimization\n",
        "\n",
        "    def entrena_model_con_preds(model, calibra=True):\n",
        "        np.random.seed(2020)\n",
        "        if calibra:\n",
        "            calibrated_clf = CalibratedClassifierCV(model, method='isotonic', cv=5)\n",
        "            calibrated_clf.fit(X_train, y_train)\n",
        "            preds_val = calibrated_clf.predict_proba(X_val)\n",
        "            preds_tst = calibrated_clf.predict_proba(X_test_scaled)\n",
        "        else:\n",
        "            model.fit(X_train, y_train)\n",
        "            preds_val = model.predict_proba(X_val)\n",
        "            preds_tst = model.predict_proba(X_test_scaled)\n",
        "        # Extrae las métricas\n",
        "        log_loss_val = log_loss(y_val, preds_val, eps=1e-15, normalize=True)\n",
        "        return log_loss_val, y_val, preds_val, preds_tst\n",
        "\n",
        "    def bo_eval(sizeh, pow_alpha):\n",
        "        modelo = MLPClassifier(hidden_layer_sizes=(int(sizeh),),solver='lbfgs',activation='logistic',\n",
        "                          alpha=10.0**pow_alpha,max_iter=3000,random_state=42)\n",
        "        log_loss_val, _, _, _ = entrena_model_con_preds(modelo, calibra=True)\n",
        "        return -log_loss_val\n",
        "\n",
        "    # Buscamos mejor XGB\n",
        "    range_bo = {'sizeh': (20, 100),  #Máxima profundidad de cada  arbol\n",
        "                'pow_alpha': (-2,3), # alpha=10**pow_alpha\n",
        "                }\n",
        "\n",
        "    BO_ANN= BayesianOptimization(bo_eval, range_bo, random_state=2020)\n",
        "    BO_ANN.maximize(init_points=6, n_iter=20)    \n",
        "    print('MEJOR ANN=',BO_ANN.max)"
      ],
      "execution_count": null,
      "outputs": []
    },
    {
      "cell_type": "raw",
      "metadata": {
        "id": "cbON5PRT4L1y"
      },
      "source": [
        "|   iter    |  target   | pow_alpha |   sizeh   |\n",
        "-------------------------------------------------\n",
        "|  1        | -0.7729   |  2.931    |  89.87    |\n",
        "|  2        | -0.503    |  0.5487   |  41.75    |\n",
        "|  3        | -0.5194   | -0.3154   |  37.36    |\n",
        "|  4        | -0.5283   | -0.6176   |  47.47    |\n",
        "|  5        | -0.6611   |  2.311    |  32.54    |\n",
        "|  6        | -0.5797   | -1.296    |  80.57    |\n",
        "|  7        | -0.5983   | -2.0      |  100.0    |\n",
        "|  8        | -0.7868   |  3.0      |  66.34    |\n",
        "|  9        | -0.5358   | -2.0      |  20.0     |\n",
        "|  10       | -0.5507   | -2.0      |  42.32    |\n",
        "|  11       | -0.5844   | -2.0      |  59.65    |\n",
        "|  12       | -0.5903   | -2.0      |  90.09    |\n",
        "|  13       | -0.7876   |  3.0      |  52.8     |\n",
        "|  14       | -0.589    | -2.0      |  70.9     |\n",
        "|  15       | -0.795    |  3.0      |  20.0     |\n",
        "|  16       | -0.5391   | -2.0      |  27.01    |\n",
        "|  17       | -0.7868   |  3.0      |  100.0    |\n",
        "|  18       | -0.7907   |  3.0      |  40.62    |\n",
        "|  19       | -0.7867   |  3.0      |  76.25    |\n",
        "|  20       | -0.5394   | -2.0      |  32.55    |\n",
        "|  21       | -0.569    | -2.0      |  53.35    |\n",
        "|  22       | -0.5947   | -2.0      |  95.37    |\n",
        "|  23       | -0.584    | -2.0      |  65.43    |\n",
        "|  24       | -0.5939   | -2.0      |  76.4     |\n",
        "|  25       | -0.5928   | -2.0      |  84.91    |\n",
        "|  26       | -0.5371   | -2.0      |  23.08    |\n",
        "=================================================\n",
        "MEJOR ANN= {'target': -0.5029631325316047, 'params': {'pow_alpha': 0.5487276248579076, 'sizeh': 41.74685714256606}}"
      ]
    },
    {
      "cell_type": "code",
      "metadata": {
        "id": "euSjx6QG4L1z",
        "outputId": "45a801ad-8bbf-4622-87c9-a4f55fe97ee1"
      },
      "source": [
        "%%time\n",
        "if CALCULA_BD0:\n",
        "    # Modelo MLP\n",
        "    pow_alpha = 0.5487276248579076\n",
        "    sizeh = 41\n",
        "    modelo = MLPClassifier(hidden_layer_sizes=(int(sizeh),),solver='lbfgs',activation='logistic',\n",
        "                          alpha=10.0**pow_alpha,max_iter=5000,random_state=42)\n",
        "    loss, y_val, preds_val, preds_test = saca_features(modelo, calibra=True)\n",
        "    loss_list.append(loss)\n",
        "    y_val_list.append(y_val)\n",
        "    preds_val_list.append(preds_val)\n",
        "    preds_tst_list.append(preds_test)\n",
        "    names_col.append('MLP')"
      ],
      "execution_count": null,
      "outputs": [
        {
          "output_type": "stream",
          "text": [
            "ITER= 0\n",
            "ITER= 1\n",
            "ITER= 2\n",
            "ITER= 3\n",
            "ITER= 4\n",
            "Loss con 5CV=0.5116915253721167\n",
            "CPU times: user 9h 59min 51s, sys: 35min 38s, total: 10h 35min 30s\n",
            "Wall time: 31min 46s\n"
          ],
          "name": "stdout"
        }
      ]
    },
    {
      "cell_type": "markdown",
      "metadata": {
        "id": "2PS_L6et4L10"
      },
      "source": [
        "### Modelo XGB"
      ]
    },
    {
      "cell_type": "code",
      "metadata": {
        "id": "sAKTYUCj4L11",
        "outputId": "0f169108-24dc-4cb7-d825-f64adc2f633f"
      },
      "source": [
        "%%time\n",
        "if CALCULA_BD0:\n",
        "    modelo = XGBClassifier(learning_rate =0.1, n_estimators=650, max_depth=8, \n",
        "                              subsample=0.8, colsample_bytree=0.6, nthread=20,\n",
        "                              reg_alpha=0.001, reg_lambda=1.0,\n",
        "                              seed=42, objective='multi:softprob')\n",
        "    loss, y_val, preds_val, preds_test = saca_features(modelo, calibra=True)\n",
        "    loss_list.append(loss)\n",
        "    y_val_list.append(y_val)\n",
        "    preds_val_list.append(preds_val)\n",
        "    preds_tst_list.append(preds_test)\n",
        "    names_col.append('XGB')"
      ],
      "execution_count": null,
      "outputs": [
        {
          "output_type": "stream",
          "text": [
            "ITER= 0\n",
            "ITER= 1\n",
            "ITER= 2\n",
            "ITER= 3\n",
            "ITER= 4\n",
            "Loss con 5CV=0.45115528144663847\n",
            "CPU times: user 11h 11min 12s, sys: 10min 4s, total: 11h 21min 16s\n",
            "Wall time: 34min 4s\n"
          ],
          "name": "stdout"
        }
      ]
    },
    {
      "cell_type": "markdown",
      "metadata": {
        "id": "JB1dq_M84L11"
      },
      "source": [
        "### Creamos las Bases de Datos con las Predicciones"
      ]
    },
    {
      "cell_type": "markdown",
      "metadata": {
        "id": "t_Lnpf4c4L12"
      },
      "source": [
        "Creamos la Nueva Base de Datos de Entrenamiento y Testeo con las predicciones de los modelos RF, LOGIT, MLP y XGB."
      ]
    },
    {
      "cell_type": "code",
      "metadata": {
        "id": "p4u-FaWG4L12",
        "outputId": "a3860174-a4de-4a58-9315-b61317f4131b"
      },
      "source": [
        "if CALCULA_BD0:\n",
        "    names_df = []\n",
        "    for namecol in names_col:\n",
        "        for nclass in range(9):\n",
        "            names_df.append(namecol+'_c'+str(nclass+1))\n",
        "    print(names_df)    "
      ],
      "execution_count": null,
      "outputs": [
        {
          "output_type": "stream",
          "text": [
            "['RF_c1', 'RF_c2', 'RF_c3', 'RF_c4', 'RF_c5', 'RF_c6', 'RF_c7', 'RF_c8', 'RF_c9', 'LOGIT_c1', 'LOGIT_c2', 'LOGIT_c3', 'LOGIT_c4', 'LOGIT_c5', 'LOGIT_c6', 'LOGIT_c7', 'LOGIT_c8', 'LOGIT_c9', 'MLP_c1', 'MLP_c2', 'MLP_c3', 'MLP_c4', 'MLP_c5', 'MLP_c6', 'MLP_c7', 'MLP_c8', 'MLP_c9', 'XGB_c1', 'XGB_c2', 'XGB_c3', 'XGB_c4', 'XGB_c5', 'XGB_c6', 'XGB_c7', 'XGB_c8', 'XGB_c9']\n"
          ],
          "name": "stdout"
        }
      ]
    },
    {
      "cell_type": "code",
      "metadata": {
        "id": "h7S2jTBw4L13",
        "outputId": "6dd70653-079a-4cba-9f77-d2d3ec12464b"
      },
      "source": [
        "if CALCULA_BD0:\n",
        "    df_train_stack = pd.DataFrame(np.concatenate(preds_val_list,axis=1),columns=names_df)\n",
        "    df_train_stack.insert(loc=df_train_stack.shape[1],column='target',value=y_val_list[0])\n",
        "    df_test_stack = pd.DataFrame(np.concatenate(preds_tst_list,axis=1),columns=names_df)\n",
        "    print(df_train_stack.head(3))\n",
        "    \n",
        "    file = open('bd_stacking.pickle','wb')\n",
        "    pickle.dump(df_train_stack, file, protocol=4)\n",
        "    pickle.dump(df_test_stack, file, protocol=4)\n",
        "    file.close()"
      ],
      "execution_count": null,
      "outputs": [
        {
          "output_type": "execute_result",
          "data": {
            "text/html": [
              "<div>\n",
              "<style scoped>\n",
              "    .dataframe tbody tr th:only-of-type {\n",
              "        vertical-align: middle;\n",
              "    }\n",
              "\n",
              "    .dataframe tbody tr th {\n",
              "        vertical-align: top;\n",
              "    }\n",
              "\n",
              "    .dataframe thead th {\n",
              "        text-align: right;\n",
              "    }\n",
              "</style>\n",
              "<table border=\"1\" class=\"dataframe\">\n",
              "  <thead>\n",
              "    <tr style=\"text-align: right;\">\n",
              "      <th></th>\n",
              "      <th>RF_c1</th>\n",
              "      <th>RF_c2</th>\n",
              "      <th>RF_c3</th>\n",
              "      <th>RF_c4</th>\n",
              "      <th>RF_c5</th>\n",
              "      <th>RF_c6</th>\n",
              "      <th>RF_c7</th>\n",
              "      <th>RF_c8</th>\n",
              "      <th>RF_c9</th>\n",
              "      <th>LOGIT_c1</th>\n",
              "      <th>LOGIT_c2</th>\n",
              "      <th>LOGIT_c3</th>\n",
              "      <th>LOGIT_c4</th>\n",
              "      <th>LOGIT_c5</th>\n",
              "      <th>LOGIT_c6</th>\n",
              "      <th>LOGIT_c7</th>\n",
              "      <th>LOGIT_c8</th>\n",
              "      <th>LOGIT_c9</th>\n",
              "      <th>MLP_c1</th>\n",
              "      <th>MLP_c2</th>\n",
              "      <th>MLP_c3</th>\n",
              "      <th>MLP_c4</th>\n",
              "      <th>MLP_c5</th>\n",
              "      <th>MLP_c6</th>\n",
              "      <th>MLP_c7</th>\n",
              "      <th>MLP_c8</th>\n",
              "      <th>MLP_c9</th>\n",
              "      <th>XGB_c1</th>\n",
              "      <th>XGB_c2</th>\n",
              "      <th>XGB_c3</th>\n",
              "      <th>XGB_c4</th>\n",
              "      <th>XGB_c5</th>\n",
              "      <th>XGB_c6</th>\n",
              "      <th>XGB_c7</th>\n",
              "      <th>XGB_c8</th>\n",
              "      <th>XGB_c9</th>\n",
              "      <th>target</th>\n",
              "    </tr>\n",
              "  </thead>\n",
              "  <tbody>\n",
              "    <tr>\n",
              "      <th>0</th>\n",
              "      <td>0.004751</td>\n",
              "      <td>0.000000</td>\n",
              "      <td>0.000000</td>\n",
              "      <td>0.000609</td>\n",
              "      <td>0.000024</td>\n",
              "      <td>0.991835</td>\n",
              "      <td>0.001017</td>\n",
              "      <td>0.000874</td>\n",
              "      <td>0.000891</td>\n",
              "      <td>0.000421</td>\n",
              "      <td>1.025263e-09</td>\n",
              "      <td>4.243281e-13</td>\n",
              "      <td>0.000026</td>\n",
              "      <td>8.122726e-15</td>\n",
              "      <td>0.998152</td>\n",
              "      <td>0.001157</td>\n",
              "      <td>0.000091</td>\n",
              "      <td>0.000152</td>\n",
              "      <td>0.031715</td>\n",
              "      <td>0.000227</td>\n",
              "      <td>0.000000</td>\n",
              "      <td>0.002091</td>\n",
              "      <td>0.000000</td>\n",
              "      <td>0.922184</td>\n",
              "      <td>0.017573</td>\n",
              "      <td>0.010036</td>\n",
              "      <td>0.016174</td>\n",
              "      <td>0.045687</td>\n",
              "      <td>0.000000</td>\n",
              "      <td>0.000000</td>\n",
              "      <td>0.000571</td>\n",
              "      <td>0.000000</td>\n",
              "      <td>0.947854</td>\n",
              "      <td>0.002085</td>\n",
              "      <td>0.001720</td>\n",
              "      <td>0.002084</td>\n",
              "      <td>0</td>\n",
              "    </tr>\n",
              "    <tr>\n",
              "      <th>1</th>\n",
              "      <td>0.160114</td>\n",
              "      <td>0.000871</td>\n",
              "      <td>0.000455</td>\n",
              "      <td>0.001055</td>\n",
              "      <td>0.001351</td>\n",
              "      <td>0.035908</td>\n",
              "      <td>0.017885</td>\n",
              "      <td>0.779444</td>\n",
              "      <td>0.002918</td>\n",
              "      <td>0.155829</td>\n",
              "      <td>8.521797e-02</td>\n",
              "      <td>2.530527e-02</td>\n",
              "      <td>0.007771</td>\n",
              "      <td>1.007624e-02</td>\n",
              "      <td>0.083105</td>\n",
              "      <td>0.063142</td>\n",
              "      <td>0.461452</td>\n",
              "      <td>0.108102</td>\n",
              "      <td>0.244329</td>\n",
              "      <td>0.023963</td>\n",
              "      <td>0.015216</td>\n",
              "      <td>0.002332</td>\n",
              "      <td>0.013851</td>\n",
              "      <td>0.041966</td>\n",
              "      <td>0.054434</td>\n",
              "      <td>0.575938</td>\n",
              "      <td>0.027971</td>\n",
              "      <td>0.075139</td>\n",
              "      <td>0.009410</td>\n",
              "      <td>0.002422</td>\n",
              "      <td>0.003268</td>\n",
              "      <td>0.000299</td>\n",
              "      <td>0.026141</td>\n",
              "      <td>0.024903</td>\n",
              "      <td>0.852626</td>\n",
              "      <td>0.005792</td>\n",
              "      <td>0</td>\n",
              "    </tr>\n",
              "    <tr>\n",
              "      <th>2</th>\n",
              "      <td>0.806111</td>\n",
              "      <td>0.001601</td>\n",
              "      <td>0.000392</td>\n",
              "      <td>0.000406</td>\n",
              "      <td>0.000422</td>\n",
              "      <td>0.009368</td>\n",
              "      <td>0.010009</td>\n",
              "      <td>0.006153</td>\n",
              "      <td>0.165538</td>\n",
              "      <td>0.355184</td>\n",
              "      <td>7.777332e-02</td>\n",
              "      <td>1.823750e-02</td>\n",
              "      <td>0.002059</td>\n",
              "      <td>3.613955e-03</td>\n",
              "      <td>0.107482</td>\n",
              "      <td>0.095841</td>\n",
              "      <td>0.152352</td>\n",
              "      <td>0.187457</td>\n",
              "      <td>0.664746</td>\n",
              "      <td>0.022006</td>\n",
              "      <td>0.000704</td>\n",
              "      <td>0.001457</td>\n",
              "      <td>0.001558</td>\n",
              "      <td>0.067723</td>\n",
              "      <td>0.079943</td>\n",
              "      <td>0.071899</td>\n",
              "      <td>0.089963</td>\n",
              "      <td>0.870528</td>\n",
              "      <td>0.005653</td>\n",
              "      <td>0.000966</td>\n",
              "      <td>0.000531</td>\n",
              "      <td>0.000188</td>\n",
              "      <td>0.011265</td>\n",
              "      <td>0.034664</td>\n",
              "      <td>0.013272</td>\n",
              "      <td>0.062932</td>\n",
              "      <td>0</td>\n",
              "    </tr>\n",
              "  </tbody>\n",
              "</table>\n",
              "</div>"
            ],
            "text/plain": [
              "      RF_c1     RF_c2     RF_c3     RF_c4     RF_c5     RF_c6     RF_c7  \\\n",
              "0  0.004751  0.000000  0.000000  0.000609  0.000024  0.991835  0.001017   \n",
              "1  0.160114  0.000871  0.000455  0.001055  0.001351  0.035908  0.017885   \n",
              "2  0.806111  0.001601  0.000392  0.000406  0.000422  0.009368  0.010009   \n",
              "\n",
              "      RF_c8     RF_c9  LOGIT_c1      LOGIT_c2      LOGIT_c3  LOGIT_c4  \\\n",
              "0  0.000874  0.000891  0.000421  1.025263e-09  4.243281e-13  0.000026   \n",
              "1  0.779444  0.002918  0.155829  8.521797e-02  2.530527e-02  0.007771   \n",
              "2  0.006153  0.165538  0.355184  7.777332e-02  1.823750e-02  0.002059   \n",
              "\n",
              "       LOGIT_c5  LOGIT_c6  LOGIT_c7  LOGIT_c8  LOGIT_c9    MLP_c1    MLP_c2  \\\n",
              "0  8.122726e-15  0.998152  0.001157  0.000091  0.000152  0.031715  0.000227   \n",
              "1  1.007624e-02  0.083105  0.063142  0.461452  0.108102  0.244329  0.023963   \n",
              "2  3.613955e-03  0.107482  0.095841  0.152352  0.187457  0.664746  0.022006   \n",
              "\n",
              "     MLP_c3    MLP_c4    MLP_c5    MLP_c6    MLP_c7    MLP_c8    MLP_c9  \\\n",
              "0  0.000000  0.002091  0.000000  0.922184  0.017573  0.010036  0.016174   \n",
              "1  0.015216  0.002332  0.013851  0.041966  0.054434  0.575938  0.027971   \n",
              "2  0.000704  0.001457  0.001558  0.067723  0.079943  0.071899  0.089963   \n",
              "\n",
              "     XGB_c1    XGB_c2    XGB_c3    XGB_c4    XGB_c5    XGB_c6    XGB_c7  \\\n",
              "0  0.045687  0.000000  0.000000  0.000571  0.000000  0.947854  0.002085   \n",
              "1  0.075139  0.009410  0.002422  0.003268  0.000299  0.026141  0.024903   \n",
              "2  0.870528  0.005653  0.000966  0.000531  0.000188  0.011265  0.034664   \n",
              "\n",
              "     XGB_c8    XGB_c9  target  \n",
              "0  0.001720  0.002084       0  \n",
              "1  0.852626  0.005792       0  \n",
              "2  0.013272  0.062932       0  "
            ]
          },
          "metadata": {
            "tags": []
          },
          "execution_count": 16
        }
      ]
    },
    {
      "cell_type": "markdown",
      "metadata": {
        "id": "UVtbspEE4L14"
      },
      "source": [
        "## Leemos la base de datos para el *stacking*"
      ]
    },
    {
      "cell_type": "code",
      "metadata": {
        "id": "XOQMUtfd4L14",
        "outputId": "8cb22dee-f213-4474-e533-9f9b9aef0822",
        "colab": {
          "base_uri": "https://localhost:8080/"
        }
      },
      "source": [
        "!wget https://github.com/IC1920/Datasets/raw/master/bd_stacking.zip -O bd_stacking.zip\n",
        "!wget https://github.com/IC1920/Datasets/raw/master/bd_stacking.z01 -O bd_stacking.z01\n",
        "!wget https://github.com/IC1920/Datasets/raw/master/bd_stacking.z02 -O bd_stacking.z02\n",
        "\n",
        "!7z x bd_stacking.zip -y"
      ],
      "execution_count": 8,
      "outputs": [
        {
          "output_type": "stream",
          "text": [
            "--2021-06-12 15:43:30--  https://github.com/IC1920/Datasets/raw/master/bd_stacking.zip\n",
            "Resolving github.com (github.com)... 140.82.121.4\n",
            "Connecting to github.com (github.com)|140.82.121.4|:443... connected.\n",
            "HTTP request sent, awaiting response... 302 Found\n",
            "Location: https://raw.githubusercontent.com/IC1920/Datasets/master/bd_stacking.zip [following]\n",
            "--2021-06-12 15:43:30--  https://raw.githubusercontent.com/IC1920/Datasets/master/bd_stacking.zip\n",
            "Resolving raw.githubusercontent.com (raw.githubusercontent.com)... 185.199.108.133, 185.199.109.133, 185.199.110.133, ...\n",
            "Connecting to raw.githubusercontent.com (raw.githubusercontent.com)|185.199.108.133|:443... connected.\n",
            "HTTP request sent, awaiting response... 200 OK\n",
            "Length: 962309 (940K) [application/zip]\n",
            "Saving to: ‘bd_stacking.zip’\n",
            "\n",
            "bd_stacking.zip     100%[===================>] 939.75K  --.-KB/s    in 0.03s   \n",
            "\n",
            "2021-06-12 15:43:31 (26.7 MB/s) - ‘bd_stacking.zip’ saved [962309/962309]\n",
            "\n",
            "--2021-06-12 15:43:31--  https://github.com/IC1920/Datasets/raw/master/bd_stacking.z01\n",
            "Resolving github.com (github.com)... 140.82.121.3\n",
            "Connecting to github.com (github.com)|140.82.121.3|:443... connected.\n",
            "HTTP request sent, awaiting response... 302 Found\n",
            "Location: https://raw.githubusercontent.com/IC1920/Datasets/master/bd_stacking.z01 [following]\n",
            "--2021-06-12 15:43:31--  https://raw.githubusercontent.com/IC1920/Datasets/master/bd_stacking.z01\n",
            "Resolving raw.githubusercontent.com (raw.githubusercontent.com)... 185.199.108.133, 185.199.109.133, 185.199.110.133, ...\n",
            "Connecting to raw.githubusercontent.com (raw.githubusercontent.com)|185.199.108.133|:443... connected.\n",
            "HTTP request sent, awaiting response... 200 OK\n",
            "Length: 25165824 (24M) [application/octet-stream]\n",
            "Saving to: ‘bd_stacking.z01’\n",
            "\n",
            "bd_stacking.z01     100%[===================>]  24.00M  81.7MB/s    in 0.3s    \n",
            "\n",
            "2021-06-12 15:43:32 (81.7 MB/s) - ‘bd_stacking.z01’ saved [25165824/25165824]\n",
            "\n",
            "--2021-06-12 15:43:32--  https://github.com/IC1920/Datasets/raw/master/bd_stacking.z02\n",
            "Resolving github.com (github.com)... 140.82.121.4\n",
            "Connecting to github.com (github.com)|140.82.121.4|:443... connected.\n",
            "HTTP request sent, awaiting response... 302 Found\n",
            "Location: https://raw.githubusercontent.com/IC1920/Datasets/master/bd_stacking.z02 [following]\n",
            "--2021-06-12 15:43:32--  https://raw.githubusercontent.com/IC1920/Datasets/master/bd_stacking.z02\n",
            "Resolving raw.githubusercontent.com (raw.githubusercontent.com)... 185.199.108.133, 185.199.109.133, 185.199.110.133, ...\n",
            "Connecting to raw.githubusercontent.com (raw.githubusercontent.com)|185.199.108.133|:443... connected.\n",
            "HTTP request sent, awaiting response... 200 OK\n",
            "Length: 25165824 (24M) [application/octet-stream]\n",
            "Saving to: ‘bd_stacking.z02’\n",
            "\n",
            "bd_stacking.z02     100%[===================>]  24.00M  96.3MB/s    in 0.2s    \n",
            "\n",
            "2021-06-12 15:43:34 (96.3 MB/s) - ‘bd_stacking.z02’ saved [25165824/25165824]\n",
            "\n",
            "\n",
            "7-Zip [64] 16.02 : Copyright (c) 1999-2016 Igor Pavlov : 2016-05-21\n",
            "p7zip Version 16.02 (locale=en_US.UTF-8,Utf16=on,HugeFiles=on,64 bits,2 CPUs Intel(R) Xeon(R) CPU @ 2.30GHz (306F0),ASM,AES-NI)\n",
            "\n",
            "Scanning the drive for archives:\n",
            "  0M Scan\b\b\b\b\b\b\b\b\b         \b\b\b\b\b\b\b\b\b1 file, 962309 bytes (940 KiB)\n",
            "\n",
            "Extracting archive: bd_stacking.zip\n",
            "--\n",
            "Path = bd_stacking.zip\n",
            "Type = zip\n",
            "Physical Size = 962309\n",
            "Embedded Stub Size = 4\n",
            "Total Physical Size = 51293957\n",
            "Multivolume = +\n",
            "Volume Index = 2\n",
            "Volumes = 3\n",
            "\n",
            "  0%\b\b\b\b    \b\b\b\b 33% - bd_stacking.pickle\b\b\b\b\b\b\b\b\b\b\b\b\b\b\b\b\b\b\b\b\b\b\b\b\b                         \b\b\b\b\b\b\b\b\b\b\b\b\b\b\b\b\b\b\b\b\b\b\b\b\b 65% - bd_stacking.pickle\b\b\b\b\b\b\b\b\b\b\b\b\b\b\b\b\b\b\b\b\b\b\b\b\b                         \b\b\b\b\b\b\b\b\b\b\b\b\b\b\b\b\b\b\b\b\b\b\b\b\b 97% - bd_stacking.pickle\b\b\b\b\b\b\b\b\b\b\b\b\b\b\b\b\b\b\b\b\b\b\b\b\b                         \b\b\b\b\b\b\b\b\b\b\b\b\b\b\b\b\b\b\b\b\b\b\b\b\bEverything is Ok\n",
            "\n",
            "Size:       59896244\n",
            "Compressed: 51293957\n"
          ],
          "name": "stdout"
        }
      ]
    },
    {
      "cell_type": "code",
      "metadata": {
        "id": "iUM_sWKW4L15"
      },
      "source": [
        "# Cargamos la Base de Datos Previa de Stacking\n",
        "if False:\n",
        "    file = open('bd_stacking.pickle','wb')\n",
        "    pickle.dump(df_train_stack, file, protocol=4)\n",
        "    pickle.dump(df_test_stack, file, protocol=4)\n",
        "    file.close()\n",
        "else:\n",
        "    file = open('bd_stacking.pickle','rb')\n",
        "    df_train_stack = pickle.load(file)\n",
        "    df_test_stack = pickle.load(file)\n",
        "    file.close()   \n",
        "\n",
        "df_train_stack.head()"
      ],
      "execution_count": null,
      "outputs": []
    },
    {
      "cell_type": "code",
      "metadata": {
        "id": "BzFqanBe4L15"
      },
      "source": [
        "names_df = df_test_stack.columns\n",
        "scaler = StandardScaler()\n",
        "X_train = df_train_stack[names_df].values.copy()\n",
        "X_test = df_test_stack[names_df].values.copy()\n",
        "scaler.fit(X_train)\n",
        "X_train_scaled = scaler.transform(X_train)\n",
        "X_test_scaled = scaler.transform(X_test)"
      ],
      "execution_count": null,
      "outputs": []
    },
    {
      "cell_type": "code",
      "metadata": {
        "id": "gMoI4Spg4L15",
        "outputId": "e4245b67-716b-4a26-9434-a0b00db607bd"
      },
      "source": [
        "X = X_train_scaled\n",
        "y = df_train_stack['target'].values.reshape(-1)\n",
        "\n",
        "X_train, X_val, y_train, y_val = train_test_split(X, y, test_size=0.20, random_state=36, stratify=y)\n",
        "\n",
        "print(\"Verificamos que la partición es estratificada\")\n",
        "print(np.round(np.bincount(y_train)/len(y_train),3))\n",
        "print(np.round(np.bincount(y_val)/len(y_val),3))"
      ],
      "execution_count": null,
      "outputs": [
        {
          "output_type": "stream",
          "text": [
            "Verificamos que la partición es estratificada\n",
            "[0.031 0.261 0.129 0.043 0.044 0.228 0.046 0.137 0.08 ]\n",
            "[0.031 0.261 0.129 0.043 0.044 0.228 0.046 0.137 0.08 ]\n"
          ],
          "name": "stdout"
        }
      ]
    },
    {
      "cell_type": "markdown",
      "metadata": {
        "id": "EIGUBXZJ4L16"
      },
      "source": [
        "### Buscamos un Modelo Stacking con XGBoost"
      ]
    },
    {
      "cell_type": "code",
      "metadata": {
        "id": "kPhq32vD4L16"
      },
      "source": [
        "def entrena_model_hold_out(model, calibra=True, random_seed=1234):\n",
        "    np.random.seed(random_seed)\n",
        "    if calibra:\n",
        "        calibrated_clf = CalibratedClassifierCV(model, method='isotonic', cv=5)\n",
        "        calibrated_clf.fit(X_train, y_train)\n",
        "        preds_val = calibrated_clf.predict_proba(X_val)\n",
        "    else:\n",
        "        model.fit(X_train, y_train)\n",
        "        preds_val = model.predict_proba(X_val)\n",
        "\n",
        "    # Extrae las métricas\n",
        "    log_loss_val = log_loss(y_val, preds_val, eps=1e-15, normalize=True)\n",
        "    return log_loss_val"
      ],
      "execution_count": null,
      "outputs": []
    },
    {
      "cell_type": "code",
      "metadata": {
        "id": "n5g3SHqS4L17"
      },
      "source": [
        "def busca_param(valores, nombre_var, parametros, random_seed=1234, cv=5):\n",
        "    scores = []\n",
        "    for valor in tqdm(valores):\n",
        "        parametros[nombre_var]=valor\n",
        "        xgb_model = XGBClassifier(learning_rate=parametros['learning_rate'],\n",
        "                                  n_estimators=parametros['n_estimators'],\n",
        "                                  max_depth=parametros['max_depth'],\n",
        "                                  subsample=parametros['subsample'],\n",
        "                                  colsample_bytree=parametros['colsample_bytree'],\n",
        "                                  reg_alpha=parametros['reg_alpha'], \n",
        "                                  reg_lambda=parametros['reg_lambda'],\n",
        "                                  nthread=20, \n",
        "                                  seed=random_seed, objective='multi:softprob')\n",
        "        log_loss_val = entrena_model_hold_out(xgb_model, calibra=True, random_seed=random_seed)\n",
        "        print(f'{nombre_var}={valor} log_loss_val={log_loss_val}')\n",
        "        scores.append(log_loss_val)\n",
        "    plt.plot(valores,scores,'o-')\n",
        "    plt.ylabel('log_loss_val')\n",
        "    plt.xlabel(nombre_var)\n",
        "    print(f'Mejor {nombre_var}={valores[np.argmin(scores)]} Score={np.min(scores)}')\n",
        "    return valores[np.argmin(scores)]"
      ],
      "execution_count": null,
      "outputs": []
    },
    {
      "cell_type": "code",
      "metadata": {
        "id": "MqxDj8OB4L17"
      },
      "source": [
        "# Parametros que vienen por defecto\n",
        "parametros = {'learning_rate':0.1, 'n_estimators':100, 'max_depth':6,\n",
        "              'subsample':0.80, 'colsample_bytree':0.80,\n",
        "              'reg_alpha':0.0, 'reg_lambda':1.0}"
      ],
      "execution_count": null,
      "outputs": []
    },
    {
      "cell_type": "code",
      "metadata": {
        "id": "rEMKAf9S4L18",
        "outputId": "01983560-0401-49fa-fdad-d348823dbd8a",
        "colab": {
          "referenced_widgets": [
            "42e3bcbb8e524863aef656646d4e93f8"
          ]
        }
      },
      "source": [
        "# Busqueda del numero de arboles\n",
        "parametros['n_estimators'] = busca_param(np.arange(25,250,25), 'n_estimators', parametros)\n",
        "print(parametros)"
      ],
      "execution_count": null,
      "outputs": [
        {
          "output_type": "stream",
          "text": [
            "/home/edmans/anaconda3/envs/kaggle/lib/python3.7/site-packages/ipykernel_launcher.py:3: TqdmDeprecationWarning: This function will be removed in tqdm==5.0.0\n",
            "Please use `tqdm.notebook.tqdm` instead of `tqdm.tqdm_notebook`\n",
            "  This is separate from the ipykernel package so we can avoid doing imports until\n"
          ],
          "name": "stderr"
        },
        {
          "output_type": "display_data",
          "data": {
            "application/vnd.jupyter.widget-view+json": {
              "model_id": "42e3bcbb8e524863aef656646d4e93f8",
              "version_major": 2,
              "version_minor": 0
            },
            "text/plain": [
              "HBox(children=(FloatProgress(value=0.0, max=9.0), HTML(value='')))"
            ]
          },
          "metadata": {
            "tags": []
          }
        },
        {
          "output_type": "stream",
          "text": [
            "n_estimators=25 log_loss_val=0.44322755175284495\n",
            "n_estimators=50 log_loss_val=0.43460627213999453\n",
            "n_estimators=75 log_loss_val=0.43325347614051674\n",
            "n_estimators=100 log_loss_val=0.43048455622989484\n",
            "n_estimators=125 log_loss_val=0.43089195985433854\n",
            "n_estimators=150 log_loss_val=0.4337434538200728\n",
            "n_estimators=175 log_loss_val=0.4345312148724422\n",
            "n_estimators=200 log_loss_val=0.4350232825834591\n",
            "n_estimators=225 log_loss_val=0.43540757463223295\n",
            "\n",
            "Mejor n_estimators=100 Score=0.43048455622989484\n",
            "{'learning_rate': 0.1, 'n_estimators': 100, 'max_depth': 6, 'subsample': 0.8, 'colsample_bytree': 0.8, 'reg_alpha': 0.0, 'reg_lambda': 1.0}\n"
          ],
          "name": "stdout"
        },
        {
          "output_type": "display_data",
          "data": {
            "image/png": "[encoded data removed]",
            "text/plain": [
              "<Figure size 432x288 with 1 Axes>"
            ]
          },
          "metadata": {
            "tags": []
          }
        }
      ]
    },
    {
      "cell_type": "code",
      "metadata": {
        "id": "IwVavCaN4L18",
        "outputId": "8a0e8658-b760-4fcd-f2bf-5b873e716bda",
        "colab": {
          "referenced_widgets": [
            "137322f9a90c4d56bc1919269283f048"
          ]
        }
      },
      "source": [
        "parametros['max_depth'] = busca_param(np.arange(2,15), 'max_depth', parametros)\n",
        "print(parametros)"
      ],
      "execution_count": null,
      "outputs": [
        {
          "output_type": "stream",
          "text": [
            "/home/edmans/anaconda3/envs/kaggle/lib/python3.7/site-packages/ipykernel_launcher.py:3: TqdmDeprecationWarning: This function will be removed in tqdm==5.0.0\n",
            "Please use `tqdm.notebook.tqdm` instead of `tqdm.tqdm_notebook`\n",
            "  This is separate from the ipykernel package so we can avoid doing imports until\n"
          ],
          "name": "stderr"
        },
        {
          "output_type": "display_data",
          "data": {
            "application/vnd.jupyter.widget-view+json": {
              "model_id": "137322f9a90c4d56bc1919269283f048",
              "version_major": 2,
              "version_minor": 0
            },
            "text/plain": [
              "HBox(children=(FloatProgress(value=0.0, max=13.0), HTML(value='')))"
            ]
          },
          "metadata": {
            "tags": []
          }
        },
        {
          "output_type": "stream",
          "text": [
            "max_depth=2 log_loss_val=0.4346474301310047\n",
            "max_depth=3 log_loss_val=0.4320658549673581\n",
            "max_depth=4 log_loss_val=0.43019108832933023\n",
            "max_depth=5 log_loss_val=0.43013653364692694\n",
            "max_depth=6 log_loss_val=0.43048455622989484\n",
            "max_depth=7 log_loss_val=0.4327312217003977\n",
            "max_depth=8 log_loss_val=0.4337634396655995\n",
            "max_depth=9 log_loss_val=0.43075885655295887\n",
            "max_depth=10 log_loss_val=0.43235789096571825\n",
            "max_depth=11 log_loss_val=0.4333187129724154\n",
            "max_depth=12 log_loss_val=0.4370970806087294\n",
            "max_depth=13 log_loss_val=0.4352002193049646\n",
            "max_depth=14 log_loss_val=0.4365420838447855\n",
            "\n",
            "Mejor max_depth=5 Score=0.43013653364692694\n",
            "{'learning_rate': 0.1, 'n_estimators': 100, 'max_depth': 5, 'subsample': 0.8, 'colsample_bytree': 0.8, 'reg_alpha': 0.0, 'reg_lambda': 1.0}\n"
          ],
          "name": "stdout"
        },
        {
          "output_type": "display_data",
          "data": {
            "image/png": "[encoded data removed]",
            "text/plain": [
              "<Figure size 432x288 with 1 Axes>"
            ]
          },
          "metadata": {
            "tags": []
          }
        }
      ]
    },
    {
      "cell_type": "code",
      "metadata": {
        "id": "s_ExX8_y4L19",
        "outputId": "11a891ca-c3e8-4313-80a0-bd517619eba6",
        "colab": {
          "referenced_widgets": [
            "27f6426a91284f3b9293cd5658b62ab2"
          ]
        }
      },
      "source": [
        "parametros['subsample'] = busca_param(np.arange(1,11)/10.0, 'subsample', parametros)\n",
        "print(parametros)"
      ],
      "execution_count": null,
      "outputs": [
        {
          "output_type": "stream",
          "text": [
            "/home/edmans/anaconda3/envs/kaggle/lib/python3.7/site-packages/ipykernel_launcher.py:3: TqdmDeprecationWarning: This function will be removed in tqdm==5.0.0\n",
            "Please use `tqdm.notebook.tqdm` instead of `tqdm.tqdm_notebook`\n",
            "  This is separate from the ipykernel package so we can avoid doing imports until\n"
          ],
          "name": "stderr"
        },
        {
          "output_type": "display_data",
          "data": {
            "application/vnd.jupyter.widget-view+json": {
              "model_id": "27f6426a91284f3b9293cd5658b62ab2",
              "version_major": 2,
              "version_minor": 0
            },
            "text/plain": [
              "HBox(children=(FloatProgress(value=0.0, max=10.0), HTML(value='')))"
            ]
          },
          "metadata": {
            "tags": []
          }
        },
        {
          "output_type": "stream",
          "text": [
            "subsample=0.1 log_loss_val=0.4373262296309462\n",
            "subsample=0.2 log_loss_val=0.43290081571299843\n",
            "subsample=0.3 log_loss_val=0.43022725999552053\n",
            "subsample=0.4 log_loss_val=0.4306362745956511\n",
            "subsample=0.5 log_loss_val=0.4299679604694633\n",
            "subsample=0.6 log_loss_val=0.4340925626011205\n",
            "subsample=0.7 log_loss_val=0.4324901300074931\n",
            "subsample=0.8 log_loss_val=0.43013653364692694\n",
            "subsample=0.9 log_loss_val=0.43091983852237764\n",
            "subsample=1.0 log_loss_val=0.43110958915045455\n",
            "\n",
            "Mejor subsample=0.5 Score=0.4299679604694633\n",
            "{'learning_rate': 0.1, 'n_estimators': 100, 'max_depth': 5, 'subsample': 0.5, 'colsample_bytree': 0.8, 'reg_alpha': 0.0, 'reg_lambda': 1.0}\n"
          ],
          "name": "stdout"
        },
        {
          "output_type": "display_data",
          "data": {
            "image/png": "[encoded data removed]",
            "text/plain": [
              "<Figure size 432x288 with 1 Axes>"
            ]
          },
          "metadata": {
            "tags": []
          }
        }
      ]
    },
    {
      "cell_type": "code",
      "metadata": {
        "id": "W32WL0p94L19",
        "outputId": "d76e8cd9-f567-4cd6-f962-20ebf85a6946",
        "colab": {
          "referenced_widgets": [
            "81a3aab3f17c4ea7b8efb2c28e298c12"
          ]
        }
      },
      "source": [
        "parametros['colsample_bytree'] = busca_param(np.arange(1,11)/10.0, 'colsample_bytree', parametros)\n",
        "print(parametros)"
      ],
      "execution_count": null,
      "outputs": [
        {
          "output_type": "stream",
          "text": [
            "/home/edmans/anaconda3/envs/kaggle/lib/python3.7/site-packages/ipykernel_launcher.py:3: TqdmDeprecationWarning: This function will be removed in tqdm==5.0.0\n",
            "Please use `tqdm.notebook.tqdm` instead of `tqdm.tqdm_notebook`\n",
            "  This is separate from the ipykernel package so we can avoid doing imports until\n"
          ],
          "name": "stderr"
        },
        {
          "output_type": "display_data",
          "data": {
            "application/vnd.jupyter.widget-view+json": {
              "model_id": "81a3aab3f17c4ea7b8efb2c28e298c12",
              "version_major": 2,
              "version_minor": 0
            },
            "text/plain": [
              "HBox(children=(FloatProgress(value=0.0, max=10.0), HTML(value='')))"
            ]
          },
          "metadata": {
            "tags": []
          }
        },
        {
          "output_type": "stream",
          "text": [
            "colsample_bytree=0.1 log_loss_val=0.46264012501961466\n",
            "colsample_bytree=0.2 log_loss_val=0.4426270846419156\n",
            "colsample_bytree=0.3 log_loss_val=0.43416928582899084\n",
            "colsample_bytree=0.4 log_loss_val=0.43457546046734163\n",
            "colsample_bytree=0.5 log_loss_val=0.4335375537127718\n",
            "colsample_bytree=0.6 log_loss_val=0.4325969277279678\n",
            "colsample_bytree=0.7 log_loss_val=0.43292973186205785\n",
            "colsample_bytree=0.8 log_loss_val=0.4299679604694633\n",
            "colsample_bytree=0.9 log_loss_val=0.4326978903185411\n",
            "colsample_bytree=1.0 log_loss_val=0.43194738447747455\n",
            "\n",
            "Mejor colsample_bytree=0.8 Score=0.4299679604694633\n",
            "{'learning_rate': 0.1, 'n_estimators': 100, 'max_depth': 5, 'subsample': 0.5, 'colsample_bytree': 0.8, 'reg_alpha': 0.0, 'reg_lambda': 1.0}\n"
          ],
          "name": "stdout"
        },
        {
          "output_type": "display_data",
          "data": {
            "image/png": "[encoded data removed]",
            "text/plain": [
              "<Figure size 432x288 with 1 Axes>"
            ]
          },
          "metadata": {
            "tags": []
          }
        }
      ]
    },
    {
      "cell_type": "code",
      "metadata": {
        "id": "rdpRMJUJ4L1-",
        "outputId": "a4d064d9-7c1a-4773-a3c2-a7d753c504e1",
        "colab": {
          "referenced_widgets": [
            "4856ddb8616f4043b0840caf16c7d82a"
          ]
        }
      },
      "source": [
        "# Probamos con Regularización L1\n",
        "parametros['reg_alpha'] = busca_param([0.0, 0.0001, 0.001, 0.01, 0.1, 1.0, 10], 'reg_alpha', parametros)\n",
        "print(parametros)"
      ],
      "execution_count": null,
      "outputs": [
        {
          "output_type": "stream",
          "text": [
            "/home/edmans/anaconda3/envs/kaggle/lib/python3.7/site-packages/ipykernel_launcher.py:3: TqdmDeprecationWarning: This function will be removed in tqdm==5.0.0\n",
            "Please use `tqdm.notebook.tqdm` instead of `tqdm.tqdm_notebook`\n",
            "  This is separate from the ipykernel package so we can avoid doing imports until\n"
          ],
          "name": "stderr"
        },
        {
          "output_type": "display_data",
          "data": {
            "application/vnd.jupyter.widget-view+json": {
              "model_id": "4856ddb8616f4043b0840caf16c7d82a",
              "version_major": 2,
              "version_minor": 0
            },
            "text/plain": [
              "HBox(children=(FloatProgress(value=0.0, max=7.0), HTML(value='')))"
            ]
          },
          "metadata": {
            "tags": []
          }
        },
        {
          "output_type": "stream",
          "text": [
            "reg_alpha=0.0 log_loss_val=0.4299679604694633\n",
            "reg_alpha=0.0001 log_loss_val=0.43203846087304937\n",
            "reg_alpha=0.001 log_loss_val=0.4323115096774176\n",
            "reg_alpha=0.01 log_loss_val=0.4321684411356485\n",
            "reg_alpha=0.1 log_loss_val=0.43036929593074247\n",
            "reg_alpha=1.0 log_loss_val=0.4305648931610144\n",
            "reg_alpha=10 log_loss_val=0.4352349503837678\n",
            "\n",
            "Mejor reg_alpha=0.0 Score=0.4299679604694633\n",
            "{'learning_rate': 0.1, 'n_estimators': 100, 'max_depth': 5, 'subsample': 0.5, 'colsample_bytree': 0.8, 'reg_alpha': 0.0, 'reg_lambda': 1.0}\n"
          ],
          "name": "stdout"
        },
        {
          "output_type": "display_data",
          "data": {
            "image/png": "[encoded data removed]",
            "text/plain": [
              "<Figure size 432x288 with 1 Axes>"
            ]
          },
          "metadata": {
            "tags": []
          }
        }
      ]
    },
    {
      "cell_type": "code",
      "metadata": {
        "id": "p-etrpye4L1-",
        "outputId": "bc4024b2-feaa-4e5d-c795-4d091b6b9173",
        "colab": {
          "referenced_widgets": [
            "4df9d129443f4ac1b66d51d4e6a2e25b"
          ]
        }
      },
      "source": [
        "# Probamos con Regularización L2\n",
        "parametros['reg_lambda'] = busca_param([0.0, 0.0001, 0.001, 0.01, 0.1, 1.0, 10], 'reg_lambda', parametros)\n",
        "print(parametros)"
      ],
      "execution_count": null,
      "outputs": [
        {
          "output_type": "stream",
          "text": [
            "/home/edmans/anaconda3/envs/kaggle/lib/python3.7/site-packages/ipykernel_launcher.py:3: TqdmDeprecationWarning: This function will be removed in tqdm==5.0.0\n",
            "Please use `tqdm.notebook.tqdm` instead of `tqdm.tqdm_notebook`\n",
            "  This is separate from the ipykernel package so we can avoid doing imports until\n"
          ],
          "name": "stderr"
        },
        {
          "output_type": "display_data",
          "data": {
            "application/vnd.jupyter.widget-view+json": {
              "model_id": "4df9d129443f4ac1b66d51d4e6a2e25b",
              "version_major": 2,
              "version_minor": 0
            },
            "text/plain": [
              "HBox(children=(FloatProgress(value=0.0, max=7.0), HTML(value='')))"
            ]
          },
          "metadata": {
            "tags": []
          }
        },
        {
          "output_type": "stream",
          "text": [
            "reg_lambda=0.0 log_loss_val=0.43433670375579236\n",
            "reg_lambda=0.0001 log_loss_val=0.43501927867222584\n",
            "reg_lambda=0.001 log_loss_val=0.4340885069791909\n",
            "reg_lambda=0.01 log_loss_val=0.43164915376261476\n",
            "reg_lambda=0.1 log_loss_val=0.43061486746371214\n",
            "reg_lambda=1.0 log_loss_val=0.4299679604694633\n",
            "reg_lambda=10 log_loss_val=0.4307093294282575\n",
            "\n",
            "Mejor reg_lambda=1.0 Score=0.4299679604694633\n",
            "{'learning_rate': 0.1, 'n_estimators': 100, 'max_depth': 5, 'subsample': 0.5, 'colsample_bytree': 0.8, 'reg_alpha': 0.0, 'reg_lambda': 1.0}\n"
          ],
          "name": "stdout"
        },
        {
          "output_type": "display_data",
          "data": {
            "image/png": "[encoded data removed]",
            "text/plain": [
              "<Figure size 432x288 with 1 Axes>"
            ]
          },
          "metadata": {
            "tags": []
          }
        }
      ]
    },
    {
      "cell_type": "code",
      "metadata": {
        "id": "LACa2cQX4L1_",
        "outputId": "33648564-99d7-4835-8838-73327c40e510",
        "colab": {
          "referenced_widgets": [
            "5d5b49bb50f74c32bf899acd308e0ccd"
          ]
        }
      },
      "source": [
        "parametros['n_estimators'] = busca_param(np.arange(parametros['n_estimators']-75,parametros['n_estimators']+75,10),\n",
        "                                         'n_estimators', parametros)\n",
        "print(parametros)"
      ],
      "execution_count": null,
      "outputs": [
        {
          "output_type": "stream",
          "text": [
            "/home/edmans/anaconda3/envs/kaggle/lib/python3.7/site-packages/ipykernel_launcher.py:3: TqdmDeprecationWarning: This function will be removed in tqdm==5.0.0\n",
            "Please use `tqdm.notebook.tqdm` instead of `tqdm.tqdm_notebook`\n",
            "  This is separate from the ipykernel package so we can avoid doing imports until\n"
          ],
          "name": "stderr"
        },
        {
          "output_type": "display_data",
          "data": {
            "application/vnd.jupyter.widget-view+json": {
              "model_id": "5d5b49bb50f74c32bf899acd308e0ccd",
              "version_major": 2,
              "version_minor": 0
            },
            "text/plain": [
              "HBox(children=(FloatProgress(value=0.0, max=15.0), HTML(value='')))"
            ]
          },
          "metadata": {
            "tags": []
          }
        },
        {
          "output_type": "stream",
          "text": [
            "n_estimators=25 log_loss_val=0.4425404461676596\n",
            "n_estimators=35 log_loss_val=0.4399343994700137\n",
            "n_estimators=45 log_loss_val=0.4360084798728476\n",
            "n_estimators=55 log_loss_val=0.4361511093396945\n",
            "n_estimators=65 log_loss_val=0.4346733587889715\n",
            "n_estimators=75 log_loss_val=0.431119537044669\n",
            "n_estimators=85 log_loss_val=0.43266028683401075\n",
            "n_estimators=95 log_loss_val=0.4298684512792656\n",
            "n_estimators=105 log_loss_val=0.42995687094414475\n",
            "n_estimators=115 log_loss_val=0.43225873356304495\n",
            "n_estimators=125 log_loss_val=0.4325096503481253\n",
            "n_estimators=135 log_loss_val=0.43488587280019264\n",
            "n_estimators=145 log_loss_val=0.4355681732642852\n",
            "n_estimators=155 log_loss_val=0.43525478805571455\n",
            "n_estimators=165 log_loss_val=0.4357568790050633\n",
            "\n",
            "Mejor n_estimators=95 Score=0.4298684512792656\n",
            "{'learning_rate': 0.1, 'n_estimators': 95, 'max_depth': 5, 'subsample': 0.5, 'colsample_bytree': 0.8, 'reg_alpha': 0.0, 'reg_lambda': 1.0}\n"
          ],
          "name": "stdout"
        },
        {
          "output_type": "display_data",
          "data": {
            "image/png": "[encoded data removed]",
            "text/plain": [
              "<Figure size 432x288 with 1 Axes>"
            ]
          },
          "metadata": {
            "tags": []
          }
        }
      ]
    },
    {
      "cell_type": "markdown",
      "metadata": {
        "id": "7qUtyT494L1_"
      },
      "source": [
        "### Creamos la Submission con el Modelo Stacking"
      ]
    },
    {
      "cell_type": "code",
      "metadata": {
        "id": "9kGkFO7k4L2G"
      },
      "source": [
        "X_orig = X_train_scaled.copy()\n",
        "y_orig = y.copy()"
      ],
      "execution_count": null,
      "outputs": []
    },
    {
      "cell_type": "code",
      "metadata": {
        "id": "uzMtPxzi4L2H",
        "outputId": "b751a629-5cfe-493b-9654-2648083b20f1"
      },
      "source": [
        "%%time\n",
        "random_seed = 1234\n",
        "stack_model = XGBClassifier(learning_rate=parametros['learning_rate'],\n",
        "                                  n_estimators=parametros['n_estimators'],\n",
        "                                  max_depth=parametros['max_depth'],\n",
        "                                  subsample=parametros['subsample'],\n",
        "                                  colsample_bytree=parametros['colsample_bytree'],\n",
        "                                  reg_alpha=parametros['reg_alpha'], \n",
        "                                  reg_lambda=parametros['reg_lambda'],\n",
        "                                  nthread=20, \n",
        "                                  seed=random_seed, objective='multi:softprob')\n",
        "loss_stack, y_stack, preds_val_stack, preds_test_stack  = entrena_model_folds(stack_model, \n",
        "                                                                              calibra=True, \n",
        "                                                                              random_seed=random_seed)\n",
        "print('STACKING MODEL=',loss_stack)"
      ],
      "execution_count": null,
      "outputs": [
        {
          "output_type": "stream",
          "text": [
            "ITER= 0\n",
            "ITER= 1\n",
            "ITER= 2\n",
            "ITER= 3\n",
            "ITER= 4\n",
            "STACKING MODEL= 0.43758643133826514\n",
            "CPU times: user 1h 12min 11s, sys: 1min 41s, total: 1h 13min 52s\n",
            "Wall time: 3min 41s\n"
          ],
          "name": "stdout"
        }
      ]
    },
    {
      "cell_type": "code",
      "metadata": {
        "id": "mBGNW__k4L2I",
        "outputId": "88f3999a-3e0f-43b3-cf27-4809a4682d4a"
      },
      "source": [
        "output = pd.DataFrame(preds_test_stack,columns=[\"Class_\"+str(i) for i in range(1,10)])\n",
        "output.insert(loc=0, column='id', value=df_test.id)\n",
        "output.to_csv('submission_stacking_5cv.csv', index=False)\n",
        "pd.read_csv('submission_stacking_5cv.csv').head()"
      ],
      "execution_count": null,
      "outputs": [
        {
          "output_type": "execute_result",
          "data": {
            "text/html": [
              "<div>\n",
              "<style scoped>\n",
              "    .dataframe tbody tr th:only-of-type {\n",
              "        vertical-align: middle;\n",
              "    }\n",
              "\n",
              "    .dataframe tbody tr th {\n",
              "        vertical-align: top;\n",
              "    }\n",
              "\n",
              "    .dataframe thead th {\n",
              "        text-align: right;\n",
              "    }\n",
              "</style>\n",
              "<table border=\"1\" class=\"dataframe\">\n",
              "  <thead>\n",
              "    <tr style=\"text-align: right;\">\n",
              "      <th></th>\n",
              "      <th>id</th>\n",
              "      <th>Class_1</th>\n",
              "      <th>Class_2</th>\n",
              "      <th>Class_3</th>\n",
              "      <th>Class_4</th>\n",
              "      <th>Class_5</th>\n",
              "      <th>Class_6</th>\n",
              "      <th>Class_7</th>\n",
              "      <th>Class_8</th>\n",
              "      <th>Class_9</th>\n",
              "    </tr>\n",
              "  </thead>\n",
              "  <tbody>\n",
              "    <tr>\n",
              "      <th>0</th>\n",
              "      <td>1</td>\n",
              "      <td>0.000108</td>\n",
              "      <td>0.080944</td>\n",
              "      <td>0.095124</td>\n",
              "      <td>0.817550</td>\n",
              "      <td>0.000000</td>\n",
              "      <td>0.000280</td>\n",
              "      <td>0.005731</td>\n",
              "      <td>0.000185</td>\n",
              "      <td>0.000079</td>\n",
              "    </tr>\n",
              "    <tr>\n",
              "      <th>1</th>\n",
              "      <td>2</td>\n",
              "      <td>0.003851</td>\n",
              "      <td>0.006229</td>\n",
              "      <td>0.001190</td>\n",
              "      <td>0.000958</td>\n",
              "      <td>0.000061</td>\n",
              "      <td>0.341329</td>\n",
              "      <td>0.002376</td>\n",
              "      <td>0.639633</td>\n",
              "      <td>0.004373</td>\n",
              "    </tr>\n",
              "    <tr>\n",
              "      <th>2</th>\n",
              "      <td>3</td>\n",
              "      <td>0.000000</td>\n",
              "      <td>0.000000</td>\n",
              "      <td>0.000000</td>\n",
              "      <td>0.000034</td>\n",
              "      <td>0.000000</td>\n",
              "      <td>0.999922</td>\n",
              "      <td>0.000000</td>\n",
              "      <td>0.000044</td>\n",
              "      <td>0.000000</td>\n",
              "    </tr>\n",
              "    <tr>\n",
              "      <th>3</th>\n",
              "      <td>4</td>\n",
              "      <td>0.000130</td>\n",
              "      <td>0.613143</td>\n",
              "      <td>0.373452</td>\n",
              "      <td>0.011276</td>\n",
              "      <td>0.000076</td>\n",
              "      <td>0.000347</td>\n",
              "      <td>0.000553</td>\n",
              "      <td>0.000378</td>\n",
              "      <td>0.000646</td>\n",
              "    </tr>\n",
              "    <tr>\n",
              "      <th>4</th>\n",
              "      <td>5</td>\n",
              "      <td>0.136289</td>\n",
              "      <td>0.000330</td>\n",
              "      <td>0.000257</td>\n",
              "      <td>0.000590</td>\n",
              "      <td>0.000049</td>\n",
              "      <td>0.006441</td>\n",
              "      <td>0.000934</td>\n",
              "      <td>0.098722</td>\n",
              "      <td>0.756388</td>\n",
              "    </tr>\n",
              "  </tbody>\n",
              "</table>\n",
              "</div>"
            ],
            "text/plain": [
              "   id   Class_1   Class_2   Class_3   Class_4   Class_5   Class_6   Class_7  \\\n",
              "0   1  0.000108  0.080944  0.095124  0.817550  0.000000  0.000280  0.005731   \n",
              "1   2  0.003851  0.006229  0.001190  0.000958  0.000061  0.341329  0.002376   \n",
              "2   3  0.000000  0.000000  0.000000  0.000034  0.000000  0.999922  0.000000   \n",
              "3   4  0.000130  0.613143  0.373452  0.011276  0.000076  0.000347  0.000553   \n",
              "4   5  0.136289  0.000330  0.000257  0.000590  0.000049  0.006441  0.000934   \n",
              "\n",
              "    Class_8   Class_9  \n",
              "0  0.000185  0.000079  \n",
              "1  0.639633  0.004373  \n",
              "2  0.000044  0.000000  \n",
              "3  0.000378  0.000646  \n",
              "4  0.098722  0.756388  "
            ]
          },
          "metadata": {
            "tags": []
          },
          "execution_count": 34
        }
      ]
    },
    {
      "cell_type": "markdown",
      "metadata": {
        "id": "ADf1AC1i4L2J"
      },
      "source": [
        "El modelo stacking obtiene con 5CV un **Local=0.43758643133826514, Private_LB=0.42031, Public_LB=0.41901, que nos situaria en la posición 170 del Private Leaderboard de 3511 equipos (percentil 95.16) dándonos una MEDALLA DE PLATA**. "
      ]
    },
    {
      "cell_type": "code",
      "metadata": {
        "id": "MvCsfjqw4L2K"
      },
      "source": [
        ""
      ],
      "execution_count": null,
      "outputs": []
    },
    {
      "cell_type": "code",
      "metadata": {
        "id": "4gEH5k0M4L2K"
      },
      "source": [
        ""
      ],
      "execution_count": null,
      "outputs": []
    },
    {
      "cell_type": "markdown",
      "metadata": {
        "id": "n4izODH94L2K"
      },
      "source": [
        "**EJERCICIO 3.B.3: Incluir las predicciones del modelo LightGBM y recalcular el modelo de Stacking.**\n",
        "\n",
        "**Crear la submission y presentar los Scores Finales Publicos y Privados. Comparar los resultados usando con y sin LGB** \n",
        "\n",
        "**Incluir en este script una foto de la pantalla de Kaggle con los resultados de la submission y en que posición del PRIVATE LEADERBOARD quedaria.**\n",
        "\n",
        "**ATENCION: Para reducir los tiempos de entrenamiento del modelo stacking es recomendable reducir los rangos de búsqueda de los parámetros basándose en los mejores valores obtenidos con el anterior modelo de stacking**"
      ]
    },
    {
      "cell_type": "code",
      "metadata": {
        "id": "LoLsoLG74L2L",
        "outputId": "4820fb63-83a1-4ae1-c386-5a01bb67a5f3",
        "colab": {
          "base_uri": "https://localhost:8080/",
          "height": 299
        }
      },
      "source": [
        "# Cargamos la Base de Datos Previa de Stacking\n",
        "if False:\n",
        "    file = open('bd_stacking.pickle','wb')\n",
        "    pickle.dump(df_train_stack, file, protocol=4)\n",
        "    pickle.dump(df_test_stack, file, protocol=4)\n",
        "    file.close()\n",
        "else:\n",
        "    file = open('bd_stacking.pickle','rb')\n",
        "    df_train_stack = pickle.load(file)\n",
        "    df_test_stack = pickle.load(file)\n",
        "    file.close()\n",
        "\n",
        "df_train_stack.head()"
      ],
      "execution_count": 9,
      "outputs": [
        {
          "output_type": "execute_result",
          "data": {
            "text/html": [
              "<div>\n",
              "<style scoped>\n",
              "    .dataframe tbody tr th:only-of-type {\n",
              "        vertical-align: middle;\n",
              "    }\n",
              "\n",
              "    .dataframe tbody tr th {\n",
              "        vertical-align: top;\n",
              "    }\n",
              "\n",
              "    .dataframe thead th {\n",
              "        text-align: right;\n",
              "    }\n",
              "</style>\n",
              "<table border=\"1\" class=\"dataframe\">\n",
              "  <thead>\n",
              "    <tr style=\"text-align: right;\">\n",
              "      <th></th>\n",
              "      <th>RF_c1</th>\n",
              "      <th>RF_c2</th>\n",
              "      <th>RF_c3</th>\n",
              "      <th>RF_c4</th>\n",
              "      <th>RF_c5</th>\n",
              "      <th>RF_c6</th>\n",
              "      <th>RF_c7</th>\n",
              "      <th>RF_c8</th>\n",
              "      <th>RF_c9</th>\n",
              "      <th>LOGIT_c1</th>\n",
              "      <th>LOGIT_c2</th>\n",
              "      <th>LOGIT_c3</th>\n",
              "      <th>LOGIT_c4</th>\n",
              "      <th>LOGIT_c5</th>\n",
              "      <th>LOGIT_c6</th>\n",
              "      <th>LOGIT_c7</th>\n",
              "      <th>LOGIT_c8</th>\n",
              "      <th>LOGIT_c9</th>\n",
              "      <th>MLP_c1</th>\n",
              "      <th>MLP_c2</th>\n",
              "      <th>MLP_c3</th>\n",
              "      <th>MLP_c4</th>\n",
              "      <th>MLP_c5</th>\n",
              "      <th>MLP_c6</th>\n",
              "      <th>MLP_c7</th>\n",
              "      <th>MLP_c8</th>\n",
              "      <th>MLP_c9</th>\n",
              "      <th>XGB_c1</th>\n",
              "      <th>XGB_c2</th>\n",
              "      <th>XGB_c3</th>\n",
              "      <th>XGB_c4</th>\n",
              "      <th>XGB_c5</th>\n",
              "      <th>XGB_c6</th>\n",
              "      <th>XGB_c7</th>\n",
              "      <th>XGB_c8</th>\n",
              "      <th>XGB_c9</th>\n",
              "      <th>target</th>\n",
              "    </tr>\n",
              "  </thead>\n",
              "  <tbody>\n",
              "    <tr>\n",
              "      <th>0</th>\n",
              "      <td>0.004751</td>\n",
              "      <td>0.000000</td>\n",
              "      <td>0.000000</td>\n",
              "      <td>0.000609</td>\n",
              "      <td>0.000024</td>\n",
              "      <td>0.991835</td>\n",
              "      <td>0.001017</td>\n",
              "      <td>0.000874</td>\n",
              "      <td>0.000891</td>\n",
              "      <td>0.000421</td>\n",
              "      <td>1.025263e-09</td>\n",
              "      <td>4.243281e-13</td>\n",
              "      <td>2.627042e-05</td>\n",
              "      <td>8.122726e-15</td>\n",
              "      <td>9.981520e-01</td>\n",
              "      <td>1.157242e-03</td>\n",
              "      <td>0.000091</td>\n",
              "      <td>1.515615e-04</td>\n",
              "      <td>0.031715</td>\n",
              "      <td>0.000227</td>\n",
              "      <td>0.000000</td>\n",
              "      <td>0.002091</td>\n",
              "      <td>0.000000</td>\n",
              "      <td>0.922184</td>\n",
              "      <td>0.017573</td>\n",
              "      <td>0.010036</td>\n",
              "      <td>0.016174</td>\n",
              "      <td>0.045687</td>\n",
              "      <td>0.000000</td>\n",
              "      <td>0.000000</td>\n",
              "      <td>0.000571</td>\n",
              "      <td>0.000000</td>\n",
              "      <td>0.947854</td>\n",
              "      <td>0.002085</td>\n",
              "      <td>0.001720</td>\n",
              "      <td>0.002084</td>\n",
              "      <td>0</td>\n",
              "    </tr>\n",
              "    <tr>\n",
              "      <th>1</th>\n",
              "      <td>0.160114</td>\n",
              "      <td>0.000871</td>\n",
              "      <td>0.000455</td>\n",
              "      <td>0.001055</td>\n",
              "      <td>0.001351</td>\n",
              "      <td>0.035908</td>\n",
              "      <td>0.017885</td>\n",
              "      <td>0.779444</td>\n",
              "      <td>0.002918</td>\n",
              "      <td>0.155829</td>\n",
              "      <td>8.521797e-02</td>\n",
              "      <td>2.530527e-02</td>\n",
              "      <td>7.770715e-03</td>\n",
              "      <td>1.007624e-02</td>\n",
              "      <td>8.310513e-02</td>\n",
              "      <td>6.314196e-02</td>\n",
              "      <td>0.461452</td>\n",
              "      <td>1.081016e-01</td>\n",
              "      <td>0.244329</td>\n",
              "      <td>0.023963</td>\n",
              "      <td>0.015216</td>\n",
              "      <td>0.002332</td>\n",
              "      <td>0.013851</td>\n",
              "      <td>0.041966</td>\n",
              "      <td>0.054434</td>\n",
              "      <td>0.575938</td>\n",
              "      <td>0.027971</td>\n",
              "      <td>0.075139</td>\n",
              "      <td>0.009410</td>\n",
              "      <td>0.002422</td>\n",
              "      <td>0.003268</td>\n",
              "      <td>0.000299</td>\n",
              "      <td>0.026141</td>\n",
              "      <td>0.024903</td>\n",
              "      <td>0.852626</td>\n",
              "      <td>0.005792</td>\n",
              "      <td>0</td>\n",
              "    </tr>\n",
              "    <tr>\n",
              "      <th>2</th>\n",
              "      <td>0.806111</td>\n",
              "      <td>0.001601</td>\n",
              "      <td>0.000392</td>\n",
              "      <td>0.000406</td>\n",
              "      <td>0.000422</td>\n",
              "      <td>0.009368</td>\n",
              "      <td>0.010009</td>\n",
              "      <td>0.006153</td>\n",
              "      <td>0.165538</td>\n",
              "      <td>0.355184</td>\n",
              "      <td>7.777332e-02</td>\n",
              "      <td>1.823750e-02</td>\n",
              "      <td>2.059238e-03</td>\n",
              "      <td>3.613955e-03</td>\n",
              "      <td>1.074821e-01</td>\n",
              "      <td>9.584091e-02</td>\n",
              "      <td>0.152352</td>\n",
              "      <td>1.874574e-01</td>\n",
              "      <td>0.664746</td>\n",
              "      <td>0.022006</td>\n",
              "      <td>0.000704</td>\n",
              "      <td>0.001457</td>\n",
              "      <td>0.001558</td>\n",
              "      <td>0.067723</td>\n",
              "      <td>0.079943</td>\n",
              "      <td>0.071899</td>\n",
              "      <td>0.089963</td>\n",
              "      <td>0.870528</td>\n",
              "      <td>0.005653</td>\n",
              "      <td>0.000966</td>\n",
              "      <td>0.000531</td>\n",
              "      <td>0.000188</td>\n",
              "      <td>0.011265</td>\n",
              "      <td>0.034664</td>\n",
              "      <td>0.013272</td>\n",
              "      <td>0.062932</td>\n",
              "      <td>0</td>\n",
              "    </tr>\n",
              "    <tr>\n",
              "      <th>3</th>\n",
              "      <td>0.748268</td>\n",
              "      <td>0.001260</td>\n",
              "      <td>0.001705</td>\n",
              "      <td>0.002352</td>\n",
              "      <td>0.000025</td>\n",
              "      <td>0.089672</td>\n",
              "      <td>0.087001</td>\n",
              "      <td>0.063076</td>\n",
              "      <td>0.006641</td>\n",
              "      <td>0.999969</td>\n",
              "      <td>2.827867e-30</td>\n",
              "      <td>1.746132e-29</td>\n",
              "      <td>1.061263e-36</td>\n",
              "      <td>6.026833e-57</td>\n",
              "      <td>1.133225e-12</td>\n",
              "      <td>3.944544e-18</td>\n",
              "      <td>0.000031</td>\n",
              "      <td>2.001580e-08</td>\n",
              "      <td>0.969485</td>\n",
              "      <td>0.000000</td>\n",
              "      <td>0.004024</td>\n",
              "      <td>0.000000</td>\n",
              "      <td>0.000000</td>\n",
              "      <td>0.000344</td>\n",
              "      <td>0.004628</td>\n",
              "      <td>0.018536</td>\n",
              "      <td>0.002984</td>\n",
              "      <td>0.879264</td>\n",
              "      <td>0.000391</td>\n",
              "      <td>0.001054</td>\n",
              "      <td>0.000573</td>\n",
              "      <td>0.000000</td>\n",
              "      <td>0.013810</td>\n",
              "      <td>0.066498</td>\n",
              "      <td>0.035808</td>\n",
              "      <td>0.002601</td>\n",
              "      <td>0</td>\n",
              "    </tr>\n",
              "    <tr>\n",
              "      <th>4</th>\n",
              "      <td>0.517095</td>\n",
              "      <td>0.001339</td>\n",
              "      <td>0.000837</td>\n",
              "      <td>0.000877</td>\n",
              "      <td>0.000094</td>\n",
              "      <td>0.020753</td>\n",
              "      <td>0.327586</td>\n",
              "      <td>0.127855</td>\n",
              "      <td>0.003564</td>\n",
              "      <td>0.244820</td>\n",
              "      <td>5.324813e-04</td>\n",
              "      <td>2.435576e-03</td>\n",
              "      <td>2.754070e-04</td>\n",
              "      <td>1.478748e-05</td>\n",
              "      <td>1.290583e-01</td>\n",
              "      <td>2.104049e-01</td>\n",
              "      <td>0.282810</td>\n",
              "      <td>1.296480e-01</td>\n",
              "      <td>0.484394</td>\n",
              "      <td>0.000962</td>\n",
              "      <td>0.001103</td>\n",
              "      <td>0.000960</td>\n",
              "      <td>0.000000</td>\n",
              "      <td>0.064690</td>\n",
              "      <td>0.202851</td>\n",
              "      <td>0.140808</td>\n",
              "      <td>0.104231</td>\n",
              "      <td>0.721986</td>\n",
              "      <td>0.000000</td>\n",
              "      <td>0.001261</td>\n",
              "      <td>0.000524</td>\n",
              "      <td>0.000278</td>\n",
              "      <td>0.015780</td>\n",
              "      <td>0.149308</td>\n",
              "      <td>0.105225</td>\n",
              "      <td>0.005637</td>\n",
              "      <td>0</td>\n",
              "    </tr>\n",
              "  </tbody>\n",
              "</table>\n",
              "</div>"
            ],
            "text/plain": [
              "      RF_c1     RF_c2     RF_c3     RF_c4     RF_c5     RF_c6     RF_c7  \\\n",
              "0  0.004751  0.000000  0.000000  0.000609  0.000024  0.991835  0.001017   \n",
              "1  0.160114  0.000871  0.000455  0.001055  0.001351  0.035908  0.017885   \n",
              "2  0.806111  0.001601  0.000392  0.000406  0.000422  0.009368  0.010009   \n",
              "3  0.748268  0.001260  0.001705  0.002352  0.000025  0.089672  0.087001   \n",
              "4  0.517095  0.001339  0.000837  0.000877  0.000094  0.020753  0.327586   \n",
              "\n",
              "      RF_c8     RF_c9  LOGIT_c1      LOGIT_c2      LOGIT_c3      LOGIT_c4  \\\n",
              "0  0.000874  0.000891  0.000421  1.025263e-09  4.243281e-13  2.627042e-05   \n",
              "1  0.779444  0.002918  0.155829  8.521797e-02  2.530527e-02  7.770715e-03   \n",
              "2  0.006153  0.165538  0.355184  7.777332e-02  1.823750e-02  2.059238e-03   \n",
              "3  0.063076  0.006641  0.999969  2.827867e-30  1.746132e-29  1.061263e-36   \n",
              "4  0.127855  0.003564  0.244820  5.324813e-04  2.435576e-03  2.754070e-04   \n",
              "\n",
              "       LOGIT_c5      LOGIT_c6      LOGIT_c7  LOGIT_c8      LOGIT_c9    MLP_c1  \\\n",
              "0  8.122726e-15  9.981520e-01  1.157242e-03  0.000091  1.515615e-04  0.031715   \n",
              "1  1.007624e-02  8.310513e-02  6.314196e-02  0.461452  1.081016e-01  0.244329   \n",
              "2  3.613955e-03  1.074821e-01  9.584091e-02  0.152352  1.874574e-01  0.664746   \n",
              "3  6.026833e-57  1.133225e-12  3.944544e-18  0.000031  2.001580e-08  0.969485   \n",
              "4  1.478748e-05  1.290583e-01  2.104049e-01  0.282810  1.296480e-01  0.484394   \n",
              "\n",
              "     MLP_c2    MLP_c3    MLP_c4    MLP_c5    MLP_c6    MLP_c7    MLP_c8  \\\n",
              "0  0.000227  0.000000  0.002091  0.000000  0.922184  0.017573  0.010036   \n",
              "1  0.023963  0.015216  0.002332  0.013851  0.041966  0.054434  0.575938   \n",
              "2  0.022006  0.000704  0.001457  0.001558  0.067723  0.079943  0.071899   \n",
              "3  0.000000  0.004024  0.000000  0.000000  0.000344  0.004628  0.018536   \n",
              "4  0.000962  0.001103  0.000960  0.000000  0.064690  0.202851  0.140808   \n",
              "\n",
              "     MLP_c9    XGB_c1    XGB_c2    XGB_c3    XGB_c4    XGB_c5    XGB_c6  \\\n",
              "0  0.016174  0.045687  0.000000  0.000000  0.000571  0.000000  0.947854   \n",
              "1  0.027971  0.075139  0.009410  0.002422  0.003268  0.000299  0.026141   \n",
              "2  0.089963  0.870528  0.005653  0.000966  0.000531  0.000188  0.011265   \n",
              "3  0.002984  0.879264  0.000391  0.001054  0.000573  0.000000  0.013810   \n",
              "4  0.104231  0.721986  0.000000  0.001261  0.000524  0.000278  0.015780   \n",
              "\n",
              "     XGB_c7    XGB_c8    XGB_c9  target  \n",
              "0  0.002085  0.001720  0.002084       0  \n",
              "1  0.024903  0.852626  0.005792       0  \n",
              "2  0.034664  0.013272  0.062932       0  \n",
              "3  0.066498  0.035808  0.002601       0  \n",
              "4  0.149308  0.105225  0.005637       0  "
            ]
          },
          "metadata": {
            "tags": []
          },
          "execution_count": 9
        }
      ]
    },
    {
      "cell_type": "code",
      "metadata": {
        "id": "dkSFq-C45-Nd"
      },
      "source": [
        "def saca_features(modelo, calibra=True):\n",
        "    loss, y_val, preds_val, preds_test  = entrena_model_folds(modelo, calibra=calibra)\n",
        "    print(f'Loss con 5CV={loss}')\n",
        "    return loss, y_val, preds_val, preds_test"
      ],
      "execution_count": 11,
      "outputs": []
    },
    {
      "cell_type": "code",
      "metadata": {
        "id": "-Of9AP6O50mE"
      },
      "source": [
        "loss_list = []\n",
        "y_val_list = []\n",
        "preds_val_list = []\n",
        "preds_tst_list = []\n",
        "names_col = []"
      ],
      "execution_count": 10,
      "outputs": []
    },
    {
      "cell_type": "code",
      "metadata": {
        "id": "2TvIcnfK4L2M",
        "outputId": "d1b901b0-a528-4d5f-d321-3fd888cf113c",
        "colab": {
          "base_uri": "https://localhost:8080/"
        }
      },
      "source": [
        "lgb_model = LGBMClassifier(boosting_type='gbdt',objective='multiclass',random_state=42,\n",
        "                                  n_jobs=-1,silent=True, importance_type='split',\n",
        "                                  learning_rate=0.1, \n",
        "                                  n_estimators=700,\n",
        "#lo dejo asi por desgracia, colab no tiene suficiente potencia, por lo que los estimadores no los multiplico x10 ni el learning rate lo divido /10\n",
        "                                  max_depth=11, \n",
        "                                  min_child_weight=1, \n",
        "                                  min_child_samples=3, \n",
        "                                  subsample=0.6, \n",
        "                                  subsample_freq=1,\n",
        "                                  colsample_bytree=0.9, \n",
        "                                  reg_alpha=0.1, \n",
        "                                  reg_lambda=0.0\n",
        "                                  )\n",
        "loss, y_val, preds_val, preds_test = saca_features(lgb_model, calibra=True)\n",
        "loss_list.append(loss)\n",
        "y_val_list.append(y_val)\n",
        "preds_val_list.append(preds_val)\n",
        "preds_tst_list.append(preds_test)\n",
        "names_col.append('LGB')"
      ],
      "execution_count": 14,
      "outputs": [
        {
          "output_type": "stream",
          "text": [
            "ITER= 0\n",
            "ITER= 1\n",
            "ITER= 2\n",
            "ITER= 3\n",
            "ITER= 4\n",
            "Loss con 5CV=0.45128400591678147\n"
          ],
          "name": "stdout"
        }
      ]
    },
    {
      "cell_type": "code",
      "metadata": {
        "id": "j2xF5NKA4L2M",
        "outputId": "5c9ada10-4361-49c7-8b3a-8de4aa7a6343",
        "colab": {
          "base_uri": "https://localhost:8080/"
        }
      },
      "source": [
        "names_df = []\n",
        "for namecol in names_col:\n",
        "    for nclass in range(9):\n",
        "        names_df.append(namecol+'_c'+str(nclass+1))\n",
        "print(names_df)"
      ],
      "execution_count": 15,
      "outputs": [
        {
          "output_type": "stream",
          "text": [
            "['LGB_c1', 'LGB_c2', 'LGB_c3', 'LGB_c4', 'LGB_c5', 'LGB_c6', 'LGB_c7', 'LGB_c8', 'LGB_c9']\n"
          ],
          "name": "stdout"
        }
      ]
    },
    {
      "cell_type": "code",
      "metadata": {
        "id": "5P9TUD_C65lq"
      },
      "source": [
        "df_train_lgb = pd.DataFrame(np.concatenate(preds_val_list,axis=1),columns=names_df)\n",
        "df_train_lgb.insert(loc=df_train_lgb.shape[1],column='target',value=y_val_list[0])\n",
        "df_test_lgb = pd.DataFrame(np.concatenate(preds_tst_list,axis=1),columns=names_df)"
      ],
      "execution_count": 16,
      "outputs": []
    },
    {
      "cell_type": "code",
      "metadata": {
        "id": "6VN5XWlH8WG7"
      },
      "source": [
        "df_train_lgb.to_csv('df_train_lgb.csv', index=False)\n",
        "df_test_lgb.to_csv('df_test_lgb.csv', index=False)"
      ],
      "execution_count": 17,
      "outputs": []
    },
    {
      "cell_type": "code",
      "metadata": {
        "id": "wYmp8bw-8Zwj",
        "outputId": "c3f2acf4-b461-4111-d0ab-60e95c45d1fa",
        "colab": {
          "base_uri": "https://localhost:8080/",
          "height": 299
        }
      },
      "source": [
        "df_train_stack=df_train_stack.drop(columns=['target'])\n",
        "df_train_stack=pd.concat([df_train_stack,df_train_lgb],axis=1)\n",
        "df_test_stack=pd.concat([df_test_stack,df_test_lgb],axis=1)\n",
        "df_train_stack.head()"
      ],
      "execution_count": 18,
      "outputs": [
        {
          "output_type": "execute_result",
          "data": {
            "text/html": [
              "<div>\n",
              "<style scoped>\n",
              "    .dataframe tbody tr th:only-of-type {\n",
              "        vertical-align: middle;\n",
              "    }\n",
              "\n",
              "    .dataframe tbody tr th {\n",
              "        vertical-align: top;\n",
              "    }\n",
              "\n",
              "    .dataframe thead th {\n",
              "        text-align: right;\n",
              "    }\n",
              "</style>\n",
              "<table border=\"1\" class=\"dataframe\">\n",
              "  <thead>\n",
              "    <tr style=\"text-align: right;\">\n",
              "      <th></th>\n",
              "      <th>RF_c1</th>\n",
              "      <th>RF_c2</th>\n",
              "      <th>RF_c3</th>\n",
              "      <th>RF_c4</th>\n",
              "      <th>RF_c5</th>\n",
              "      <th>RF_c6</th>\n",
              "      <th>RF_c7</th>\n",
              "      <th>RF_c8</th>\n",
              "      <th>RF_c9</th>\n",
              "      <th>LOGIT_c1</th>\n",
              "      <th>LOGIT_c2</th>\n",
              "      <th>LOGIT_c3</th>\n",
              "      <th>LOGIT_c4</th>\n",
              "      <th>LOGIT_c5</th>\n",
              "      <th>LOGIT_c6</th>\n",
              "      <th>LOGIT_c7</th>\n",
              "      <th>LOGIT_c8</th>\n",
              "      <th>LOGIT_c9</th>\n",
              "      <th>MLP_c1</th>\n",
              "      <th>MLP_c2</th>\n",
              "      <th>MLP_c3</th>\n",
              "      <th>MLP_c4</th>\n",
              "      <th>MLP_c5</th>\n",
              "      <th>MLP_c6</th>\n",
              "      <th>MLP_c7</th>\n",
              "      <th>MLP_c8</th>\n",
              "      <th>MLP_c9</th>\n",
              "      <th>XGB_c1</th>\n",
              "      <th>XGB_c2</th>\n",
              "      <th>XGB_c3</th>\n",
              "      <th>XGB_c4</th>\n",
              "      <th>XGB_c5</th>\n",
              "      <th>XGB_c6</th>\n",
              "      <th>XGB_c7</th>\n",
              "      <th>XGB_c8</th>\n",
              "      <th>XGB_c9</th>\n",
              "      <th>LGB_c1</th>\n",
              "      <th>LGB_c2</th>\n",
              "      <th>LGB_c3</th>\n",
              "      <th>LGB_c4</th>\n",
              "      <th>LGB_c5</th>\n",
              "      <th>LGB_c6</th>\n",
              "      <th>LGB_c7</th>\n",
              "      <th>LGB_c8</th>\n",
              "      <th>LGB_c9</th>\n",
              "      <th>target</th>\n",
              "    </tr>\n",
              "  </thead>\n",
              "  <tbody>\n",
              "    <tr>\n",
              "      <th>0</th>\n",
              "      <td>0.004751</td>\n",
              "      <td>0.000000</td>\n",
              "      <td>0.000000</td>\n",
              "      <td>0.000609</td>\n",
              "      <td>0.000024</td>\n",
              "      <td>0.991835</td>\n",
              "      <td>0.001017</td>\n",
              "      <td>0.000874</td>\n",
              "      <td>0.000891</td>\n",
              "      <td>0.000421</td>\n",
              "      <td>1.025263e-09</td>\n",
              "      <td>4.243281e-13</td>\n",
              "      <td>2.627042e-05</td>\n",
              "      <td>8.122726e-15</td>\n",
              "      <td>9.981520e-01</td>\n",
              "      <td>1.157242e-03</td>\n",
              "      <td>0.000091</td>\n",
              "      <td>1.515615e-04</td>\n",
              "      <td>0.031715</td>\n",
              "      <td>0.000227</td>\n",
              "      <td>0.000000</td>\n",
              "      <td>0.002091</td>\n",
              "      <td>0.000000</td>\n",
              "      <td>0.922184</td>\n",
              "      <td>0.017573</td>\n",
              "      <td>0.010036</td>\n",
              "      <td>0.016174</td>\n",
              "      <td>0.045687</td>\n",
              "      <td>0.000000</td>\n",
              "      <td>0.000000</td>\n",
              "      <td>0.000571</td>\n",
              "      <td>0.000000</td>\n",
              "      <td>0.947854</td>\n",
              "      <td>0.002085</td>\n",
              "      <td>0.001720</td>\n",
              "      <td>0.002084</td>\n",
              "      <td>0.039231</td>\n",
              "      <td>0.000000</td>\n",
              "      <td>0.000000</td>\n",
              "      <td>0.000922</td>\n",
              "      <td>0.000000</td>\n",
              "      <td>0.954230</td>\n",
              "      <td>0.001702</td>\n",
              "      <td>0.002141</td>\n",
              "      <td>0.001775</td>\n",
              "      <td>0</td>\n",
              "    </tr>\n",
              "    <tr>\n",
              "      <th>1</th>\n",
              "      <td>0.160114</td>\n",
              "      <td>0.000871</td>\n",
              "      <td>0.000455</td>\n",
              "      <td>0.001055</td>\n",
              "      <td>0.001351</td>\n",
              "      <td>0.035908</td>\n",
              "      <td>0.017885</td>\n",
              "      <td>0.779444</td>\n",
              "      <td>0.002918</td>\n",
              "      <td>0.155829</td>\n",
              "      <td>8.521797e-02</td>\n",
              "      <td>2.530527e-02</td>\n",
              "      <td>7.770715e-03</td>\n",
              "      <td>1.007624e-02</td>\n",
              "      <td>8.310513e-02</td>\n",
              "      <td>6.314196e-02</td>\n",
              "      <td>0.461452</td>\n",
              "      <td>1.081016e-01</td>\n",
              "      <td>0.244329</td>\n",
              "      <td>0.023963</td>\n",
              "      <td>0.015216</td>\n",
              "      <td>0.002332</td>\n",
              "      <td>0.013851</td>\n",
              "      <td>0.041966</td>\n",
              "      <td>0.054434</td>\n",
              "      <td>0.575938</td>\n",
              "      <td>0.027971</td>\n",
              "      <td>0.075139</td>\n",
              "      <td>0.009410</td>\n",
              "      <td>0.002422</td>\n",
              "      <td>0.003268</td>\n",
              "      <td>0.000299</td>\n",
              "      <td>0.026141</td>\n",
              "      <td>0.024903</td>\n",
              "      <td>0.852626</td>\n",
              "      <td>0.005792</td>\n",
              "      <td>0.079383</td>\n",
              "      <td>0.008319</td>\n",
              "      <td>0.003734</td>\n",
              "      <td>0.003491</td>\n",
              "      <td>0.000228</td>\n",
              "      <td>0.026284</td>\n",
              "      <td>0.020065</td>\n",
              "      <td>0.847843</td>\n",
              "      <td>0.010652</td>\n",
              "      <td>0</td>\n",
              "    </tr>\n",
              "    <tr>\n",
              "      <th>2</th>\n",
              "      <td>0.806111</td>\n",
              "      <td>0.001601</td>\n",
              "      <td>0.000392</td>\n",
              "      <td>0.000406</td>\n",
              "      <td>0.000422</td>\n",
              "      <td>0.009368</td>\n",
              "      <td>0.010009</td>\n",
              "      <td>0.006153</td>\n",
              "      <td>0.165538</td>\n",
              "      <td>0.355184</td>\n",
              "      <td>7.777332e-02</td>\n",
              "      <td>1.823750e-02</td>\n",
              "      <td>2.059238e-03</td>\n",
              "      <td>3.613955e-03</td>\n",
              "      <td>1.074821e-01</td>\n",
              "      <td>9.584091e-02</td>\n",
              "      <td>0.152352</td>\n",
              "      <td>1.874574e-01</td>\n",
              "      <td>0.664746</td>\n",
              "      <td>0.022006</td>\n",
              "      <td>0.000704</td>\n",
              "      <td>0.001457</td>\n",
              "      <td>0.001558</td>\n",
              "      <td>0.067723</td>\n",
              "      <td>0.079943</td>\n",
              "      <td>0.071899</td>\n",
              "      <td>0.089963</td>\n",
              "      <td>0.870528</td>\n",
              "      <td>0.005653</td>\n",
              "      <td>0.000966</td>\n",
              "      <td>0.000531</td>\n",
              "      <td>0.000188</td>\n",
              "      <td>0.011265</td>\n",
              "      <td>0.034664</td>\n",
              "      <td>0.013272</td>\n",
              "      <td>0.062932</td>\n",
              "      <td>0.887447</td>\n",
              "      <td>0.007472</td>\n",
              "      <td>0.001408</td>\n",
              "      <td>0.000423</td>\n",
              "      <td>0.000622</td>\n",
              "      <td>0.010911</td>\n",
              "      <td>0.036503</td>\n",
              "      <td>0.013026</td>\n",
              "      <td>0.042187</td>\n",
              "      <td>0</td>\n",
              "    </tr>\n",
              "    <tr>\n",
              "      <th>3</th>\n",
              "      <td>0.748268</td>\n",
              "      <td>0.001260</td>\n",
              "      <td>0.001705</td>\n",
              "      <td>0.002352</td>\n",
              "      <td>0.000025</td>\n",
              "      <td>0.089672</td>\n",
              "      <td>0.087001</td>\n",
              "      <td>0.063076</td>\n",
              "      <td>0.006641</td>\n",
              "      <td>0.999969</td>\n",
              "      <td>2.827867e-30</td>\n",
              "      <td>1.746132e-29</td>\n",
              "      <td>1.061263e-36</td>\n",
              "      <td>6.026833e-57</td>\n",
              "      <td>1.133225e-12</td>\n",
              "      <td>3.944544e-18</td>\n",
              "      <td>0.000031</td>\n",
              "      <td>2.001580e-08</td>\n",
              "      <td>0.969485</td>\n",
              "      <td>0.000000</td>\n",
              "      <td>0.004024</td>\n",
              "      <td>0.000000</td>\n",
              "      <td>0.000000</td>\n",
              "      <td>0.000344</td>\n",
              "      <td>0.004628</td>\n",
              "      <td>0.018536</td>\n",
              "      <td>0.002984</td>\n",
              "      <td>0.879264</td>\n",
              "      <td>0.000391</td>\n",
              "      <td>0.001054</td>\n",
              "      <td>0.000573</td>\n",
              "      <td>0.000000</td>\n",
              "      <td>0.013810</td>\n",
              "      <td>0.066498</td>\n",
              "      <td>0.035808</td>\n",
              "      <td>0.002601</td>\n",
              "      <td>0.908253</td>\n",
              "      <td>0.000299</td>\n",
              "      <td>0.000219</td>\n",
              "      <td>0.000187</td>\n",
              "      <td>0.000000</td>\n",
              "      <td>0.007660</td>\n",
              "      <td>0.034962</td>\n",
              "      <td>0.045858</td>\n",
              "      <td>0.002561</td>\n",
              "      <td>0</td>\n",
              "    </tr>\n",
              "    <tr>\n",
              "      <th>4</th>\n",
              "      <td>0.517095</td>\n",
              "      <td>0.001339</td>\n",
              "      <td>0.000837</td>\n",
              "      <td>0.000877</td>\n",
              "      <td>0.000094</td>\n",
              "      <td>0.020753</td>\n",
              "      <td>0.327586</td>\n",
              "      <td>0.127855</td>\n",
              "      <td>0.003564</td>\n",
              "      <td>0.244820</td>\n",
              "      <td>5.324813e-04</td>\n",
              "      <td>2.435576e-03</td>\n",
              "      <td>2.754070e-04</td>\n",
              "      <td>1.478748e-05</td>\n",
              "      <td>1.290583e-01</td>\n",
              "      <td>2.104049e-01</td>\n",
              "      <td>0.282810</td>\n",
              "      <td>1.296480e-01</td>\n",
              "      <td>0.484394</td>\n",
              "      <td>0.000962</td>\n",
              "      <td>0.001103</td>\n",
              "      <td>0.000960</td>\n",
              "      <td>0.000000</td>\n",
              "      <td>0.064690</td>\n",
              "      <td>0.202851</td>\n",
              "      <td>0.140808</td>\n",
              "      <td>0.104231</td>\n",
              "      <td>0.721986</td>\n",
              "      <td>0.000000</td>\n",
              "      <td>0.001261</td>\n",
              "      <td>0.000524</td>\n",
              "      <td>0.000278</td>\n",
              "      <td>0.015780</td>\n",
              "      <td>0.149308</td>\n",
              "      <td>0.105225</td>\n",
              "      <td>0.005637</td>\n",
              "      <td>0.673809</td>\n",
              "      <td>0.000295</td>\n",
              "      <td>0.001680</td>\n",
              "      <td>0.000148</td>\n",
              "      <td>0.000358</td>\n",
              "      <td>0.014202</td>\n",
              "      <td>0.180534</td>\n",
              "      <td>0.123328</td>\n",
              "      <td>0.005645</td>\n",
              "      <td>0</td>\n",
              "    </tr>\n",
              "  </tbody>\n",
              "</table>\n",
              "</div>"
            ],
            "text/plain": [
              "      RF_c1     RF_c2     RF_c3     RF_c4     RF_c5     RF_c6     RF_c7  \\\n",
              "0  0.004751  0.000000  0.000000  0.000609  0.000024  0.991835  0.001017   \n",
              "1  0.160114  0.000871  0.000455  0.001055  0.001351  0.035908  0.017885   \n",
              "2  0.806111  0.001601  0.000392  0.000406  0.000422  0.009368  0.010009   \n",
              "3  0.748268  0.001260  0.001705  0.002352  0.000025  0.089672  0.087001   \n",
              "4  0.517095  0.001339  0.000837  0.000877  0.000094  0.020753  0.327586   \n",
              "\n",
              "      RF_c8     RF_c9  LOGIT_c1      LOGIT_c2      LOGIT_c3      LOGIT_c4  \\\n",
              "0  0.000874  0.000891  0.000421  1.025263e-09  4.243281e-13  2.627042e-05   \n",
              "1  0.779444  0.002918  0.155829  8.521797e-02  2.530527e-02  7.770715e-03   \n",
              "2  0.006153  0.165538  0.355184  7.777332e-02  1.823750e-02  2.059238e-03   \n",
              "3  0.063076  0.006641  0.999969  2.827867e-30  1.746132e-29  1.061263e-36   \n",
              "4  0.127855  0.003564  0.244820  5.324813e-04  2.435576e-03  2.754070e-04   \n",
              "\n",
              "       LOGIT_c5      LOGIT_c6      LOGIT_c7  LOGIT_c8      LOGIT_c9    MLP_c1  \\\n",
              "0  8.122726e-15  9.981520e-01  1.157242e-03  0.000091  1.515615e-04  0.031715   \n",
              "1  1.007624e-02  8.310513e-02  6.314196e-02  0.461452  1.081016e-01  0.244329   \n",
              "2  3.613955e-03  1.074821e-01  9.584091e-02  0.152352  1.874574e-01  0.664746   \n",
              "3  6.026833e-57  1.133225e-12  3.944544e-18  0.000031  2.001580e-08  0.969485   \n",
              "4  1.478748e-05  1.290583e-01  2.104049e-01  0.282810  1.296480e-01  0.484394   \n",
              "\n",
              "     MLP_c2    MLP_c3    MLP_c4    MLP_c5    MLP_c6    MLP_c7    MLP_c8  \\\n",
              "0  0.000227  0.000000  0.002091  0.000000  0.922184  0.017573  0.010036   \n",
              "1  0.023963  0.015216  0.002332  0.013851  0.041966  0.054434  0.575938   \n",
              "2  0.022006  0.000704  0.001457  0.001558  0.067723  0.079943  0.071899   \n",
              "3  0.000000  0.004024  0.000000  0.000000  0.000344  0.004628  0.018536   \n",
              "4  0.000962  0.001103  0.000960  0.000000  0.064690  0.202851  0.140808   \n",
              "\n",
              "     MLP_c9    XGB_c1    XGB_c2    XGB_c3    XGB_c4    XGB_c5    XGB_c6  \\\n",
              "0  0.016174  0.045687  0.000000  0.000000  0.000571  0.000000  0.947854   \n",
              "1  0.027971  0.075139  0.009410  0.002422  0.003268  0.000299  0.026141   \n",
              "2  0.089963  0.870528  0.005653  0.000966  0.000531  0.000188  0.011265   \n",
              "3  0.002984  0.879264  0.000391  0.001054  0.000573  0.000000  0.013810   \n",
              "4  0.104231  0.721986  0.000000  0.001261  0.000524  0.000278  0.015780   \n",
              "\n",
              "     XGB_c7    XGB_c8    XGB_c9    LGB_c1    LGB_c2    LGB_c3    LGB_c4  \\\n",
              "0  0.002085  0.001720  0.002084  0.039231  0.000000  0.000000  0.000922   \n",
              "1  0.024903  0.852626  0.005792  0.079383  0.008319  0.003734  0.003491   \n",
              "2  0.034664  0.013272  0.062932  0.887447  0.007472  0.001408  0.000423   \n",
              "3  0.066498  0.035808  0.002601  0.908253  0.000299  0.000219  0.000187   \n",
              "4  0.149308  0.105225  0.005637  0.673809  0.000295  0.001680  0.000148   \n",
              "\n",
              "     LGB_c5    LGB_c6    LGB_c7    LGB_c8    LGB_c9  target  \n",
              "0  0.000000  0.954230  0.001702  0.002141  0.001775       0  \n",
              "1  0.000228  0.026284  0.020065  0.847843  0.010652       0  \n",
              "2  0.000622  0.010911  0.036503  0.013026  0.042187       0  \n",
              "3  0.000000  0.007660  0.034962  0.045858  0.002561       0  \n",
              "4  0.000358  0.014202  0.180534  0.123328  0.005645       0  "
            ]
          },
          "metadata": {
            "tags": []
          },
          "execution_count": 18
        }
      ]
    },
    {
      "cell_type": "code",
      "metadata": {
        "id": "-PgzoQk19TZq"
      },
      "source": [
        "names_df = df_test_stack.columns\n",
        "scaler = StandardScaler()\n",
        "X_train = df_train_stack[names_df].values.copy()\n",
        "X_test = df_test_stack[names_df].values.copy()\n",
        "scaler.fit(X_train)\n",
        "X_train_scaled = scaler.transform(X_train)\n",
        "X_test_scaled = scaler.transform(X_test)"
      ],
      "execution_count": 19,
      "outputs": []
    },
    {
      "cell_type": "code",
      "metadata": {
        "id": "ns37KQEv9Yd1",
        "outputId": "bfc1ac54-dea6-4c1e-e949-e8b73d8d0e27",
        "colab": {
          "base_uri": "https://localhost:8080/"
        }
      },
      "source": [
        "X = X_train_scaled\n",
        "y = df_train_stack['target'].values.reshape(-1)\n",
        "\n",
        "X_train, X_val, y_train, y_val = train_test_split(X, y, test_size=0.20, random_state=36, stratify=y)\n",
        "\n",
        "print(\"Verificamos que la partición es estratificada\")\n",
        "print(np.round(np.bincount(y_train)/len(y_train),3))\n",
        "print(np.round(np.bincount(y_val)/len(y_val),3))"
      ],
      "execution_count": 20,
      "outputs": [
        {
          "output_type": "stream",
          "text": [
            "Verificamos que la partición es estratificada\n",
            "[0.031 0.261 0.129 0.043 0.044 0.228 0.046 0.137 0.08 ]\n",
            "[0.031 0.261 0.129 0.043 0.044 0.228 0.046 0.137 0.08 ]\n"
          ],
          "name": "stdout"
        }
      ]
    },
    {
      "cell_type": "code",
      "metadata": {
        "id": "v9098Dd79ZgG"
      },
      "source": [
        "def entrena_model_hold_out(model, calibra=True, random_seed=1234):\n",
        "    np.random.seed(random_seed)\n",
        "    if calibra:\n",
        "        calibrated_clf = CalibratedClassifierCV(model, method='isotonic', cv=5)\n",
        "        calibrated_clf.fit(X_train, y_train)\n",
        "        preds_val = calibrated_clf.predict_proba(X_val)\n",
        "    else:\n",
        "        model.fit(X_train, y_train)\n",
        "        preds_val = model.predict_proba(X_val)\n",
        "\n",
        "    # Extrae las métricas\n",
        "    log_loss_val = log_loss(y_val, preds_val, eps=1e-15, normalize=True)\n",
        "    return log_loss_val"
      ],
      "execution_count": 21,
      "outputs": []
    },
    {
      "cell_type": "code",
      "metadata": {
        "id": "NOg8zXSo9aHy"
      },
      "source": [
        "def busca_param(valores, nombre_var, parametros, random_seed=1234, cv=5):\n",
        "    scores = []\n",
        "    for valor in tqdm(valores):\n",
        "        parametros[nombre_var]=valor\n",
        "        xgb_model = XGBClassifier(learning_rate=parametros['learning_rate'],\n",
        "                                  n_estimators=parametros['n_estimators'],\n",
        "                                  max_depth=parametros['max_depth'],\n",
        "                                  subsample=parametros['subsample'],\n",
        "                                  colsample_bytree=parametros['colsample_bytree'],\n",
        "                                  reg_alpha=parametros['reg_alpha'], \n",
        "                                  reg_lambda=parametros['reg_lambda'],\n",
        "                                  nthread=20, \n",
        "                                  seed=random_seed, objective='multi:softprob')\n",
        "        log_loss_val = entrena_model_hold_out(xgb_model, calibra=True, random_seed=random_seed)\n",
        "        print(f'{nombre_var}={valor} log_loss_val={log_loss_val}')\n",
        "        scores.append(log_loss_val)\n",
        "    plt.plot(valores,scores,'o-')\n",
        "    plt.ylabel('log_loss_val')\n",
        "    plt.xlabel(nombre_var)\n",
        "    print(f'Mejor {nombre_var}={valores[np.argmin(scores)]} Score={np.min(scores)}')\n",
        "    return valores[np.argmin(scores)]"
      ],
      "execution_count": 22,
      "outputs": []
    },
    {
      "cell_type": "code",
      "metadata": {
        "id": "hLQTRYN29ZzQ"
      },
      "source": [
        "# Parametros que vienen por defecto\n",
        "parametros = {'learning_rate':0.1, 'n_estimators':100, 'max_depth':6,\n",
        "              'subsample':0.80, 'colsample_bytree':0.80,\n",
        "              'reg_alpha':0.0, 'reg_lambda':1.0}"
      ],
      "execution_count": 23,
      "outputs": []
    },
    {
      "cell_type": "code",
      "metadata": {
        "id": "Ch1Ye_RP903P",
        "outputId": "586d70d8-4787-4035-c274-425dc3c5496c",
        "colab": {
          "base_uri": "https://localhost:8080/",
          "height": 449,
          "referenced_widgets": [
            "7f06a90917334a73b30b742eafea65c4",
            "705c3af5cb8641b8b44c2fac1a8aa2b1",
            "bce7f1d6663c4ccbba3d8eb5d3250836",
            "33e84f6d9f9743e4a75faa84143b6c60",
            "6ef5ab85704445fea9e13f275b7efbf2",
            "bc023dd4ccdc4d4ca989f7f10fba74d7",
            "10864db966ce43b0be624d788d49b94e",
            "eb50266e6fff49ecb59ca0bc893845ef"
          ]
        }
      },
      "source": [
        "# Busqueda del numero de arboles\n",
        "parametros['n_estimators'] = busca_param(np.arange(150,200,25), 'n_estimators', parametros)\n",
        "print(parametros)"
      ],
      "execution_count": 24,
      "outputs": [
        {
          "output_type": "stream",
          "text": [
            "/usr/local/lib/python3.7/dist-packages/ipykernel_launcher.py:3: TqdmDeprecationWarning: This function will be removed in tqdm==5.0.0\n",
            "Please use `tqdm.notebook.tqdm` instead of `tqdm.tqdm_notebook`\n",
            "  This is separate from the ipykernel package so we can avoid doing imports until\n"
          ],
          "name": "stderr"
        },
        {
          "output_type": "display_data",
          "data": {
            "application/vnd.jupyter.widget-view+json": {
              "model_id": "7f06a90917334a73b30b742eafea65c4",
              "version_minor": 0,
              "version_major": 2
            },
            "text/plain": [
              "HBox(children=(FloatProgress(value=0.0, max=2.0), HTML(value='')))"
            ]
          },
          "metadata": {
            "tags": []
          }
        },
        {
          "output_type": "stream",
          "text": [
            "n_estimators=150 log_loss_val=0.4328991761773795\n",
            "n_estimators=175 log_loss_val=0.4332463228228992\n",
            "\n",
            "Mejor n_estimators=150 Score=0.4328991761773795\n",
            "{'learning_rate': 0.1, 'n_estimators': 150, 'max_depth': 6, 'subsample': 0.8, 'colsample_bytree': 0.8, 'reg_alpha': 0.0, 'reg_lambda': 1.0}\n"
          ],
          "name": "stdout"
        },
        {
          "output_type": "display_data",
          "data": {
            "image/png": "[encoded data removed]",
            "text/plain": [
              "<Figure size 432x288 with 1 Axes>"
            ]
          },
          "metadata": {
            "tags": []
          }
        }
      ]
    },
    {
      "cell_type": "code",
      "metadata": {
        "id": "GVNIWhl590qj",
        "outputId": "10357cfe-f7e8-4447-f0de-12d804b6820f",
        "colab": {
          "base_uri": "https://localhost:8080/",
          "height": 99,
          "referenced_widgets": [
            "acdf945ff42b42509c87df215b7ee564",
            "16371881db7148448e7d3e21633b0908",
            "816534b16e4d415fa4b7c8fdcacfd4da",
            "18145c88f7104f9c91c9036e31622767",
            "a1e3eac4cd2c49a0a60ce0c8ffcb56a7",
            "335e3af9659b4ade834cbfe376f4f6b2",
            "813c2188b2cf41759c6094edb1b986db",
            "17586931c3b942179e76d8aaae22d3b0"
          ]
        }
      },
      "source": [
        "parametros['max_depth'] = busca_param(np.arange(1,4), 'max_depth', parametros)\n",
        "print(parametros)"
      ],
      "execution_count": null,
      "outputs": [
        {
          "output_type": "stream",
          "text": [
            "/usr/local/lib/python3.7/dist-packages/ipykernel_launcher.py:3: TqdmDeprecationWarning: This function will be removed in tqdm==5.0.0\n",
            "Please use `tqdm.notebook.tqdm` instead of `tqdm.tqdm_notebook`\n",
            "  This is separate from the ipykernel package so we can avoid doing imports until\n"
          ],
          "name": "stderr"
        },
        {
          "output_type": "display_data",
          "data": {
            "application/vnd.jupyter.widget-view+json": {
              "model_id": "acdf945ff42b42509c87df215b7ee564",
              "version_minor": 0,
              "version_major": 2
            },
            "text/plain": [
              "HBox(children=(FloatProgress(value=0.0, max=3.0), HTML(value='')))"
            ]
          },
          "metadata": {
            "tags": []
          }
        }
      ]
    },
    {
      "cell_type": "code",
      "metadata": {
        "id": "b85Zof8G9i2_"
      },
      "source": [
        "parametros['subsample'] = busca_param(np.arange(6,9)/10.0, 'subsample', parametros)\n",
        "print(parametros)"
      ],
      "execution_count": null,
      "outputs": []
    },
    {
      "cell_type": "code",
      "metadata": {
        "id": "Okp5w16z94SH"
      },
      "source": [
        "parametros['colsample_bytree'] = busca_param(np.arange(6,9)/10.0, 'colsample_bytree', parametros)\n",
        "print(parametros)"
      ],
      "execution_count": null,
      "outputs": []
    },
    {
      "cell_type": "code",
      "metadata": {
        "id": "GivOtkO89mZp"
      },
      "source": [
        "# Probamos con Regularización L1\n",
        "parametros['reg_alpha'] = busca_param([0.0,0.001,0.01,0.1], 'reg_alpha', parametros)\n",
        "print(parametros)"
      ],
      "execution_count": null,
      "outputs": []
    },
    {
      "cell_type": "code",
      "metadata": {
        "id": "PcnYLthH954U"
      },
      "source": [
        "# Probamos con Regularización L2\n",
        "parametros['reg_lambda'] = busca_param([0.0,0.01,0.1,1.0], 'reg_lambda', parametros)\n",
        "print(parametros)"
      ],
      "execution_count": null,
      "outputs": []
    },
    {
      "cell_type": "code",
      "metadata": {
        "id": "L0h-t6-x97GY"
      },
      "source": [
        "X_orig = X_train_scaled.copy()\n",
        "y_orig = y.copy()"
      ],
      "execution_count": null,
      "outputs": []
    },
    {
      "cell_type": "code",
      "metadata": {
        "id": "pI7s9eMB9mRc"
      },
      "source": [
        "%%time\n",
        "random_seed = 1234\n",
        "stack_model = XGBClassifier(learning_rate=0.01,\n",
        "                                  n_estimators=175*10,\n",
        "                                  max_depth=2,\n",
        "                                  subsample=0.8,\n",
        "                                  colsample_bytree=0.8,\n",
        "                                  reg_alpha=0.0001, \n",
        "                                  reg_lambda=1.0,\n",
        "                                  nthread=20, \n",
        "                                  seed=random_seed, objective='multi:softprob')\n",
        "loss_stack, y_stack, preds_val_stack, preds_test_stack  = entrena_model_folds(stack_model, \n",
        "                                                                              calibra=True, \n",
        "                                                                              random_seed=random_seed)\n",
        "print('STACKING MODEL=',loss_stack)"
      ],
      "execution_count": null,
      "outputs": []
    },
    {
      "cell_type": "code",
      "metadata": {
        "id": "rHc3FCTI9mGq"
      },
      "source": [
        "output = pd.DataFrame(preds_test_stack,columns=[\"Class_\"+str(i) for i in range(1,10)])\n",
        "output.insert(loc=0, column='id', value=df_test.id)\n",
        "output.to_csv('submission_parte3_david.csv', index=False)\n",
        "pd.read_csv('submission_parte3_david.csv').head()"
      ],
      "execution_count": null,
      "outputs": []
    },
    {
      "cell_type": "markdown",
      "metadata": {
        "id": "UMAXNoIb4L2M"
      },
      "source": [
        "# ENTREGA"
      ]
    },
    {
      "cell_type": "markdown",
      "metadata": {
        "id": "lWjK7Ujk4L2N"
      },
      "source": [
        "Recuerda guardar tus cambios en tu repositorio utilizando la opción \"Save a copy in GitHub...\" del menú File."
      ]
    },
    {
      "cell_type": "code",
      "metadata": {
        "id": "BYh1ayX14L2O"
      },
      "source": [
        ""
      ],
      "execution_count": null,
      "outputs": []
    }
  ]
}