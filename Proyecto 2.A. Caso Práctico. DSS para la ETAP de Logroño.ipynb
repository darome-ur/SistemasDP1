{
  "nbformat": 4,
  "nbformat_minor": 0,
  "metadata": {
    "kernelspec": {
      "display_name": "Python 3",
      "language": "python",
      "name": "python3"
    },
    "language_info": {
      "codemirror_mode": {
        "name": "ipython",
        "version": 3
      },
      "file_extension": ".py",
      "mimetype": "text/x-python",
      "name": "python",
      "nbconvert_exporter": "python",
      "pygments_lexer": "ipython3",
      "version": "3.8.5"
    },
    "toc": {
      "base_numbering": 1,
      "nav_menu": {},
      "number_sections": true,
      "sideBar": true,
      "skip_h1_title": false,
      "title_cell": "Table of Contents",
      "title_sidebar": "Contents",
      "toc_cell": false,
      "toc_position": {},
      "toc_section_display": true,
      "toc_window_display": false
    },
    "colab": {
      "name": "Proyecto 2.A. Caso Práctico. DSS para la ETAP de Logroño.ipynb",
      "provenance": []
    }
  },
  "cells": [
    {
      "cell_type": "markdown",
      "metadata": {
        "id": "H-D7MogV7yul"
      },
      "source": [
        "- *Asignatura*: Ingeniería del Conocimiento\n",
        "- *Curso*: 2020/2021\n",
        "- *Profesor*: Fco. Javier Martínez de Pisón\n",
        "- Universidad de La Rioja"
      ]
    },
    {
      "cell_type": "markdown",
      "metadata": {
        "id": "Os4nNa2e7yvT"
      },
      "source": [
        "# Caso Práctico Final: DSS para la ETAP de Logroño"
      ]
    },
    {
      "cell_type": "markdown",
      "metadata": {
        "id": "9nk-KI9A7yvV"
      },
      "source": [
        "La *Estación de Tratamiento de Agua Potable de Logroño (TAP Río Iregua)* abastece a una población cercana a los 200.000 habitantes, entre los municipios de Logroño, Alberite, Villamediana y Lardero, además de varios polígonos industriales. Las instalaciones de Lardero, donde se realiza el tratamiento principal, se encuentran atendidas en todo momento, es decir, 24 horas los 365 días del año. En más del cincuenta por ciento del tiempo solamente hay una persona que controla las instalaciones, aunque con los conocimientos suficientes para manejar todos los elementos convencionales que afectan al funcionamiento del proceso.\n",
        "\n",
        "![](https://www.larioja.org/consorcio-aguas/es/abastecimientos-supramunicipales/bajo-iregua/t-p-bajo-iregua.ficheros/881945-ETAP%20Bajo%20Iregua.jpg)\n",
        "\n",
        "Existen ocasiones en las que **las condiciones del agua captada en el río cambian de manera muy brusca**. Es el caso de bruscas variaciones en el parámetro de turbidez debidas a tormentas, deshielos o movimientos de tierras cercanos a la captación; o de calidad del agua debido a vertidos incontrolados.\n",
        "\n",
        "Habitualmente, en estos casos se realizan cambios en las dosis de floculante, cloro, u otros tratamientos que permiten controlar la calidad del agua potable; sin embargo, cuando las condiciones son extremas o la incertidumbre es grande, podría ser útil realizar acciones más drásticas como, por ejemplo:\n",
        "\n",
        "1.\tDetener la entrada de agua a la ETAP durante un número de horas determinado.\n",
        "2.\tDisminuir el caudal de entrada para minimizar el gasto en tratamientos.\n",
        "3.\tOtras posibles acciones de mantenimiento o reparación.\n",
        "\n",
        "El alcance de este proyecto **comprende el desarrollo de un sistema de apoyo a la toma de decisiones (DSS) en la ETAP Río Iregua que permita predecir el consumo en horas posteriores que ayuden a asegurar que las paradas o disminución de caudal no supongan graves contratiempos en el suministro final de agua**. En definitiva, los objetivos de este proyecto son el desarrollo de modelos predictivos que puedan ser integrados en un sistema inteligente de apoyo a la toma de decisiones en la gestión de aguas de la ETAP de Logroño.\n",
        "\n",
        "En este proyecto se trabajará con el archivo *'etap_entrenam2008_2009.arff'* para el entrenamiento de los modelos y *'etap_testeo2010.arff'* para testear los modelos finales. Finalmente, se guardará el mejor modelo para poder predecir el consumo probable de cada hora según las condiciones previstas en las horas posteriores.\n"
      ]
    },
    {
      "cell_type": "code",
      "metadata": {
        "id": "fuSB7TIv7yvZ"
      },
      "source": [
        "# Importamos paquetes basicos\n",
        "import pandas as pd \n",
        "import numpy as np\n",
        "import matplotlib.pyplot as plt\n",
        "import seaborn as sns\n",
        "from scipy.io import arff\n",
        "\n",
        "from sklearn.metrics import mean_absolute_error, mean_squared_error, r2_score\n",
        "from sklearn.model_selection import RepeatedKFold\n",
        "from sklearn.preprocessing import LabelEncoder, OneHotEncoder, StandardScaler\n",
        "from sklearn.linear_model import Ridge\n",
        "from sklearn.neighbors import KNeighborsClassifier\n",
        "from sklearn.neural_network import MLPRegressor\n",
        "from sklearn.svm import SVR\n",
        "from sklearn.tree import DecisionTreeRegressor"
      ],
      "execution_count": 1,
      "outputs": []
    },
    {
      "cell_type": "markdown",
      "metadata": {
        "id": "_aWB4FbI7yve"
      },
      "source": [
        "### Leemos la Base de Datos y Preprocesamos"
      ]
    },
    {
      "cell_type": "code",
      "metadata": {
        "id": "iS5mYAzi7yvg",
        "outputId": "d14d4cdb-ef5e-499b-9abc-7aa2bd087284",
        "colab": {
          "base_uri": "https://localhost:8080/"
        }
      },
      "source": [
        "!wget https://github.com/IC1920/Datasets/raw/master/etap_entrenam2008_2009.arff -O etap_entrenam2008_2009.arff\n",
        "!wget https://github.com/IC1920/Datasets/raw/master/etap_testeo2010.arff -O etap_testeo2010.arff"
      ],
      "execution_count": 2,
      "outputs": [
        {
          "output_type": "stream",
          "text": [
            "--2021-05-02 21:39:04--  https://github.com/IC1920/Datasets/raw/master/etap_entrenam2008_2009.arff\n",
            "Resolving github.com (github.com)... 192.30.255.113\n",
            "Connecting to github.com (github.com)|192.30.255.113|:443... connected.\n",
            "HTTP request sent, awaiting response... 302 Found\n",
            "Location: https://raw.githubusercontent.com/IC1920/Datasets/master/etap_entrenam2008_2009.arff [following]\n",
            "--2021-05-02 21:39:04--  https://raw.githubusercontent.com/IC1920/Datasets/master/etap_entrenam2008_2009.arff\n",
            "Resolving raw.githubusercontent.com (raw.githubusercontent.com)... 185.199.108.133, 185.199.109.133, 185.199.110.133, ...\n",
            "Connecting to raw.githubusercontent.com (raw.githubusercontent.com)|185.199.108.133|:443... connected.\n",
            "HTTP request sent, awaiting response... 200 OK\n",
            "Length: 912923 (892K) [text/plain]\n",
            "Saving to: ‘etap_entrenam2008_2009.arff’\n",
            "\n",
            "etap_entrenam2008_2 100%[===================>] 891.53K  --.-KB/s    in 0.04s   \n",
            "\n",
            "2021-05-02 21:39:04 (19.7 MB/s) - ‘etap_entrenam2008_2009.arff’ saved [912923/912923]\n",
            "\n",
            "--2021-05-02 21:39:04--  https://github.com/IC1920/Datasets/raw/master/etap_testeo2010.arff\n",
            "Resolving github.com (github.com)... 192.30.255.112\n",
            "Connecting to github.com (github.com)|192.30.255.112|:443... connected.\n",
            "HTTP request sent, awaiting response... 302 Found\n",
            "Location: https://raw.githubusercontent.com/IC1920/Datasets/master/etap_testeo2010.arff [following]\n",
            "--2021-05-02 21:39:05--  https://raw.githubusercontent.com/IC1920/Datasets/master/etap_testeo2010.arff\n",
            "Resolving raw.githubusercontent.com (raw.githubusercontent.com)... 185.199.108.133, 185.199.109.133, 185.199.110.133, ...\n",
            "Connecting to raw.githubusercontent.com (raw.githubusercontent.com)|185.199.108.133|:443... connected.\n",
            "HTTP request sent, awaiting response... 200 OK\n",
            "Length: 441500 (431K) [text/plain]\n",
            "Saving to: ‘etap_testeo2010.arff’\n",
            "\n",
            "etap_testeo2010.arf 100%[===================>] 431.15K  --.-KB/s    in 0.03s   \n",
            "\n",
            "2021-05-02 21:39:05 (15.5 MB/s) - ‘etap_testeo2010.arff’ saved [441500/441500]\n",
            "\n"
          ],
          "name": "stdout"
        }
      ]
    },
    {
      "cell_type": "code",
      "metadata": {
        "id": "ZyghkuLH7yvj",
        "outputId": "853222ff-041f-4d36-e595-540d2739c8dd",
        "colab": {
          "base_uri": "https://localhost:8080/",
          "height": 275
        }
      },
      "source": [
        "# Leemos los archivos arff\n",
        "df_train = pd.DataFrame(arff.loadarff(\"etap_entrenam2008_2009.arff\")[0])\n",
        "df_test = pd.DataFrame(arff.loadarff(\"etap_testeo2010.arff\")[0])\n",
        "\n",
        "# Eliminamos la b y las comillas de las categóricas\n",
        "for colname in ['fecha', 'nom_mes', 'festivo', 'nom_diasem']:\n",
        "    df_train[colname] = df_train[colname].astype(str).str.replace('b','').str.replace(\"'\",\"\")\n",
        "    df_test[colname] = df_test[colname].astype(str).str.replace('b','').str.replace(\"'\",\"\")\n",
        "\n",
        "display(df_train.head(3), df_test.head(3))"
      ],
      "execution_count": 3,
      "outputs": [
        {
          "output_type": "display_data",
          "data": {
            "text/html": [
              "<div>\n",
              "<style scoped>\n",
              "    .dataframe tbody tr th:only-of-type {\n",
              "        vertical-align: middle;\n",
              "    }\n",
              "\n",
              "    .dataframe tbody tr th {\n",
              "        vertical-align: top;\n",
              "    }\n",
              "\n",
              "    .dataframe thead th {\n",
              "        text-align: right;\n",
              "    }\n",
              "</style>\n",
              "<table border=\"1\" class=\"dataframe\">\n",
              "  <thead>\n",
              "    <tr style=\"text-align: right;\">\n",
              "      <th></th>\n",
              "      <th>fecha</th>\n",
              "      <th>anio</th>\n",
              "      <th>mes</th>\n",
              "      <th>nom_mes</th>\n",
              "      <th>diames</th>\n",
              "      <th>festivo</th>\n",
              "      <th>diasem</th>\n",
              "      <th>nom_diasem</th>\n",
              "      <th>hora</th>\n",
              "      <th>temp</th>\n",
              "      <th>consumo</th>\n",
              "    </tr>\n",
              "  </thead>\n",
              "  <tbody>\n",
              "    <tr>\n",
              "      <th>0</th>\n",
              "      <td>1/1/2008</td>\n",
              "      <td>2008.0</td>\n",
              "      <td>1.0</td>\n",
              "      <td>ene</td>\n",
              "      <td>1.0</td>\n",
              "      <td>TRUE</td>\n",
              "      <td>2.0</td>\n",
              "      <td>mar</td>\n",
              "      <td>1.0</td>\n",
              "      <td>-0.275</td>\n",
              "      <td>771.320</td>\n",
              "    </tr>\n",
              "    <tr>\n",
              "      <th>1</th>\n",
              "      <td>1/1/2008</td>\n",
              "      <td>2008.0</td>\n",
              "      <td>1.0</td>\n",
              "      <td>ene</td>\n",
              "      <td>1.0</td>\n",
              "      <td>TRUE</td>\n",
              "      <td>2.0</td>\n",
              "      <td>mar</td>\n",
              "      <td>2.0</td>\n",
              "      <td>-0.750</td>\n",
              "      <td>999.210</td>\n",
              "    </tr>\n",
              "    <tr>\n",
              "      <th>2</th>\n",
              "      <td>1/1/2008</td>\n",
              "      <td>2008.0</td>\n",
              "      <td>1.0</td>\n",
              "      <td>ene</td>\n",
              "      <td>1.0</td>\n",
              "      <td>TRUE</td>\n",
              "      <td>2.0</td>\n",
              "      <td>mar</td>\n",
              "      <td>3.0</td>\n",
              "      <td>-1.650</td>\n",
              "      <td>1376.105</td>\n",
              "    </tr>\n",
              "  </tbody>\n",
              "</table>\n",
              "</div>"
            ],
            "text/plain": [
              "      fecha    anio  mes nom_mes  ...  nom_diasem hora   temp   consumo\n",
              "0  1/1/2008  2008.0  1.0     ene  ...         mar  1.0 -0.275   771.320\n",
              "1  1/1/2008  2008.0  1.0     ene  ...         mar  2.0 -0.750   999.210\n",
              "2  1/1/2008  2008.0  1.0     ene  ...         mar  3.0 -1.650  1376.105\n",
              "\n",
              "[3 rows x 11 columns]"
            ]
          },
          "metadata": {
            "tags": []
          }
        },
        {
          "output_type": "display_data",
          "data": {
            "text/html": [
              "<div>\n",
              "<style scoped>\n",
              "    .dataframe tbody tr th:only-of-type {\n",
              "        vertical-align: middle;\n",
              "    }\n",
              "\n",
              "    .dataframe tbody tr th {\n",
              "        vertical-align: top;\n",
              "    }\n",
              "\n",
              "    .dataframe thead th {\n",
              "        text-align: right;\n",
              "    }\n",
              "</style>\n",
              "<table border=\"1\" class=\"dataframe\">\n",
              "  <thead>\n",
              "    <tr style=\"text-align: right;\">\n",
              "      <th></th>\n",
              "      <th>fecha</th>\n",
              "      <th>anio</th>\n",
              "      <th>mes</th>\n",
              "      <th>nom_mes</th>\n",
              "      <th>diames</th>\n",
              "      <th>festivo</th>\n",
              "      <th>diasem</th>\n",
              "      <th>nom_diasem</th>\n",
              "      <th>hora</th>\n",
              "      <th>temp</th>\n",
              "      <th>consumo</th>\n",
              "    </tr>\n",
              "  </thead>\n",
              "  <tbody>\n",
              "    <tr>\n",
              "      <th>0</th>\n",
              "      <td>4/1/2010</td>\n",
              "      <td>2010.0</td>\n",
              "      <td>1.0</td>\n",
              "      <td>ene</td>\n",
              "      <td>4.0</td>\n",
              "      <td>FALSE</td>\n",
              "      <td>1.0</td>\n",
              "      <td>lun</td>\n",
              "      <td>16.0</td>\n",
              "      <td>5.200</td>\n",
              "      <td>1709.175</td>\n",
              "    </tr>\n",
              "    <tr>\n",
              "      <th>1</th>\n",
              "      <td>4/1/2010</td>\n",
              "      <td>2010.0</td>\n",
              "      <td>1.0</td>\n",
              "      <td>ene</td>\n",
              "      <td>4.0</td>\n",
              "      <td>FALSE</td>\n",
              "      <td>1.0</td>\n",
              "      <td>lun</td>\n",
              "      <td>17.0</td>\n",
              "      <td>5.275</td>\n",
              "      <td>1507.580</td>\n",
              "    </tr>\n",
              "    <tr>\n",
              "      <th>2</th>\n",
              "      <td>4/1/2010</td>\n",
              "      <td>2010.0</td>\n",
              "      <td>1.0</td>\n",
              "      <td>ene</td>\n",
              "      <td>4.0</td>\n",
              "      <td>FALSE</td>\n",
              "      <td>1.0</td>\n",
              "      <td>lun</td>\n",
              "      <td>18.0</td>\n",
              "      <td>5.650</td>\n",
              "      <td>1358.575</td>\n",
              "    </tr>\n",
              "  </tbody>\n",
              "</table>\n",
              "</div>"
            ],
            "text/plain": [
              "      fecha    anio  mes nom_mes  ...  nom_diasem  hora   temp   consumo\n",
              "0  4/1/2010  2010.0  1.0     ene  ...         lun  16.0  5.200  1709.175\n",
              "1  4/1/2010  2010.0  1.0     ene  ...         lun  17.0  5.275  1507.580\n",
              "2  4/1/2010  2010.0  1.0     ene  ...         lun  18.0  5.650  1358.575\n",
              "\n",
              "[3 rows x 11 columns]"
            ]
          },
          "metadata": {
            "tags": []
          }
        }
      ]
    },
    {
      "cell_type": "markdown",
      "metadata": {
        "id": "Cgo_VK1o7yvn"
      },
      "source": [
        "Las variables de la base de datos son las siguientes:\n",
        "\n",
        "1.\tFecha (*fecha*): fecha del registro. Formato Fecha.\n",
        "2.\tAño (*anio*): variable numérica.\n",
        "3.\tMes (*mes*): variable numérica.\n",
        "4.\tNombre del mes (*nom_mes*): nombre del mes. Variable categórica.\n",
        "5.\tDía del mes (*diames*): día del mes. Variable numérica.\n",
        "6.\tDía festivo o no (*festivo*): si es un día festivo o no. Variable booleana.\n",
        "7.\tDía de la semana (*diasem*): día de la semana en formato numérico.\n",
        "8.\tNombre del día de la semana  (*nom_diasem*): nombre del día de la semana. Variable categórica.\n",
        "9.\tHora (*hora*): franja horaria de suministro (de 0 a 23).\n",
        "10.\tTemperatura ambiental (*temp*): temperatura ambiental en (ºC). Variable numérica.\n",
        "\n",
        "Y como variable de salida:\n",
        "\n",
        "11.\tConsumo final (*consumo*): consumo de agua en metros cúbicos por hora. Variable numérica a predecir.\n",
        "\n",
        "Los datos de consumo han sido modificados con el objetivo de preservar la confidencialidad de los mismos.\n"
      ]
    },
    {
      "cell_type": "markdown",
      "metadata": {
        "id": "cADMsOx27yvs"
      },
      "source": [
        "#  1. Ejercicio Propuesto"
      ]
    },
    {
      "cell_type": "markdown",
      "metadata": {
        "id": "0Yws4OIP7yvu"
      },
      "source": [
        "A partir del archivo *“etap_entrenam2008_2009.arff”*:\n",
        "\n",
        "1. Según lo visto en proyectos anteriores, desarrollar modelos de regresión los más precisos posibles del consumo de agua. Para ello, seleccione las variables más importantes que influyen en el modelo. Se recomienda utilizar el año 2008 para entrenamiento y el 2009 para validación simple. Explicar el proceso para obtener el mejor modelo con cada técnica, parámetros ajustados, rango de los mismos, errores obtenidos. Identificar qué técnicas han obtenido mejores modelos, qué variables han sido seleccionadas para cada uno y los parámetros finales del algoritmo. Presentar en una tabla los resultados de los modelos con mejores errores (RMSE y MAE) obtenidos con cada técnica.\n",
        "2. Extraiga los resultados de predicción con la base de datos *“etap_testeo2010.arff”* de los modelos que han obtenido el menor RMSE de testeo con cada técnica, páselos a EXCEL y presente en unas gráficas los valores reales frente a los valores predichos de los mejores modelos con las tres mejores técnicas. Saque gráficas por meses o semanas, en diferentes épocas del año, para poder ver mejor la diferencia entre los resultados.\n",
        "3. Presente una tabla con los errores de validación frente a los de testeo para cada técnica. Compare los errores obtenidos con la base de datos de testeo del año 2010 con los errores de validación del 2009. ¿Son similares? ¿Existen diferencias significativas en algún método?\n",
        "4. Analice los datos extremos (con residuos más elevados) y saque conclusiones sobre la fiabilidad de cada uno de los modelos. Muestre los valores de las entradas que producen esos datos extremos y explique una posible causa que los produzcan."
      ]
    },
    {
      "cell_type": "markdown",
      "metadata": {
        "id": "d5F5VtK-DYgo"
      },
      "source": [
        "Podemos prescindir de las variables de nombre de mes o dia, ya que disponemos de los mismos en numérico, y cambiamos el bool de festivo a int."
      ]
    },
    {
      "cell_type": "code",
      "metadata": {
        "id": "OZwg-i3oImlf"
      },
      "source": [
        "f = lambda x: 1 if x==True else 0\n",
        "df_test[['festivo']]=df_test[['festivo']].applymap(f)\n",
        "df_train[['festivo']]=df_train[['festivo']].applymap(f)"
      ],
      "execution_count": 24,
      "outputs": []
    },
    {
      "cell_type": "code",
      "metadata": {
        "id": "I-vIb3LHG1vL",
        "outputId": "2e92f528-c635-44b4-e1ea-80add81e6cda",
        "colab": {
          "base_uri": "https://localhost:8080/",
          "height": 215
        }
      },
      "source": [
        "\n",
        "df_test.head()"
      ],
      "execution_count": 22,
      "outputs": [
        {
          "output_type": "execute_result",
          "data": {
            "text/html": [
              "<div>\n",
              "<style scoped>\n",
              "    .dataframe tbody tr th:only-of-type {\n",
              "        vertical-align: middle;\n",
              "    }\n",
              "\n",
              "    .dataframe tbody tr th {\n",
              "        vertical-align: top;\n",
              "    }\n",
              "\n",
              "    .dataframe thead th {\n",
              "        text-align: right;\n",
              "    }\n",
              "</style>\n",
              "<table border=\"1\" class=\"dataframe\">\n",
              "  <thead>\n",
              "    <tr style=\"text-align: right;\">\n",
              "      <th></th>\n",
              "      <th>fecha</th>\n",
              "      <th>anio</th>\n",
              "      <th>mes</th>\n",
              "      <th>nom_mes</th>\n",
              "      <th>diames</th>\n",
              "      <th>festivo</th>\n",
              "      <th>diasem</th>\n",
              "      <th>nom_diasem</th>\n",
              "      <th>hora</th>\n",
              "      <th>temp</th>\n",
              "      <th>consumo</th>\n",
              "    </tr>\n",
              "  </thead>\n",
              "  <tbody>\n",
              "    <tr>\n",
              "      <th>0</th>\n",
              "      <td>4/1/2010</td>\n",
              "      <td>2010.0</td>\n",
              "      <td>1.0</td>\n",
              "      <td>ene</td>\n",
              "      <td>4.0</td>\n",
              "      <td>0</td>\n",
              "      <td>1.0</td>\n",
              "      <td>lun</td>\n",
              "      <td>16.0</td>\n",
              "      <td>5.200</td>\n",
              "      <td>1709.175</td>\n",
              "    </tr>\n",
              "    <tr>\n",
              "      <th>1</th>\n",
              "      <td>4/1/2010</td>\n",
              "      <td>2010.0</td>\n",
              "      <td>1.0</td>\n",
              "      <td>ene</td>\n",
              "      <td>4.0</td>\n",
              "      <td>0</td>\n",
              "      <td>1.0</td>\n",
              "      <td>lun</td>\n",
              "      <td>17.0</td>\n",
              "      <td>5.275</td>\n",
              "      <td>1507.580</td>\n",
              "    </tr>\n",
              "    <tr>\n",
              "      <th>2</th>\n",
              "      <td>4/1/2010</td>\n",
              "      <td>2010.0</td>\n",
              "      <td>1.0</td>\n",
              "      <td>ene</td>\n",
              "      <td>4.0</td>\n",
              "      <td>0</td>\n",
              "      <td>1.0</td>\n",
              "      <td>lun</td>\n",
              "      <td>18.0</td>\n",
              "      <td>5.650</td>\n",
              "      <td>1358.575</td>\n",
              "    </tr>\n",
              "    <tr>\n",
              "      <th>3</th>\n",
              "      <td>4/1/2010</td>\n",
              "      <td>2010.0</td>\n",
              "      <td>1.0</td>\n",
              "      <td>ene</td>\n",
              "      <td>4.0</td>\n",
              "      <td>0</td>\n",
              "      <td>1.0</td>\n",
              "      <td>lun</td>\n",
              "      <td>19.0</td>\n",
              "      <td>5.875</td>\n",
              "      <td>1297.220</td>\n",
              "    </tr>\n",
              "    <tr>\n",
              "      <th>4</th>\n",
              "      <td>4/1/2010</td>\n",
              "      <td>2010.0</td>\n",
              "      <td>1.0</td>\n",
              "      <td>ene</td>\n",
              "      <td>4.0</td>\n",
              "      <td>0</td>\n",
              "      <td>1.0</td>\n",
              "      <td>lun</td>\n",
              "      <td>20.0</td>\n",
              "      <td>6.000</td>\n",
              "      <td>1209.570</td>\n",
              "    </tr>\n",
              "  </tbody>\n",
              "</table>\n",
              "</div>"
            ],
            "text/plain": [
              "      fecha    anio  mes nom_mes  ...  nom_diasem  hora   temp   consumo\n",
              "0  4/1/2010  2010.0  1.0     ene  ...         lun  16.0  5.200  1709.175\n",
              "1  4/1/2010  2010.0  1.0     ene  ...         lun  17.0  5.275  1507.580\n",
              "2  4/1/2010  2010.0  1.0     ene  ...         lun  18.0  5.650  1358.575\n",
              "3  4/1/2010  2010.0  1.0     ene  ...         lun  19.0  5.875  1297.220\n",
              "4  4/1/2010  2010.0  1.0     ene  ...         lun  20.0  6.000  1209.570\n",
              "\n",
              "[5 rows x 11 columns]"
            ]
          },
          "metadata": {
            "tags": []
          },
          "execution_count": 22
        }
      ]
    },
    {
      "cell_type": "code",
      "metadata": {
        "id": "MDqpoqYN7yvw",
        "outputId": "c59f0aff-9ed8-4fe4-be53-6afcbc1f3632",
        "colab": {
          "base_uri": "https://localhost:8080/",
          "height": 215
        }
      },
      "source": [
        "df_train.head()"
      ],
      "execution_count": 23,
      "outputs": [
        {
          "output_type": "execute_result",
          "data": {
            "text/html": [
              "<div>\n",
              "<style scoped>\n",
              "    .dataframe tbody tr th:only-of-type {\n",
              "        vertical-align: middle;\n",
              "    }\n",
              "\n",
              "    .dataframe tbody tr th {\n",
              "        vertical-align: top;\n",
              "    }\n",
              "\n",
              "    .dataframe thead th {\n",
              "        text-align: right;\n",
              "    }\n",
              "</style>\n",
              "<table border=\"1\" class=\"dataframe\">\n",
              "  <thead>\n",
              "    <tr style=\"text-align: right;\">\n",
              "      <th></th>\n",
              "      <th>fecha</th>\n",
              "      <th>anio</th>\n",
              "      <th>mes</th>\n",
              "      <th>nom_mes</th>\n",
              "      <th>diames</th>\n",
              "      <th>festivo</th>\n",
              "      <th>diasem</th>\n",
              "      <th>nom_diasem</th>\n",
              "      <th>hora</th>\n",
              "      <th>temp</th>\n",
              "      <th>consumo</th>\n",
              "    </tr>\n",
              "  </thead>\n",
              "  <tbody>\n",
              "    <tr>\n",
              "      <th>0</th>\n",
              "      <td>1/1/2008</td>\n",
              "      <td>2008.0</td>\n",
              "      <td>1.0</td>\n",
              "      <td>ene</td>\n",
              "      <td>1.0</td>\n",
              "      <td>0</td>\n",
              "      <td>2.0</td>\n",
              "      <td>mar</td>\n",
              "      <td>1.0</td>\n",
              "      <td>-0.275</td>\n",
              "      <td>771.320</td>\n",
              "    </tr>\n",
              "    <tr>\n",
              "      <th>1</th>\n",
              "      <td>1/1/2008</td>\n",
              "      <td>2008.0</td>\n",
              "      <td>1.0</td>\n",
              "      <td>ene</td>\n",
              "      <td>1.0</td>\n",
              "      <td>0</td>\n",
              "      <td>2.0</td>\n",
              "      <td>mar</td>\n",
              "      <td>2.0</td>\n",
              "      <td>-0.750</td>\n",
              "      <td>999.210</td>\n",
              "    </tr>\n",
              "    <tr>\n",
              "      <th>2</th>\n",
              "      <td>1/1/2008</td>\n",
              "      <td>2008.0</td>\n",
              "      <td>1.0</td>\n",
              "      <td>ene</td>\n",
              "      <td>1.0</td>\n",
              "      <td>0</td>\n",
              "      <td>2.0</td>\n",
              "      <td>mar</td>\n",
              "      <td>3.0</td>\n",
              "      <td>-1.650</td>\n",
              "      <td>1376.105</td>\n",
              "    </tr>\n",
              "    <tr>\n",
              "      <th>3</th>\n",
              "      <td>1/1/2008</td>\n",
              "      <td>2008.0</td>\n",
              "      <td>1.0</td>\n",
              "      <td>ene</td>\n",
              "      <td>1.0</td>\n",
              "      <td>0</td>\n",
              "      <td>2.0</td>\n",
              "      <td>mar</td>\n",
              "      <td>4.0</td>\n",
              "      <td>-2.100</td>\n",
              "      <td>1726.705</td>\n",
              "    </tr>\n",
              "    <tr>\n",
              "      <th>4</th>\n",
              "      <td>1/1/2008</td>\n",
              "      <td>2008.0</td>\n",
              "      <td>1.0</td>\n",
              "      <td>ene</td>\n",
              "      <td>1.0</td>\n",
              "      <td>0</td>\n",
              "      <td>2.0</td>\n",
              "      <td>mar</td>\n",
              "      <td>5.0</td>\n",
              "      <td>-2.550</td>\n",
              "      <td>1919.535</td>\n",
              "    </tr>\n",
              "  </tbody>\n",
              "</table>\n",
              "</div>"
            ],
            "text/plain": [
              "      fecha    anio  mes nom_mes  ...  nom_diasem  hora   temp   consumo\n",
              "0  1/1/2008  2008.0  1.0     ene  ...         mar   1.0 -0.275   771.320\n",
              "1  1/1/2008  2008.0  1.0     ene  ...         mar   2.0 -0.750   999.210\n",
              "2  1/1/2008  2008.0  1.0     ene  ...         mar   3.0 -1.650  1376.105\n",
              "3  1/1/2008  2008.0  1.0     ene  ...         mar   4.0 -2.100  1726.705\n",
              "4  1/1/2008  2008.0  1.0     ene  ...         mar   5.0 -2.550  1919.535\n",
              "\n",
              "[5 rows x 11 columns]"
            ]
          },
          "metadata": {
            "tags": []
          },
          "execution_count": 23
        }
      ]
    },
    {
      "cell_type": "code",
      "metadata": {
        "id": "lHYI86Rr7yvx"
      },
      "source": [
        ""
      ],
      "execution_count": null,
      "outputs": []
    },
    {
      "cell_type": "code",
      "metadata": {
        "id": "aapcTr6g7yvy"
      },
      "source": [
        ""
      ],
      "execution_count": null,
      "outputs": []
    },
    {
      "cell_type": "code",
      "metadata": {
        "id": "J-8gDdFj7yvy"
      },
      "source": [
        ""
      ],
      "execution_count": null,
      "outputs": []
    },
    {
      "cell_type": "markdown",
      "metadata": {
        "id": "42wI9skl7yvz"
      },
      "source": [
        "# 2. Uso de los Modelos para la Toma de Decisiones ante un Vertido de Gasóleo en el Iregua"
      ]
    },
    {
      "cell_type": "markdown",
      "metadata": {
        "id": "Rdfidzmj7yvz"
      },
      "source": [
        "El 1 de Julio de 2010, nos avisan que un camión cisterna ha sufrido un accidente a las 14:00 y ha derramado gasóleo en el río Iregua a la altura de Panzares. \n",
        "\n",
        "![](https://e00-elmundo.uecdn.es/elmundo/imagenes/2010/06/16/1276675934_0.jpg)\n",
        "\n",
        "Se dispone de tres horas, aproximadamente, para tomar una decisión antes de que el agua contaminada llegue a la zona de captación de aguas de la ETAP. Finalmente, **se decide cerrar la entrada de agua a las 16:00 y mantenerla cerrada hasta las 8:00 de la mañana del día siguiente, o sea de 16:00 a 7:59 (16 horas cerrada), que es cuando entra el nuevo turno de trabajo, de modo que se abrirá la esclusa a las 8.00 de la mañana**. De este modo, se espera que exista suficiente tiempo para retirar el camión accidentado y que la parte más voluminosa del vertido sobrepase la entrada a la ETAP. \n",
        "\n",
        "Los gestores de la ETAP y responsables de Medio Ambiente y Aguas, están preocupados por saber si el agua almacenada en la ETAP va a ser suficiente para suministrar a Logroño y pueblos adyacentes en esas horas en que la entrada está cerrada. Para ello, **se nos solicita que estimemos el consumo total de agua durante esas horas considerando que la temperatura ambiental prevista es la que aparece en la base de datos “etap_testeo2010.arff”**.\n",
        "\n",
        "Presente una tabla y unos gráficos con el consumo por horas y el consumo acumulado."
      ]
    },
    {
      "cell_type": "code",
      "metadata": {
        "id": "Nl9OPLT87yv0"
      },
      "source": [
        ""
      ],
      "execution_count": null,
      "outputs": []
    },
    {
      "cell_type": "code",
      "metadata": {
        "id": "BNNnC3uy7yv1"
      },
      "source": [
        ""
      ],
      "execution_count": null,
      "outputs": []
    },
    {
      "cell_type": "code",
      "metadata": {
        "id": "syIX9k0I7yv2"
      },
      "source": [
        ""
      ],
      "execution_count": null,
      "outputs": []
    },
    {
      "cell_type": "markdown",
      "metadata": {
        "id": "EnYfve6G7yv2"
      },
      "source": [
        "Suponiendo que disponemos de 35000 metros cúbicos, ¿Cuál es la diferencia entre el consumo y el agua almacenada que disponemos? ¿Es posible cerrar esas horas sin que la ciudad quede desabastecida? \n",
        "\n",
        "Justifique los resultados frente a los responsables de Medio Ambiente de la Ciudad"
      ]
    },
    {
      "cell_type": "code",
      "metadata": {
        "id": "IZ0co-hT7yv3"
      },
      "source": [
        ""
      ],
      "execution_count": null,
      "outputs": []
    },
    {
      "cell_type": "code",
      "metadata": {
        "id": "Or7gzLNn7yv3"
      },
      "source": [
        ""
      ],
      "execution_count": null,
      "outputs": []
    },
    {
      "cell_type": "code",
      "metadata": {
        "id": "t-KvOaBL7yv4"
      },
      "source": [
        ""
      ],
      "execution_count": null,
      "outputs": []
    },
    {
      "cell_type": "markdown",
      "metadata": {
        "id": "HjbNd1sE7yv4"
      },
      "source": [
        "# ENTREGA"
      ]
    },
    {
      "cell_type": "markdown",
      "metadata": {
        "id": "_kQmXayE7yv5"
      },
      "source": [
        "Recuerda guardar tus cambios en tu repositorio utilizando la opción \"Save a copy in GitHub...\" del menú File."
      ]
    },
    {
      "cell_type": "code",
      "metadata": {
        "id": "g15rxhMv7yv6"
      },
      "source": [
        ""
      ],
      "execution_count": null,
      "outputs": []
    }
  ]
}