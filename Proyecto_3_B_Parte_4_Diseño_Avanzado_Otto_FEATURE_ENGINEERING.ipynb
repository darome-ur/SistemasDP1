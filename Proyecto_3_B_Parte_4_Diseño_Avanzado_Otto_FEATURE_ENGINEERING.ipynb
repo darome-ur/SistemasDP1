{
  "nbformat": 4,
  "nbformat_minor": 0,
  "metadata": {
    "kernelspec": {
      "display_name": "Python 3",
      "language": "python",
      "name": "python3"
    },
    "language_info": {
      "codemirror_mode": {
        "name": "ipython",
        "version": 3
      },
      "file_extension": ".py",
      "mimetype": "text/x-python",
      "name": "python",
      "nbconvert_exporter": "python",
      "pygments_lexer": "ipython3",
      "version": "3.8.5"
    },
    "toc": {
      "base_numbering": 1,
      "nav_menu": {},
      "number_sections": true,
      "sideBar": true,
      "skip_h1_title": false,
      "title_cell": "Table of Contents",
      "title_sidebar": "Contents",
      "toc_cell": false,
      "toc_position": {},
      "toc_section_display": true,
      "toc_window_display": false
    },
    "colab": {
      "name": "Proyecto_3_B_Parte_4_Diseño_Avanzado_Otto_FEATURE_ENGINEERING.ipynb",
      "provenance": []
    }
  },
  "cells": [
    {
      "cell_type": "markdown",
      "metadata": {
        "id": "OgWmPn2n-PqG"
      },
      "source": [
        "# Proyecto 3.B. Parte 4. Diseño de DSS en Empresa de Ventas en la Red: Feature Engineering"
      ]
    },
    {
      "cell_type": "markdown",
      "metadata": {
        "id": "luh2k0ue-PqO"
      },
      "source": [
        "Vamos a intentar crear un modelo más preciso incluyendo nuevas features."
      ]
    },
    {
      "cell_type": "code",
      "metadata": {
        "id": "7vdATvdO-PqP"
      },
      "source": [
        "!pip install bayesian-optimization\n",
        "!pip install lightgbm\n",
        "!pip install xgboost"
      ],
      "execution_count": null,
      "outputs": []
    },
    {
      "cell_type": "code",
      "metadata": {
        "id": "R1ztxRbu-PqR"
      },
      "source": [
        "# Importamos paquetes basicos\n",
        "import pandas as pd \n",
        "import numpy as np\n",
        "import matplotlib.pyplot as plt\n",
        "import seaborn as sns\n",
        "import io\n",
        "from tqdm.notebook import tqdm\n",
        "\n",
        "import sklearn\n",
        "from sklearn.preprocessing import LabelEncoder, StandardScaler\n",
        "from sklearn.ensemble import RandomForestClassifier, BaggingClassifier \n",
        "from sklearn.metrics import log_loss\n",
        "from sklearn.calibration import CalibratedClassifierCV\n",
        "from sklearn.model_selection import RepeatedStratifiedKFold, train_test_split\n",
        "from sklearn.linear_model import LogisticRegression\n",
        "from sklearn.neural_network import MLPClassifier\n",
        "from xgboost.sklearn import XGBClassifier\n",
        "from lightgbm.sklearn import LGBMClassifier\n",
        "\n",
        "import pickle\n",
        "\n",
        "# %matplotlib inline\n",
        "plt.style.use('ggplot')\n",
        "# Elimina la limitación en visualización del numero de columnas\n",
        "pd.set_option('display.max_columns', None) \n",
        "\n"
      ],
      "execution_count": null,
      "outputs": []
    },
    {
      "cell_type": "markdown",
      "metadata": {
        "id": "Bug5ys92-PqT"
      },
      "source": [
        "## Cargamos la Base de Datos"
      ]
    },
    {
      "cell_type": "code",
      "metadata": {
        "id": "cNbeBsUp-PqU"
      },
      "source": [
        "!wget https://github.com/IC1920/Datasets/raw/master/train.zip -O train.zip\n",
        "!wget https://github.com/IC1920/Datasets/raw/master/test.zip -O test.zip\n",
        "!unzip -o train.zip\n",
        "!unzip -o test.zip"
      ],
      "execution_count": null,
      "outputs": []
    },
    {
      "cell_type": "code",
      "metadata": {
        "id": "M-WJSy4j-PqV",
        "outputId": "d2160848-882f-4ccb-ad99-d1d3e49de408"
      },
      "source": [
        "# Leemos los archivos arff\n",
        "df_train = pd.read_csv('train.csv')\n",
        "df_test = pd.read_csv('test.csv')\n",
        "print(df_train.shape, df_test.shape)\n",
        "\n",
        "features = ['feat_'+str(i) for i in np.arange(1,94)]\n",
        "target = 'target'"
      ],
      "execution_count": null,
      "outputs": [
        {
          "output_type": "stream",
          "text": [
            "(61878, 95) (144368, 94)\n"
          ],
          "name": "stdout"
        }
      ]
    },
    {
      "cell_type": "markdown",
      "metadata": {
        "id": "bMU3I3qd-PqY"
      },
      "source": [
        "## Preprocesado de la Base de Datos"
      ]
    },
    {
      "cell_type": "markdown",
      "metadata": {
        "id": "5lmyTkXk-Pqa"
      },
      "source": [
        "Aunque a los árboles no les suele afectar en demasía que las variables tengan diferentes rangos, vamos a tipificar los datos con *Z-Score* para si vamos a usar otros algoritmos supervisados, como KNN, o no supervisados, como clústering."
      ]
    },
    {
      "cell_type": "code",
      "metadata": {
        "id": "56U5K0Zp-Pqb"
      },
      "source": [
        "scaler = StandardScaler()\n",
        "scaler.fit(df_train[features].values)\n",
        "X_train_scaled = scaler.transform(df_train[features].values)\n",
        "X_test_scaled = scaler.transform(df_test[features].values)"
      ],
      "execution_count": null,
      "outputs": []
    },
    {
      "cell_type": "markdown",
      "metadata": {
        "id": "ycHQSZuJ-Pqc"
      },
      "source": [
        "Preparamos las bases de datos. Para poder hacer una validación local, extraemos un 20% de forma aleatoria de forma estratificada."
      ]
    },
    {
      "cell_type": "code",
      "metadata": {
        "id": "HxAvlAX0-Pqc",
        "outputId": "5f704056-5c41-454a-dc18-9b05de557eb8"
      },
      "source": [
        "X_orig = X_train_scaled.copy()\n",
        "y_orig = df_train[target].values.reshape(-1)\n",
        "y_orig = LabelEncoder().fit_transform(y_orig)\n",
        "\n",
        "X_train, X_val, y_train, y_val = train_test_split(X_orig, y_orig, test_size=0.20,\n",
        "                                                  random_state=36, stratify=y_orig)\n",
        "\n",
        "print(\"Verificamos que la partición es estratificada\")\n",
        "print(np.round(np.bincount(y_train)/len(y_train),3))\n",
        "print(np.round(np.bincount(y_val)/len(y_val),3))"
      ],
      "execution_count": null,
      "outputs": [
        {
          "output_type": "stream",
          "text": [
            "Verificamos que la partición es estratificada\n",
            "[0.031 0.261 0.129 0.043 0.044 0.228 0.046 0.137 0.08 ]\n",
            "[0.031 0.261 0.129 0.043 0.044 0.228 0.046 0.137 0.08 ]\n"
          ],
          "name": "stdout"
        }
      ]
    },
    {
      "cell_type": "markdown",
      "metadata": {
        "id": "FEZkMqGA-Pqd"
      },
      "source": [
        "## Creamos Nuevas Caracteristicas (Feature Engineering)"
      ]
    },
    {
      "cell_type": "markdown",
      "metadata": {
        "id": "Z_Un7R2s-Pqd"
      },
      "source": [
        "Una de las etapas más importantes dentro del *Machine Learning* es la creación de nuevas *Features* que 'expliquen' mejor el problema. En esta disciplina, denominada *Feature Engineering*, el conocimiento del dominio y la creatividad es fundamental.\n",
        "\n",
        "En esta parte vamos a crear algunas *Features* usadas por @Giba en [la solución](https://www.kaggle.com/c/otto-group-product-classification-challenge/discussion/14335) que quedó en primera posición dentro de esta competición.\n",
        "\n",
        "![](https://storage.googleapis.com/kaggle-forum-message-attachments/79598/2514/FINAL_ARCHITECTURE.png) "
      ]
    },
    {
      "cell_type": "markdown",
      "metadata": {
        "id": "DKECXLYt-Pqe"
      },
      "source": [
        "La solución esta formada por un modelo stacking de tres niveles. En el nivel 1, se incluyen las predicciones de 33 modelos: modelos XGBoost, RandomForest, Árboles, KNN con diferentes valores de K, Redes neuronales, etc. Desarollados con R y Python. Además se incluyen valores de 8 Features.\n",
        "\n",
        "La *Features* son las siguientes:\n",
        "- Feature 1: Distances to nearest neighbours of each classes\n",
        "- Feature 2: Sum of distances of 2 nearest neighbours of each classes\n",
        "- Feature 3: Sum of distances of 4 nearest neighbours of each classes\n",
        "- Feature 4: Distances to nearest neighbours of each classes in TFIDF space\n",
        "- Feature 5: Distances to nearest neighbours of each classed in T-SNE space (3 dimensions)\n",
        "- Feature 6: Clustering features of original dataset\n",
        "- Feature 7: Number of non-zeros elements in each row\n",
        "- Feature 8: X (That feature was used only in NN 2nd level training)\n",
        "\n",
        "El nivel 1 está formado por tres tipos de modelos entrenados con el nivel 0: Un XGboost, una Red Neuronal y un modelo AdaBoost con árboles.\n",
        "\n",
        "El nivel 2 es un promediado ponderado de la predicción de los tres modelos anteriores, tal y como muestra la figura.\n",
        "\n",
        "Con intenciones didacticas, **vamos a intentar crear algunas *features* e incluirlas en el modelo de Stacking teniendo en cuenta que la información proporcionada en los foros es limitada**."
      ]
    },
    {
      "cell_type": "code",
      "metadata": {
        "ExecuteTime": {
          "end_time": "2021-04-20T10:38:34.602455Z",
          "start_time": "2021-04-20T10:38:34.586465Z"
        },
        "id": "ONETZRC3-Pqf"
      },
      "source": [
        "# Poner a True para calcular las FEATS\n",
        "CREA_FEATURES = False "
      ],
      "execution_count": null,
      "outputs": []
    },
    {
      "cell_type": "markdown",
      "metadata": {
        "ExecuteTime": {
          "end_time": "2021-04-20T10:38:17.036529Z",
          "start_time": "2021-04-20T10:38:17.022541Z"
        },
        "id": "0GS5HxTL-Pqg"
      },
      "source": [
        "**ATENCION: El coste computacional del calculo de las características es muy alto. NO EJECUTAR EL CALCULO DE LAS FEATS SI NO SE DISPONE DE UN EQUIPO LOCAL DE ALTAS PRESTACIONES. El profesor ya ha calculado las carcaterísticas y dejado en un repositorio la base de datos con las features calculadas (ver punto 1.5).**"
      ]
    },
    {
      "cell_type": "markdown",
      "metadata": {
        "id": "FJMWAX4P-Pqg"
      },
      "source": [
        "### Features 1, 2 y 3"
      ]
    },
    {
      "cell_type": "markdown",
      "metadata": {
        "id": "zqx-JpMV-Pqh"
      },
      "source": [
        "Vamos a obtener la minima distancia de cada ejemplo con el vecino más cercano de cada clase, con los dos y con los cuatro vecinos: Features 1, 2, y 3 de la solución TOP."
      ]
    },
    {
      "cell_type": "code",
      "metadata": {
        "id": "x66LMzvO-Pqh"
      },
      "source": [
        "from multiprocessing import Pool\n",
        "from scipy.spatial.distance import sqeuclidean\n",
        "\n",
        "def f_train(nrow1):\n",
        "    dist_1 = dict(zip(range(9),np.ones(9)*999999.9))\n",
        "    dist_2 = dict(zip(range(9),np.ones(9)*999999.9))\n",
        "    dist_4 = dict(zip(range(9),np.ones(9)*999999.9))\n",
        "    dists = []\n",
        "    for nrow2 in range(len(X_train_scaled)):\n",
        "        dists.append(sqeuclidean(X_train_scaled[nrow1,:],X_train_scaled[nrow2,:]))\n",
        "    dists = np.array(dists)\n",
        "    dists = np.delete(dists, nrow1)\n",
        "    y_orig_copy = y_orig.copy()\n",
        "    y_orig_copy = np.delete(y_orig_copy, nrow1)\n",
        "    for nclass in range(9):\n",
        "        sort_y = np.sort(dists[y_orig_copy==nclass])\n",
        "        dist_1[nclass] = sort_y[0]\n",
        "        dist_2[nclass] = sort_y[0]+sort_y[1]\n",
        "        dist_4[nclass] = sort_y[0]+sort_y[1]+sort_y[2]+sort_y[3]\n",
        "    return np.array(list(dist_1.values())+list(dist_2.values())+list(dist_4.values())) \n",
        "\n",
        "def f_test(nrow1):\n",
        "    dist_1 = dict(zip(range(9),np.ones(9)*999999.9))\n",
        "    dist_2 = dict(zip(range(9),np.ones(9)*999999.9))\n",
        "    dist_4 = dict(zip(range(9),np.ones(9)*999999.9))\n",
        "    dists = []\n",
        "    for nrow2 in range(len(X_train_scaled)):\n",
        "        dists.append(sqeuclidean(X_test_scaled[nrow1,:],X_train_scaled[nrow2,:]))\n",
        "    dists = np.array(dists)\n",
        "    y_orig_copy = y_orig.copy()\n",
        "    for nclass in range(9):\n",
        "        sort_y = np.sort(dists[y_orig_copy==nclass])\n",
        "        dist_1[nclass] = sort_y[0]\n",
        "        dist_2[nclass] = sort_y[0]+sort_y[1]\n",
        "        dist_4[nclass] = sort_y[0]+sort_y[1]+sort_y[2]+sort_y[3]\n",
        "    return np.array(list(dist_1.values())+list(dist_2.values())+list(dist_4.values()))     "
      ],
      "execution_count": null,
      "outputs": []
    },
    {
      "cell_type": "code",
      "metadata": {
        "id": "PGr_mt8Y-Pqi",
        "outputId": "17f5583f-c01d-4286-bff5-caaeaa38d96c"
      },
      "source": [
        "%%time\n",
        "if CREA_FEATURES:\n",
        "    # Ejecuta en Paralelo\n",
        "    p = Pool(processes=40)\n",
        "    res_train = p.map_async(f_train, np.arange(len(X_train_scaled)))\n",
        "    dist_train = np.array(res_train.get())\n",
        "    res_test = p.map_async(f_test, np.arange(len(X_test_scaled)))\n",
        "    dist_test = np.array(res_test.get())\n",
        "    p.close()\n",
        "    p.join()\n",
        "    p.terminate()"
      ],
      "execution_count": null,
      "outputs": [
        {
          "output_type": "stream",
          "text": [
            "CPU times: user 1min, sys: 1min 1s, total: 2min 1s\n",
            "Wall time: 2h 47min 59s\n"
          ],
          "name": "stdout"
        }
      ]
    },
    {
      "cell_type": "code",
      "metadata": {
        "id": "ZC5TWf45-Pqj"
      },
      "source": [
        "if CREA_FEATURES:\n",
        "    if True:\n",
        "        file = open('features123.pickle','wb')\n",
        "        pickle.dump(dist_train, file, protocol=4)\n",
        "        pickle.dump(dist_test, file, protocol=4)\n",
        "        file.close()\n",
        "    else:\n",
        "        file = open('features123.pickle','rb')\n",
        "        dist_train = pickle.load(file)\n",
        "        dist_test = pickle.load(file)\n",
        "        file.close()    "
      ],
      "execution_count": null,
      "outputs": []
    },
    {
      "cell_type": "markdown",
      "metadata": {
        "id": "VJIIs89r-Pqk"
      },
      "source": [
        "### Feature 4: Distances to nearest neighbours of each classes in TFIDF space"
      ]
    },
    {
      "cell_type": "markdown",
      "metadata": {
        "id": "cz-tdic_-Pqk"
      },
      "source": [
        "TFIDF corresponde con *term frequency–inverse document frequency*. Es un [estadistico](https://en.wikipedia.org/wiki/Tf%E2%80%93idf) muy utilizado en *Text Mining* para la clasificación de documentos. **Indica la importancia de cada palabra dentro del documento considerando el numero de veces que aparece esa palabra en el documento pero considerando la frecuencia con que aparece en todos los documentos**. De este modo, palabras demasiado *comunes* no son significativas.\n",
        "\n",
        "En la mejor solución, *Gilberto Titericz & Stanislav Semenov* **consideraron cada valor como si fuera una palabra diferente**. Una aproximación diferente que aunque no tiene mucho sentido si las variables son numericas, quizas puede ser interesante si algunos valores (o todos) corresponden a una escala categorica previamente definida por los analistas de OTTO."
      ]
    },
    {
      "cell_type": "markdown",
      "metadata": {
        "id": "93VWZk9v-Pql"
      },
      "source": [
        "Convertimos cada fila a un string fundiendo el valor de todas las columnas."
      ]
    },
    {
      "cell_type": "code",
      "metadata": {
        "id": "ENuRia27-Pql"
      },
      "source": [
        "if CREA_FEATURES:\n",
        "    corpus_train = df_train[features].apply(lambda x: ' '.join(x.astype(str)),axis=1)\n",
        "    corpus_test = df_test[features].apply(lambda x: ' '.join(x.astype(str)),axis=1)"
      ],
      "execution_count": null,
      "outputs": []
    },
    {
      "cell_type": "markdown",
      "metadata": {
        "id": "_86TqDiT-Pql"
      },
      "source": [
        "Convertimos a TF-IDF."
      ]
    },
    {
      "cell_type": "code",
      "metadata": {
        "id": "-Eb9dCZb-Pqm"
      },
      "source": [
        "if CREA_FEATURES:\n",
        "    from sklearn.feature_extraction.text import TfidfVectorizer\n",
        "    vectorizer = TfidfVectorizer()\n",
        "    vectorizer.fit(corpus_train)\n",
        "    df_train_tfidf = vectorizer.transform(corpus_train).toarray()\n",
        "    df_test_tfidf = vectorizer.transform(corpus_test).toarray()\n",
        "\n",
        "    X_train_scaled = df_train_tfidf.copy()\n",
        "    X_test_scaled = df_test_tfidf.copy()"
      ],
      "execution_count": null,
      "outputs": []
    },
    {
      "cell_type": "code",
      "metadata": {
        "id": "6fdDZsBu-Pqm",
        "outputId": "83176213-d7b7-41b2-b6cf-bbd85ffc3f5c"
      },
      "source": [
        "%%time\n",
        "if CREA_FEATURES:\n",
        "    # Ejecuta en Paralelo\n",
        "    p = Pool(processes=40)\n",
        "    res_train = p.map_async(f_train, np.arange(len(X_train_scaled)))\n",
        "    dist_train_tfidf = np.array(res_train.get())\n",
        "    res_test = p.map_async(f_test, np.arange(len(X_test_scaled)))\n",
        "    dist_test_tfidf = np.array(res_test.get())\n",
        "    p.close()\n",
        "    p.join()\n",
        "    p.terminate()"
      ],
      "execution_count": null,
      "outputs": [
        {
          "output_type": "stream",
          "text": [
            "CPU times: user 21.3 s, sys: 10.9 s, total: 32.2 s\n",
            "Wall time: 2h 55min 29s\n"
          ],
          "name": "stdout"
        }
      ]
    },
    {
      "cell_type": "code",
      "metadata": {
        "id": "4TtUcnTZ-Pqn"
      },
      "source": [
        "if CREA_FEATURES:\n",
        "    if True:\n",
        "        file = open('feature4.pickle','wb')\n",
        "        pickle.dump(dist_train_tfidf, file, protocol=4)\n",
        "        pickle.dump(dist_test_tfidf, file, protocol=4)\n",
        "        file.close()\n",
        "    else:\n",
        "        file = open('feature4.pickle','rb')\n",
        "        dist_train_tfidf = pickle.load(file)\n",
        "        dist_test_tfidf = pickle.load(file)\n",
        "        file.close()   "
      ],
      "execution_count": null,
      "outputs": []
    },
    {
      "cell_type": "markdown",
      "metadata": {
        "id": "bICUAqIu-Pqn"
      },
      "source": [
        "### Feature 5: Distances to nearest neighbours of each classed in T-SNE space (3 dimensions)"
      ]
    },
    {
      "cell_type": "markdown",
      "metadata": {
        "id": "DBitJ0V2-Pqn"
      },
      "source": [
        "Esta caracteristica utiliza las distancias a cada clase usando la proyeccion t-SNE con tres componentes. Como no sabemos exactamente que parametros usaron en la proyeccion TSNE, vamos a basarnos en otro [kernel de esta misma competicion](https://www.kaggle.com/benhamner/t-sne-visualization-1) que consigue una proyeccion 2D muy interesante. En este caso, vamos a realizar una proyeccion con los mismos parametros pero para 3 dimensiones.\n",
        "\n",
        "![](https://www.kaggleusercontent.com/kf/1912/eyJhbGciOiJkaXIiLCJlbmMiOiJBMTI4Q0JDLUhTMjU2In0..k_dAao_vsGDd_gQaW5wPvg.gCvodchVNT8yu94QGsSuTxdXs4js0m61cIFeKVfxk-xX5Iv1JfJcblYUVBv7HTW9M7ecQTXtEZMka_4FWwHC7eDcC7GShVAw9Haa4tk7Ie3j_uHHlC8grHA3yioDmHhtWhlZpom0W5NLldzyp1d-IA.wYXPJ_YJ63cei9mIGblKnQ/tsne.png)"
      ]
    },
    {
      "cell_type": "code",
      "metadata": {
        "id": "9IcSy4gC-Pqo"
      },
      "source": [
        "if CREA_FEATURES:\n",
        "    from sklearn.manifold import TSNE\n",
        "    X_tsne = np.vstack([df_train[features].values, df_test[features].values])\n",
        "    print(X_tsne.shape)\n",
        "\n",
        "    tsne_proj = TSNE(n_components=3, perplexity=30.0, angle=0.50, init='pca', random_state=0, n_jobs=-1)\n",
        "    X_proj_tsne = tsne_proj.fit_transform(X_tsne)\n",
        "    X_train_scaled = X_proj_tsne[:len(df_train),:]\n",
        "    X_test_scaled = X_proj_tsne[len(df_train):,:]"
      ],
      "execution_count": null,
      "outputs": []
    },
    {
      "cell_type": "code",
      "metadata": {
        "id": "i1lGCj2j-Pqo"
      },
      "source": [
        "%%time\n",
        "if CREA_FEATURES:\n",
        "    # Ejecuta en Paralelo\n",
        "    p = Pool(processes=40)\n",
        "    res_train = p.map_async(f_train, np.arange(len(X_train_scaled)))\n",
        "    dist_train_tsne = np.array(res_train.get())\n",
        "    res_test = p.map_async(f_test, np.arange(len(X_test_scaled)))\n",
        "    dist_test_tsne= np.array(res_test.get())\n",
        "    p.close()\n",
        "    p.join()\n",
        "    p.terminate()"
      ],
      "execution_count": null,
      "outputs": []
    },
    {
      "cell_type": "code",
      "metadata": {
        "id": "f71lfUGX-Pqp"
      },
      "source": [
        "if CREA_FEATURES:\n",
        "    if True:\n",
        "        file = open('feature5.pickle','wb')\n",
        "        pickle.dump(dist_train_tsne, file, protocol=4)\n",
        "        pickle.dump(dist_test_tsne, file, protocol=4)\n",
        "        file.close()\n",
        "    else:\n",
        "        file = open('feature5.pickle','rb')\n",
        "        dist_train_tsne = pickle.load(file)\n",
        "        dist_test_tsne = pickle.load(file)\n",
        "        file.close()   "
      ],
      "execution_count": null,
      "outputs": []
    },
    {
      "cell_type": "markdown",
      "metadata": {
        "id": "wIVLVLmh-Pqp"
      },
      "source": [
        "### Feature 6: Clustering features of original dataset"
      ]
    },
    {
      "cell_type": "markdown",
      "metadata": {
        "id": "vF2FSxmO-Pqp"
      },
      "source": [
        "No se indica que tecnica de cluster usaron. Vamos a utilizar el clasico *KMeans* aunque pueden utilizarse otros disponibles en *sklearn.cluster*."
      ]
    },
    {
      "cell_type": "code",
      "metadata": {
        "id": "Sc-obphG-Pqq",
        "outputId": "1c65d90b-3dc3-4720-f296-f0c83a21b938"
      },
      "source": [
        "if CREA_FEATURES:\n",
        "    from sklearn.cluster import KMeans\n",
        "\n",
        "    scaler = StandardScaler()\n",
        "    scaler.fit(df_train[features].values)\n",
        "    X_train_scaled = scaler.transform(df_train[features].values)\n",
        "    X_test_scaled = scaler.transform(df_test[features].values)\n",
        "\n",
        "    X_kmeans = np.vstack([X_train_scaled, X_test_scaled])\n",
        "    print(X_kmeans.shape)\n",
        "\n",
        "    kmeans = KMeans(n_clusters=9, random_state=0).fit(X_kmeans)\n",
        "    feature6 = kmeans.labels_.reshape((len(kmeans.labels_),1))\n",
        "    feature6_train = feature6[:len(df_train),:]\n",
        "    feature6_test = feature6[len(df_train):,:]\n",
        "    print(feature6_train.shape, feature6_test.shape)"
      ],
      "execution_count": null,
      "outputs": [
        {
          "output_type": "execute_result",
          "data": {
            "text/plain": [
              "(206246, 93)"
            ]
          },
          "metadata": {
            "tags": []
          },
          "execution_count": 28
        }
      ]
    },
    {
      "cell_type": "code",
      "metadata": {
        "id": "O7w4Rkle-Pqr"
      },
      "source": [
        "if CREA_FEATURES:\n",
        "    if True:\n",
        "        file = open('feature6.pickle','wb')\n",
        "        pickle.dump(feature6_train, file, protocol=4)\n",
        "        pickle.dump(feature6_test, file, protocol=4)\n",
        "        file.close()\n",
        "    else:\n",
        "        file = open('feature6.pickle','rb')\n",
        "        feature6_train = pickle.load(file)\n",
        "        feature6_test = pickle.load(file)\n",
        "        file.close()  "
      ],
      "execution_count": null,
      "outputs": []
    },
    {
      "cell_type": "markdown",
      "metadata": {
        "id": "fRbKVhI8-Pqr"
      },
      "source": [
        "### Feature 7: Number of non-zeros elements in each row"
      ]
    },
    {
      "cell_type": "code",
      "metadata": {
        "id": "RXKwJRVz-Pqr"
      },
      "source": [
        "if CREA_FEATURES:\n",
        "    feature7_train = np.sum(df_train[features].values>0,axis=1).reshape((len(df_train),1))\n",
        "    feature7_test = np.sum(df_test[features].values>0,axis=1).reshape((len(df_test),1))\n",
        "    print(feature7_train.shape, feature7_test.shape)"
      ],
      "execution_count": null,
      "outputs": []
    },
    {
      "cell_type": "code",
      "metadata": {
        "id": "gm29LFHA-Pqs"
      },
      "source": [
        "if CREA_FEATURES:\n",
        "    if True:\n",
        "        file = open('feature7.pickle','wb')\n",
        "        pickle.dump(feature7_train, file, protocol=4)\n",
        "        pickle.dump(feature7_test, file, protocol=4)\n",
        "        file.close()\n",
        "    else:\n",
        "        file = open('feature7.pickle','rb')\n",
        "        feature7_train = pickle.load(file)\n",
        "        feature7_test = pickle.load(file)\n",
        "        file.close()"
      ],
      "execution_count": null,
      "outputs": []
    },
    {
      "cell_type": "markdown",
      "metadata": {
        "id": "JuivPbLQ-Pqs"
      },
      "source": [
        "### Creamos la Base de Datos con las nuevas features"
      ]
    },
    {
      "cell_type": "code",
      "metadata": {
        "id": "wlcNylEg-Pqs"
      },
      "source": [
        "if CREA_FEATURES:\n",
        "    if True:\n",
        "        file = open('bd_stacking.pickle','wb')\n",
        "        pickle.dump(df_train_stack, file, protocol=4)\n",
        "        pickle.dump(df_test_stack, file, protocol=4)\n",
        "        file.close()\n",
        "    else:\n",
        "        file = open('bd_stacking.pickle','rb')\n",
        "        df_train_stack = pickle.load(file)\n",
        "        df_test_stack = pickle.load(file)\n",
        "        file.close()   "
      ],
      "execution_count": null,
      "outputs": []
    },
    {
      "cell_type": "code",
      "metadata": {
        "id": "3CV_kZkA-Pqt",
        "outputId": "6dcf1e20-20a0-4fd3-85d4-b5eb4c13fcd0"
      },
      "source": [
        "if CREA_FEATURES:\n",
        "    names_df = df_test_stack.columns\n",
        "\n",
        "    X_train = np.hstack([df_train_stack[names_df].values.copy(),\n",
        "                         dist_train,\n",
        "                         dist_train_tfidf,\n",
        "                         dist_train_tsne,\n",
        "                         feature6_train,\n",
        "                         feature7_train])\n",
        "\n",
        "    X_test = np.hstack([df_test_stack[names_df].values.copy(),\n",
        "                         dist_test,\n",
        "                         dist_test_tfidf,\n",
        "                         dist_test_tsne,\n",
        "                         feature6_test,\n",
        "                         feature7_test])                     \n",
        "    X_train.shape, X_test.shape\n",
        "    if True:\n",
        "        file = open('bd_stacking_mas_feats.pickle','wb')\n",
        "        pickle.dump(X_train, file, protocol=4)\n",
        "        pickle.dump(X_test, file, protocol=4)\n",
        "        file.close()\n",
        "    else:\n",
        "        file = open('bd_stacking_mas_feats.pickle','rb')\n",
        "        X_train = pickle.load(file)\n",
        "        X_test = pickle.load(file)\n",
        "        file.close()   "
      ],
      "execution_count": null,
      "outputs": [
        {
          "output_type": "execute_result",
          "data": {
            "text/plain": [
              "((61878, 119), (144368, 119))"
            ]
          },
          "metadata": {
            "tags": []
          },
          "execution_count": 49
        }
      ]
    },
    {
      "cell_type": "markdown",
      "metadata": {
        "ExecuteTime": {
          "end_time": "2021-04-20T09:17:26.654305Z",
          "start_time": "2021-04-20T09:17:26.639315Z"
        },
        "id": "ONAbT35f-Pqt"
      },
      "source": [
        "## Obtenemos las Bases de Datos con las Features Precalculadas"
      ]
    },
    {
      "cell_type": "code",
      "metadata": {
        "id": "Bhww6aa2-Pqu"
      },
      "source": [
        "!wget https://github.com/IC1920/Datasets/raw/master/bd_stacking.zip -O bd_stacking.zip\n",
        "!wget https://github.com/IC1920/Datasets/raw/master/bd_stacking.z01 -O bd_stacking.z01\n",
        "!wget https://github.com/IC1920/Datasets/raw/master/bd_stacking.z02 -O bd_stacking.z02\n",
        "\n",
        "!7z x bd_stacking.zip -y"
      ],
      "execution_count": null,
      "outputs": []
    },
    {
      "cell_type": "code",
      "metadata": {
        "id": "gj8TdZs--Pqv"
      },
      "source": [
        "# Cargamos la Base de Datos Previa de Stacking\n",
        "if False:\n",
        "    file = open('bd_stacking.pickle','wb')\n",
        "    pickle.dump(df_train_stack, file, protocol=4)\n",
        "    pickle.dump(df_test_stack, file, protocol=4)\n",
        "    file.close()\n",
        "else:\n",
        "    file = open('bd_stacking.pickle','rb')\n",
        "    df_train_stack = pickle.load(file)\n",
        "    df_test_stack = pickle.load(file)\n",
        "    file.close()   \n",
        "\n",
        "df_train_stack.head()"
      ],
      "execution_count": null,
      "outputs": []
    },
    {
      "cell_type": "code",
      "metadata": {
        "id": "QHMlcsYK-Pqv"
      },
      "source": [
        "!wget https://github.com/IC1920/Datasets/raw/master/bd_stacking_mas_feats.zip -O bd_stacking_mas_feats.zip\n",
        "!wget https://github.com/IC1920/Datasets/raw/master/bd_stacking_mas_feats.z01 -O bd_stacking_mas_feats.z01\n",
        "!wget https://github.com/IC1920/Datasets/raw/master/bd_stacking_mas_feats.z02 -O bd_stacking_mas_feats.z02\n",
        "!wget https://github.com/IC1920/Datasets/raw/master/bd_stacking_mas_feats.z03 -O bd_stacking_mas_feats.z03\n",
        "!wget https://github.com/IC1920/Datasets/raw/master/bd_stacking_mas_feats.z04 -O bd_stacking_mas_feats.z04\n",
        "!wget https://github.com/IC1920/Datasets/raw/master/bd_stacking_mas_feats.z05 -O bd_stacking_mas_feats.z05\n",
        "    \n",
        "!7z x bd_stacking_mas_feats.zip -y"
      ],
      "execution_count": null,
      "outputs": []
    },
    {
      "cell_type": "code",
      "metadata": {
        "id": "__YPzXPp-Pqv"
      },
      "source": [
        "# Guardamos o cargamos la Base de Datos con las Features\n",
        "if False:\n",
        "    file = open('bd_stacking_mas_feats.pickle','wb')\n",
        "    pickle.dump(X_train, file, protocol=4)\n",
        "    pickle.dump(X_test, file, protocol=4)\n",
        "    file.close()\n",
        "else:\n",
        "    file = open('bd_stacking_mas_feats.pickle','rb')\n",
        "    X_train = pickle.load(file)\n",
        "    X_test = pickle.load(file)\n",
        "    file.close() "
      ],
      "execution_count": null,
      "outputs": []
    },
    {
      "cell_type": "code",
      "metadata": {
        "id": "8YXgwozI-Pqw"
      },
      "source": [
        "scaler = StandardScaler()\n",
        "scaler.fit(X_train)\n",
        "X_train_scaled = scaler.transform(X_train)\n",
        "X_test_scaled = scaler.transform(X_test)"
      ],
      "execution_count": null,
      "outputs": []
    },
    {
      "cell_type": "code",
      "metadata": {
        "id": "BpGIA5bw-Pqw",
        "outputId": "bc4dc882-1a4c-46e6-da19-fd31ba6ab518"
      },
      "source": [
        "X = X_train_scaled\n",
        "y = df_train_stack['target'].values.reshape(-1)\n",
        "\n",
        "X_train, X_val, y_train, y_val = train_test_split(X, y, test_size=0.20, random_state=36, stratify=y)\n",
        "\n",
        "print(\"Verificamos que la partición es estratificada\")\n",
        "print(np.round(np.bincount(y_train)/len(y_train),3))\n",
        "print(np.round(np.bincount(y_val)/len(y_val),3))"
      ],
      "execution_count": null,
      "outputs": [
        {
          "output_type": "stream",
          "text": [
            "Verificamos que la partición es estratificada\n",
            "[0.031 0.261 0.129 0.043 0.044 0.228 0.046 0.137 0.08 ]\n",
            "[0.031 0.261 0.129 0.043 0.044 0.228 0.046 0.137 0.08 ]\n"
          ],
          "name": "stdout"
        }
      ]
    },
    {
      "cell_type": "markdown",
      "metadata": {
        "id": "cRwS0Q1K-Pqx"
      },
      "source": [
        "## Buscamos un Modelo Stacking con XGBoost"
      ]
    },
    {
      "cell_type": "code",
      "metadata": {
        "id": "lfhz9gYr-Pqx"
      },
      "source": [
        "# Función que obtiene el LogLoss con repetición y para la base de datos de testeo\n",
        "def entrena_model_folds(model, num_folds=5, num_bags=1, calibra=True, random_seed=2020):\n",
        "    np.random.seed(random_seed)\n",
        "    X_tot = X_orig.copy()\n",
        "    y_tot = y_orig.copy()\n",
        "    X_test = X_test_scaled.copy()\n",
        "    \n",
        "    # Creamos arrays para las predicciones\n",
        "    preds_val = np.empty((len(X_tot), 9, num_bags))\n",
        "    preds_val[:] = np.nan\n",
        "    preds_test = np.empty((len(X_test), 9, num_bags*num_folds))\n",
        "    preds_test[:] = np.nan\n",
        "    \n",
        "    # Entrena y extrae la predicciones con validación cruzada repetida\n",
        "    folds = RepeatedStratifiedKFold(n_splits=num_folds, n_repeats=num_bags, random_state=random_seed)  \n",
        "    for niter, (train_index, val_index) in enumerate(folds.split(X_tot, y_tot)):\n",
        "        print('ITER=',niter)\n",
        "        nbag = niter//num_folds #Extrae el número de repetición (bag)\n",
        "        X_train, X_val = X_tot[train_index], X_tot[val_index]\n",
        "        y_train, y_val = y_tot[train_index], y_tot[val_index]\n",
        "        if calibra:\n",
        "            calibrated_clf = CalibratedClassifierCV(model, method='isotonic', cv=5)\n",
        "            calibrated_clf.fit(X_train, y_train)\n",
        "            preds_val[val_index,:,nbag] = calibrated_clf.predict_proba(X_val) \n",
        "            preds_test[:,:,niter] = calibrated_clf.predict_proba(X_test)\n",
        "        else:\n",
        "            model.fit(X_train, y_train)\n",
        "            preds_val[val_index,:,nbag] = model.predict_proba(X_val) \n",
        "            preds_test[:,:,niter] = model.predict_proba(X_test)\n",
        "        \n",
        "    # Promedia las predicciones\n",
        "    preds_val_mean = preds_val.mean(axis=2) \n",
        "    preds_test_mean = preds_test.mean(axis=2)\n",
        "\n",
        "    # Extrae las métricas\n",
        "    log_loss_val = log_loss(y_tot, preds_val_mean, eps=1e-15, normalize=True)\n",
        "    return log_loss_val, y_tot, preds_val_mean, preds_test_mean"
      ],
      "execution_count": null,
      "outputs": []
    },
    {
      "cell_type": "code",
      "metadata": {
        "id": "WufEd0wF-Pqy"
      },
      "source": [
        "def entrena_model_hold_out(model, calibra=True, random_seed=1234):\n",
        "    np.random.seed(random_seed)\n",
        "    if calibra:\n",
        "        calibrated_clf = CalibratedClassifierCV(model, method='isotonic', cv=5)\n",
        "        calibrated_clf.fit(X_train, y_train)\n",
        "        preds_val = calibrated_clf.predict_proba(X_val)\n",
        "    else:\n",
        "        model.fit(X_train, y_train)\n",
        "        preds_val = model.predict_proba(X_val)\n",
        "\n",
        "    # Extrae las métricas\n",
        "    log_loss_val = log_loss(y_val, preds_val, eps=1e-15, normalize=True)\n",
        "    return log_loss_val"
      ],
      "execution_count": null,
      "outputs": []
    },
    {
      "cell_type": "code",
      "metadata": {
        "id": "CH3lMVSl-Pqy"
      },
      "source": [
        "def busca_param(valores, nombre_var, parametros, random_seed=1234, cv=5):\n",
        "    scores = []\n",
        "    for valor in tqdm(valores):\n",
        "        parametros[nombre_var]=valor\n",
        "        xgb_model = XGBClassifier(learning_rate=parametros['learning_rate'],\n",
        "                                  n_estimators=parametros['n_estimators'],\n",
        "                                  max_depth=parametros['max_depth'],\n",
        "                                  subsample=parametros['subsample'],\n",
        "                                  colsample_bytree=parametros['colsample_bytree'],\n",
        "                                  reg_alpha=parametros['reg_alpha'], \n",
        "                                  reg_lambda=parametros['reg_lambda'],\n",
        "                                  nthread=20, \n",
        "                                  seed=random_seed, objective='multi:softprob')\n",
        "        log_loss_val = entrena_model_hold_out(xgb_model, calibra=True, random_seed=random_seed)\n",
        "        print(f'{nombre_var}={valor} log_loss_val={log_loss_val}')\n",
        "        scores.append(log_loss_val)\n",
        "    plt.plot(valores,scores,'o-')\n",
        "    plt.ylabel('log_loss_val')\n",
        "    plt.xlabel(nombre_var)\n",
        "    print(f'Mejor {nombre_var}={valores[np.argmin(scores)]} Score={np.min(scores)}')\n",
        "    return valores[np.argmin(scores)]"
      ],
      "execution_count": null,
      "outputs": []
    },
    {
      "cell_type": "code",
      "metadata": {
        "id": "4vno7mgC-Pqy"
      },
      "source": [
        "# Parametros que vienen por defecto\n",
        "parametros = {'learning_rate':0.1, 'n_estimators':100, 'max_depth':6,\n",
        "              'subsample':0.80, 'colsample_bytree':0.80,\n",
        "              'reg_alpha':0.0, 'reg_lambda':1.0}"
      ],
      "execution_count": null,
      "outputs": []
    },
    {
      "cell_type": "code",
      "metadata": {
        "id": "Icf37zmM-Pqz",
        "outputId": "184c1610-d32b-4702-cc19-61037a76600a"
      },
      "source": [
        "# Busqueda del numero de arboles\n",
        "parametros['n_estimators'] = busca_param(np.arange(25,500,25), 'n_estimators', parametros)\n",
        "print(parametros)"
      ],
      "execution_count": null,
      "outputs": [
        {
          "output_type": "stream",
          "text": [
            "/home/edmans/anaconda3/envs/kaggle/lib/python3.7/site-packages/ipykernel_launcher.py:3: TqdmDeprecationWarning: This function will be removed in tqdm==5.0.0\n",
            "Please use `tqdm.notebook.tqdm` instead of `tqdm.tqdm_notebook`\n",
            "  This is separate from the ipykernel package so we can avoid doing imports until\n"
          ],
          "name": "stderr"
        },
        {
          "output_type": "display_data",
          "data": {
            "application/vnd.jupyter.widget-view+json": {
              "model_id": "356267c33c8e403ba9ee0144ceff113d",
              "version_major": 2,
              "version_minor": 0
            },
            "text/plain": [
              "HBox(children=(FloatProgress(value=0.0, max=19.0), HTML(value='')))"
            ]
          },
          "metadata": {
            "tags": []
          }
        },
        {
          "output_type": "stream",
          "text": [
            "n_estimators=25 log_loss_val=0.4235074776922197\n",
            "n_estimators=50 log_loss_val=0.41696549937893984\n",
            "n_estimators=75 log_loss_val=0.4149248595158798\n",
            "n_estimators=100 log_loss_val=0.41227988112093217\n",
            "n_estimators=125 log_loss_val=0.41410056215856184\n",
            "n_estimators=150 log_loss_val=0.4144086168898671\n",
            "n_estimators=175 log_loss_val=0.4120861569096881\n",
            "n_estimators=200 log_loss_val=0.4125679265989554\n",
            "n_estimators=225 log_loss_val=0.4127574425348715\n",
            "n_estimators=250 log_loss_val=0.41263665991311316\n",
            "n_estimators=275 log_loss_val=0.4147394989383713\n",
            "n_estimators=300 log_loss_val=0.41550100367179266\n",
            "n_estimators=325 log_loss_val=0.4158360479008373\n",
            "n_estimators=350 log_loss_val=0.41573235126162705\n",
            "n_estimators=375 log_loss_val=0.41648877444745075\n",
            "n_estimators=400 log_loss_val=0.4163368657983821\n",
            "n_estimators=425 log_loss_val=0.41652483537696444\n",
            "n_estimators=450 log_loss_val=0.4172293819984552\n",
            "n_estimators=475 log_loss_val=0.41689096217036986\n",
            "\n",
            "Mejor n_estimators=175 Score=0.4120861569096881\n",
            "{'learning_rate': 0.1, 'n_estimators': 175, 'max_depth': 6, 'subsample': 0.8, 'colsample_bytree': 0.8, 'reg_alpha': 0.0, 'reg_lambda': 1.0}\n"
          ],
          "name": "stdout"
        },
        {
          "output_type": "display_data",
          "data": {
            "image/png": "[encoded data removed]",
            "text/plain": [
              "<Figure size 432x288 with 1 Axes>"
            ]
          },
          "metadata": {
            "tags": []
          }
        }
      ]
    },
    {
      "cell_type": "code",
      "metadata": {
        "id": "3Gn0hxpy-Pqz",
        "outputId": "6478fa83-951f-4894-e52d-d5107e202ff5"
      },
      "source": [
        "parametros['max_depth'] = busca_param(np.arange(2,15), 'max_depth', parametros)\n",
        "print(parametros)"
      ],
      "execution_count": null,
      "outputs": [
        {
          "output_type": "stream",
          "text": [
            "/home/edmans/anaconda3/envs/kaggle/lib/python3.7/site-packages/ipykernel_launcher.py:3: TqdmDeprecationWarning: This function will be removed in tqdm==5.0.0\n",
            "Please use `tqdm.notebook.tqdm` instead of `tqdm.tqdm_notebook`\n",
            "  This is separate from the ipykernel package so we can avoid doing imports until\n"
          ],
          "name": "stderr"
        },
        {
          "output_type": "display_data",
          "data": {
            "application/vnd.jupyter.widget-view+json": {
              "model_id": "d44a6a46d673408a9cbbb3151a790a6d",
              "version_major": 2,
              "version_minor": 0
            },
            "text/plain": [
              "HBox(children=(FloatProgress(value=0.0, max=13.0), HTML(value='')))"
            ]
          },
          "metadata": {
            "tags": []
          }
        },
        {
          "output_type": "stream",
          "text": [
            "max_depth=2 log_loss_val=0.41554423726095957\n",
            "max_depth=3 log_loss_val=0.4154237812543314\n",
            "max_depth=4 log_loss_val=0.4140361454977894\n",
            "max_depth=5 log_loss_val=0.415187951445936\n",
            "max_depth=6 log_loss_val=0.4120861569096881\n",
            "max_depth=7 log_loss_val=0.4147368125978941\n",
            "max_depth=8 log_loss_val=0.4118496650302832\n",
            "max_depth=9 log_loss_val=0.41409615157228125\n",
            "max_depth=10 log_loss_val=0.4133072333278748\n",
            "max_depth=11 log_loss_val=0.4131769442063628\n",
            "max_depth=12 log_loss_val=0.416036728822314\n",
            "max_depth=13 log_loss_val=0.4174964019111972\n",
            "max_depth=14 log_loss_val=0.41671922726311217\n",
            "\n",
            "Mejor max_depth=8 Score=0.4118496650302832\n",
            "{'learning_rate': 0.1, 'n_estimators': 175, 'max_depth': 8, 'subsample': 0.8, 'colsample_bytree': 0.8, 'reg_alpha': 0.0, 'reg_lambda': 1.0}\n"
          ],
          "name": "stdout"
        },
        {
          "output_type": "display_data",
          "data": {
            "image/png": "[encoded data removed]",
            "text/plain": [
              "<Figure size 432x288 with 1 Axes>"
            ]
          },
          "metadata": {
            "tags": []
          }
        }
      ]
    },
    {
      "cell_type": "code",
      "metadata": {
        "id": "jg-VIfLF-Pq0",
        "outputId": "c978f27c-6750-48ad-c5b5-79ab62746c7d"
      },
      "source": [
        "parametros['subsample'] = busca_param(np.arange(1,11)/10.0, 'subsample', parametros)\n",
        "print(parametros)"
      ],
      "execution_count": null,
      "outputs": [
        {
          "output_type": "stream",
          "text": [
            "/home/edmans/anaconda3/envs/kaggle/lib/python3.7/site-packages/ipykernel_launcher.py:3: TqdmDeprecationWarning: This function will be removed in tqdm==5.0.0\n",
            "Please use `tqdm.notebook.tqdm` instead of `tqdm.tqdm_notebook`\n",
            "  This is separate from the ipykernel package so we can avoid doing imports until\n"
          ],
          "name": "stderr"
        },
        {
          "output_type": "display_data",
          "data": {
            "application/vnd.jupyter.widget-view+json": {
              "model_id": "c032f91ceb934e03ad200e66daf757b8",
              "version_major": 2,
              "version_minor": 0
            },
            "text/plain": [
              "HBox(children=(FloatProgress(value=0.0, max=10.0), HTML(value='')))"
            ]
          },
          "metadata": {
            "tags": []
          }
        },
        {
          "output_type": "stream",
          "text": [
            "subsample=0.1 log_loss_val=0.424382108290362\n",
            "subsample=0.2 log_loss_val=0.4172689070081885\n",
            "subsample=0.3 log_loss_val=0.41772649210810125\n",
            "subsample=0.4 log_loss_val=0.4175670142185921\n",
            "subsample=0.5 log_loss_val=0.41343495659406115\n",
            "subsample=0.6 log_loss_val=0.41238517856519247\n",
            "subsample=0.7 log_loss_val=0.4124910546943448\n",
            "subsample=0.8 log_loss_val=0.4118496650302832\n",
            "subsample=0.9 log_loss_val=0.4121708782512237\n",
            "subsample=1.0 log_loss_val=0.4125805130987297\n",
            "\n",
            "Mejor subsample=0.8 Score=0.4118496650302832\n",
            "{'learning_rate': 0.1, 'n_estimators': 175, 'max_depth': 8, 'subsample': 0.8, 'colsample_bytree': 0.8, 'reg_alpha': 0.0, 'reg_lambda': 1.0}\n"
          ],
          "name": "stdout"
        },
        {
          "output_type": "display_data",
          "data": {
            "image/png": "[encoded data removed]",
            "text/plain": [
              "<Figure size 432x288 with 1 Axes>"
            ]
          },
          "metadata": {
            "tags": []
          }
        }
      ]
    },
    {
      "cell_type": "code",
      "metadata": {
        "id": "JcCuM0gi-Pq8",
        "outputId": "173de7ce-01f8-4c4a-a0b8-ba4c954e7e94"
      },
      "source": [
        "parametros['colsample_bytree'] = busca_param(np.arange(1,11)/10.0, 'colsample_bytree', parametros)\n",
        "print(parametros)"
      ],
      "execution_count": null,
      "outputs": [
        {
          "output_type": "stream",
          "text": [
            "/home/edmans/anaconda3/envs/kaggle/lib/python3.7/site-packages/ipykernel_launcher.py:3: TqdmDeprecationWarning: This function will be removed in tqdm==5.0.0\n",
            "Please use `tqdm.notebook.tqdm` instead of `tqdm.tqdm_notebook`\n",
            "  This is separate from the ipykernel package so we can avoid doing imports until\n"
          ],
          "name": "stderr"
        },
        {
          "output_type": "display_data",
          "data": {
            "application/vnd.jupyter.widget-view+json": {
              "model_id": "df2f33da11af43db9331d08a445a6f25",
              "version_major": 2,
              "version_minor": 0
            },
            "text/plain": [
              "HBox(children=(FloatProgress(value=0.0, max=10.0), HTML(value='')))"
            ]
          },
          "metadata": {
            "tags": []
          }
        },
        {
          "output_type": "stream",
          "text": [
            "colsample_bytree=0.1 log_loss_val=0.4179915210890933\n",
            "colsample_bytree=0.2 log_loss_val=0.4128895777147414\n",
            "colsample_bytree=0.3 log_loss_val=0.4111063640370451\n",
            "colsample_bytree=0.4 log_loss_val=0.4121806347327324\n",
            "colsample_bytree=0.5 log_loss_val=0.4113263515227521\n",
            "colsample_bytree=0.6 log_loss_val=0.4138769780716461\n",
            "colsample_bytree=0.7 log_loss_val=0.4140690617983633\n",
            "colsample_bytree=0.8 log_loss_val=0.4118496650302832\n",
            "colsample_bytree=0.9 log_loss_val=0.41274330785282237\n",
            "colsample_bytree=1.0 log_loss_val=0.4145195131599581\n",
            "\n",
            "Mejor colsample_bytree=0.3 Score=0.4111063640370451\n",
            "{'learning_rate': 0.1, 'n_estimators': 175, 'max_depth': 8, 'subsample': 0.8, 'colsample_bytree': 0.3, 'reg_alpha': 0.0, 'reg_lambda': 1.0}\n"
          ],
          "name": "stdout"
        },
        {
          "output_type": "display_data",
          "data": {
            "image/png": "[encoded data removed]",
            "text/plain": [
              "<Figure size 432x288 with 1 Axes>"
            ]
          },
          "metadata": {
            "tags": []
          }
        }
      ]
    },
    {
      "cell_type": "code",
      "metadata": {
        "id": "PDsH4_iZ-Pq9",
        "outputId": "1ffc2d24-ba2e-4c59-ff70-123c835994d1"
      },
      "source": [
        "# Probamos con Regularización L1\n",
        "parametros['reg_alpha'] = busca_param([0.0, 0.0001, 0.001, 0.01, 0.1, 1.0, 10], 'reg_alpha', parametros)\n",
        "print(parametros)"
      ],
      "execution_count": null,
      "outputs": [
        {
          "output_type": "stream",
          "text": [
            "/home/edmans/anaconda3/envs/kaggle/lib/python3.7/site-packages/ipykernel_launcher.py:3: TqdmDeprecationWarning: This function will be removed in tqdm==5.0.0\n",
            "Please use `tqdm.notebook.tqdm` instead of `tqdm.tqdm_notebook`\n",
            "  This is separate from the ipykernel package so we can avoid doing imports until\n"
          ],
          "name": "stderr"
        },
        {
          "output_type": "display_data",
          "data": {
            "application/vnd.jupyter.widget-view+json": {
              "model_id": "f295b215b93244578c089e05174d3285",
              "version_major": 2,
              "version_minor": 0
            },
            "text/plain": [
              "HBox(children=(FloatProgress(value=0.0, max=7.0), HTML(value='')))"
            ]
          },
          "metadata": {
            "tags": []
          }
        },
        {
          "output_type": "stream",
          "text": [
            "reg_alpha=0.0 log_loss_val=0.4111063640370451\n",
            "reg_alpha=0.0001 log_loss_val=0.4128689814716297\n",
            "reg_alpha=0.001 log_loss_val=0.4129633877896897\n",
            "reg_alpha=0.01 log_loss_val=0.41390576355281783\n",
            "reg_alpha=0.1 log_loss_val=0.41398074373879673\n",
            "reg_alpha=1.0 log_loss_val=0.41418430406072565\n",
            "reg_alpha=10 log_loss_val=0.41378374183554556\n",
            "\n",
            "Mejor reg_alpha=0.0 Score=0.4111063640370451\n",
            "{'learning_rate': 0.1, 'n_estimators': 175, 'max_depth': 8, 'subsample': 0.8, 'colsample_bytree': 0.3, 'reg_alpha': 0.0, 'reg_lambda': 1.0}\n"
          ],
          "name": "stdout"
        },
        {
          "output_type": "display_data",
          "data": {
            "image/png": "[encoded data removed]",
            "text/plain": [
              "<Figure size 432x288 with 1 Axes>"
            ]
          },
          "metadata": {
            "tags": []
          }
        }
      ]
    },
    {
      "cell_type": "code",
      "metadata": {
        "id": "XmcHB5Ll-Pq9",
        "outputId": "a4976628-84dd-4fde-a31e-24f1bb566f21"
      },
      "source": [
        "# Probamos con Regularización L2\n",
        "parametros['reg_lambda'] = busca_param([0.0001, 0.001, 0.01, 0.1, 1.0, 10], 'reg_lambda', parametros)\n",
        "print(parametros)"
      ],
      "execution_count": null,
      "outputs": [
        {
          "output_type": "stream",
          "text": [
            "/home/edmans/anaconda3/envs/kaggle/lib/python3.7/site-packages/ipykernel_launcher.py:3: TqdmDeprecationWarning: This function will be removed in tqdm==5.0.0\n",
            "Please use `tqdm.notebook.tqdm` instead of `tqdm.tqdm_notebook`\n",
            "  This is separate from the ipykernel package so we can avoid doing imports until\n"
          ],
          "name": "stderr"
        },
        {
          "output_type": "display_data",
          "data": {
            "application/vnd.jupyter.widget-view+json": {
              "model_id": "c0e7edd22201420c8569378c1da5e19f",
              "version_major": 2,
              "version_minor": 0
            },
            "text/plain": [
              "HBox(children=(FloatProgress(value=0.0, max=6.0), HTML(value='')))"
            ]
          },
          "metadata": {
            "tags": []
          }
        },
        {
          "output_type": "stream",
          "text": [
            "reg_lambda=0.0001 log_loss_val=0.41248080783090113\n",
            "reg_lambda=0.001 log_loss_val=0.41080411200275674\n",
            "reg_lambda=0.01 log_loss_val=0.41093449497861384\n",
            "reg_lambda=0.1 log_loss_val=0.41196826352312266\n",
            "reg_lambda=1.0 log_loss_val=0.4111063640370451\n",
            "reg_lambda=10 log_loss_val=0.4135227228489155\n",
            "\n",
            "Mejor reg_lambda=0.001 Score=0.41080411200275674\n",
            "{'learning_rate': 0.1, 'n_estimators': 175, 'max_depth': 8, 'subsample': 0.8, 'colsample_bytree': 0.3, 'reg_alpha': 0.0, 'reg_lambda': 0.001}\n"
          ],
          "name": "stdout"
        },
        {
          "output_type": "display_data",
          "data": {
            "image/png": "[encoded data removed]",
            "text/plain": [
              "<Figure size 432x288 with 1 Axes>"
            ]
          },
          "metadata": {
            "tags": []
          }
        }
      ]
    },
    {
      "cell_type": "code",
      "metadata": {
        "id": "lvhCO61C-Pq-",
        "outputId": "d24feb52-e623-4dd2-c0f5-966a08de4902"
      },
      "source": [
        "parametros['n_estimators'] = busca_param(np.arange(parametros['n_estimators']-75,parametros['n_estimators']+75,10),\n",
        "                                         'n_estimators', parametros)\n",
        "print(parametros)"
      ],
      "execution_count": null,
      "outputs": [
        {
          "output_type": "stream",
          "text": [
            "/home/edmans/anaconda3/envs/kaggle/lib/python3.7/site-packages/ipykernel_launcher.py:3: TqdmDeprecationWarning: This function will be removed in tqdm==5.0.0\n",
            "Please use `tqdm.notebook.tqdm` instead of `tqdm.tqdm_notebook`\n",
            "  This is separate from the ipykernel package so we can avoid doing imports until\n"
          ],
          "name": "stderr"
        },
        {
          "output_type": "display_data",
          "data": {
            "application/vnd.jupyter.widget-view+json": {
              "model_id": "1f16cdded65246a186cc5e04daa5cfa4",
              "version_major": 2,
              "version_minor": 0
            },
            "text/plain": [
              "HBox(children=(FloatProgress(value=0.0, max=15.0), HTML(value='')))"
            ]
          },
          "metadata": {
            "tags": []
          }
        },
        {
          "output_type": "stream",
          "text": [
            "n_estimators=100 log_loss_val=0.4140007602311357\n",
            "n_estimators=110 log_loss_val=0.41349865125477836\n",
            "n_estimators=120 log_loss_val=0.4110390458141529\n",
            "n_estimators=130 log_loss_val=0.41077174057426563\n",
            "n_estimators=140 log_loss_val=0.4107615427945567\n",
            "n_estimators=150 log_loss_val=0.410834136305217\n",
            "n_estimators=160 log_loss_val=0.4112461448258901\n",
            "n_estimators=170 log_loss_val=0.41101305052559034\n",
            "n_estimators=180 log_loss_val=0.4105700994956231\n",
            "n_estimators=190 log_loss_val=0.4127619167941956\n",
            "n_estimators=200 log_loss_val=0.4126119152345719\n",
            "n_estimators=210 log_loss_val=0.412557477332704\n",
            "n_estimators=220 log_loss_val=0.4125947356594967\n",
            "n_estimators=230 log_loss_val=0.41261487822322723\n",
            "n_estimators=240 log_loss_val=0.41289754152948327\n",
            "\n",
            "Mejor n_estimators=180 Score=0.4105700994956231\n",
            "{'learning_rate': 0.1, 'n_estimators': 180, 'max_depth': 8, 'subsample': 0.8, 'colsample_bytree': 0.3, 'reg_alpha': 0.0, 'reg_lambda': 0.001}\n"
          ],
          "name": "stdout"
        },
        {
          "output_type": "display_data",
          "data": {
            "image/png": "[encoded data removed]",
            "text/plain": [
              "<Figure size 432x288 with 1 Axes>"
            ]
          },
          "metadata": {
            "tags": []
          }
        }
      ]
    },
    {
      "cell_type": "markdown",
      "metadata": {
        "id": "fk4Y4siP-Pq-"
      },
      "source": [
        "## Creamos la Submission con el Modelo Stacking"
      ]
    },
    {
      "cell_type": "code",
      "metadata": {
        "id": "l5srf47I-Pq-"
      },
      "source": [
        "X_orig = X_train_scaled.copy()\n",
        "y_orig = y.copy()"
      ],
      "execution_count": null,
      "outputs": []
    },
    {
      "cell_type": "code",
      "metadata": {
        "id": "xAImmRwf-Pq_",
        "outputId": "e667066b-8391-49d5-c0b3-689e02ca2b84"
      },
      "source": [
        "%%time\n",
        "random_seed = 1234\n",
        "stack_model = XGBClassifier(learning_rate=parametros['learning_rate'],\n",
        "                                  n_estimators=parametros['n_estimators'],\n",
        "                                  max_depth=parametros['max_depth'],\n",
        "                                  subsample=parametros['subsample'],\n",
        "                                  colsample_bytree=parametros['colsample_bytree'],\n",
        "                                  reg_alpha=parametros['reg_alpha'], \n",
        "                                  reg_lambda=parametros['reg_lambda'],\n",
        "                                  nthread=20, \n",
        "                                  seed=random_seed, objective='multi:softprob')\n",
        "loss_stack, y_stack, preds_val_stack, preds_test_stack  = entrena_model_folds(stack_model, \n",
        "                                                                              calibra=True, \n",
        "                                                                              random_seed=random_seed)\n",
        "print('STACKING MODEL=',loss_stack)"
      ],
      "execution_count": null,
      "outputs": [
        {
          "output_type": "stream",
          "text": [
            "ITER= 0\n",
            "ITER= 1\n",
            "ITER= 2\n",
            "ITER= 3\n",
            "ITER= 4\n",
            "STACKING MODEL= 0.4204436336446902\n",
            "CPU times: user 4h 27min 46s, sys: 5min 9s, total: 4h 32min 55s\n",
            "Wall time: 13min 40s\n"
          ],
          "name": "stdout"
        }
      ]
    },
    {
      "cell_type": "code",
      "metadata": {
        "id": "HQOUQfr4-Pq_",
        "outputId": "633ea610-d418-4aac-c320-0206b8bc32d9"
      },
      "source": [
        "output = pd.DataFrame(preds_test_stack,columns=[\"Class_\"+str(i) for i in range(1,10)])\n",
        "output.insert(loc=0, column='id', value=df_test.id)\n",
        "output.to_csv('submission_stacking_with_features_5cv.csv', index=False)\n",
        "pd.read_csv('submission_stacking_with_features_5cv.csv').head()"
      ],
      "execution_count": null,
      "outputs": [
        {
          "output_type": "execute_result",
          "data": {
            "text/html": [
              "<div>\n",
              "<style scoped>\n",
              "    .dataframe tbody tr th:only-of-type {\n",
              "        vertical-align: middle;\n",
              "    }\n",
              "\n",
              "    .dataframe tbody tr th {\n",
              "        vertical-align: top;\n",
              "    }\n",
              "\n",
              "    .dataframe thead th {\n",
              "        text-align: right;\n",
              "    }\n",
              "</style>\n",
              "<table border=\"1\" class=\"dataframe\">\n",
              "  <thead>\n",
              "    <tr style=\"text-align: right;\">\n",
              "      <th></th>\n",
              "      <th>id</th>\n",
              "      <th>Class_1</th>\n",
              "      <th>Class_2</th>\n",
              "      <th>Class_3</th>\n",
              "      <th>Class_4</th>\n",
              "      <th>Class_5</th>\n",
              "      <th>Class_6</th>\n",
              "      <th>Class_7</th>\n",
              "      <th>Class_8</th>\n",
              "      <th>Class_9</th>\n",
              "    </tr>\n",
              "  </thead>\n",
              "  <tbody>\n",
              "    <tr>\n",
              "      <th>0</th>\n",
              "      <td>1</td>\n",
              "      <td>0.000166</td>\n",
              "      <td>0.071966</td>\n",
              "      <td>0.085833</td>\n",
              "      <td>0.835622</td>\n",
              "      <td>0.000000</td>\n",
              "      <td>0.000069</td>\n",
              "      <td>0.006216</td>\n",
              "      <td>0.000075</td>\n",
              "      <td>0.000053</td>\n",
              "    </tr>\n",
              "    <tr>\n",
              "      <th>1</th>\n",
              "      <td>2</td>\n",
              "      <td>0.007548</td>\n",
              "      <td>0.005456</td>\n",
              "      <td>0.002795</td>\n",
              "      <td>0.002268</td>\n",
              "      <td>0.000261</td>\n",
              "      <td>0.418204</td>\n",
              "      <td>0.013598</td>\n",
              "      <td>0.538994</td>\n",
              "      <td>0.010876</td>\n",
              "    </tr>\n",
              "    <tr>\n",
              "      <th>2</th>\n",
              "      <td>3</td>\n",
              "      <td>0.000000</td>\n",
              "      <td>0.000000</td>\n",
              "      <td>0.000000</td>\n",
              "      <td>0.000000</td>\n",
              "      <td>0.000000</td>\n",
              "      <td>0.999937</td>\n",
              "      <td>0.000000</td>\n",
              "      <td>0.000063</td>\n",
              "      <td>0.000000</td>\n",
              "    </tr>\n",
              "    <tr>\n",
              "      <th>3</th>\n",
              "      <td>4</td>\n",
              "      <td>0.000110</td>\n",
              "      <td>0.627135</td>\n",
              "      <td>0.360822</td>\n",
              "      <td>0.011343</td>\n",
              "      <td>0.000000</td>\n",
              "      <td>0.000081</td>\n",
              "      <td>0.000132</td>\n",
              "      <td>0.000170</td>\n",
              "      <td>0.000208</td>\n",
              "    </tr>\n",
              "    <tr>\n",
              "      <th>4</th>\n",
              "      <td>5</td>\n",
              "      <td>0.043405</td>\n",
              "      <td>0.000082</td>\n",
              "      <td>0.000111</td>\n",
              "      <td>0.000162</td>\n",
              "      <td>0.000000</td>\n",
              "      <td>0.002661</td>\n",
              "      <td>0.000320</td>\n",
              "      <td>0.014462</td>\n",
              "      <td>0.938797</td>\n",
              "    </tr>\n",
              "  </tbody>\n",
              "</table>\n",
              "</div>"
            ],
            "text/plain": [
              "   id   Class_1   Class_2   Class_3   Class_4   Class_5   Class_6   Class_7  \\\n",
              "0   1  0.000166  0.071966  0.085833  0.835622  0.000000  0.000069  0.006216   \n",
              "1   2  0.007548  0.005456  0.002795  0.002268  0.000261  0.418204  0.013598   \n",
              "2   3  0.000000  0.000000  0.000000  0.000000  0.000000  0.999937  0.000000   \n",
              "3   4  0.000110  0.627135  0.360822  0.011343  0.000000  0.000081  0.000132   \n",
              "4   5  0.043405  0.000082  0.000111  0.000162  0.000000  0.002661  0.000320   \n",
              "\n",
              "    Class_8   Class_9  \n",
              "0  0.000075  0.000053  \n",
              "1  0.538994  0.010876  \n",
              "2  0.000063  0.000000  \n",
              "3  0.000170  0.000208  \n",
              "4  0.014462  0.938797  "
            ]
          },
          "metadata": {
            "tags": []
          },
          "execution_count": 69
        }
      ]
    },
    {
      "cell_type": "markdown",
      "metadata": {
        "id": "3NskbJW6-PrA"
      },
      "source": [
        "El modelo stacking con unas características basadas en la solucion TOP obtiene con 5CV un **Local=0.0.4204436336446902, Private_LB=0.40993, Public_LB=0.40883, que nos situaria en la posición 42 del Private Leaderboard de 3511 equipos (percentil 98.80) dándonos una MEDALLA DE PLATA y acercándonos a las primeras posiciones**."
      ]
    },
    {
      "cell_type": "code",
      "metadata": {
        "id": "7FbtU3Ky-PrA"
      },
      "source": [
        ""
      ],
      "execution_count": null,
      "outputs": []
    },
    {
      "cell_type": "code",
      "metadata": {
        "id": "vLwOXEDr-PrA"
      },
      "source": [
        ""
      ],
      "execution_count": null,
      "outputs": []
    },
    {
      "cell_type": "code",
      "metadata": {
        "id": "JUF9BFhZ-PrA"
      },
      "source": [
        ""
      ],
      "execution_count": null,
      "outputs": []
    },
    {
      "cell_type": "markdown",
      "metadata": {
        "id": "lHgY8oKt-PrB"
      },
      "source": [
        "**EJERCICIO 3.B.4: Incluir las predicciones del modelo LightGBM y recalcular el modelo de Stacking.**\n",
        "\n",
        "**ATENCION: Para reducir los tiempos de entrenamiento es recomendable reducir los rangos de búsqueda de los parámetros basándose en los mejores valores obtenidos con el anterior modelo de Stacking**\n",
        "\n",
        "**Crear la submission y presentar los Scores Finales Publicos y Privados. Comparar los resultados con y sin LGB** \n",
        "\n",
        "**Incluir en este script una foto de la pantalla de Kaggle con los resultados de la submission y en que posición del PRIVATE LEADERBOARD quedaria.**"
      ]
    },
    {
      "cell_type": "code",
      "metadata": {
        "id": "AsQ1JG-C-PrB"
      },
      "source": [
        "#dataframes con las clases de lgb\n",
        "df_train = pd.read_csv('/content/df_test_lgb.csv')\n",
        "df_test = pd.read_csv('/content/df_test_lgb.csv')"
      ],
      "execution_count": null,
      "outputs": []
    },
    {
      "cell_type": "code",
      "metadata": {
        "id": "E5lNhTfp-PrB"
      },
      "source": [
        ""
      ],
      "execution_count": null,
      "outputs": []
    },
    {
      "cell_type": "code",
      "metadata": {
        "id": "TGdV3em3-PrB"
      },
      "source": [
        ""
      ],
      "execution_count": null,
      "outputs": []
    },
    {
      "cell_type": "markdown",
      "metadata": {
        "id": "JmfKydJB-PrC"
      },
      "source": [
        "**EJERCICIO 3.B.5: Te atreves a incluir nuevas features?**\n",
        "\n",
        "**Investiga en el foro de la competicion de Kaggle e intenta incluir dos nuevas features.**\n",
        "\n",
        "**Recalcular el modelo stacking**\n",
        "\n",
        "**Hasta donde eres capaz de llegar? Te atreves a combinar otros modelos en el segundo nivel?**\n",
        "\n",
        "**Incluir en este script una foto de la pantalla de Kaggle con los resultados de la submission y en que posición del PRIVATE LEADERBOARD quedarias.**"
      ]
    },
    {
      "cell_type": "code",
      "metadata": {
        "id": "tc8TXbIA-PrC"
      },
      "source": [
        ""
      ],
      "execution_count": null,
      "outputs": []
    },
    {
      "cell_type": "code",
      "metadata": {
        "id": "O0M2rs6f-PrC"
      },
      "source": [
        ""
      ],
      "execution_count": null,
      "outputs": []
    },
    {
      "cell_type": "code",
      "metadata": {
        "id": "4EgJuMew-PrC"
      },
      "source": [
        ""
      ],
      "execution_count": null,
      "outputs": []
    },
    {
      "cell_type": "markdown",
      "metadata": {
        "id": "VQ911n6w-PrD"
      },
      "source": [
        "# ENTREGA"
      ]
    },
    {
      "cell_type": "markdown",
      "metadata": {
        "id": "8vhVHkTc-PrD"
      },
      "source": [
        "Recuerda guardar tus cambios en tu repositorio utilizando la opción \"Save a copy in GitHub...\" del menú File."
      ]
    },
    {
      "cell_type": "code",
      "metadata": {
        "id": "EJ9gI3EA-PrD"
      },
      "source": [
        ""
      ],
      "execution_count": null,
      "outputs": []
    }
  ]
}